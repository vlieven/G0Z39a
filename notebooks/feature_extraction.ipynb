{
 "cells": [
  {
   "cell_type": "code",
   "execution_count": 2,
   "metadata": {
    "collapsed": true
   },
   "outputs": [],
   "source": [
    "from __future__ import annotations\n",
    "\n",
    "import numpy as np\n",
    "import pandas as pd\n",
    "import seaborn as sns\n",
    "\n",
    "from typing import *\n",
    "\n",
    "sns.set(style=\"darkgrid\")"
   ]
  },
  {
   "cell_type": "code",
   "execution_count": 3,
   "outputs": [
    {
     "data": {
      "text/plain": "                  new_cases\nfips  date                 \n01001 2020-01-21   0.000000\n      2020-01-22   0.000000\n      2020-01-23   0.000000\n      2020-01-24   0.000000\n      2020-01-25   0.000000\n...                     ...\n78030 2022-04-07   2.371578\n      2022-04-08   2.448539\n      2022-04-09   2.448539\n      2022-04-10   2.448539\n      2022-04-11   2.448539\n\n[2614640 rows x 1 columns]",
      "text/html": "<div>\n<style scoped>\n    .dataframe tbody tr th:only-of-type {\n        vertical-align: middle;\n    }\n\n    .dataframe tbody tr th {\n        vertical-align: top;\n    }\n\n    .dataframe thead th {\n        text-align: right;\n    }\n</style>\n<table border=\"1\" class=\"dataframe\">\n  <thead>\n    <tr style=\"text-align: right;\">\n      <th></th>\n      <th></th>\n      <th>new_cases</th>\n    </tr>\n    <tr>\n      <th>fips</th>\n      <th>date</th>\n      <th></th>\n    </tr>\n  </thead>\n  <tbody>\n    <tr>\n      <th rowspan=\"5\" valign=\"top\">01001</th>\n      <th>2020-01-21</th>\n      <td>0.000000</td>\n    </tr>\n    <tr>\n      <th>2020-01-22</th>\n      <td>0.000000</td>\n    </tr>\n    <tr>\n      <th>2020-01-23</th>\n      <td>0.000000</td>\n    </tr>\n    <tr>\n      <th>2020-01-24</th>\n      <td>0.000000</td>\n    </tr>\n    <tr>\n      <th>2020-01-25</th>\n      <td>0.000000</td>\n    </tr>\n    <tr>\n      <th>...</th>\n      <th>...</th>\n      <td>...</td>\n    </tr>\n    <tr>\n      <th rowspan=\"5\" valign=\"top\">78030</th>\n      <th>2022-04-07</th>\n      <td>2.371578</td>\n    </tr>\n    <tr>\n      <th>2022-04-08</th>\n      <td>2.448539</td>\n    </tr>\n    <tr>\n      <th>2022-04-09</th>\n      <td>2.448539</td>\n    </tr>\n    <tr>\n      <th>2022-04-10</th>\n      <td>2.448539</td>\n    </tr>\n    <tr>\n      <th>2022-04-11</th>\n      <td>2.448539</td>\n    </tr>\n  </tbody>\n</table>\n<p>2614640 rows × 1 columns</p>\n</div>"
     },
     "execution_count": 3,
     "metadata": {},
     "output_type": "execute_result"
    }
   ],
   "source": [
    "from nepal.datasets import NYTimes, PopulationDensity\n",
    "from nepal.ml.features.preprocess import Cases, Population\n",
    "from nepal.ml.transformers import log_transformer\n",
    "\n",
    "df: pd.DataFrame = Cases(NYTimes()).preprocessed()\n",
    "\n",
    "df_y: pd.DataFrame = log_transformer.transform(df[[\"new_cases\"]])\n",
    "df_y"
   ],
   "metadata": {
    "collapsed": false,
    "pycharm": {
     "name": "#%%\n"
    }
   }
  },
  {
   "cell_type": "code",
   "execution_count": 14,
   "outputs": [
    {
     "name": "stderr",
     "output_type": "stream",
     "text": [
      "Feature Extraction: 100%|██████████| 3220/3220 [10:52<00:00,  4.93it/s] \n"
     ]
    },
    {
     "data": {
      "text/plain": "   new_cases__variance_larger_than_standard_deviation  \\\n0                                                1.0    \n1                                                1.0    \n2                                                0.0    \n3                                                1.0    \n4                                                1.0    \n\n   new_cases__has_duplicate_max  new_cases__has_duplicate_min  \\\n0                           0.0                           1.0   \n1                           0.0                           1.0   \n2                           0.0                           1.0   \n3                           0.0                           1.0   \n4                           0.0                           1.0   \n\n   new_cases__has_duplicate  new_cases__sum_values  new_cases__abs_energy  \\\n0                       1.0            1965.658555            5848.800358   \n1                       1.0            2711.610267           10932.099434   \n2                       1.0            1289.675009            2809.868045   \n3                       1.0            1319.614006            3018.577569   \n4                       1.0            1893.894736            5678.045337   \n\n   new_cases__mean_abs_change  new_cases__mean_change  \\\n0                    0.103804                0.002748   \n1                    0.088577                0.002924   \n2                    0.097002                0.000310   \n3                    0.096448                0.000763   \n4                    0.096149                0.002118   \n\n   new_cases__mean_second_derivative_central  new_cases__median  ...  \\\n0                                  -0.000214           2.548313  ...   \n1                                  -0.000008           3.417724  ...   \n2                                   0.000000           1.637609  ...   \n3                                   0.000049           1.550597  ...   \n4                                   0.000067           2.537076  ...   \n\n   new_cases__permutation_entropy__dimension_6__tau_1  \\\n0                                           4.937155    \n1                                           4.617626    \n2                                           4.829802    \n3                                           4.707656    \n4                                           4.658065    \n\n   new_cases__permutation_entropy__dimension_7__tau_1  \\\n0                                           5.587697    \n1                                           5.269928    \n2                                           5.482949    \n3                                           5.336692    \n4                                           5.316046    \n\n   new_cases__query_similarity_count__query_None__threshold_0.0  \\\n0                                                0.0              \n1                                                0.0              \n2                                                0.0              \n3                                                0.0              \n4                                                0.0              \n\n   new_cases__matrix_profile__feature_\"min\"__threshold_0.98  \\\n0                                           1.312821          \n1                                           1.959706          \n2                                           1.403123          \n3                                           1.598306          \n4                                           1.446642          \n\n   new_cases__matrix_profile__feature_\"max\"__threshold_0.98  \\\n0                                           8.944272          \n1                                          10.232704          \n2                                           9.797959          \n3                                          10.000000          \n4                                          10.000000          \n\n   new_cases__matrix_profile__feature_\"mean\"__threshold_0.98  \\\n0                                           3.281914           \n1                                           4.167542           \n2                                           3.823149           \n3                                           3.692975           \n4                                           3.628260           \n\n   new_cases__matrix_profile__feature_\"median\"__threshold_0.98  \\\n0                                           3.086989             \n1                                           3.094702             \n2                                           3.592543             \n3                                           3.629675             \n4                                           3.417006             \n\n   new_cases__matrix_profile__feature_\"25\"__threshold_0.98  \\\n0                                           2.483485         \n1                                           2.434011         \n2                                           2.590015         \n3                                           2.627211         \n4                                           2.293171         \n\n   new_cases__matrix_profile__feature_\"75\"__threshold_0.98  \\\n0                                           3.782827         \n1                                           5.382385         \n2                                           4.688369         \n3                                           4.461436         \n4                                           4.614063         \n\n   new_cases__mean_n_absolute_max__number_of_maxima_7  \n0                                           5.350930   \n1                                           6.320284   \n2                                           4.134148   \n3                                           4.318729   \n4                                           4.890497   \n\n[5 rows x 783 columns]",
      "text/html": "<div>\n<style scoped>\n    .dataframe tbody tr th:only-of-type {\n        vertical-align: middle;\n    }\n\n    .dataframe tbody tr th {\n        vertical-align: top;\n    }\n\n    .dataframe thead th {\n        text-align: right;\n    }\n</style>\n<table border=\"1\" class=\"dataframe\">\n  <thead>\n    <tr style=\"text-align: right;\">\n      <th></th>\n      <th>new_cases__variance_larger_than_standard_deviation</th>\n      <th>new_cases__has_duplicate_max</th>\n      <th>new_cases__has_duplicate_min</th>\n      <th>new_cases__has_duplicate</th>\n      <th>new_cases__sum_values</th>\n      <th>new_cases__abs_energy</th>\n      <th>new_cases__mean_abs_change</th>\n      <th>new_cases__mean_change</th>\n      <th>new_cases__mean_second_derivative_central</th>\n      <th>new_cases__median</th>\n      <th>...</th>\n      <th>new_cases__permutation_entropy__dimension_6__tau_1</th>\n      <th>new_cases__permutation_entropy__dimension_7__tau_1</th>\n      <th>new_cases__query_similarity_count__query_None__threshold_0.0</th>\n      <th>new_cases__matrix_profile__feature_\"min\"__threshold_0.98</th>\n      <th>new_cases__matrix_profile__feature_\"max\"__threshold_0.98</th>\n      <th>new_cases__matrix_profile__feature_\"mean\"__threshold_0.98</th>\n      <th>new_cases__matrix_profile__feature_\"median\"__threshold_0.98</th>\n      <th>new_cases__matrix_profile__feature_\"25\"__threshold_0.98</th>\n      <th>new_cases__matrix_profile__feature_\"75\"__threshold_0.98</th>\n      <th>new_cases__mean_n_absolute_max__number_of_maxima_7</th>\n    </tr>\n  </thead>\n  <tbody>\n    <tr>\n      <th>0</th>\n      <td>1.0</td>\n      <td>0.0</td>\n      <td>1.0</td>\n      <td>1.0</td>\n      <td>1965.658555</td>\n      <td>5848.800358</td>\n      <td>0.103804</td>\n      <td>0.002748</td>\n      <td>-0.000214</td>\n      <td>2.548313</td>\n      <td>...</td>\n      <td>4.937155</td>\n      <td>5.587697</td>\n      <td>0.0</td>\n      <td>1.312821</td>\n      <td>8.944272</td>\n      <td>3.281914</td>\n      <td>3.086989</td>\n      <td>2.483485</td>\n      <td>3.782827</td>\n      <td>5.350930</td>\n    </tr>\n    <tr>\n      <th>1</th>\n      <td>1.0</td>\n      <td>0.0</td>\n      <td>1.0</td>\n      <td>1.0</td>\n      <td>2711.610267</td>\n      <td>10932.099434</td>\n      <td>0.088577</td>\n      <td>0.002924</td>\n      <td>-0.000008</td>\n      <td>3.417724</td>\n      <td>...</td>\n      <td>4.617626</td>\n      <td>5.269928</td>\n      <td>0.0</td>\n      <td>1.959706</td>\n      <td>10.232704</td>\n      <td>4.167542</td>\n      <td>3.094702</td>\n      <td>2.434011</td>\n      <td>5.382385</td>\n      <td>6.320284</td>\n    </tr>\n    <tr>\n      <th>2</th>\n      <td>0.0</td>\n      <td>0.0</td>\n      <td>1.0</td>\n      <td>1.0</td>\n      <td>1289.675009</td>\n      <td>2809.868045</td>\n      <td>0.097002</td>\n      <td>0.000310</td>\n      <td>0.000000</td>\n      <td>1.637609</td>\n      <td>...</td>\n      <td>4.829802</td>\n      <td>5.482949</td>\n      <td>0.0</td>\n      <td>1.403123</td>\n      <td>9.797959</td>\n      <td>3.823149</td>\n      <td>3.592543</td>\n      <td>2.590015</td>\n      <td>4.688369</td>\n      <td>4.134148</td>\n    </tr>\n    <tr>\n      <th>3</th>\n      <td>1.0</td>\n      <td>0.0</td>\n      <td>1.0</td>\n      <td>1.0</td>\n      <td>1319.614006</td>\n      <td>3018.577569</td>\n      <td>0.096448</td>\n      <td>0.000763</td>\n      <td>0.000049</td>\n      <td>1.550597</td>\n      <td>...</td>\n      <td>4.707656</td>\n      <td>5.336692</td>\n      <td>0.0</td>\n      <td>1.598306</td>\n      <td>10.000000</td>\n      <td>3.692975</td>\n      <td>3.629675</td>\n      <td>2.627211</td>\n      <td>4.461436</td>\n      <td>4.318729</td>\n    </tr>\n    <tr>\n      <th>4</th>\n      <td>1.0</td>\n      <td>0.0</td>\n      <td>1.0</td>\n      <td>1.0</td>\n      <td>1893.894736</td>\n      <td>5678.045337</td>\n      <td>0.096149</td>\n      <td>0.002118</td>\n      <td>0.000067</td>\n      <td>2.537076</td>\n      <td>...</td>\n      <td>4.658065</td>\n      <td>5.316046</td>\n      <td>0.0</td>\n      <td>1.446642</td>\n      <td>10.000000</td>\n      <td>3.628260</td>\n      <td>3.417006</td>\n      <td>2.293171</td>\n      <td>4.614063</td>\n      <td>4.890497</td>\n    </tr>\n  </tbody>\n</table>\n<p>5 rows × 783 columns</p>\n</div>"
     },
     "execution_count": 14,
     "metadata": {},
     "output_type": "execute_result"
    }
   ],
   "source": [
    "from sktime.transformations.panel.tsfresh import TSFreshFeatureExtractor\n",
    "\n",
    "t = TSFreshFeatureExtractor(default_fc_parameters=\"efficient\", show_warnings=False)\n",
    "Xt = t.fit_transform(df_y)\n",
    "Xt.head()"
   ],
   "metadata": {
    "collapsed": false,
    "pycharm": {
     "name": "#%%\n"
    }
   }
  },
  {
   "cell_type": "code",
   "execution_count": 15,
   "outputs": [
    {
     "data": {
      "text/plain": "3220"
     },
     "execution_count": 15,
     "metadata": {},
     "output_type": "execute_result"
    }
   ],
   "source": [
    "len(Xt)"
   ],
   "metadata": {
    "collapsed": false,
    "pycharm": {
     "name": "#%%\n"
    }
   }
  },
  {
   "cell_type": "code",
   "execution_count": 16,
   "outputs": [],
   "source": [
    "from sktime.transformations.series.detrend import Deseasonalizer\n",
    "\n",
    "transformer = Deseasonalizer()\n",
    "y_hat = transformer.fit_transform(df_y)"
   ],
   "metadata": {
    "collapsed": false,
    "pycharm": {
     "name": "#%%\n"
    }
   }
  },
  {
   "cell_type": "code",
   "execution_count": 18,
   "outputs": [
    {
     "data": {
      "text/plain": "<AxesSubplot:xlabel='fips,date'>"
     },
     "execution_count": 18,
     "metadata": {},
     "output_type": "execute_result"
    },
    {
     "data": {
      "text/plain": "<Figure size 432x288 with 1 Axes>",
      "image/png": "[encoded data removed]"
     },
     "metadata": {
      "needs_background": "light"
     },
     "output_type": "display_data"
    }
   ],
   "source": [
    "y_hat.plot()"
   ],
   "metadata": {
    "collapsed": false,
    "pycharm": {
     "name": "#%%\n"
    }
   }
  },
  {
   "cell_type": "code",
   "execution_count": 23,
   "outputs": [
    {
     "ename": "AttributeError",
     "evalue": "'Deseasonalizer' object has no attribute '_seasonal'",
     "output_type": "error",
     "traceback": [
      "\u001B[0;31m---------------------------------------------------------------------------\u001B[0m",
      "\u001B[0;31mAttributeError\u001B[0m                            Traceback (most recent call last)",
      "Input \u001B[0;32mIn [23]\u001B[0m, in \u001B[0;36m<cell line: 1>\u001B[0;34m()\u001B[0m\n\u001B[0;32m----> 1\u001B[0m \u001B[43mtransformer\u001B[49m\u001B[38;5;241;43m.\u001B[39;49m\u001B[43m_seasonal\u001B[49m\n",
      "\u001B[0;31mAttributeError\u001B[0m: 'Deseasonalizer' object has no attribute '_seasonal'"
     ]
    }
   ],
   "source": [
    "transformer"
   ],
   "metadata": {
    "collapsed": false,
    "pycharm": {
     "name": "#%%\n"
    }
   }
  },
  {
   "cell_type": "code",
   "execution_count": null,
   "outputs": [],
   "source": [],
   "metadata": {
    "collapsed": false,
    "pycharm": {
     "name": "#%%\n"
    }
   }
  }
 ],
 "metadata": {
  "kernelspec": {
   "display_name": "Python 3",
   "language": "python",
   "name": "python3"
  },
  "language_info": {
   "codemirror_mode": {
    "name": "ipython",
    "version": 2
   },
   "file_extension": ".py",
   "mimetype": "text/x-python",
   "name": "python",
   "nbconvert_exporter": "python",
   "pygments_lexer": "ipython2",
   "version": "2.7.6"
  }
 },
 "nbformat": 4,
 "nbformat_minor": 0
}
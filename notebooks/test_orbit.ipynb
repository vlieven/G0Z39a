{
 "cells": [
  {
   "cell_type": "code",
   "execution_count": 3,
   "metadata": {
    "collapsed": true
   },
   "outputs": [],
   "source": [
    "%matplotlib inline\n",
    "import matplotlib.pyplot as plt\n",
    "\n",
    "import orbit\n",
    "from orbit.models import DLT\n",
    "from orbit.diagnostics.plot import plot_predicted_data, plot_predicted_components\n",
    "\n",
    "from nepal.datasets import NYTimes"
   ]
  },
  {
   "cell_type": "code",
   "execution_count": 4,
   "outputs": [
    {
     "name": "stdout",
     "output_type": "stream",
     "text": [
      "1.1.2\n"
     ]
    }
   ],
   "source": [
    "print(orbit.__version__)"
   ],
   "metadata": {
    "collapsed": false,
    "pycharm": {
     "name": "#%%\n"
    }
   }
  },
  {
   "cell_type": "code",
   "execution_count": 14,
   "outputs": [],
   "source": [
    "df_covid = NYTimes().load()\n",
    "df = df_covid[df_covid[\"county\"] == max(df_covid[\"county\"])]"
   ],
   "metadata": {
    "collapsed": false,
    "pycharm": {
     "name": "#%%\n"
    }
   }
  },
  {
   "cell_type": "code",
   "execution_count": 15,
   "outputs": [
    {
     "name": "stderr",
     "output_type": "stream",
     "text": [
      "INFO:orbit:Optimizing (PyStan) with algorithm: LBFGS.\n"
     ]
    },
    {
     "ename": "AttributeError",
     "evalue": "'float' object has no attribute 'ndim'",
     "output_type": "error",
     "traceback": [
      "\u001B[0;31m---------------------------------------------------------------------------\u001B[0m",
      "\u001B[0;31mAttributeError\u001B[0m                            Traceback (most recent call last)",
      "Input \u001B[0;32mIn [15]\u001B[0m, in \u001B[0;36m<cell line: 15>\u001B[0;34m()\u001B[0m\n\u001B[1;32m      2\u001B[0m response_col \u001B[38;5;241m=\u001B[39m \u001B[38;5;124m\"\u001B[39m\u001B[38;5;124mcases\u001B[39m\u001B[38;5;124m\"\u001B[39m\n\u001B[1;32m      4\u001B[0m dlt \u001B[38;5;241m=\u001B[39m DLT(\n\u001B[1;32m      5\u001B[0m     response_col\u001B[38;5;241m=\u001B[39mresponse_col,\n\u001B[1;32m      6\u001B[0m     date_col\u001B[38;5;241m=\u001B[39mdate_col,\n\u001B[0;32m   (...)\u001B[0m\n\u001B[1;32m     12\u001B[0m     n_bootstrap_draws\u001B[38;5;241m=\u001B[39m\u001B[38;5;241m1000\u001B[39m,\n\u001B[1;32m     13\u001B[0m )\n\u001B[0;32m---> 15\u001B[0m \u001B[43mdlt\u001B[49m\u001B[38;5;241;43m.\u001B[39;49m\u001B[43mfit\u001B[49m\u001B[43m(\u001B[49m\u001B[43mdf\u001B[49m\u001B[43m)\u001B[49m\n\u001B[1;32m     16\u001B[0m test_df \u001B[38;5;241m=\u001B[39m dlt\u001B[38;5;241m.\u001B[39mmake_future_df(periods\u001B[38;5;241m=\u001B[39m\u001B[38;5;241m52\u001B[39m \u001B[38;5;241m*\u001B[39m \u001B[38;5;241m10\u001B[39m)\n\u001B[1;32m     17\u001B[0m predicted_df \u001B[38;5;241m=\u001B[39m dlt\u001B[38;5;241m.\u001B[39mpredict(test_df)\n",
      "File \u001B[0;32m~/Documents/Master of Statistics/2/Modern Data Analytics/Project/G0Z39a/.venv/lib/python3.9/site-packages/orbit/forecaster/map.py:23\u001B[0m, in \u001B[0;36mMAPForecaster.fit\u001B[0;34m(self, df)\u001B[0m\n\u001B[1;32m     22\u001B[0m \u001B[38;5;28;01mdef\u001B[39;00m \u001B[38;5;21mfit\u001B[39m(\u001B[38;5;28mself\u001B[39m, df):\n\u001B[0;32m---> 23\u001B[0m     \u001B[38;5;28;43msuper\u001B[39;49m\u001B[43m(\u001B[49m\u001B[43m)\u001B[49m\u001B[38;5;241;43m.\u001B[39;49m\u001B[43mfit\u001B[49m\u001B[43m(\u001B[49m\u001B[43mdf\u001B[49m\u001B[43m)\u001B[49m\n\u001B[1;32m     24\u001B[0m     posterior_samples \u001B[38;5;241m=\u001B[39m \u001B[38;5;28mself\u001B[39m\u001B[38;5;241m.\u001B[39m_posterior_samples\n\u001B[1;32m     25\u001B[0m     map_posterior \u001B[38;5;241m=\u001B[39m {}\n",
      "File \u001B[0;32m~/Documents/Master of Statistics/2/Modern Data Analytics/Project/G0Z39a/.venv/lib/python3.9/site-packages/orbit/forecaster/forecaster.py:145\u001B[0m, in \u001B[0;36mForecaster.fit\u001B[0;34m(self, df, **kwargs)\u001B[0m\n\u001B[1;32m    143\u001B[0m \u001B[38;5;28mself\u001B[39m\u001B[38;5;241m.\u001B[39m_validate_training_df(df)\n\u001B[1;32m    144\u001B[0m \u001B[38;5;66;03m# extract standard training metadata\u001B[39;00m\n\u001B[0;32m--> 145\u001B[0m \u001B[38;5;28;43mself\u001B[39;49m\u001B[38;5;241;43m.\u001B[39;49m\u001B[43m_set_training_meta\u001B[49m\u001B[43m(\u001B[49m\u001B[43mdf\u001B[49m\u001B[43m)\u001B[49m\n\u001B[1;32m    146\u001B[0m \u001B[38;5;66;03m# customize module\u001B[39;00m\n\u001B[1;32m    147\u001B[0m \u001B[38;5;28mself\u001B[39m\u001B[38;5;241m.\u001B[39m_model\u001B[38;5;241m.\u001B[39mset_dynamic_attributes(\n\u001B[1;32m    148\u001B[0m     df\u001B[38;5;241m=\u001B[39mdf, training_meta\u001B[38;5;241m=\u001B[39m\u001B[38;5;28mself\u001B[39m\u001B[38;5;241m.\u001B[39mget_training_meta()\n\u001B[1;32m    149\u001B[0m )\n",
      "File \u001B[0;32m~/Documents/Master of Statistics/2/Modern Data Analytics/Project/G0Z39a/.venv/lib/python3.9/site-packages/orbit/forecaster/forecaster.py:186\u001B[0m, in \u001B[0;36mForecaster._set_training_meta\u001B[0;34m(self, df)\u001B[0m\n\u001B[1;32m    182\u001B[0m training_meta[TrainingMetaKeys\u001B[38;5;241m.\u001B[39mDATE_ARRAY\u001B[38;5;241m.\u001B[39mvalue] \u001B[38;5;241m=\u001B[39m pd\u001B[38;5;241m.\u001B[39mto_datetime(\n\u001B[1;32m    183\u001B[0m     df[\u001B[38;5;28mself\u001B[39m\u001B[38;5;241m.\u001B[39mdate_col]\n\u001B[1;32m    184\u001B[0m )\u001B[38;5;241m.\u001B[39mreset_index(drop\u001B[38;5;241m=\u001B[39m\u001B[38;5;28;01mTrue\u001B[39;00m)\n\u001B[1;32m    185\u001B[0m training_meta[TrainingMetaKeys\u001B[38;5;241m.\u001B[39mNUM_OF_OBS\u001B[38;5;241m.\u001B[39mvalue] \u001B[38;5;241m=\u001B[39m \u001B[38;5;28mlen\u001B[39m(response)\n\u001B[0;32m--> 186\u001B[0m training_meta[TrainingMetaKeys\u001B[38;5;241m.\u001B[39mRESPONSE_SD\u001B[38;5;241m.\u001B[39mvalue] \u001B[38;5;241m=\u001B[39m \u001B[43mnp\u001B[49m\u001B[38;5;241;43m.\u001B[39;49m\u001B[43mnanstd\u001B[49m\u001B[43m(\u001B[49m\u001B[43mresponse\u001B[49m\u001B[43m)\u001B[49m\n\u001B[1;32m    187\u001B[0m training_meta[TrainingMetaKeys\u001B[38;5;241m.\u001B[39mRESPONSE_MEAN\u001B[38;5;241m.\u001B[39mvalue] \u001B[38;5;241m=\u001B[39m np\u001B[38;5;241m.\u001B[39mnanmean(response)\n\u001B[1;32m    188\u001B[0m training_meta[TrainingMetaKeys\u001B[38;5;241m.\u001B[39mSTART\u001B[38;5;241m.\u001B[39mvalue] \u001B[38;5;241m=\u001B[39m df[\u001B[38;5;28mself\u001B[39m\u001B[38;5;241m.\u001B[39mdate_col]\u001B[38;5;241m.\u001B[39miloc[\u001B[38;5;241m0\u001B[39m]\n",
      "File \u001B[0;32m<__array_function__ internals>:5\u001B[0m, in \u001B[0;36mnanstd\u001B[0;34m(*args, **kwargs)\u001B[0m\n",
      "File \u001B[0;32m~/Documents/Master of Statistics/2/Modern Data Analytics/Project/G0Z39a/.venv/lib/python3.9/site-packages/numpy/lib/nanfunctions.py:1670\u001B[0m, in \u001B[0;36mnanstd\u001B[0;34m(a, axis, dtype, out, ddof, keepdims)\u001B[0m\n\u001B[1;32m   1575\u001B[0m \u001B[38;5;129m@array_function_dispatch\u001B[39m(_nanstd_dispatcher)\n\u001B[1;32m   1576\u001B[0m \u001B[38;5;28;01mdef\u001B[39;00m \u001B[38;5;21mnanstd\u001B[39m(a, axis\u001B[38;5;241m=\u001B[39m\u001B[38;5;28;01mNone\u001B[39;00m, dtype\u001B[38;5;241m=\u001B[39m\u001B[38;5;28;01mNone\u001B[39;00m, out\u001B[38;5;241m=\u001B[39m\u001B[38;5;28;01mNone\u001B[39;00m, ddof\u001B[38;5;241m=\u001B[39m\u001B[38;5;241m0\u001B[39m, keepdims\u001B[38;5;241m=\u001B[39mnp\u001B[38;5;241m.\u001B[39m_NoValue):\n\u001B[1;32m   1577\u001B[0m     \u001B[38;5;124;03m\"\"\"\u001B[39;00m\n\u001B[1;32m   1578\u001B[0m \u001B[38;5;124;03m    Compute the standard deviation along the specified axis, while\u001B[39;00m\n\u001B[1;32m   1579\u001B[0m \u001B[38;5;124;03m    ignoring NaNs.\u001B[39;00m\n\u001B[0;32m   (...)\u001B[0m\n\u001B[1;32m   1668\u001B[0m \n\u001B[1;32m   1669\u001B[0m \u001B[38;5;124;03m    \"\"\"\u001B[39;00m\n\u001B[0;32m-> 1670\u001B[0m     var \u001B[38;5;241m=\u001B[39m \u001B[43mnanvar\u001B[49m\u001B[43m(\u001B[49m\u001B[43ma\u001B[49m\u001B[43m,\u001B[49m\u001B[43m \u001B[49m\u001B[43maxis\u001B[49m\u001B[38;5;241;43m=\u001B[39;49m\u001B[43maxis\u001B[49m\u001B[43m,\u001B[49m\u001B[43m \u001B[49m\u001B[43mdtype\u001B[49m\u001B[38;5;241;43m=\u001B[39;49m\u001B[43mdtype\u001B[49m\u001B[43m,\u001B[49m\u001B[43m \u001B[49m\u001B[43mout\u001B[49m\u001B[38;5;241;43m=\u001B[39;49m\u001B[43mout\u001B[49m\u001B[43m,\u001B[49m\u001B[43m \u001B[49m\u001B[43mddof\u001B[49m\u001B[38;5;241;43m=\u001B[39;49m\u001B[43mddof\u001B[49m\u001B[43m,\u001B[49m\n\u001B[1;32m   1671\u001B[0m \u001B[43m                 \u001B[49m\u001B[43mkeepdims\u001B[49m\u001B[38;5;241;43m=\u001B[39;49m\u001B[43mkeepdims\u001B[49m\u001B[43m)\u001B[49m\n\u001B[1;32m   1672\u001B[0m     \u001B[38;5;28;01mif\u001B[39;00m \u001B[38;5;28misinstance\u001B[39m(var, np\u001B[38;5;241m.\u001B[39mndarray):\n\u001B[1;32m   1673\u001B[0m         std \u001B[38;5;241m=\u001B[39m np\u001B[38;5;241m.\u001B[39msqrt(var, out\u001B[38;5;241m=\u001B[39mvar)\n",
      "File \u001B[0;32m<__array_function__ internals>:5\u001B[0m, in \u001B[0;36mnanvar\u001B[0;34m(*args, **kwargs)\u001B[0m\n",
      "File \u001B[0;32m~/Documents/Master of Statistics/2/Modern Data Analytics/Project/G0Z39a/.venv/lib/python3.9/site-packages/numpy/lib/nanfunctions.py:1554\u001B[0m, in \u001B[0;36mnanvar\u001B[0;34m(a, axis, dtype, out, ddof, keepdims)\u001B[0m\n\u001B[1;32m   1552\u001B[0m \u001B[38;5;66;03m# Compute variance.\u001B[39;00m\n\u001B[1;32m   1553\u001B[0m var \u001B[38;5;241m=\u001B[39m np\u001B[38;5;241m.\u001B[39msum(sqr, axis\u001B[38;5;241m=\u001B[39maxis, dtype\u001B[38;5;241m=\u001B[39mdtype, out\u001B[38;5;241m=\u001B[39mout, keepdims\u001B[38;5;241m=\u001B[39mkeepdims)\n\u001B[0;32m-> 1554\u001B[0m \u001B[38;5;28;01mif\u001B[39;00m \u001B[43mvar\u001B[49m\u001B[38;5;241;43m.\u001B[39;49m\u001B[43mndim\u001B[49m \u001B[38;5;241m<\u001B[39m cnt\u001B[38;5;241m.\u001B[39mndim:\n\u001B[1;32m   1555\u001B[0m     \u001B[38;5;66;03m# Subclasses of ndarray may ignore keepdims, so check here.\u001B[39;00m\n\u001B[1;32m   1556\u001B[0m     cnt \u001B[38;5;241m=\u001B[39m cnt\u001B[38;5;241m.\u001B[39msqueeze(axis)\n\u001B[1;32m   1557\u001B[0m dof \u001B[38;5;241m=\u001B[39m cnt \u001B[38;5;241m-\u001B[39m ddof\n",
      "\u001B[0;31mAttributeError\u001B[0m: 'float' object has no attribute 'ndim'"
     ]
    }
   ],
   "source": [
    "date_col = \"date\"\n",
    "response_col = \"cases\"\n",
    "\n",
    "dlt = DLT(\n",
    "    response_col=response_col,\n",
    "    date_col=date_col,\n",
    "    estimator=\"stan-map\",\n",
    "    seasonality=52,\n",
    "    seed=8888,\n",
    "    global_trend_option=\"linear\",\n",
    "    # for prediction uncertainty\n",
    "    n_bootstrap_draws=1000,\n",
    ")\n",
    "\n",
    "dlt.fit(df)\n",
    "test_df = dlt.make_future_df(periods=52 * 10)\n",
    "predicted_df = dlt.predict(test_df)\n",
    "_ = plot_predicted_data(\n",
    "    df, predicted_df, date_col, response_col, title=\"DLT Linear Global Trend\"\n",
    ")"
   ],
   "metadata": {
    "collapsed": false,
    "pycharm": {
     "name": "#%%\n"
    }
   }
  },
  {
   "cell_type": "code",
   "execution_count": null,
   "outputs": [],
   "source": [],
   "metadata": {
    "collapsed": false,
    "pycharm": {
     "name": "#%%\n"
    }
   }
  },
  {
   "cell_type": "code",
   "execution_count": null,
   "outputs": [],
   "source": [],
   "metadata": {
    "collapsed": false,
    "pycharm": {
     "name": "#%%\n"
    }
   }
  }
 ],
 "metadata": {
  "kernelspec": {
   "display_name": "Python 3",
   "language": "python",
   "name": "python3"
  },
  "language_info": {
   "codemirror_mode": {
    "name": "ipython",
    "version": 2
   },
   "file_extension": ".py",
   "mimetype": "text/x-python",
   "name": "python",
   "nbconvert_exporter": "python",
   "pygments_lexer": "ipython2",
   "version": "2.7.6"
  }
 },
 "nbformat": 4,
 "nbformat_minor": 0
}
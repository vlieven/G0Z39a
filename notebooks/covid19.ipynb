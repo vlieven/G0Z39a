{
 "cells": [
  {
   "cell_type": "code",
   "execution_count": 9,
   "metadata": {
    "collapsed": true
   },
   "outputs": [],
   "source": [
    "import pylab as p\n",
    "\n",
    "from nepal.datasets import (\n",
    "    NYTimes,\n",
    "    Vaccinations,\n",
    "    CountyDistance,\n",
    "    GovernmentResponse,\n",
    "    PopulationDensity,\n",
    ")\n",
    "\n",
    "from nepal.ml.preprocess import Cases"
   ]
  },
  {
   "cell_type": "code",
   "execution_count": 4,
   "outputs": [],
   "source": [
    "nytimes = NYTimes().load()"
   ],
   "metadata": {
    "collapsed": false,
    "pycharm": {
     "name": "#%%\n"
    }
   }
  },
  {
   "cell_type": "code",
   "execution_count": null,
   "outputs": [],
   "source": [
    "vaccinations = Vaccinations().load()"
   ],
   "metadata": {
    "collapsed": false,
    "pycharm": {
     "name": "#%%\n"
    }
   }
  },
  {
   "cell_type": "code",
   "execution_count": null,
   "outputs": [],
   "source": [
    "distances = CountyDistance(radius=100).load()"
   ],
   "metadata": {
    "collapsed": false,
    "pycharm": {
     "name": "#%%\n"
    }
   }
  },
  {
   "cell_type": "code",
   "execution_count": null,
   "outputs": [],
   "source": [
    "response_tracker = GovernmentResponse().load()"
   ],
   "metadata": {
    "collapsed": false,
    "pycharm": {
     "name": "#%%\n"
    }
   }
  },
  {
   "cell_type": "code",
   "execution_count": 2,
   "outputs": [
    {
     "name": "stderr",
     "output_type": "stream",
     "text": [
      "WARNING:root:Dataset not collected yet. Collecting...\n"
     ]
    },
    {
     "data": {
      "text/plain": "Average Household Size and Population Density - County:   0%|          | 0.00/225k [00:00<?, ?B/s]",
      "application/vnd.jupyter.widget-view+json": {
       "version_major": 2,
       "version_minor": 0,
       "model_id": "38b0bd65642944c58fbed29f606dc5f7"
      }
     },
     "metadata": {},
     "output_type": "display_data"
    }
   ],
   "source": [
    "population_density = PopulationDensity().load()"
   ],
   "metadata": {
    "collapsed": false,
    "pycharm": {
     "name": "#%%\n"
    }
   }
  },
  {
   "cell_type": "code",
   "execution_count": 12,
   "outputs": [
    {
     "data": {
      "text/plain": "                      county           state  cases  deaths  new_cases  \\\nfips  date                                                               \n01001 2020-01-21     Autauga         Alabama      0       0          0   \n      2020-01-22     Autauga         Alabama      0       0          0   \n      2020-01-23     Autauga         Alabama      0       0          0   \n      2020-01-24     Autauga         Alabama      0       0          0   \n      2020-01-25     Autauga         Alabama      0       0          0   \n...                      ...             ...    ...     ...        ...   \n78030 2022-04-07  St. Thomas  Virgin Islands   7206      59          7   \n      2022-04-08  St. Thomas  Virgin Islands   7219      59         13   \n      2022-04-09  St. Thomas  Virgin Islands   7219      59          0   \n      2022-04-10  St. Thomas  Virgin Islands   7219      59          0   \n      2022-04-11  St. Thomas  Virgin Islands   7219      59          0   \n\n                  new_deaths  \nfips  date                    \n01001 2020-01-21           0  \n      2020-01-22           0  \n      2020-01-23           0  \n      2020-01-24           0  \n      2020-01-25           0  \n...                      ...  \n78030 2022-04-07           0  \n      2022-04-08           0  \n      2022-04-09           0  \n      2022-04-10           0  \n      2022-04-11           0  \n\n[2614640 rows x 6 columns]",
      "text/html": "<div>\n<style scoped>\n    .dataframe tbody tr th:only-of-type {\n        vertical-align: middle;\n    }\n\n    .dataframe tbody tr th {\n        vertical-align: top;\n    }\n\n    .dataframe thead th {\n        text-align: right;\n    }\n</style>\n<table border=\"1\" class=\"dataframe\">\n  <thead>\n    <tr style=\"text-align: right;\">\n      <th></th>\n      <th></th>\n      <th>county</th>\n      <th>state</th>\n      <th>cases</th>\n      <th>deaths</th>\n      <th>new_cases</th>\n      <th>new_deaths</th>\n    </tr>\n    <tr>\n      <th>fips</th>\n      <th>date</th>\n      <th></th>\n      <th></th>\n      <th></th>\n      <th></th>\n      <th></th>\n      <th></th>\n    </tr>\n  </thead>\n  <tbody>\n    <tr>\n      <th rowspan=\"5\" valign=\"top\">01001</th>\n      <th>2020-01-21</th>\n      <td>Autauga</td>\n      <td>Alabama</td>\n      <td>0</td>\n      <td>0</td>\n      <td>0</td>\n      <td>0</td>\n    </tr>\n    <tr>\n      <th>2020-01-22</th>\n      <td>Autauga</td>\n      <td>Alabama</td>\n      <td>0</td>\n      <td>0</td>\n      <td>0</td>\n      <td>0</td>\n    </tr>\n    <tr>\n      <th>2020-01-23</th>\n      <td>Autauga</td>\n      <td>Alabama</td>\n      <td>0</td>\n      <td>0</td>\n      <td>0</td>\n      <td>0</td>\n    </tr>\n    <tr>\n      <th>2020-01-24</th>\n      <td>Autauga</td>\n      <td>Alabama</td>\n      <td>0</td>\n      <td>0</td>\n      <td>0</td>\n      <td>0</td>\n    </tr>\n    <tr>\n      <th>2020-01-25</th>\n      <td>Autauga</td>\n      <td>Alabama</td>\n      <td>0</td>\n      <td>0</td>\n      <td>0</td>\n      <td>0</td>\n    </tr>\n    <tr>\n      <th>...</th>\n      <th>...</th>\n      <td>...</td>\n      <td>...</td>\n      <td>...</td>\n      <td>...</td>\n      <td>...</td>\n      <td>...</td>\n    </tr>\n    <tr>\n      <th rowspan=\"5\" valign=\"top\">78030</th>\n      <th>2022-04-07</th>\n      <td>St. Thomas</td>\n      <td>Virgin Islands</td>\n      <td>7206</td>\n      <td>59</td>\n      <td>7</td>\n      <td>0</td>\n    </tr>\n    <tr>\n      <th>2022-04-08</th>\n      <td>St. Thomas</td>\n      <td>Virgin Islands</td>\n      <td>7219</td>\n      <td>59</td>\n      <td>13</td>\n      <td>0</td>\n    </tr>\n    <tr>\n      <th>2022-04-09</th>\n      <td>St. Thomas</td>\n      <td>Virgin Islands</td>\n      <td>7219</td>\n      <td>59</td>\n      <td>0</td>\n      <td>0</td>\n    </tr>\n    <tr>\n      <th>2022-04-10</th>\n      <td>St. Thomas</td>\n      <td>Virgin Islands</td>\n      <td>7219</td>\n      <td>59</td>\n      <td>0</td>\n      <td>0</td>\n    </tr>\n    <tr>\n      <th>2022-04-11</th>\n      <td>St. Thomas</td>\n      <td>Virgin Islands</td>\n      <td>7219</td>\n      <td>59</td>\n      <td>0</td>\n      <td>0</td>\n    </tr>\n  </tbody>\n</table>\n<p>2614640 rows × 6 columns</p>\n</div>"
     },
     "execution_count": 12,
     "metadata": {},
     "output_type": "execute_result"
    }
   ],
   "source": [
    "df = Cases(NYTimes()).preprocessed()\n",
    "df"
   ],
   "metadata": {
    "collapsed": false,
    "pycharm": {
     "name": "#%%\n"
    }
   }
  },
  {
   "cell_type": "markdown",
   "source": [],
   "metadata": {
    "collapsed": false
   }
  },
  {
   "cell_type": "code",
   "execution_count": 25,
   "outputs": [
    {
     "data": {
      "text/plain": "<AxesSubplot:>"
     },
     "execution_count": 25,
     "metadata": {},
     "output_type": "execute_result"
    },
    {
     "data": {
      "text/plain": "<Figure size 432x288 with 1 Axes>",
      "image/png": "[encoded data removed]"
     },
     "metadata": {
      "needs_background": "light"
     },
     "output_type": "display_data"
    }
   ],
   "source": [
    "df.reset_index()[[\"new_cases\"]].sort_values(by=\"new_cases\").reset_index(drop=True).plot()"
   ],
   "metadata": {
    "collapsed": false,
    "pycharm": {
     "name": "#%%\n"
    }
   }
  },
  {
   "cell_type": "code",
   "execution_count": 27,
   "outputs": [
    {
     "data": {
      "text/plain": "                      county    state   cases  deaths  new_cases  new_deaths\nfips  date                                                                  \n12086 2022-01-07  Miami-Dade  Florida  958187    9278     110441           0",
      "text/html": "<div>\n<style scoped>\n    .dataframe tbody tr th:only-of-type {\n        vertical-align: middle;\n    }\n\n    .dataframe tbody tr th {\n        vertical-align: top;\n    }\n\n    .dataframe thead th {\n        text-align: right;\n    }\n</style>\n<table border=\"1\" class=\"dataframe\">\n  <thead>\n    <tr style=\"text-align: right;\">\n      <th></th>\n      <th></th>\n      <th>county</th>\n      <th>state</th>\n      <th>cases</th>\n      <th>deaths</th>\n      <th>new_cases</th>\n      <th>new_deaths</th>\n    </tr>\n    <tr>\n      <th>fips</th>\n      <th>date</th>\n      <th></th>\n      <th></th>\n      <th></th>\n      <th></th>\n      <th></th>\n      <th></th>\n    </tr>\n  </thead>\n  <tbody>\n    <tr>\n      <th>12086</th>\n      <th>2022-01-07</th>\n      <td>Miami-Dade</td>\n      <td>Florida</td>\n      <td>958187</td>\n      <td>9278</td>\n      <td>110441</td>\n      <td>0</td>\n    </tr>\n  </tbody>\n</table>\n</div>"
     },
     "execution_count": 27,
     "metadata": {},
     "output_type": "execute_result"
    }
   ],
   "source": [
    "df[df[\"new_cases\"] == df[\"new_cases\"].max()]"
   ],
   "metadata": {
    "collapsed": false,
    "pycharm": {
     "name": "#%%\n"
    }
   }
  },
  {
   "cell_type": "code",
   "execution_count": 32,
   "outputs": [
    {
     "data": {
      "text/plain": "                      county    state    cases  deaths  new_cases  new_deaths\nfips  date                                                                   \n12086 2020-01-21  Miami-Dade  Florida        0       0          0           0\n      2020-01-22  Miami-Dade  Florida        0       0          0           0\n      2020-01-23  Miami-Dade  Florida        0       0          0           0\n      2020-01-24  Miami-Dade  Florida        0       0          0           0\n      2020-01-25  Miami-Dade  Florida        0       0          0           0\n...                      ...      ...      ...     ...        ...         ...\n      2022-04-07  Miami-Dade  Florida  1176694   10800          0           0\n      2022-04-08  Miami-Dade  Florida  1182222   10800       5528           0\n      2022-04-09  Miami-Dade  Florida  1182222   10800          0           0\n      2022-04-10  Miami-Dade  Florida  1182222   10800          0           0\n      2022-04-11  Miami-Dade  Florida  1182222   10800          0           0\n\n[812 rows x 6 columns]",
      "text/html": "<div>\n<style scoped>\n    .dataframe tbody tr th:only-of-type {\n        vertical-align: middle;\n    }\n\n    .dataframe tbody tr th {\n        vertical-align: top;\n    }\n\n    .dataframe thead th {\n        text-align: right;\n    }\n</style>\n<table border=\"1\" class=\"dataframe\">\n  <thead>\n    <tr style=\"text-align: right;\">\n      <th></th>\n      <th></th>\n      <th>county</th>\n      <th>state</th>\n      <th>cases</th>\n      <th>deaths</th>\n      <th>new_cases</th>\n      <th>new_deaths</th>\n    </tr>\n    <tr>\n      <th>fips</th>\n      <th>date</th>\n      <th></th>\n      <th></th>\n      <th></th>\n      <th></th>\n      <th></th>\n      <th></th>\n    </tr>\n  </thead>\n  <tbody>\n    <tr>\n      <th rowspan=\"11\" valign=\"top\">12086</th>\n      <th>2020-01-21</th>\n      <td>Miami-Dade</td>\n      <td>Florida</td>\n      <td>0</td>\n      <td>0</td>\n      <td>0</td>\n      <td>0</td>\n    </tr>\n    <tr>\n      <th>2020-01-22</th>\n      <td>Miami-Dade</td>\n      <td>Florida</td>\n      <td>0</td>\n      <td>0</td>\n      <td>0</td>\n      <td>0</td>\n    </tr>\n    <tr>\n      <th>2020-01-23</th>\n      <td>Miami-Dade</td>\n      <td>Florida</td>\n      <td>0</td>\n      <td>0</td>\n      <td>0</td>\n      <td>0</td>\n    </tr>\n    <tr>\n      <th>2020-01-24</th>\n      <td>Miami-Dade</td>\n      <td>Florida</td>\n      <td>0</td>\n      <td>0</td>\n      <td>0</td>\n      <td>0</td>\n    </tr>\n    <tr>\n      <th>2020-01-25</th>\n      <td>Miami-Dade</td>\n      <td>Florida</td>\n      <td>0</td>\n      <td>0</td>\n      <td>0</td>\n      <td>0</td>\n    </tr>\n    <tr>\n      <th>...</th>\n      <td>...</td>\n      <td>...</td>\n      <td>...</td>\n      <td>...</td>\n      <td>...</td>\n      <td>...</td>\n    </tr>\n    <tr>\n      <th>2022-04-07</th>\n      <td>Miami-Dade</td>\n      <td>Florida</td>\n      <td>1176694</td>\n      <td>10800</td>\n      <td>0</td>\n      <td>0</td>\n    </tr>\n    <tr>\n      <th>2022-04-08</th>\n      <td>Miami-Dade</td>\n      <td>Florida</td>\n      <td>1182222</td>\n      <td>10800</td>\n      <td>5528</td>\n      <td>0</td>\n    </tr>\n    <tr>\n      <th>2022-04-09</th>\n      <td>Miami-Dade</td>\n      <td>Florida</td>\n      <td>1182222</td>\n      <td>10800</td>\n      <td>0</td>\n      <td>0</td>\n    </tr>\n    <tr>\n      <th>2022-04-10</th>\n      <td>Miami-Dade</td>\n      <td>Florida</td>\n      <td>1182222</td>\n      <td>10800</td>\n      <td>0</td>\n      <td>0</td>\n    </tr>\n    <tr>\n      <th>2022-04-11</th>\n      <td>Miami-Dade</td>\n      <td>Florida</td>\n      <td>1182222</td>\n      <td>10800</td>\n      <td>0</td>\n      <td>0</td>\n    </tr>\n  </tbody>\n</table>\n<p>812 rows × 6 columns</p>\n</div>"
     },
     "execution_count": 32,
     "metadata": {},
     "output_type": "execute_result"
    }
   ],
   "source": [
    "df[df.index.get_level_values(\"fips\") == \"12086\"]"
   ],
   "metadata": {
    "collapsed": false,
    "pycharm": {
     "name": "#%%\n"
    }
   }
  },
  {
   "cell_type": "code",
   "execution_count": 53,
   "outputs": [],
   "source": [
    "from abc import ABC, abstractmethod\n",
    "from typing import Iterable, Mapping, Sequence\n",
    "\n",
    "import pandas as pd\n",
    "\n",
    "from nepal.datasets import Dataset, NYTimes, PopulationDensity\n",
    "\n",
    "\n",
    "class Preprocessor(ABC):\n",
    "    @abstractmethod\n",
    "    def preprocessed(self) -> pd.DataFrame:\n",
    "        raise NotImplementedError\n",
    "\n",
    "\n",
    "class Cases(Preprocessor):\n",
    "    def __init__(self, dataset: NYTimes) -> None:\n",
    "        self._dataset: Dataset = dataset\n",
    "\n",
    "        self._index: Sequence[str] = [\"fips\", \"date\"]\n",
    "        self._targets: Sequence[str] = [\"cases\", \"deaths\"]\n",
    "\n",
    "    def preprocessed(self) -> pd.DataFrame:\n",
    "        df_covid: pd.DataFrame = self._dataset.load()\n",
    "\n",
    "        return (\n",
    "            df_covid.dropna(subset=self._index)\n",
    "            .set_index(self._index)\n",
    "            .pipe(self._fill_index, names=self._index)\n",
    "            .sort_index(level=self._index)\n",
    "            .pipe(self._cast_types_as_signed, cols=self._targets)\n",
    "            .pipe(self._calculate_new, cols=self._targets)\n",
    "        )\n",
    "\n",
    "    @classmethod\n",
    "    def _fill_index(cls, df: pd.DataFrame, names: Sequence[str]) -> pd.DataFrame:\n",
    "        return df.pipe(cls._complete_index, names=names).pipe(cls._fill_na)\n",
    "\n",
    "    @classmethod\n",
    "    def _complete_index(cls, df: pd.DataFrame, names: Sequence[str]) -> pd.DataFrame:\n",
    "        dates: pd.Index = df.index.get_level_values(\"date\")\n",
    "\n",
    "        labels: Mapping[str, pd.Index] = {\n",
    "            \"fips\": df.index.get_level_values(\"fips\").unique(),\n",
    "            \"date\": pd.date_range(start=dates.min(), end=dates.max(), freq=\"D\"),\n",
    "        }\n",
    "\n",
    "        complete: pd.MultiIndex = pd.MultiIndex.from_product(\n",
    "            [labels[names[0]], labels[names[1]]], names=names\n",
    "        )\n",
    "\n",
    "        return df.reindex(complete)\n",
    "\n",
    "    @classmethod\n",
    "    def _fill_na(cls, df: pd.DataFrame) -> pd.DataFrame:\n",
    "        return df.assign(\n",
    "            county=df.county.bfill(),\n",
    "            state=df.state.bfill(),\n",
    "            cases=df.cases.fillna(0),\n",
    "            deaths=df.deaths.fillna(0),\n",
    "        )\n",
    "\n",
    "    @classmethod\n",
    "    def _cast_types_as_signed(cls, df: pd.DataFrame, cols: Iterable[str]) -> pd.DataFrame:\n",
    "        return df.astype({col: \"int64\" for col in cols})\n",
    "\n",
    "    @classmethod\n",
    "    def _calculate_new(cls, df: pd.DataFrame, cols: Iterable[str]) -> pd.DataFrame:\n",
    "        for col in cols:\n",
    "            diff: pd.Series = df.groupby(level=\"fips\")[col].diff().fillna(0)\n",
    "            avg: pd.Series = diff.groupby(level=\"fips\").apply(\n",
    "                lambda x: x.rolling(7, min_periods=1).mean()\n",
    "            )\n",
    "            df[f\"new_{col}\"] = avg.clip(0)\n",
    "        return df"
   ],
   "metadata": {
    "collapsed": false,
    "pycharm": {
     "name": "#%%\n"
    }
   }
  },
  {
   "cell_type": "code",
   "source": [
    "df = Cases(NYTimes()).preprocessed()\n",
    "df"
   ],
   "metadata": {
    "collapsed": false,
    "pycharm": {
     "name": "#%%\n"
    }
   },
   "execution_count": 54,
   "outputs": [
    {
     "data": {
      "text/plain": "                      county           state  cases  deaths  new_cases  \\\nfips  date                                                               \n01001 2020-01-21     Autauga         Alabama      0       0   0.000000   \n      2020-01-22     Autauga         Alabama      0       0   0.000000   \n      2020-01-23     Autauga         Alabama      0       0   0.000000   \n      2020-01-24     Autauga         Alabama      0       0   0.000000   \n      2020-01-25     Autauga         Alabama      0       0   0.000000   \n...                      ...             ...    ...     ...        ...   \n78030 2022-04-07  St. Thomas  Virgin Islands   7206      59   9.714286   \n      2022-04-08  St. Thomas  Virgin Islands   7219      59  10.571429   \n      2022-04-09  St. Thomas  Virgin Islands   7219      59  10.571429   \n      2022-04-10  St. Thomas  Virgin Islands   7219      59  10.571429   \n      2022-04-11  St. Thomas  Virgin Islands   7219      59  10.571429   \n\n                  new_deaths  \nfips  date                    \n01001 2020-01-21         0.0  \n      2020-01-22         0.0  \n      2020-01-23         0.0  \n      2020-01-24         0.0  \n      2020-01-25         0.0  \n...                      ...  \n78030 2022-04-07         0.0  \n      2022-04-08         0.0  \n      2022-04-09         0.0  \n      2022-04-10         0.0  \n      2022-04-11         0.0  \n\n[2614640 rows x 6 columns]",
      "text/html": "<div>\n<style scoped>\n    .dataframe tbody tr th:only-of-type {\n        vertical-align: middle;\n    }\n\n    .dataframe tbody tr th {\n        vertical-align: top;\n    }\n\n    .dataframe thead th {\n        text-align: right;\n    }\n</style>\n<table border=\"1\" class=\"dataframe\">\n  <thead>\n    <tr style=\"text-align: right;\">\n      <th></th>\n      <th></th>\n      <th>county</th>\n      <th>state</th>\n      <th>cases</th>\n      <th>deaths</th>\n      <th>new_cases</th>\n      <th>new_deaths</th>\n    </tr>\n    <tr>\n      <th>fips</th>\n      <th>date</th>\n      <th></th>\n      <th></th>\n      <th></th>\n      <th></th>\n      <th></th>\n      <th></th>\n    </tr>\n  </thead>\n  <tbody>\n    <tr>\n      <th rowspan=\"5\" valign=\"top\">01001</th>\n      <th>2020-01-21</th>\n      <td>Autauga</td>\n      <td>Alabama</td>\n      <td>0</td>\n      <td>0</td>\n      <td>0.000000</td>\n      <td>0.0</td>\n    </tr>\n    <tr>\n      <th>2020-01-22</th>\n      <td>Autauga</td>\n      <td>Alabama</td>\n      <td>0</td>\n      <td>0</td>\n      <td>0.000000</td>\n      <td>0.0</td>\n    </tr>\n    <tr>\n      <th>2020-01-23</th>\n      <td>Autauga</td>\n      <td>Alabama</td>\n      <td>0</td>\n      <td>0</td>\n      <td>0.000000</td>\n      <td>0.0</td>\n    </tr>\n    <tr>\n      <th>2020-01-24</th>\n      <td>Autauga</td>\n      <td>Alabama</td>\n      <td>0</td>\n      <td>0</td>\n      <td>0.000000</td>\n      <td>0.0</td>\n    </tr>\n    <tr>\n      <th>2020-01-25</th>\n      <td>Autauga</td>\n      <td>Alabama</td>\n      <td>0</td>\n      <td>0</td>\n      <td>0.000000</td>\n      <td>0.0</td>\n    </tr>\n    <tr>\n      <th>...</th>\n      <th>...</th>\n      <td>...</td>\n      <td>...</td>\n      <td>...</td>\n      <td>...</td>\n      <td>...</td>\n      <td>...</td>\n    </tr>\n    <tr>\n      <th rowspan=\"5\" valign=\"top\">78030</th>\n      <th>2022-04-07</th>\n      <td>St. Thomas</td>\n      <td>Virgin Islands</td>\n      <td>7206</td>\n      <td>59</td>\n      <td>9.714286</td>\n      <td>0.0</td>\n    </tr>\n    <tr>\n      <th>2022-04-08</th>\n      <td>St. Thomas</td>\n      <td>Virgin Islands</td>\n      <td>7219</td>\n      <td>59</td>\n      <td>10.571429</td>\n      <td>0.0</td>\n    </tr>\n    <tr>\n      <th>2022-04-09</th>\n      <td>St. Thomas</td>\n      <td>Virgin Islands</td>\n      <td>7219</td>\n      <td>59</td>\n      <td>10.571429</td>\n      <td>0.0</td>\n    </tr>\n    <tr>\n      <th>2022-04-10</th>\n      <td>St. Thomas</td>\n      <td>Virgin Islands</td>\n      <td>7219</td>\n      <td>59</td>\n      <td>10.571429</td>\n      <td>0.0</td>\n    </tr>\n    <tr>\n      <th>2022-04-11</th>\n      <td>St. Thomas</td>\n      <td>Virgin Islands</td>\n      <td>7219</td>\n      <td>59</td>\n      <td>10.571429</td>\n      <td>0.0</td>\n    </tr>\n  </tbody>\n</table>\n<p>2614640 rows × 6 columns</p>\n</div>"
     },
     "execution_count": 54,
     "metadata": {},
     "output_type": "execute_result"
    }
   ]
  },
  {
   "cell_type": "code",
   "execution_count": 59,
   "outputs": [
    {
     "data": {
      "text/plain": "                      county           state  cases  deaths  new_cases  \\\nfips  date                                                               \n01001 2020-01-21     Autauga         Alabama      0       0        0.0   \n      2020-01-22     Autauga         Alabama      0       0        0.0   \n      2020-01-23     Autauga         Alabama      0       0        0.0   \n      2020-01-24     Autauga         Alabama      0       0        0.0   \n      2020-01-25     Autauga         Alabama      0       0        0.0   \n...                      ...             ...    ...     ...        ...   \n78030 2021-03-20  St. Thomas  Virgin Islands   1373      15        0.0   \n      2021-03-21  St. Thomas  Virgin Islands   1373      15        0.0   \n      2021-03-22  St. Thomas  Virgin Islands   1373      15        0.0   \n      2021-03-23  St. Thomas  Virgin Islands   1373      15        0.0   \n      2021-04-04  St. Thomas  Virgin Islands   1418      15        0.0   \n\n                  new_deaths  \nfips  date                    \n01001 2020-01-21         0.0  \n      2020-01-22         0.0  \n      2020-01-23         0.0  \n      2020-01-24         0.0  \n      2020-01-25         0.0  \n...                      ...  \n78030 2021-03-20         0.0  \n      2021-03-21         0.0  \n      2021-03-22         0.0  \n      2021-03-23         0.0  \n      2021-04-04         0.0  \n\n[409247 rows x 6 columns]",
      "text/html": "<div>\n<style scoped>\n    .dataframe tbody tr th:only-of-type {\n        vertical-align: middle;\n    }\n\n    .dataframe tbody tr th {\n        vertical-align: top;\n    }\n\n    .dataframe thead th {\n        text-align: right;\n    }\n</style>\n<table border=\"1\" class=\"dataframe\">\n  <thead>\n    <tr style=\"text-align: right;\">\n      <th></th>\n      <th></th>\n      <th>county</th>\n      <th>state</th>\n      <th>cases</th>\n      <th>deaths</th>\n      <th>new_cases</th>\n      <th>new_deaths</th>\n    </tr>\n    <tr>\n      <th>fips</th>\n      <th>date</th>\n      <th></th>\n      <th></th>\n      <th></th>\n      <th></th>\n      <th></th>\n      <th></th>\n    </tr>\n  </thead>\n  <tbody>\n    <tr>\n      <th rowspan=\"5\" valign=\"top\">01001</th>\n      <th>2020-01-21</th>\n      <td>Autauga</td>\n      <td>Alabama</td>\n      <td>0</td>\n      <td>0</td>\n      <td>0.0</td>\n      <td>0.0</td>\n    </tr>\n    <tr>\n      <th>2020-01-22</th>\n      <td>Autauga</td>\n      <td>Alabama</td>\n      <td>0</td>\n      <td>0</td>\n      <td>0.0</td>\n      <td>0.0</td>\n    </tr>\n    <tr>\n      <th>2020-01-23</th>\n      <td>Autauga</td>\n      <td>Alabama</td>\n      <td>0</td>\n      <td>0</td>\n      <td>0.0</td>\n      <td>0.0</td>\n    </tr>\n    <tr>\n      <th>2020-01-24</th>\n      <td>Autauga</td>\n      <td>Alabama</td>\n      <td>0</td>\n      <td>0</td>\n      <td>0.0</td>\n      <td>0.0</td>\n    </tr>\n    <tr>\n      <th>2020-01-25</th>\n      <td>Autauga</td>\n      <td>Alabama</td>\n      <td>0</td>\n      <td>0</td>\n      <td>0.0</td>\n      <td>0.0</td>\n    </tr>\n    <tr>\n      <th>...</th>\n      <th>...</th>\n      <td>...</td>\n      <td>...</td>\n      <td>...</td>\n      <td>...</td>\n      <td>...</td>\n      <td>...</td>\n    </tr>\n    <tr>\n      <th rowspan=\"5\" valign=\"top\">78030</th>\n      <th>2021-03-20</th>\n      <td>St. Thomas</td>\n      <td>Virgin Islands</td>\n      <td>1373</td>\n      <td>15</td>\n      <td>0.0</td>\n      <td>0.0</td>\n    </tr>\n    <tr>\n      <th>2021-03-21</th>\n      <td>St. Thomas</td>\n      <td>Virgin Islands</td>\n      <td>1373</td>\n      <td>15</td>\n      <td>0.0</td>\n      <td>0.0</td>\n    </tr>\n    <tr>\n      <th>2021-03-22</th>\n      <td>St. Thomas</td>\n      <td>Virgin Islands</td>\n      <td>1373</td>\n      <td>15</td>\n      <td>0.0</td>\n      <td>0.0</td>\n    </tr>\n    <tr>\n      <th>2021-03-23</th>\n      <td>St. Thomas</td>\n      <td>Virgin Islands</td>\n      <td>1373</td>\n      <td>15</td>\n      <td>0.0</td>\n      <td>0.0</td>\n    </tr>\n    <tr>\n      <th>2021-04-04</th>\n      <td>St. Thomas</td>\n      <td>Virgin Islands</td>\n      <td>1418</td>\n      <td>15</td>\n      <td>0.0</td>\n      <td>0.0</td>\n    </tr>\n  </tbody>\n</table>\n<p>409247 rows × 6 columns</p>\n</div>"
     },
     "execution_count": 59,
     "metadata": {},
     "output_type": "execute_result"
    }
   ],
   "source": [
    "df[df[\"new_cases\"] == df[\"new_cases\"].min()]"
   ],
   "metadata": {
    "collapsed": false,
    "pycharm": {
     "name": "#%%\n"
    }
   }
  },
  {
   "cell_type": "code",
   "execution_count": 63,
   "outputs": [
    {
     "data": {
      "text/plain": "<AxesSubplot:ylabel='Density'>"
     },
     "execution_count": 63,
     "metadata": {},
     "output_type": "execute_result"
    },
    {
     "data": {
      "text/plain": "<Figure size 432x288 with 1 Axes>",
      "image/png": "[encoded data removed]"
     },
     "metadata": {
      "needs_background": "light"
     },
     "output_type": "display_data"
    }
   ],
   "source": [
    "import numpy as np\n",
    "from sklearn.preprocessing import FunctionTransformer\n",
    "\n",
    "log_transformer = FunctionTransformer(\n",
    "    func=np.log1p,\n",
    "    inverse_func=np.expm1,\n",
    ")\n",
    "\n",
    "pd.Series(log_transformer.transform(df[\"new_cases\"])).plot.density()"
   ],
   "metadata": {
    "collapsed": false,
    "pycharm": {
     "name": "#%%\n"
    }
   }
  },
  {
   "cell_type": "code",
   "execution_count": null,
   "outputs": [],
   "source": [],
   "metadata": {
    "collapsed": false,
    "pycharm": {
     "name": "#%%\n"
    }
   }
  }
 ],
 "metadata": {
  "kernelspec": {
   "display_name": "Python 3",
   "language": "python",
   "name": "python3"
  },
  "language_info": {
   "codemirror_mode": {
    "name": "ipython",
    "version": 2
   },
   "file_extension": ".py",
   "mimetype": "text/x-python",
   "name": "python",
   "nbconvert_exporter": "python",
   "pygments_lexer": "ipython2",
   "version": "2.7.6"
  }
 },
 "nbformat": 4,
 "nbformat_minor": 0
}
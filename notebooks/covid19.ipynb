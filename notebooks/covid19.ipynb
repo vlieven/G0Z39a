{
 "cells": [
  {
   "cell_type": "code",
   "execution_count": 1,
   "metadata": {
    "collapsed": true
   },
   "outputs": [],
   "source": [
    "from nepal.datasets import NYTimes, Vaccinations"
   ]
  },
  {
   "cell_type": "code",
   "execution_count": 2,
   "outputs": [
    {
     "data": {
      "text/plain": "              date      county       state   fips  cases  deaths\n0       2020-01-21   Snohomish  Washington  53061      1       0\n1       2020-01-22   Snohomish  Washington  53061      1       0\n2       2020-01-23   Snohomish  Washington  53061      1       0\n3       2020-01-24        Cook    Illinois  17031      1       0\n4       2020-01-24   Snohomish  Washington  53061      1       0\n...            ...         ...         ...    ...    ...     ...\n2398617 2022-04-11  Sweetwater     Wyoming  56037  11065     124\n2398618 2022-04-11       Teton     Wyoming  56039   9932      16\n2398619 2022-04-11       Uinta     Wyoming  56041   5634      39\n2398620 2022-04-11    Washakie     Wyoming  56043   2357      43\n2398621 2022-04-11      Weston     Wyoming  56045   1588      18\n\n[2398622 rows x 6 columns]",
      "text/html": "<div>\n<style scoped>\n    .dataframe tbody tr th:only-of-type {\n        vertical-align: middle;\n    }\n\n    .dataframe tbody tr th {\n        vertical-align: top;\n    }\n\n    .dataframe thead th {\n        text-align: right;\n    }\n</style>\n<table border=\"1\" class=\"dataframe\">\n  <thead>\n    <tr style=\"text-align: right;\">\n      <th></th>\n      <th>date</th>\n      <th>county</th>\n      <th>state</th>\n      <th>fips</th>\n      <th>cases</th>\n      <th>deaths</th>\n    </tr>\n  </thead>\n  <tbody>\n    <tr>\n      <th>0</th>\n      <td>2020-01-21</td>\n      <td>Snohomish</td>\n      <td>Washington</td>\n      <td>53061</td>\n      <td>1</td>\n      <td>0</td>\n    </tr>\n    <tr>\n      <th>1</th>\n      <td>2020-01-22</td>\n      <td>Snohomish</td>\n      <td>Washington</td>\n      <td>53061</td>\n      <td>1</td>\n      <td>0</td>\n    </tr>\n    <tr>\n      <th>2</th>\n      <td>2020-01-23</td>\n      <td>Snohomish</td>\n      <td>Washington</td>\n      <td>53061</td>\n      <td>1</td>\n      <td>0</td>\n    </tr>\n    <tr>\n      <th>3</th>\n      <td>2020-01-24</td>\n      <td>Cook</td>\n      <td>Illinois</td>\n      <td>17031</td>\n      <td>1</td>\n      <td>0</td>\n    </tr>\n    <tr>\n      <th>4</th>\n      <td>2020-01-24</td>\n      <td>Snohomish</td>\n      <td>Washington</td>\n      <td>53061</td>\n      <td>1</td>\n      <td>0</td>\n    </tr>\n    <tr>\n      <th>...</th>\n      <td>...</td>\n      <td>...</td>\n      <td>...</td>\n      <td>...</td>\n      <td>...</td>\n      <td>...</td>\n    </tr>\n    <tr>\n      <th>2398617</th>\n      <td>2022-04-11</td>\n      <td>Sweetwater</td>\n      <td>Wyoming</td>\n      <td>56037</td>\n      <td>11065</td>\n      <td>124</td>\n    </tr>\n    <tr>\n      <th>2398618</th>\n      <td>2022-04-11</td>\n      <td>Teton</td>\n      <td>Wyoming</td>\n      <td>56039</td>\n      <td>9932</td>\n      <td>16</td>\n    </tr>\n    <tr>\n      <th>2398619</th>\n      <td>2022-04-11</td>\n      <td>Uinta</td>\n      <td>Wyoming</td>\n      <td>56041</td>\n      <td>5634</td>\n      <td>39</td>\n    </tr>\n    <tr>\n      <th>2398620</th>\n      <td>2022-04-11</td>\n      <td>Washakie</td>\n      <td>Wyoming</td>\n      <td>56043</td>\n      <td>2357</td>\n      <td>43</td>\n    </tr>\n    <tr>\n      <th>2398621</th>\n      <td>2022-04-11</td>\n      <td>Weston</td>\n      <td>Wyoming</td>\n      <td>56045</td>\n      <td>1588</td>\n      <td>18</td>\n    </tr>\n  </tbody>\n</table>\n<p>2398622 rows × 6 columns</p>\n</div>"
     },
     "execution_count": 2,
     "metadata": {},
     "output_type": "execute_result"
    }
   ],
   "source": [
    "NYTimes.collect()\n",
    "data = NYTimes.load()\n",
    "data"
   ],
   "metadata": {
    "collapsed": false,
    "pycharm": {
     "name": "#%%\n"
    }
   }
  },
  {
   "cell_type": "code",
   "execution_count": 4,
   "outputs": [
    {
     "data": {
      "text/plain": "date      datetime64[ns]\ncounty            string\nstate             string\nfips              string\ncases             UInt64\ndeaths            UInt64\ndtype: object"
     },
     "execution_count": 4,
     "metadata": {},
     "output_type": "execute_result"
    }
   ],
   "source": [
    "data.dtypes"
   ],
   "metadata": {
    "collapsed": false,
    "pycharm": {
     "name": "#%%\n"
    }
   }
  },
  {
   "cell_type": "code",
   "execution_count": null,
   "outputs": [],
   "source": [],
   "metadata": {
    "collapsed": false,
    "pycharm": {
     "name": "#%%\n"
    }
   }
  }
 ],
 "metadata": {
  "kernelspec": {
   "display_name": "Python 3",
   "language": "python",
   "name": "python3"
  },
  "language_info": {
   "codemirror_mode": {
    "name": "ipython",
    "version": 2
   },
   "file_extension": ".py",
   "mimetype": "text/x-python",
   "name": "python",
   "nbconvert_exporter": "python",
   "pygments_lexer": "ipython2",
   "version": "2.7.6"
  }
 },
 "nbformat": 4,
 "nbformat_minor": 0
}
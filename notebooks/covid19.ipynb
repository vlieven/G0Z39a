{
 "cells": [
  {
   "cell_type": "code",
   "execution_count": 1,
   "metadata": {
    "collapsed": true
   },
   "outputs": [],
   "source": [
    "from nepal.datasets import NYTimes, Vaccinations, CountyDistance, GovernmentResponse"
   ]
  },
  {
   "cell_type": "code",
   "execution_count": 2,
   "outputs": [],
   "source": [
    "# nytimes = NYTimes().load()\n",
    "# vaccinations = Vaccinations().load()\n",
    "# distances = CountyDistance(radius=100).load()\n",
    "response_tracker = GovernmentResponse().load()"
   ],
   "metadata": {
    "collapsed": false,
    "pycharm": {
     "name": "#%%\n"
    }
   }
  },
  {
   "cell_type": "code",
   "execution_count": 3,
   "outputs": [
    {
     "data": {
      "text/plain": "          CountryName CountryCode RegionName RegionCode Jurisdiction  \\\n242600  United States         USA       <NA>       <NA>    NAT_TOTAL   \n242601  United States         USA       <NA>       <NA>    NAT_TOTAL   \n242602  United States         USA       <NA>       <NA>    NAT_TOTAL   \n242603  United States         USA       <NA>       <NA>    NAT_TOTAL   \n242604  United States         USA       <NA>       <NA>    NAT_TOTAL   \n...               ...         ...        ...        ...          ...   \n288043  United States         USA    Wyoming      US_WY  STATE_TOTAL   \n288044  United States         USA    Wyoming      US_WY  STATE_TOTAL   \n288045  United States         USA    Wyoming      US_WY  STATE_TOTAL   \n288046  United States         USA    Wyoming      US_WY  STATE_TOTAL   \n288047  United States         USA    Wyoming      US_WY  STATE_TOTAL   \n\n             Date  C1_combined_numeric C1_combined  C2_combined_numeric  \\\n242600 2020-01-01                  0.0           0                  0.0   \n242601 2020-01-02                  0.0           0                  0.0   \n242602 2020-01-03                  0.0           0                  0.0   \n242603 2020-01-04                  0.0           0                  0.0   \n242604 2020-01-05                  0.0           0                  0.0   \n...           ...                  ...         ...                  ...   \n288043 2022-05-19                  NaN        <NA>                  NaN   \n288044 2022-05-20                  NaN        <NA>                  NaN   \n288045 2022-05-21                  NaN        <NA>                  NaN   \n288046 2022-05-22                  NaN        <NA>                  NaN   \n288047 2022-05-23                  NaN        <NA>                  NaN   \n\n       C2_combined  ...  StringencyIndex StringencyIndexForDisplay  \\\n242600           0  ...              0.0                       0.0   \n242601           0  ...              0.0                       0.0   \n242602           0  ...              0.0                       0.0   \n242603           0  ...              0.0                       0.0   \n242604           0  ...              0.0                       0.0   \n...            ...  ...              ...                       ...   \n288043        <NA>  ...              NaN                       NaN   \n288044        <NA>  ...              NaN                       NaN   \n288045        <NA>  ...              NaN                       NaN   \n288046        <NA>  ...              NaN                       NaN   \n288047        <NA>  ...              NaN                       NaN   \n\n        StringencyLegacyIndex StringencyLegacyIndexForDisplay  \\\n242600                    0.0                             0.0   \n242601                    0.0                             0.0   \n242602                    0.0                             0.0   \n242603                    0.0                             0.0   \n242604                    0.0                             0.0   \n...                       ...                             ...   \n288043                    NaN                             NaN   \n288044                    NaN                             NaN   \n288045                    NaN                             NaN   \n288046                    NaN                             NaN   \n288047                    NaN                             NaN   \n\n        GovernmentResponseIndex GovernmentResponseIndexForDisplay  \\\n242600                      0.0                               0.0   \n242601                      0.0                               0.0   \n242602                      0.0                               0.0   \n242603                      0.0                               0.0   \n242604                      0.0                               0.0   \n...                         ...                               ...   \n288043                      NaN                               NaN   \n288044                      NaN                               NaN   \n288045                      NaN                               NaN   \n288046                      NaN                               NaN   \n288047                      NaN                               NaN   \n\n        ContainmentHealthIndex ContainmentHealthIndexForDisplay  \\\n242600                     0.0                              0.0   \n242601                     0.0                              0.0   \n242602                     0.0                              0.0   \n242603                     0.0                              0.0   \n242604                     0.0                              0.0   \n...                        ...                              ...   \n288043                     NaN                              NaN   \n288044                     NaN                              NaN   \n288045                     NaN                              NaN   \n288046                     NaN                              NaN   \n288047                     NaN                              NaN   \n\n        EconomicSupportIndex EconomicSupportIndexForDisplay  \n242600                   0.0                            0.0  \n242601                   0.0                            0.0  \n242602                   0.0                            0.0  \n242603                   0.0                            0.0  \n242604                   0.0                            0.0  \n...                      ...                            ...  \n288043                   NaN                            NaN  \n288044                   NaN                            NaN  \n288045                   NaN                            NaN  \n288046                   NaN                            NaN  \n288047                   NaN                            NaN  \n\n[45448 rows x 58 columns]",
      "text/html": "<div>\n<style scoped>\n    .dataframe tbody tr th:only-of-type {\n        vertical-align: middle;\n    }\n\n    .dataframe tbody tr th {\n        vertical-align: top;\n    }\n\n    .dataframe thead th {\n        text-align: right;\n    }\n</style>\n<table border=\"1\" class=\"dataframe\">\n  <thead>\n    <tr style=\"text-align: right;\">\n      <th></th>\n      <th>CountryName</th>\n      <th>CountryCode</th>\n      <th>RegionName</th>\n      <th>RegionCode</th>\n      <th>Jurisdiction</th>\n      <th>Date</th>\n      <th>C1_combined_numeric</th>\n      <th>C1_combined</th>\n      <th>C2_combined_numeric</th>\n      <th>C2_combined</th>\n      <th>...</th>\n      <th>StringencyIndex</th>\n      <th>StringencyIndexForDisplay</th>\n      <th>StringencyLegacyIndex</th>\n      <th>StringencyLegacyIndexForDisplay</th>\n      <th>GovernmentResponseIndex</th>\n      <th>GovernmentResponseIndexForDisplay</th>\n      <th>ContainmentHealthIndex</th>\n      <th>ContainmentHealthIndexForDisplay</th>\n      <th>EconomicSupportIndex</th>\n      <th>EconomicSupportIndexForDisplay</th>\n    </tr>\n  </thead>\n  <tbody>\n    <tr>\n      <th>242600</th>\n      <td>United States</td>\n      <td>USA</td>\n      <td>&lt;NA&gt;</td>\n      <td>&lt;NA&gt;</td>\n      <td>NAT_TOTAL</td>\n      <td>2020-01-01</td>\n      <td>0.0</td>\n      <td>0</td>\n      <td>0.0</td>\n      <td>0</td>\n      <td>...</td>\n      <td>0.0</td>\n      <td>0.0</td>\n      <td>0.0</td>\n      <td>0.0</td>\n      <td>0.0</td>\n      <td>0.0</td>\n      <td>0.0</td>\n      <td>0.0</td>\n      <td>0.0</td>\n      <td>0.0</td>\n    </tr>\n    <tr>\n      <th>242601</th>\n      <td>United States</td>\n      <td>USA</td>\n      <td>&lt;NA&gt;</td>\n      <td>&lt;NA&gt;</td>\n      <td>NAT_TOTAL</td>\n      <td>2020-01-02</td>\n      <td>0.0</td>\n      <td>0</td>\n      <td>0.0</td>\n      <td>0</td>\n      <td>...</td>\n      <td>0.0</td>\n      <td>0.0</td>\n      <td>0.0</td>\n      <td>0.0</td>\n      <td>0.0</td>\n      <td>0.0</td>\n      <td>0.0</td>\n      <td>0.0</td>\n      <td>0.0</td>\n      <td>0.0</td>\n    </tr>\n    <tr>\n      <th>242602</th>\n      <td>United States</td>\n      <td>USA</td>\n      <td>&lt;NA&gt;</td>\n      <td>&lt;NA&gt;</td>\n      <td>NAT_TOTAL</td>\n      <td>2020-01-03</td>\n      <td>0.0</td>\n      <td>0</td>\n      <td>0.0</td>\n      <td>0</td>\n      <td>...</td>\n      <td>0.0</td>\n      <td>0.0</td>\n      <td>0.0</td>\n      <td>0.0</td>\n      <td>0.0</td>\n      <td>0.0</td>\n      <td>0.0</td>\n      <td>0.0</td>\n      <td>0.0</td>\n      <td>0.0</td>\n    </tr>\n    <tr>\n      <th>242603</th>\n      <td>United States</td>\n      <td>USA</td>\n      <td>&lt;NA&gt;</td>\n      <td>&lt;NA&gt;</td>\n      <td>NAT_TOTAL</td>\n      <td>2020-01-04</td>\n      <td>0.0</td>\n      <td>0</td>\n      <td>0.0</td>\n      <td>0</td>\n      <td>...</td>\n      <td>0.0</td>\n      <td>0.0</td>\n      <td>0.0</td>\n      <td>0.0</td>\n      <td>0.0</td>\n      <td>0.0</td>\n      <td>0.0</td>\n      <td>0.0</td>\n      <td>0.0</td>\n      <td>0.0</td>\n    </tr>\n    <tr>\n      <th>242604</th>\n      <td>United States</td>\n      <td>USA</td>\n      <td>&lt;NA&gt;</td>\n      <td>&lt;NA&gt;</td>\n      <td>NAT_TOTAL</td>\n      <td>2020-01-05</td>\n      <td>0.0</td>\n      <td>0</td>\n      <td>0.0</td>\n      <td>0</td>\n      <td>...</td>\n      <td>0.0</td>\n      <td>0.0</td>\n      <td>0.0</td>\n      <td>0.0</td>\n      <td>0.0</td>\n      <td>0.0</td>\n      <td>0.0</td>\n      <td>0.0</td>\n      <td>0.0</td>\n      <td>0.0</td>\n    </tr>\n    <tr>\n      <th>...</th>\n      <td>...</td>\n      <td>...</td>\n      <td>...</td>\n      <td>...</td>\n      <td>...</td>\n      <td>...</td>\n      <td>...</td>\n      <td>...</td>\n      <td>...</td>\n      <td>...</td>\n      <td>...</td>\n      <td>...</td>\n      <td>...</td>\n      <td>...</td>\n      <td>...</td>\n      <td>...</td>\n      <td>...</td>\n      <td>...</td>\n      <td>...</td>\n      <td>...</td>\n      <td>...</td>\n    </tr>\n    <tr>\n      <th>288043</th>\n      <td>United States</td>\n      <td>USA</td>\n      <td>Wyoming</td>\n      <td>US_WY</td>\n      <td>STATE_TOTAL</td>\n      <td>2022-05-19</td>\n      <td>NaN</td>\n      <td>&lt;NA&gt;</td>\n      <td>NaN</td>\n      <td>&lt;NA&gt;</td>\n      <td>...</td>\n      <td>NaN</td>\n      <td>NaN</td>\n      <td>NaN</td>\n      <td>NaN</td>\n      <td>NaN</td>\n      <td>NaN</td>\n      <td>NaN</td>\n      <td>NaN</td>\n      <td>NaN</td>\n      <td>NaN</td>\n    </tr>\n    <tr>\n      <th>288044</th>\n      <td>United States</td>\n      <td>USA</td>\n      <td>Wyoming</td>\n      <td>US_WY</td>\n      <td>STATE_TOTAL</td>\n      <td>2022-05-20</td>\n      <td>NaN</td>\n      <td>&lt;NA&gt;</td>\n      <td>NaN</td>\n      <td>&lt;NA&gt;</td>\n      <td>...</td>\n      <td>NaN</td>\n      <td>NaN</td>\n      <td>NaN</td>\n      <td>NaN</td>\n      <td>NaN</td>\n      <td>NaN</td>\n      <td>NaN</td>\n      <td>NaN</td>\n      <td>NaN</td>\n      <td>NaN</td>\n    </tr>\n    <tr>\n      <th>288045</th>\n      <td>United States</td>\n      <td>USA</td>\n      <td>Wyoming</td>\n      <td>US_WY</td>\n      <td>STATE_TOTAL</td>\n      <td>2022-05-21</td>\n      <td>NaN</td>\n      <td>&lt;NA&gt;</td>\n      <td>NaN</td>\n      <td>&lt;NA&gt;</td>\n      <td>...</td>\n      <td>NaN</td>\n      <td>NaN</td>\n      <td>NaN</td>\n      <td>NaN</td>\n      <td>NaN</td>\n      <td>NaN</td>\n      <td>NaN</td>\n      <td>NaN</td>\n      <td>NaN</td>\n      <td>NaN</td>\n    </tr>\n    <tr>\n      <th>288046</th>\n      <td>United States</td>\n      <td>USA</td>\n      <td>Wyoming</td>\n      <td>US_WY</td>\n      <td>STATE_TOTAL</td>\n      <td>2022-05-22</td>\n      <td>NaN</td>\n      <td>&lt;NA&gt;</td>\n      <td>NaN</td>\n      <td>&lt;NA&gt;</td>\n      <td>...</td>\n      <td>NaN</td>\n      <td>NaN</td>\n      <td>NaN</td>\n      <td>NaN</td>\n      <td>NaN</td>\n      <td>NaN</td>\n      <td>NaN</td>\n      <td>NaN</td>\n      <td>NaN</td>\n      <td>NaN</td>\n    </tr>\n    <tr>\n      <th>288047</th>\n      <td>United States</td>\n      <td>USA</td>\n      <td>Wyoming</td>\n      <td>US_WY</td>\n      <td>STATE_TOTAL</td>\n      <td>2022-05-23</td>\n      <td>NaN</td>\n      <td>&lt;NA&gt;</td>\n      <td>NaN</td>\n      <td>&lt;NA&gt;</td>\n      <td>...</td>\n      <td>NaN</td>\n      <td>NaN</td>\n      <td>NaN</td>\n      <td>NaN</td>\n      <td>NaN</td>\n      <td>NaN</td>\n      <td>NaN</td>\n      <td>NaN</td>\n      <td>NaN</td>\n      <td>NaN</td>\n    </tr>\n  </tbody>\n</table>\n<p>45448 rows × 58 columns</p>\n</div>"
     },
     "execution_count": 3,
     "metadata": {},
     "output_type": "execute_result"
    }
   ],
   "source": [
    "response_tracker[response_tracker[\"CountryName\"] == \"United States\"]"
   ],
   "metadata": {
    "collapsed": false,
    "pycharm": {
     "name": "#%%\n"
    }
   }
  },
  {
   "cell_type": "code",
   "execution_count": 5,
   "outputs": [
    {
     "data": {
      "text/plain": "Index(['CountryName', 'CountryCode', 'RegionName', 'RegionCode',\n       'Jurisdiction', 'Date', 'C1_combined_numeric', 'C1_combined',\n       'C2_combined_numeric', 'C2_combined', 'C3_combined_numeric',\n       'C3_combined', 'C4_combined_numeric', 'C4_combined',\n       'C5_combined_numeric', 'C5_combined', 'C6_combined_numeric',\n       'C6_combined', 'C7_combined_numeric', 'C7_combined',\n       'C8_combined_numeric', 'C8_combined', 'E1_combined_numeric',\n       'E1_combined', 'E2_combined_numeric', 'E2_combined',\n       'H1_combined_numeric', 'H1_combined', 'H2_combined_numeric',\n       'H2_combined', 'H3_combined_numeric', 'H3_combined',\n       'H6_combined_numeric', 'H6_combined', 'H7_combined_numeric',\n       'H7_combined', 'H8_combined_numeric', 'H8_combined',\n       'V1_combined_numeric', 'V1_combined', 'V2_combined_numeric',\n       'V2_combined', 'V3_combined_numeric', 'V3_combined',\n       'V4_combined_numeric', 'V4_combined', 'ConfirmedCases',\n       'ConfirmedDeaths', 'StringencyIndex', 'StringencyIndexForDisplay',\n       'StringencyLegacyIndex', 'StringencyLegacyIndexForDisplay',\n       'GovernmentResponseIndex', 'GovernmentResponseIndexForDisplay',\n       'ContainmentHealthIndex', 'ContainmentHealthIndexForDisplay',\n       'EconomicSupportIndex', 'EconomicSupportIndexForDisplay'],\n      dtype='object')"
     },
     "execution_count": 5,
     "metadata": {},
     "output_type": "execute_result"
    }
   ],
   "source": [
    "response_tracker.columns"
   ],
   "metadata": {
    "collapsed": false,
    "pycharm": {
     "name": "#%%\n"
    }
   }
  },
  {
   "cell_type": "code",
   "execution_count": 14,
   "outputs": [
    {
     "data": {
      "text/plain": "              Date   FIPS  MMWR_week   Recip_County Recip_State  \\\n1690    2022-05-21  26023         20  Branch County          MI   \n4057    2022-05-20  26023         20  Branch County          MI   \n9509    2022-05-19  26023         20  Branch County          MI   \n10415   2022-05-18  26023         20  Branch County          MI   \n13584   2022-05-17  26023         20  Branch County          MI   \n...            ...    ...        ...            ...         ...   \n1707103 2020-12-17  26023         51  Branch County          MI   \n1710448 2020-12-16  26023         51  Branch County          MI   \n1714729 2020-12-15  26023         51  Branch County          MI   \n1716719 2020-12-14  26023         51  Branch County          MI   \n1719867 2020-12-13  26023         51  Branch County          MI   \n\n         Completeness_pct  Administered_Dose1_Recip  \\\n1690            95.099998                   20728.0   \n4057            95.099998                   20725.0   \n9509            95.099998                   20723.0   \n10415           95.099998                   20723.0   \n13584           95.099998                   20721.0   \n...                   ...                       ...   \n1707103               0.0                       0.0   \n1710448               0.0                       0.0   \n1714729               0.0                       0.0   \n1716719               0.0                       0.0   \n1719867               0.0                       0.0   \n\n         Administered_Dose1_Pop_Pct  Administered_Dose1_Recip_5Plus  \\\n1690                      47.599998                         20728.0   \n4057                      47.599998                         20725.0   \n9509                      47.599998                         20723.0   \n10415                     47.599998                         20723.0   \n13584                     47.599998                         20721.0   \n...                             ...                             ...   \n1707103                         0.0                            <NA>   \n1710448                         0.0                            <NA>   \n1714729                         0.0                            <NA>   \n1716719                         0.0                            <NA>   \n1719867                         0.0                            <NA>   \n\n         Administered_Dose1_Recip_5PlusPop_Pct  ...  \\\n1690                                 50.700001  ...   \n4057                                 50.700001  ...   \n9509                                 50.700001  ...   \n10415                                50.700001  ...   \n13584                                50.700001  ...   \n...                                        ...  ...   \n1707103                                   <NA>  ...   \n1710448                                   <NA>  ...   \n1714729                                   <NA>  ...   \n1716719                                   <NA>  ...   \n1719867                                   <NA>  ...   \n\n         Booster_Doses_Vax_Pct_UR_Equity  \\\n1690                                 8.0   \n4057                                 8.0   \n9509                                 8.0   \n10415                                8.0   \n13584                                8.0   \n...                                  ...   \n1707103                             <NA>   \n1710448                             <NA>   \n1714729                             <NA>   \n1716719                             <NA>   \n1719867                             <NA>   \n\n         Booster_Doses_12PlusVax_Pct_UR_Equity  \\\n1690                                       8.0   \n4057                                       8.0   \n9509                                       8.0   \n10415                                      8.0   \n13584                                      8.0   \n...                                        ...   \n1707103                                   <NA>   \n1710448                                   <NA>   \n1714729                                   <NA>   \n1716719                                   <NA>   \n1719867                                   <NA>   \n\n         Booster_Doses_18PlusVax_Pct_UR_Equity  \\\n1690                                       8.0   \n4057                                       8.0   \n9509                                       8.0   \n10415                                      8.0   \n13584                                      8.0   \n...                                        ...   \n1707103                                   <NA>   \n1710448                                   <NA>   \n1714729                                   <NA>   \n1716719                                   <NA>   \n1719867                                   <NA>   \n\n         Booster_Doses_65PlusVax_Pct_UR_Equity  Census2019  \\\n1690                                       7.0       43517   \n4057                                       7.0       43517   \n9509                                       7.0       43517   \n10415                                      7.0       43517   \n13584                                      7.0       43517   \n...                                        ...         ...   \n1707103                                   <NA>       43517   \n1710448                                   <NA>       43517   \n1714729                                   <NA>       43517   \n1716719                                   <NA>       43517   \n1719867                                   <NA>       43517   \n\n         Census2019_5PlusPop  Census2019_5to17Pop  Census2019_12PlusPop  \\\n1690                   40880                 7359                 37045   \n4057                   40880                 7359                 37045   \n9509                   40880                 7359                 37045   \n10415                  40880                 7359                 37045   \n13584                  40880                 7359                 37045   \n...                      ...                  ...                   ...   \n1707103                 <NA>                 <NA>                 37045   \n1710448                 <NA>                 <NA>                 37045   \n1714729                 <NA>                 <NA>                 37045   \n1716719                 <NA>                 <NA>                 37045   \n1719867                 <NA>                 <NA>                 37045   \n\n         Census2019_18PlusPop  Census2019_65PlusPop  \n1690                    33521                  8129  \n4057                    33521                  8129  \n9509                    33521                  8129  \n10415                   33521                  8129  \n13584                   33521                  8129  \n...                       ...                   ...  \n1707103                 33521                  <NA>  \n1710448                 33521                  <NA>  \n1714729                 33521                  <NA>  \n1716719                 33521                  <NA>  \n1719867                 33521                  <NA>  \n\n[525 rows x 66 columns]",
      "text/html": "<div>\n<style scoped>\n    .dataframe tbody tr th:only-of-type {\n        vertical-align: middle;\n    }\n\n    .dataframe tbody tr th {\n        vertical-align: top;\n    }\n\n    .dataframe thead th {\n        text-align: right;\n    }\n</style>\n<table border=\"1\" class=\"dataframe\">\n  <thead>\n    <tr style=\"text-align: right;\">\n      <th></th>\n      <th>Date</th>\n      <th>FIPS</th>\n      <th>MMWR_week</th>\n      <th>Recip_County</th>\n      <th>Recip_State</th>\n      <th>Completeness_pct</th>\n      <th>Administered_Dose1_Recip</th>\n      <th>Administered_Dose1_Pop_Pct</th>\n      <th>Administered_Dose1_Recip_5Plus</th>\n      <th>Administered_Dose1_Recip_5PlusPop_Pct</th>\n      <th>...</th>\n      <th>Booster_Doses_Vax_Pct_UR_Equity</th>\n      <th>Booster_Doses_12PlusVax_Pct_UR_Equity</th>\n      <th>Booster_Doses_18PlusVax_Pct_UR_Equity</th>\n      <th>Booster_Doses_65PlusVax_Pct_UR_Equity</th>\n      <th>Census2019</th>\n      <th>Census2019_5PlusPop</th>\n      <th>Census2019_5to17Pop</th>\n      <th>Census2019_12PlusPop</th>\n      <th>Census2019_18PlusPop</th>\n      <th>Census2019_65PlusPop</th>\n    </tr>\n  </thead>\n  <tbody>\n    <tr>\n      <th>1690</th>\n      <td>2022-05-21</td>\n      <td>26023</td>\n      <td>20</td>\n      <td>Branch County</td>\n      <td>MI</td>\n      <td>95.099998</td>\n      <td>20728.0</td>\n      <td>47.599998</td>\n      <td>20728.0</td>\n      <td>50.700001</td>\n      <td>...</td>\n      <td>8.0</td>\n      <td>8.0</td>\n      <td>8.0</td>\n      <td>7.0</td>\n      <td>43517</td>\n      <td>40880</td>\n      <td>7359</td>\n      <td>37045</td>\n      <td>33521</td>\n      <td>8129</td>\n    </tr>\n    <tr>\n      <th>4057</th>\n      <td>2022-05-20</td>\n      <td>26023</td>\n      <td>20</td>\n      <td>Branch County</td>\n      <td>MI</td>\n      <td>95.099998</td>\n      <td>20725.0</td>\n      <td>47.599998</td>\n      <td>20725.0</td>\n      <td>50.700001</td>\n      <td>...</td>\n      <td>8.0</td>\n      <td>8.0</td>\n      <td>8.0</td>\n      <td>7.0</td>\n      <td>43517</td>\n      <td>40880</td>\n      <td>7359</td>\n      <td>37045</td>\n      <td>33521</td>\n      <td>8129</td>\n    </tr>\n    <tr>\n      <th>9509</th>\n      <td>2022-05-19</td>\n      <td>26023</td>\n      <td>20</td>\n      <td>Branch County</td>\n      <td>MI</td>\n      <td>95.099998</td>\n      <td>20723.0</td>\n      <td>47.599998</td>\n      <td>20723.0</td>\n      <td>50.700001</td>\n      <td>...</td>\n      <td>8.0</td>\n      <td>8.0</td>\n      <td>8.0</td>\n      <td>7.0</td>\n      <td>43517</td>\n      <td>40880</td>\n      <td>7359</td>\n      <td>37045</td>\n      <td>33521</td>\n      <td>8129</td>\n    </tr>\n    <tr>\n      <th>10415</th>\n      <td>2022-05-18</td>\n      <td>26023</td>\n      <td>20</td>\n      <td>Branch County</td>\n      <td>MI</td>\n      <td>95.099998</td>\n      <td>20723.0</td>\n      <td>47.599998</td>\n      <td>20723.0</td>\n      <td>50.700001</td>\n      <td>...</td>\n      <td>8.0</td>\n      <td>8.0</td>\n      <td>8.0</td>\n      <td>7.0</td>\n      <td>43517</td>\n      <td>40880</td>\n      <td>7359</td>\n      <td>37045</td>\n      <td>33521</td>\n      <td>8129</td>\n    </tr>\n    <tr>\n      <th>13584</th>\n      <td>2022-05-17</td>\n      <td>26023</td>\n      <td>20</td>\n      <td>Branch County</td>\n      <td>MI</td>\n      <td>95.099998</td>\n      <td>20721.0</td>\n      <td>47.599998</td>\n      <td>20721.0</td>\n      <td>50.700001</td>\n      <td>...</td>\n      <td>8.0</td>\n      <td>8.0</td>\n      <td>8.0</td>\n      <td>7.0</td>\n      <td>43517</td>\n      <td>40880</td>\n      <td>7359</td>\n      <td>37045</td>\n      <td>33521</td>\n      <td>8129</td>\n    </tr>\n    <tr>\n      <th>...</th>\n      <td>...</td>\n      <td>...</td>\n      <td>...</td>\n      <td>...</td>\n      <td>...</td>\n      <td>...</td>\n      <td>...</td>\n      <td>...</td>\n      <td>...</td>\n      <td>...</td>\n      <td>...</td>\n      <td>...</td>\n      <td>...</td>\n      <td>...</td>\n      <td>...</td>\n      <td>...</td>\n      <td>...</td>\n      <td>...</td>\n      <td>...</td>\n      <td>...</td>\n      <td>...</td>\n    </tr>\n    <tr>\n      <th>1707103</th>\n      <td>2020-12-17</td>\n      <td>26023</td>\n      <td>51</td>\n      <td>Branch County</td>\n      <td>MI</td>\n      <td>0.0</td>\n      <td>0.0</td>\n      <td>0.0</td>\n      <td>&lt;NA&gt;</td>\n      <td>&lt;NA&gt;</td>\n      <td>...</td>\n      <td>&lt;NA&gt;</td>\n      <td>&lt;NA&gt;</td>\n      <td>&lt;NA&gt;</td>\n      <td>&lt;NA&gt;</td>\n      <td>43517</td>\n      <td>&lt;NA&gt;</td>\n      <td>&lt;NA&gt;</td>\n      <td>37045</td>\n      <td>33521</td>\n      <td>&lt;NA&gt;</td>\n    </tr>\n    <tr>\n      <th>1710448</th>\n      <td>2020-12-16</td>\n      <td>26023</td>\n      <td>51</td>\n      <td>Branch County</td>\n      <td>MI</td>\n      <td>0.0</td>\n      <td>0.0</td>\n      <td>0.0</td>\n      <td>&lt;NA&gt;</td>\n      <td>&lt;NA&gt;</td>\n      <td>...</td>\n      <td>&lt;NA&gt;</td>\n      <td>&lt;NA&gt;</td>\n      <td>&lt;NA&gt;</td>\n      <td>&lt;NA&gt;</td>\n      <td>43517</td>\n      <td>&lt;NA&gt;</td>\n      <td>&lt;NA&gt;</td>\n      <td>37045</td>\n      <td>33521</td>\n      <td>&lt;NA&gt;</td>\n    </tr>\n    <tr>\n      <th>1714729</th>\n      <td>2020-12-15</td>\n      <td>26023</td>\n      <td>51</td>\n      <td>Branch County</td>\n      <td>MI</td>\n      <td>0.0</td>\n      <td>0.0</td>\n      <td>0.0</td>\n      <td>&lt;NA&gt;</td>\n      <td>&lt;NA&gt;</td>\n      <td>...</td>\n      <td>&lt;NA&gt;</td>\n      <td>&lt;NA&gt;</td>\n      <td>&lt;NA&gt;</td>\n      <td>&lt;NA&gt;</td>\n      <td>43517</td>\n      <td>&lt;NA&gt;</td>\n      <td>&lt;NA&gt;</td>\n      <td>37045</td>\n      <td>33521</td>\n      <td>&lt;NA&gt;</td>\n    </tr>\n    <tr>\n      <th>1716719</th>\n      <td>2020-12-14</td>\n      <td>26023</td>\n      <td>51</td>\n      <td>Branch County</td>\n      <td>MI</td>\n      <td>0.0</td>\n      <td>0.0</td>\n      <td>0.0</td>\n      <td>&lt;NA&gt;</td>\n      <td>&lt;NA&gt;</td>\n      <td>...</td>\n      <td>&lt;NA&gt;</td>\n      <td>&lt;NA&gt;</td>\n      <td>&lt;NA&gt;</td>\n      <td>&lt;NA&gt;</td>\n      <td>43517</td>\n      <td>&lt;NA&gt;</td>\n      <td>&lt;NA&gt;</td>\n      <td>37045</td>\n      <td>33521</td>\n      <td>&lt;NA&gt;</td>\n    </tr>\n    <tr>\n      <th>1719867</th>\n      <td>2020-12-13</td>\n      <td>26023</td>\n      <td>51</td>\n      <td>Branch County</td>\n      <td>MI</td>\n      <td>0.0</td>\n      <td>0.0</td>\n      <td>0.0</td>\n      <td>&lt;NA&gt;</td>\n      <td>&lt;NA&gt;</td>\n      <td>...</td>\n      <td>&lt;NA&gt;</td>\n      <td>&lt;NA&gt;</td>\n      <td>&lt;NA&gt;</td>\n      <td>&lt;NA&gt;</td>\n      <td>43517</td>\n      <td>&lt;NA&gt;</td>\n      <td>&lt;NA&gt;</td>\n      <td>37045</td>\n      <td>33521</td>\n      <td>&lt;NA&gt;</td>\n    </tr>\n  </tbody>\n</table>\n<p>525 rows × 66 columns</p>\n</div>"
     },
     "execution_count": 14,
     "metadata": {},
     "output_type": "execute_result"
    }
   ],
   "source": [
    "vaccinations[vaccinations[\"FIPS\"] == \"26023\"]"
   ],
   "metadata": {
    "collapsed": false,
    "pycharm": {
     "name": "#%%\n"
    }
   }
  },
  {
   "cell_type": "code",
   "execution_count": 2,
   "outputs": [],
   "source": [
    "vaccinations = Vaccinations().load()"
   ],
   "metadata": {
    "collapsed": false,
    "pycharm": {
     "name": "#%%\n"
    }
   }
  },
  {
   "cell_type": "code",
   "execution_count": 3,
   "outputs": [
    {
     "data": {
      "text/plain": "Index(['Date', 'FIPS', 'MMWR_week', 'Recip_County', 'Recip_State',\n       'Completeness_pct', 'Administered_Dose1_Recip',\n       'Administered_Dose1_Pop_Pct', 'Administered_Dose1_Recip_5Plus',\n       'Administered_Dose1_Recip_5PlusPop_Pct',\n       'Administered_Dose1_Recip_12Plus',\n       'Administered_Dose1_Recip_12PlusPop_Pct',\n       'Administered_Dose1_Recip_18Plus',\n       'Administered_Dose1_Recip_18PlusPop_Pct',\n       'Administered_Dose1_Recip_65Plus',\n       'Administered_Dose1_Recip_65PlusPop_Pct', 'Series_Complete_Yes',\n       'Series_Complete_Pop_Pct', 'Series_Complete_5Plus',\n       'Series_Complete_5PlusPop_Pct', 'Series_Complete_5to17',\n       'Series_Complete_5to17Pop_Pct', 'Series_Complete_12Plus',\n       'Series_Complete_12PlusPop_Pct', 'Series_Complete_18Plus',\n       'Series_Complete_18PlusPop_Pct', 'Series_Complete_65Plus',\n       'Series_Complete_65PlusPop_Pct', 'Booster_Doses',\n       'Booster_Doses_Vax_Pct', 'Booster_Doses_12Plus',\n       'Booster_Doses_12Plus_Vax_Pct', 'Booster_Doses_18Plus',\n       'Booster_Doses_18Plus_Vax_Pct', 'Booster_Doses_50Plus',\n       'Booster_Doses_50Plus_Vax_Pct', 'Booster_Doses_65Plus',\n       'Booster_Doses_65Plus_Vax_Pct', 'SVI_CTGY',\n       'Series_Complete_Pop_Pct_SVI', 'Series_Complete_5PlusPop_Pct_SVI',\n       'Series_Complete_5to17Pop_Pct_SVI', 'Series_Complete_12PlusPop_Pct_SVI',\n       'Series_Complete_18PlusPop_Pct_SVI',\n       'Series_Complete_65PlusPop_Pct_SVI', 'Metro_status',\n       'Series_Complete_Pop_Pct_UR_Equity',\n       'Series_Complete_5PlusPop_Pct_UR_Equity',\n       'Series_Complete_5to17Pop_Pct_UR_Equity',\n       'Series_Complete_12PlusPop_Pct_UR_Equity',\n       'Series_Complete_18PlusPop_Pct_UR_Equity',\n       'Series_Complete_65PlusPop_Pct_UR_Equity', 'Booster_Doses_Vax_Pct_SVI',\n       'Booster_Doses_12PlusVax_Pct_SVI', 'Booster_Doses_18PlusVax_Pct_SVI',\n       'Booster_Doses_65PlusVax_Pct_SVI', 'Booster_Doses_Vax_Pct_UR_Equity',\n       'Booster_Doses_12PlusVax_Pct_UR_Equity',\n       'Booster_Doses_18PlusVax_Pct_UR_Equity',\n       'Booster_Doses_65PlusVax_Pct_UR_Equity', 'Census2019',\n       'Census2019_5PlusPop', 'Census2019_5to17Pop', 'Census2019_12PlusPop',\n       'Census2019_18PlusPop', 'Census2019_65PlusPop'],\n      dtype='object')"
     },
     "execution_count": 3,
     "metadata": {},
     "output_type": "execute_result"
    }
   ],
   "source": [
    "vaccinations.columns"
   ],
   "metadata": {
    "collapsed": false,
    "pycharm": {
     "name": "#%%\n"
    }
   }
  },
  {
   "cell_type": "code",
   "execution_count": 10,
   "outputs": [
    {
     "data": {
      "text/plain": "          FIPS SVI_CTGY\n0        02090        B\n1          UNK      NaN\n2        01015        D\n3        05087        C\n4        06087        C\n...        ...      ...\n1723084  27007        D\n1723085  55105        B\n1723086  29017        B\n1723087  48347        D\n1723088  21111        C\n\n[1723089 rows x 2 columns]",
      "text/html": "<div>\n<style scoped>\n    .dataframe tbody tr th:only-of-type {\n        vertical-align: middle;\n    }\n\n    .dataframe tbody tr th {\n        vertical-align: top;\n    }\n\n    .dataframe thead th {\n        text-align: right;\n    }\n</style>\n<table border=\"1\" class=\"dataframe\">\n  <thead>\n    <tr style=\"text-align: right;\">\n      <th></th>\n      <th>FIPS</th>\n      <th>SVI_CTGY</th>\n    </tr>\n  </thead>\n  <tbody>\n    <tr>\n      <th>0</th>\n      <td>02090</td>\n      <td>B</td>\n    </tr>\n    <tr>\n      <th>1</th>\n      <td>UNK</td>\n      <td>NaN</td>\n    </tr>\n    <tr>\n      <th>2</th>\n      <td>01015</td>\n      <td>D</td>\n    </tr>\n    <tr>\n      <th>3</th>\n      <td>05087</td>\n      <td>C</td>\n    </tr>\n    <tr>\n      <th>4</th>\n      <td>06087</td>\n      <td>C</td>\n    </tr>\n    <tr>\n      <th>...</th>\n      <td>...</td>\n      <td>...</td>\n    </tr>\n    <tr>\n      <th>1723084</th>\n      <td>27007</td>\n      <td>D</td>\n    </tr>\n    <tr>\n      <th>1723085</th>\n      <td>55105</td>\n      <td>B</td>\n    </tr>\n    <tr>\n      <th>1723086</th>\n      <td>29017</td>\n      <td>B</td>\n    </tr>\n    <tr>\n      <th>1723087</th>\n      <td>48347</td>\n      <td>D</td>\n    </tr>\n    <tr>\n      <th>1723088</th>\n      <td>21111</td>\n      <td>C</td>\n    </tr>\n  </tbody>\n</table>\n<p>1723089 rows × 2 columns</p>\n</div>"
     },
     "execution_count": 9,
     "metadata": {},
     "output_type": "execute_result"
    }
   ],
   "source": [
    "vaccinations = Vaccinations().load()"
   ],
   "metadata": {
    "collapsed": false,
    "pycharm": {
     "name": "#%%\n"
    }
   }
  },
  {
   "cell_type": "code",
   "execution_count": 18,
   "outputs": [
    {
     "data": {
      "text/plain": "Index(['Date', 'FIPS', 'MMWR_week', 'Recip_County', 'Recip_State',\n       'Completeness_pct', 'Administered_Dose1_Recip',\n       'Administered_Dose1_Pop_Pct', 'Administered_Dose1_Recip_5Plus',\n       'Administered_Dose1_Recip_5PlusPop_Pct',\n       'Administered_Dose1_Recip_12Plus',\n       'Administered_Dose1_Recip_12PlusPop_Pct',\n       'Administered_Dose1_Recip_18Plus',\n       'Administered_Dose1_Recip_18PlusPop_Pct',\n       'Administered_Dose1_Recip_65Plus',\n       'Administered_Dose1_Recip_65PlusPop_Pct', 'Series_Complete_Yes',\n       'Series_Complete_Pop_Pct', 'Series_Complete_5Plus',\n       'Series_Complete_5PlusPop_Pct', 'Series_Complete_5to17',\n       'Series_Complete_5to17Pop_Pct', 'Series_Complete_12Plus',\n       'Series_Complete_12PlusPop_Pct', 'Series_Complete_18Plus',\n       'Series_Complete_18PlusPop_Pct', 'Series_Complete_65Plus',\n       'Series_Complete_65PlusPop_Pct', 'Booster_Doses',\n       'Booster_Doses_Vax_Pct', 'Booster_Doses_12Plus',\n       'Booster_Doses_12Plus_Vax_Pct', 'Booster_Doses_18Plus',\n       'Booster_Doses_18Plus_Vax_Pct', 'Booster_Doses_50Plus',\n       'Booster_Doses_50Plus_Vax_Pct', 'Booster_Doses_65Plus',\n       'Booster_Doses_65Plus_Vax_Pct', 'SVI_CTGY',\n       'Series_Complete_Pop_Pct_SVI', 'Series_Complete_5PlusPop_Pct_SVI',\n       'Series_Complete_5to17Pop_Pct_SVI', 'Series_Complete_12PlusPop_Pct_SVI',\n       'Series_Complete_18PlusPop_Pct_SVI',\n       'Series_Complete_65PlusPop_Pct_SVI', 'Metro_status',\n       'Series_Complete_Pop_Pct_UR_Equity',\n       'Series_Complete_5PlusPop_Pct_UR_Equity',\n       'Series_Complete_5to17Pop_Pct_UR_Equity',\n       'Series_Complete_12PlusPop_Pct_UR_Equity',\n       'Series_Complete_18PlusPop_Pct_UR_Equity',\n       'Series_Complete_65PlusPop_Pct_UR_Equity', 'Booster_Doses_Vax_Pct_SVI',\n       'Booster_Doses_12PlusVax_Pct_SVI', 'Booster_Doses_18PlusVax_Pct_SVI',\n       'Booster_Doses_65PlusVax_Pct_SVI', 'Booster_Doses_Vax_Pct_UR_Equity',\n       'Booster_Doses_12PlusVax_Pct_UR_Equity',\n       'Booster_Doses_18PlusVax_Pct_UR_Equity',\n       'Booster_Doses_65PlusVax_Pct_UR_Equity', 'Census2019',\n       'Census2019_5PlusPop', 'Census2019_5to17Pop', 'Census2019_12PlusPop',\n       'Census2019_18PlusPop', 'Census2019_65PlusPop'],\n      dtype='object')"
     },
     "execution_count": 18,
     "metadata": {},
     "output_type": "execute_result"
    }
   ],
   "source": [
    "vaccinations.columns"
   ],
   "metadata": {
    "collapsed": false,
    "pycharm": {
     "name": "#%%\n"
    }
   }
  },
  {
   "cell_type": "code",
   "execution_count": 15,
   "outputs": [
    {
     "data": {
      "text/plain": "3225"
     },
     "execution_count": 15,
     "metadata": {},
     "output_type": "execute_result"
    }
   ],
   "source": [],
   "metadata": {
    "collapsed": false,
    "pycharm": {
     "name": "#%%\n"
    }
   }
  },
  {
   "cell_type": "code",
   "execution_count": 16,
   "outputs": [
    {
     "data": {
      "text/plain": "              Date   FIPS  MMWR_week                  Recip_County  \\\n0       2022-05-21  02090         20  Fairbanks North Star Borough   \n1       2022-05-21    UNK         20                Unknown County   \n2       2022-05-21  01015         20                Calhoun County   \n3       2022-05-21  05087         20                Madison County   \n4       2022-05-21  06087         20             Santa Cruz County   \n...            ...    ...        ...                           ...   \n1723084 2020-12-13  27007         51               Beltrami County   \n1723085 2020-12-13  55105         51                   Rock County   \n1723086 2020-12-13  29017         51              Bollinger County   \n1723087 2020-12-13  48347         51            Nacogdoches County   \n1723088 2020-12-13  21111         51              Jefferson County   \n\n        Recip_State  Completeness_pct  Administered_Dose1_Recip  \\\n0                AK              97.5                   66199.0   \n1                AK              97.5                   15439.0   \n2                AL              92.5                   65339.0   \n3                AR              90.5                    8382.0   \n4                CA         97.599998                  236526.0   \n...             ...               ...                       ...   \n1723084          MN               0.0                       0.0   \n1723085          WI               0.0                       0.0   \n1723086          MO               0.0                       0.0   \n1723087          TX               0.0                       0.0   \n1723088          KY               0.0                       0.0   \n\n         Administered_Dose1_Pop_Pct  Administered_Dose1_Recip_5Plus  \\\n0                         68.400002                         66169.0   \n1                              <NA>                         15424.0   \n2                              57.5                         65336.0   \n3                         50.599998                          8381.0   \n4                         86.599998                        236214.0   \n...                             ...                             ...   \n1723084                         0.0                            <NA>   \n1723085                         0.0                            <NA>   \n1723086                         0.0                            <NA>   \n1723087                         0.0                            <NA>   \n1723088                         0.0                            <NA>   \n\n         Administered_Dose1_Recip_5PlusPop_Pct  ...  \\\n0                                    73.800003  ...   \n1                                         <NA>  ...   \n2                                         61.0  ...   \n3                                         54.0  ...   \n4                                    90.900002  ...   \n...                                        ...  ...   \n1723084                                   <NA>  ...   \n1723085                                   <NA>  ...   \n1723086                                   <NA>  ...   \n1723087                                   <NA>  ...   \n1723088                                   <NA>  ...   \n\n         Booster_Doses_Vax_Pct_UR_Equity  \\\n0                                    2.0   \n1                                   <NA>   \n2                                    2.0   \n3                                    3.0   \n4                                    4.0   \n...                                  ...   \n1723084                             <NA>   \n1723085                             <NA>   \n1723086                             <NA>   \n1723087                             <NA>   \n1723088                             <NA>   \n\n         Booster_Doses_12PlusVax_Pct_UR_Equity  \\\n0                                          2.0   \n1                                         <NA>   \n2                                          2.0   \n3                                          3.0   \n4                                          4.0   \n...                                        ...   \n1723084                                   <NA>   \n1723085                                   <NA>   \n1723086                                   <NA>   \n1723087                                   <NA>   \n1723088                                   <NA>   \n\n         Booster_Doses_18PlusVax_Pct_UR_Equity  \\\n0                                          2.0   \n1                                         <NA>   \n2                                          2.0   \n3                                          3.0   \n4                                          4.0   \n...                                        ...   \n1723084                                   <NA>   \n1723085                                   <NA>   \n1723086                                   <NA>   \n1723087                                   <NA>   \n1723088                                   <NA>   \n\n         Booster_Doses_65PlusVax_Pct_UR_Equity  Census2019  \\\n0                                          3.0       96849   \n1                                         <NA>        <NA>   \n2                                          2.0      113605   \n3                                          2.0       16576   \n4                                          3.0      273213   \n...                                        ...         ...   \n1723084                                   <NA>       47188   \n1723085                                   <NA>      163354   \n1723086                                   <NA>       12133   \n1723087                                   <NA>       65204   \n1723088                                   <NA>      766757   \n\n         Census2019_5PlusPop  Census2019_5to17Pop  Census2019_12PlusPop  \\\n0                      89670                15825                 80563   \n1                       <NA>                 <NA>                  <NA>   \n2                     107037                17905                 97757   \n3                      15527                 2800                 14093   \n4                     259767                38453                239473   \n...                      ...                  ...                   ...   \n1723084                 <NA>                 <NA>                 39001   \n1723085                 <NA>                 <NA>                139259   \n1723086                 <NA>                 <NA>                 10467   \n1723087                 <NA>                 <NA>                 55079   \n1723088                 <NA>                 <NA>                654094   \n\n         Census2019_18PlusPop  Census2019_65PlusPop  \n0                       73845                 10828  \n1                        <NA>                  <NA>  \n2                       89132                 20547  \n3                       12727                  3211  \n4                      221314                 47217  \n...                       ...                   ...  \n1723084                 35342                  <NA>  \n1723085                125952                  <NA>  \n1723086                  9561                  <NA>  \n1723087                 50203                  <NA>  \n1723088                598182                  <NA>  \n\n[1723089 rows x 66 columns]",
      "text/html": "<div>\n<style scoped>\n    .dataframe tbody tr th:only-of-type {\n        vertical-align: middle;\n    }\n\n    .dataframe tbody tr th {\n        vertical-align: top;\n    }\n\n    .dataframe thead th {\n        text-align: right;\n    }\n</style>\n<table border=\"1\" class=\"dataframe\">\n  <thead>\n    <tr style=\"text-align: right;\">\n      <th></th>\n      <th>Date</th>\n      <th>FIPS</th>\n      <th>MMWR_week</th>\n      <th>Recip_County</th>\n      <th>Recip_State</th>\n      <th>Completeness_pct</th>\n      <th>Administered_Dose1_Recip</th>\n      <th>Administered_Dose1_Pop_Pct</th>\n      <th>Administered_Dose1_Recip_5Plus</th>\n      <th>Administered_Dose1_Recip_5PlusPop_Pct</th>\n      <th>...</th>\n      <th>Booster_Doses_Vax_Pct_UR_Equity</th>\n      <th>Booster_Doses_12PlusVax_Pct_UR_Equity</th>\n      <th>Booster_Doses_18PlusVax_Pct_UR_Equity</th>\n      <th>Booster_Doses_65PlusVax_Pct_UR_Equity</th>\n      <th>Census2019</th>\n      <th>Census2019_5PlusPop</th>\n      <th>Census2019_5to17Pop</th>\n      <th>Census2019_12PlusPop</th>\n      <th>Census2019_18PlusPop</th>\n      <th>Census2019_65PlusPop</th>\n    </tr>\n  </thead>\n  <tbody>\n    <tr>\n      <th>0</th>\n      <td>2022-05-21</td>\n      <td>02090</td>\n      <td>20</td>\n      <td>Fairbanks North Star Borough</td>\n      <td>AK</td>\n      <td>97.5</td>\n      <td>66199.0</td>\n      <td>68.400002</td>\n      <td>66169.0</td>\n      <td>73.800003</td>\n      <td>...</td>\n      <td>2.0</td>\n      <td>2.0</td>\n      <td>2.0</td>\n      <td>3.0</td>\n      <td>96849</td>\n      <td>89670</td>\n      <td>15825</td>\n      <td>80563</td>\n      <td>73845</td>\n      <td>10828</td>\n    </tr>\n    <tr>\n      <th>1</th>\n      <td>2022-05-21</td>\n      <td>UNK</td>\n      <td>20</td>\n      <td>Unknown County</td>\n      <td>AK</td>\n      <td>97.5</td>\n      <td>15439.0</td>\n      <td>&lt;NA&gt;</td>\n      <td>15424.0</td>\n      <td>&lt;NA&gt;</td>\n      <td>...</td>\n      <td>&lt;NA&gt;</td>\n      <td>&lt;NA&gt;</td>\n      <td>&lt;NA&gt;</td>\n      <td>&lt;NA&gt;</td>\n      <td>&lt;NA&gt;</td>\n      <td>&lt;NA&gt;</td>\n      <td>&lt;NA&gt;</td>\n      <td>&lt;NA&gt;</td>\n      <td>&lt;NA&gt;</td>\n      <td>&lt;NA&gt;</td>\n    </tr>\n    <tr>\n      <th>2</th>\n      <td>2022-05-21</td>\n      <td>01015</td>\n      <td>20</td>\n      <td>Calhoun County</td>\n      <td>AL</td>\n      <td>92.5</td>\n      <td>65339.0</td>\n      <td>57.5</td>\n      <td>65336.0</td>\n      <td>61.0</td>\n      <td>...</td>\n      <td>2.0</td>\n      <td>2.0</td>\n      <td>2.0</td>\n      <td>2.0</td>\n      <td>113605</td>\n      <td>107037</td>\n      <td>17905</td>\n      <td>97757</td>\n      <td>89132</td>\n      <td>20547</td>\n    </tr>\n    <tr>\n      <th>3</th>\n      <td>2022-05-21</td>\n      <td>05087</td>\n      <td>20</td>\n      <td>Madison County</td>\n      <td>AR</td>\n      <td>90.5</td>\n      <td>8382.0</td>\n      <td>50.599998</td>\n      <td>8381.0</td>\n      <td>54.0</td>\n      <td>...</td>\n      <td>3.0</td>\n      <td>3.0</td>\n      <td>3.0</td>\n      <td>2.0</td>\n      <td>16576</td>\n      <td>15527</td>\n      <td>2800</td>\n      <td>14093</td>\n      <td>12727</td>\n      <td>3211</td>\n    </tr>\n    <tr>\n      <th>4</th>\n      <td>2022-05-21</td>\n      <td>06087</td>\n      <td>20</td>\n      <td>Santa Cruz County</td>\n      <td>CA</td>\n      <td>97.599998</td>\n      <td>236526.0</td>\n      <td>86.599998</td>\n      <td>236214.0</td>\n      <td>90.900002</td>\n      <td>...</td>\n      <td>4.0</td>\n      <td>4.0</td>\n      <td>4.0</td>\n      <td>3.0</td>\n      <td>273213</td>\n      <td>259767</td>\n      <td>38453</td>\n      <td>239473</td>\n      <td>221314</td>\n      <td>47217</td>\n    </tr>\n    <tr>\n      <th>...</th>\n      <td>...</td>\n      <td>...</td>\n      <td>...</td>\n      <td>...</td>\n      <td>...</td>\n      <td>...</td>\n      <td>...</td>\n      <td>...</td>\n      <td>...</td>\n      <td>...</td>\n      <td>...</td>\n      <td>...</td>\n      <td>...</td>\n      <td>...</td>\n      <td>...</td>\n      <td>...</td>\n      <td>...</td>\n      <td>...</td>\n      <td>...</td>\n      <td>...</td>\n      <td>...</td>\n    </tr>\n    <tr>\n      <th>1723084</th>\n      <td>2020-12-13</td>\n      <td>27007</td>\n      <td>51</td>\n      <td>Beltrami County</td>\n      <td>MN</td>\n      <td>0.0</td>\n      <td>0.0</td>\n      <td>0.0</td>\n      <td>&lt;NA&gt;</td>\n      <td>&lt;NA&gt;</td>\n      <td>...</td>\n      <td>&lt;NA&gt;</td>\n      <td>&lt;NA&gt;</td>\n      <td>&lt;NA&gt;</td>\n      <td>&lt;NA&gt;</td>\n      <td>47188</td>\n      <td>&lt;NA&gt;</td>\n      <td>&lt;NA&gt;</td>\n      <td>39001</td>\n      <td>35342</td>\n      <td>&lt;NA&gt;</td>\n    </tr>\n    <tr>\n      <th>1723085</th>\n      <td>2020-12-13</td>\n      <td>55105</td>\n      <td>51</td>\n      <td>Rock County</td>\n      <td>WI</td>\n      <td>0.0</td>\n      <td>0.0</td>\n      <td>0.0</td>\n      <td>&lt;NA&gt;</td>\n      <td>&lt;NA&gt;</td>\n      <td>...</td>\n      <td>&lt;NA&gt;</td>\n      <td>&lt;NA&gt;</td>\n      <td>&lt;NA&gt;</td>\n      <td>&lt;NA&gt;</td>\n      <td>163354</td>\n      <td>&lt;NA&gt;</td>\n      <td>&lt;NA&gt;</td>\n      <td>139259</td>\n      <td>125952</td>\n      <td>&lt;NA&gt;</td>\n    </tr>\n    <tr>\n      <th>1723086</th>\n      <td>2020-12-13</td>\n      <td>29017</td>\n      <td>51</td>\n      <td>Bollinger County</td>\n      <td>MO</td>\n      <td>0.0</td>\n      <td>0.0</td>\n      <td>0.0</td>\n      <td>&lt;NA&gt;</td>\n      <td>&lt;NA&gt;</td>\n      <td>...</td>\n      <td>&lt;NA&gt;</td>\n      <td>&lt;NA&gt;</td>\n      <td>&lt;NA&gt;</td>\n      <td>&lt;NA&gt;</td>\n      <td>12133</td>\n      <td>&lt;NA&gt;</td>\n      <td>&lt;NA&gt;</td>\n      <td>10467</td>\n      <td>9561</td>\n      <td>&lt;NA&gt;</td>\n    </tr>\n    <tr>\n      <th>1723087</th>\n      <td>2020-12-13</td>\n      <td>48347</td>\n      <td>51</td>\n      <td>Nacogdoches County</td>\n      <td>TX</td>\n      <td>0.0</td>\n      <td>0.0</td>\n      <td>0.0</td>\n      <td>&lt;NA&gt;</td>\n      <td>&lt;NA&gt;</td>\n      <td>...</td>\n      <td>&lt;NA&gt;</td>\n      <td>&lt;NA&gt;</td>\n      <td>&lt;NA&gt;</td>\n      <td>&lt;NA&gt;</td>\n      <td>65204</td>\n      <td>&lt;NA&gt;</td>\n      <td>&lt;NA&gt;</td>\n      <td>55079</td>\n      <td>50203</td>\n      <td>&lt;NA&gt;</td>\n    </tr>\n    <tr>\n      <th>1723088</th>\n      <td>2020-12-13</td>\n      <td>21111</td>\n      <td>51</td>\n      <td>Jefferson County</td>\n      <td>KY</td>\n      <td>0.0</td>\n      <td>0.0</td>\n      <td>0.0</td>\n      <td>&lt;NA&gt;</td>\n      <td>&lt;NA&gt;</td>\n      <td>...</td>\n      <td>&lt;NA&gt;</td>\n      <td>&lt;NA&gt;</td>\n      <td>&lt;NA&gt;</td>\n      <td>&lt;NA&gt;</td>\n      <td>766757</td>\n      <td>&lt;NA&gt;</td>\n      <td>&lt;NA&gt;</td>\n      <td>654094</td>\n      <td>598182</td>\n      <td>&lt;NA&gt;</td>\n    </tr>\n  </tbody>\n</table>\n<p>1723089 rows × 66 columns</p>\n</div>"
     },
     "execution_count": 16,
     "metadata": {},
     "output_type": "execute_result"
    }
   ],
   "source": [
    "vaccinations"
   ],
   "metadata": {
    "collapsed": false,
    "pycharm": {
     "name": "#%%\n"
    }
   }
  },
  {
   "cell_type": "code",
   "execution_count": 17,
   "outputs": [
    {
     "data": {
      "text/plain": "  SVI_CTGY\n0        B\n1      NaN\n2        D\n3        C\n7        A",
      "text/html": "<div>\n<style scoped>\n    .dataframe tbody tr th:only-of-type {\n        vertical-align: middle;\n    }\n\n    .dataframe tbody tr th {\n        vertical-align: top;\n    }\n\n    .dataframe thead th {\n        text-align: right;\n    }\n</style>\n<table border=\"1\" class=\"dataframe\">\n  <thead>\n    <tr style=\"text-align: right;\">\n      <th></th>\n      <th>SVI_CTGY</th>\n    </tr>\n  </thead>\n  <tbody>\n    <tr>\n      <th>0</th>\n      <td>B</td>\n    </tr>\n    <tr>\n      <th>1</th>\n      <td>NaN</td>\n    </tr>\n    <tr>\n      <th>2</th>\n      <td>D</td>\n    </tr>\n    <tr>\n      <th>3</th>\n      <td>C</td>\n    </tr>\n    <tr>\n      <th>7</th>\n      <td>A</td>\n    </tr>\n  </tbody>\n</table>\n</div>"
     },
     "execution_count": 17,
     "metadata": {},
     "output_type": "execute_result"
    }
   ],
   "source": [
    "vaccinations[[\"SVI_CTGY\"]].drop_duplicates()"
   ],
   "metadata": {
    "collapsed": false,
    "pycharm": {
     "name": "#%%\n"
    }
   }
  },
  {
   "cell_type": "code",
   "execution_count": null,
   "outputs": [],
   "source": [],
   "metadata": {
    "collapsed": false,
    "pycharm": {
     "name": "#%%\n"
    }
   }
  }
 ],
 "metadata": {
  "kernelspec": {
   "display_name": "Python 3",
   "language": "python",
   "name": "python3"
  },
  "language_info": {
   "codemirror_mode": {
    "name": "ipython",
    "version": 2
   },
   "file_extension": ".py",
   "mimetype": "text/x-python",
   "name": "python",
   "nbconvert_exporter": "python",
   "pygments_lexer": "ipython2",
   "version": "2.7.6"
  }
 },
 "nbformat": 4,
 "nbformat_minor": 0
}
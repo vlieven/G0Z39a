{
 "cells": [
  {
   "cell_type": "code",
   "execution_count": 1,
   "metadata": {
    "collapsed": true
   },
   "outputs": [],
   "source": [
    "from nepal.datasets import NYTimes, Vaccinations, CountyDistance"
   ]
  },
  {
   "cell_type": "code",
   "execution_count": 2,
   "outputs": [],
   "source": [
    "descriptor = CountyDistance(radius=100)\n",
    "descriptor.collect()"
   ],
   "metadata": {
    "collapsed": false,
    "pycharm": {
     "name": "#%%\n"
    }
   }
  },
  {
   "cell_type": "code",
   "execution_count": 3,
   "outputs": [
    {
     "data": {
      "text/plain": "       county1  mi_to_county county2\n0        01001     22.462994   01021\n1        01001     26.844687   01085\n2        01001     29.517586   01051\n3        01001     30.776371   01047\n4        01001     34.493443   01101\n...        ...           ...     ...\n147151   72153     74.195923   72103\n147152   72153     77.837814   72089\n147153   72153     85.874054   72053\n147154   72153     88.087677   72037\n147155   72153     93.659508   72147\n\n[147156 rows x 3 columns]",
      "text/html": "<div>\n<style scoped>\n    .dataframe tbody tr th:only-of-type {\n        vertical-align: middle;\n    }\n\n    .dataframe tbody tr th {\n        vertical-align: top;\n    }\n\n    .dataframe thead th {\n        text-align: right;\n    }\n</style>\n<table border=\"1\" class=\"dataframe\">\n  <thead>\n    <tr style=\"text-align: right;\">\n      <th></th>\n      <th>county1</th>\n      <th>mi_to_county</th>\n      <th>county2</th>\n    </tr>\n  </thead>\n  <tbody>\n    <tr>\n      <th>0</th>\n      <td>01001</td>\n      <td>22.462994</td>\n      <td>01021</td>\n    </tr>\n    <tr>\n      <th>1</th>\n      <td>01001</td>\n      <td>26.844687</td>\n      <td>01085</td>\n    </tr>\n    <tr>\n      <th>2</th>\n      <td>01001</td>\n      <td>29.517586</td>\n      <td>01051</td>\n    </tr>\n    <tr>\n      <th>3</th>\n      <td>01001</td>\n      <td>30.776371</td>\n      <td>01047</td>\n    </tr>\n    <tr>\n      <th>4</th>\n      <td>01001</td>\n      <td>34.493443</td>\n      <td>01101</td>\n    </tr>\n    <tr>\n      <th>...</th>\n      <td>...</td>\n      <td>...</td>\n      <td>...</td>\n    </tr>\n    <tr>\n      <th>147151</th>\n      <td>72153</td>\n      <td>74.195923</td>\n      <td>72103</td>\n    </tr>\n    <tr>\n      <th>147152</th>\n      <td>72153</td>\n      <td>77.837814</td>\n      <td>72089</td>\n    </tr>\n    <tr>\n      <th>147153</th>\n      <td>72153</td>\n      <td>85.874054</td>\n      <td>72053</td>\n    </tr>\n    <tr>\n      <th>147154</th>\n      <td>72153</td>\n      <td>88.087677</td>\n      <td>72037</td>\n    </tr>\n    <tr>\n      <th>147155</th>\n      <td>72153</td>\n      <td>93.659508</td>\n      <td>72147</td>\n    </tr>\n  </tbody>\n</table>\n<p>147156 rows × 3 columns</p>\n</div>"
     },
     "execution_count": 3,
     "metadata": {},
     "output_type": "execute_result"
    }
   ],
   "source": [
    "data = descriptor.load()\n",
    "data"
   ],
   "metadata": {
    "collapsed": false,
    "pycharm": {
     "name": "#%%\n"
    }
   }
  },
  {
   "cell_type": "code",
   "execution_count": 4,
   "outputs": [
    {
     "data": {
      "text/plain": "county1          string\nmi_to_county    Float32\ncounty2          string\ndtype: object"
     },
     "execution_count": 4,
     "metadata": {},
     "output_type": "execute_result"
    }
   ],
   "source": [
    "data.dtypes"
   ],
   "metadata": {
    "collapsed": false,
    "pycharm": {
     "name": "#%%\n"
    }
   }
  },
  {
   "cell_type": "code",
   "execution_count": null,
   "outputs": [],
   "source": [],
   "metadata": {
    "collapsed": false,
    "pycharm": {
     "name": "#%%\n"
    }
   }
  }
 ],
 "metadata": {
  "kernelspec": {
   "display_name": "Python 3",
   "language": "python",
   "name": "python3"
  },
  "language_info": {
   "codemirror_mode": {
    "name": "ipython",
    "version": 2
   },
   "file_extension": ".py",
   "mimetype": "text/x-python",
   "name": "python",
   "nbconvert_exporter": "python",
   "pygments_lexer": "ipython2",
   "version": "2.7.6"
  }
 },
 "nbformat": 4,
 "nbformat_minor": 0
}
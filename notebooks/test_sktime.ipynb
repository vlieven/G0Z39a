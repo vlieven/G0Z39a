{
 "cells": [
  {
   "cell_type": "code",
   "execution_count": 1,
   "outputs": [],
   "source": [
    "import numpy as np\n",
    "import pandas as pd\n",
    "\n",
    "from typing import Sequence, Iterable\n",
    "\n",
    "from nepal.datasets import NYTimes"
   ],
   "metadata": {
    "collapsed": false,
    "pycharm": {
     "name": "#%%\n"
    }
   }
  },
  {
   "cell_type": "code",
   "execution_count": 2,
   "outputs": [
    {
     "data": {
      "text/plain": "                      county           state  cases  deaths\nfips  date                                                 \n01001 2020-01-21     Autauga         Alabama      0       0\n      2020-01-22     Autauga         Alabama      0       0\n      2020-01-23     Autauga         Alabama      0       0\n      2020-01-24     Autauga         Alabama      0       0\n      2020-01-25     Autauga         Alabama      0       0\n...                      ...             ...    ...     ...\n78030 2022-04-07  St. Thomas  Virgin Islands   7206      59\n      2022-04-08  St. Thomas  Virgin Islands   7219      59\n      2022-04-09  St. Thomas  Virgin Islands   7219      59\n      2022-04-10  St. Thomas  Virgin Islands   7219      59\n      2022-04-11  St. Thomas  Virgin Islands   7219      59\n\n[2614640 rows x 4 columns]",
      "text/html": "<div>\n<style scoped>\n    .dataframe tbody tr th:only-of-type {\n        vertical-align: middle;\n    }\n\n    .dataframe tbody tr th {\n        vertical-align: top;\n    }\n\n    .dataframe thead th {\n        text-align: right;\n    }\n</style>\n<table border=\"1\" class=\"dataframe\">\n  <thead>\n    <tr style=\"text-align: right;\">\n      <th></th>\n      <th></th>\n      <th>county</th>\n      <th>state</th>\n      <th>cases</th>\n      <th>deaths</th>\n    </tr>\n    <tr>\n      <th>fips</th>\n      <th>date</th>\n      <th></th>\n      <th></th>\n      <th></th>\n      <th></th>\n    </tr>\n  </thead>\n  <tbody>\n    <tr>\n      <th rowspan=\"5\" valign=\"top\">01001</th>\n      <th>2020-01-21</th>\n      <td>Autauga</td>\n      <td>Alabama</td>\n      <td>0</td>\n      <td>0</td>\n    </tr>\n    <tr>\n      <th>2020-01-22</th>\n      <td>Autauga</td>\n      <td>Alabama</td>\n      <td>0</td>\n      <td>0</td>\n    </tr>\n    <tr>\n      <th>2020-01-23</th>\n      <td>Autauga</td>\n      <td>Alabama</td>\n      <td>0</td>\n      <td>0</td>\n    </tr>\n    <tr>\n      <th>2020-01-24</th>\n      <td>Autauga</td>\n      <td>Alabama</td>\n      <td>0</td>\n      <td>0</td>\n    </tr>\n    <tr>\n      <th>2020-01-25</th>\n      <td>Autauga</td>\n      <td>Alabama</td>\n      <td>0</td>\n      <td>0</td>\n    </tr>\n    <tr>\n      <th>...</th>\n      <th>...</th>\n      <td>...</td>\n      <td>...</td>\n      <td>...</td>\n      <td>...</td>\n    </tr>\n    <tr>\n      <th rowspan=\"5\" valign=\"top\">78030</th>\n      <th>2022-04-07</th>\n      <td>St. Thomas</td>\n      <td>Virgin Islands</td>\n      <td>7206</td>\n      <td>59</td>\n    </tr>\n    <tr>\n      <th>2022-04-08</th>\n      <td>St. Thomas</td>\n      <td>Virgin Islands</td>\n      <td>7219</td>\n      <td>59</td>\n    </tr>\n    <tr>\n      <th>2022-04-09</th>\n      <td>St. Thomas</td>\n      <td>Virgin Islands</td>\n      <td>7219</td>\n      <td>59</td>\n    </tr>\n    <tr>\n      <th>2022-04-10</th>\n      <td>St. Thomas</td>\n      <td>Virgin Islands</td>\n      <td>7219</td>\n      <td>59</td>\n    </tr>\n    <tr>\n      <th>2022-04-11</th>\n      <td>St. Thomas</td>\n      <td>Virgin Islands</td>\n      <td>7219</td>\n      <td>59</td>\n    </tr>\n  </tbody>\n</table>\n<p>2614640 rows × 4 columns</p>\n</div>"
     },
     "execution_count": 2,
     "metadata": {},
     "output_type": "execute_result"
    }
   ],
   "source": [
    "df_covid = NYTimes().load()\n",
    "\n",
    "\n",
    "def fill_index(df: pd.DataFrame, names: Sequence[str]) -> pd.DataFrame:\n",
    "    return df.pipe(_complete_index, names=names).pipe(_fill_na)\n",
    "\n",
    "\n",
    "def _complete_index(df: pd.DataFrame, names: Sequence[str]) -> pd.DataFrame:\n",
    "    dates: pd.Index = df.index.get_level_values(\"date\")\n",
    "\n",
    "    labels = {\n",
    "        \"fips\": df.index.get_level_values(\"fips\").unique(),\n",
    "        \"date\": pd.date_range(start=dates.min(), end=dates.max(), freq=\"D\"),\n",
    "    }\n",
    "\n",
    "    complete: pd.MultiIndex = pd.MultiIndex.from_product(\n",
    "        [labels[names[0]], labels[names[1]]], names=names\n",
    "    )\n",
    "\n",
    "    return df.reindex(complete)\n",
    "\n",
    "\n",
    "def _fill_na(df: pd.DataFrame) -> pd.DataFrame:\n",
    "    return df.assign(\n",
    "        county=df.county.bfill(),\n",
    "        state=df.state.bfill(),\n",
    "        cases=df.cases.fillna(0),\n",
    "        deaths=df.deaths.fillna(0),\n",
    "    )\n",
    "\n",
    "\n",
    "# Important: date index must be last\n",
    "index = [\"fips\", \"date\"]\n",
    "df = (\n",
    "    df_covid.dropna(subset=index)\n",
    "    .set_index(index)\n",
    "    .pipe(fill_index, names=index)\n",
    "    .sort_index(level=index)\n",
    ")\n",
    "\n",
    "df"
   ],
   "metadata": {
    "collapsed": false,
    "pycharm": {
     "name": "#%%\n"
    }
   }
  },
  {
   "cell_type": "code",
   "execution_count": 3,
   "outputs": [
    {
     "data": {
      "text/plain": "                      county           state  cases  deaths  new_cases  \\\nfips  date                                                               \n01001 2020-01-21     Autauga         Alabama      0       0          0   \n      2020-01-22     Autauga         Alabama      0       0          0   \n      2020-01-23     Autauga         Alabama      0       0          0   \n      2020-01-24     Autauga         Alabama      0       0          0   \n      2020-01-25     Autauga         Alabama      0       0          0   \n...                      ...             ...    ...     ...        ...   \n78030 2022-04-07  St. Thomas  Virgin Islands   7206      59          7   \n      2022-04-08  St. Thomas  Virgin Islands   7219      59         13   \n      2022-04-09  St. Thomas  Virgin Islands   7219      59          0   \n      2022-04-10  St. Thomas  Virgin Islands   7219      59          0   \n      2022-04-11  St. Thomas  Virgin Islands   7219      59          0   \n\n                  new_deaths  \nfips  date                    \n01001 2020-01-21           0  \n      2020-01-22           0  \n      2020-01-23           0  \n      2020-01-24           0  \n      2020-01-25           0  \n...                      ...  \n78030 2022-04-07           0  \n      2022-04-08           0  \n      2022-04-09           0  \n      2022-04-10           0  \n      2022-04-11           0  \n\n[2614640 rows x 6 columns]",
      "text/html": "<div>\n<style scoped>\n    .dataframe tbody tr th:only-of-type {\n        vertical-align: middle;\n    }\n\n    .dataframe tbody tr th {\n        vertical-align: top;\n    }\n\n    .dataframe thead th {\n        text-align: right;\n    }\n</style>\n<table border=\"1\" class=\"dataframe\">\n  <thead>\n    <tr style=\"text-align: right;\">\n      <th></th>\n      <th></th>\n      <th>county</th>\n      <th>state</th>\n      <th>cases</th>\n      <th>deaths</th>\n      <th>new_cases</th>\n      <th>new_deaths</th>\n    </tr>\n    <tr>\n      <th>fips</th>\n      <th>date</th>\n      <th></th>\n      <th></th>\n      <th></th>\n      <th></th>\n      <th></th>\n      <th></th>\n    </tr>\n  </thead>\n  <tbody>\n    <tr>\n      <th rowspan=\"5\" valign=\"top\">01001</th>\n      <th>2020-01-21</th>\n      <td>Autauga</td>\n      <td>Alabama</td>\n      <td>0</td>\n      <td>0</td>\n      <td>0</td>\n      <td>0</td>\n    </tr>\n    <tr>\n      <th>2020-01-22</th>\n      <td>Autauga</td>\n      <td>Alabama</td>\n      <td>0</td>\n      <td>0</td>\n      <td>0</td>\n      <td>0</td>\n    </tr>\n    <tr>\n      <th>2020-01-23</th>\n      <td>Autauga</td>\n      <td>Alabama</td>\n      <td>0</td>\n      <td>0</td>\n      <td>0</td>\n      <td>0</td>\n    </tr>\n    <tr>\n      <th>2020-01-24</th>\n      <td>Autauga</td>\n      <td>Alabama</td>\n      <td>0</td>\n      <td>0</td>\n      <td>0</td>\n      <td>0</td>\n    </tr>\n    <tr>\n      <th>2020-01-25</th>\n      <td>Autauga</td>\n      <td>Alabama</td>\n      <td>0</td>\n      <td>0</td>\n      <td>0</td>\n      <td>0</td>\n    </tr>\n    <tr>\n      <th>...</th>\n      <th>...</th>\n      <td>...</td>\n      <td>...</td>\n      <td>...</td>\n      <td>...</td>\n      <td>...</td>\n      <td>...</td>\n    </tr>\n    <tr>\n      <th rowspan=\"5\" valign=\"top\">78030</th>\n      <th>2022-04-07</th>\n      <td>St. Thomas</td>\n      <td>Virgin Islands</td>\n      <td>7206</td>\n      <td>59</td>\n      <td>7</td>\n      <td>0</td>\n    </tr>\n    <tr>\n      <th>2022-04-08</th>\n      <td>St. Thomas</td>\n      <td>Virgin Islands</td>\n      <td>7219</td>\n      <td>59</td>\n      <td>13</td>\n      <td>0</td>\n    </tr>\n    <tr>\n      <th>2022-04-09</th>\n      <td>St. Thomas</td>\n      <td>Virgin Islands</td>\n      <td>7219</td>\n      <td>59</td>\n      <td>0</td>\n      <td>0</td>\n    </tr>\n    <tr>\n      <th>2022-04-10</th>\n      <td>St. Thomas</td>\n      <td>Virgin Islands</td>\n      <td>7219</td>\n      <td>59</td>\n      <td>0</td>\n      <td>0</td>\n    </tr>\n    <tr>\n      <th>2022-04-11</th>\n      <td>St. Thomas</td>\n      <td>Virgin Islands</td>\n      <td>7219</td>\n      <td>59</td>\n      <td>0</td>\n      <td>0</td>\n    </tr>\n  </tbody>\n</table>\n<p>2614640 rows × 6 columns</p>\n</div>"
     },
     "execution_count": 3,
     "metadata": {},
     "output_type": "execute_result"
    }
   ],
   "source": [
    "def cast_types_as_signed(df: pd.DataFrame, cols: Iterable[str]) -> pd.DataFrame:\n",
    "    return df.astype({col: \"int64\" for col in cols})\n",
    "\n",
    "\n",
    "def calculate_new(df: pd.DataFrame, cols: Iterable[str]) -> pd.DataFrame:\n",
    "    for col in cols:\n",
    "        df[f\"new_{col}\"] = df[col].diff().fillna(0).clip(lower=0).astype(\"int64\")\n",
    "    return df\n",
    "\n",
    "\n",
    "targets = [\"cases\", \"deaths\"]\n",
    "df = df.pipe(cast_types_as_signed, cols=targets).pipe(calculate_new, cols=targets)\n",
    "\n",
    "df"
   ],
   "metadata": {
    "collapsed": false,
    "pycharm": {
     "name": "#%%\n"
    }
   }
  },
  {
   "cell_type": "code",
   "execution_count": 4,
   "outputs": [
    {
     "data": {
      "text/plain": "                      county           state  cases  deaths  new_cases  \\\nfips  date                                                               \n01001 2020-01-21     Autauga         Alabama      0       0          0   \n      2020-01-22     Autauga         Alabama      0       0          0   \n      2020-01-23     Autauga         Alabama      0       0          0   \n      2020-01-24     Autauga         Alabama      0       0          0   \n      2020-01-25     Autauga         Alabama      0       0          0   \n...                      ...             ...    ...     ...        ...   \n78030 2020-01-28  St. Thomas  Virgin Islands      0       0          0   \n      2020-01-29  St. Thomas  Virgin Islands      0       0          0   \n      2020-01-30  St. Thomas  Virgin Islands      0       0          0   \n      2020-01-31  St. Thomas  Virgin Islands      0       0          0   \n      2020-02-01  St. Thomas  Virgin Islands      0       0          0   \n\n                  new_deaths  \nfips  date                    \n01001 2020-01-21           0  \n      2020-01-22           0  \n      2020-01-23           0  \n      2020-01-24           0  \n      2020-01-25           0  \n...                      ...  \n78030 2020-01-28           0  \n      2020-01-29           0  \n      2020-01-30           0  \n      2020-01-31           0  \n      2020-02-01           0  \n\n[38640 rows x 6 columns]",
      "text/html": "<div>\n<style scoped>\n    .dataframe tbody tr th:only-of-type {\n        vertical-align: middle;\n    }\n\n    .dataframe tbody tr th {\n        vertical-align: top;\n    }\n\n    .dataframe thead th {\n        text-align: right;\n    }\n</style>\n<table border=\"1\" class=\"dataframe\">\n  <thead>\n    <tr style=\"text-align: right;\">\n      <th></th>\n      <th></th>\n      <th>county</th>\n      <th>state</th>\n      <th>cases</th>\n      <th>deaths</th>\n      <th>new_cases</th>\n      <th>new_deaths</th>\n    </tr>\n    <tr>\n      <th>fips</th>\n      <th>date</th>\n      <th></th>\n      <th></th>\n      <th></th>\n      <th></th>\n      <th></th>\n      <th></th>\n    </tr>\n  </thead>\n  <tbody>\n    <tr>\n      <th rowspan=\"5\" valign=\"top\">01001</th>\n      <th>2020-01-21</th>\n      <td>Autauga</td>\n      <td>Alabama</td>\n      <td>0</td>\n      <td>0</td>\n      <td>0</td>\n      <td>0</td>\n    </tr>\n    <tr>\n      <th>2020-01-22</th>\n      <td>Autauga</td>\n      <td>Alabama</td>\n      <td>0</td>\n      <td>0</td>\n      <td>0</td>\n      <td>0</td>\n    </tr>\n    <tr>\n      <th>2020-01-23</th>\n      <td>Autauga</td>\n      <td>Alabama</td>\n      <td>0</td>\n      <td>0</td>\n      <td>0</td>\n      <td>0</td>\n    </tr>\n    <tr>\n      <th>2020-01-24</th>\n      <td>Autauga</td>\n      <td>Alabama</td>\n      <td>0</td>\n      <td>0</td>\n      <td>0</td>\n      <td>0</td>\n    </tr>\n    <tr>\n      <th>2020-01-25</th>\n      <td>Autauga</td>\n      <td>Alabama</td>\n      <td>0</td>\n      <td>0</td>\n      <td>0</td>\n      <td>0</td>\n    </tr>\n    <tr>\n      <th>...</th>\n      <th>...</th>\n      <td>...</td>\n      <td>...</td>\n      <td>...</td>\n      <td>...</td>\n      <td>...</td>\n      <td>...</td>\n    </tr>\n    <tr>\n      <th rowspan=\"5\" valign=\"top\">78030</th>\n      <th>2020-01-28</th>\n      <td>St. Thomas</td>\n      <td>Virgin Islands</td>\n      <td>0</td>\n      <td>0</td>\n      <td>0</td>\n      <td>0</td>\n    </tr>\n    <tr>\n      <th>2020-01-29</th>\n      <td>St. Thomas</td>\n      <td>Virgin Islands</td>\n      <td>0</td>\n      <td>0</td>\n      <td>0</td>\n      <td>0</td>\n    </tr>\n    <tr>\n      <th>2020-01-30</th>\n      <td>St. Thomas</td>\n      <td>Virgin Islands</td>\n      <td>0</td>\n      <td>0</td>\n      <td>0</td>\n      <td>0</td>\n    </tr>\n    <tr>\n      <th>2020-01-31</th>\n      <td>St. Thomas</td>\n      <td>Virgin Islands</td>\n      <td>0</td>\n      <td>0</td>\n      <td>0</td>\n      <td>0</td>\n    </tr>\n    <tr>\n      <th>2020-02-01</th>\n      <td>St. Thomas</td>\n      <td>Virgin Islands</td>\n      <td>0</td>\n      <td>0</td>\n      <td>0</td>\n      <td>0</td>\n    </tr>\n  </tbody>\n</table>\n<p>38640 rows × 6 columns</p>\n</div>"
     },
     "execution_count": 4,
     "metadata": {},
     "output_type": "execute_result"
    }
   ],
   "source": [
    "# Test how we can correctly index a multiindex\n",
    "df.loc[pd.IndexSlice[:, \"2020-01-21\":\"2020-02-01\"], :]"
   ],
   "metadata": {
    "collapsed": false,
    "pycharm": {
     "name": "#%%\n"
    }
   }
  },
  {
   "cell_type": "code",
   "execution_count": 208,
   "outputs": [],
   "source": [
    "import lightgbm as lgb\n",
    "from sktime.forecasting.compose import RecursiveTabularRegressionForecaster\n",
    "\n",
    "forecaster = RecursiveTabularRegressionForecaster(\n",
    "    estimator=lgb.LGBMRegressor(),\n",
    "    window_length=30,\n",
    ")"
   ],
   "metadata": {
    "collapsed": false,
    "pycharm": {
     "name": "#%%\n"
    }
   }
  },
  {
   "cell_type": "code",
   "execution_count": 209,
   "outputs": [],
   "source": [
    "from typing import Tuple\n",
    "\n",
    "from sktime.forecasting.base import ForecastingHorizon\n",
    "from sktime.forecasting.model_selection import SlidingWindowSplitter\n",
    "\n",
    "fh = ForecastingHorizon(list(range(1, 15)))\n",
    "cv = SlidingWindowSplitter(window_length=60, step_length=60, fh=fh)\n",
    "\n",
    "\n",
    "def get_windows(df: pd.DataFrame) -> Tuple[pd.DataFrame]:\n",
    "    for train, test in cv.split(df):\n",
    "        yield df.iloc[train], df.iloc[test]"
   ],
   "metadata": {
    "collapsed": false,
    "pycharm": {
     "name": "#%%\n"
    }
   }
  },
  {
   "cell_type": "code",
   "execution_count": 210,
   "outputs": [
    {
     "name": "stdout",
     "output_type": "stream",
     "text": [
      "Number of Folds = 67\n"
     ]
    },
    {
     "name": "stderr",
     "output_type": "stream",
     "text": [
      "/Users/personal/Documents/Master of Statistics/2/Modern Data Analytics/Project/G0Z39a/.venv/lib/python3.9/site-packages/sktime/utils/datetime.py:105: FutureWarning: Timestamp.freq is deprecated and will be removed in a future version.\n",
      "  if not hasattr(x, \"freq\") or x.freq is None:\n",
      "/Users/personal/Documents/Master of Statistics/2/Modern Data Analytics/Project/G0Z39a/.venv/lib/python3.9/site-packages/sktime/utils/datetime.py:107: FutureWarning: Timestamp.freq is deprecated and will be removed in a future version.\n",
      "  by *= x.freq\n"
     ]
    },
    {
     "ename": "TypeError",
     "evalue": "Level type mismatch: 2020-02-20 00:00:00",
     "output_type": "error",
     "traceback": [
      "\u001B[0;31m---------------------------------------------------------------------------\u001B[0m",
      "\u001B[0;31mTypeError\u001B[0m                                 Traceback (most recent call last)",
      "File \u001B[0;32m~/Documents/Master of Statistics/2/Modern Data Analytics/Project/G0Z39a/.venv/lib/python3.9/site-packages/pandas/core/indexes/multi.py:2756\u001B[0m, in \u001B[0;36mMultiIndex._partial_tup_index\u001B[0;34m(self, tup, side)\u001B[0m\n\u001B[1;32m   2755\u001B[0m \u001B[38;5;28;01mtry\u001B[39;00m:\n\u001B[0;32m-> 2756\u001B[0m     loc \u001B[38;5;241m=\u001B[39m \u001B[43mlev\u001B[49m\u001B[38;5;241;43m.\u001B[39;49m\u001B[43msearchsorted\u001B[49m\u001B[43m(\u001B[49m\u001B[43mlab\u001B[49m\u001B[43m,\u001B[49m\u001B[43m \u001B[49m\u001B[43mside\u001B[49m\u001B[38;5;241;43m=\u001B[39;49m\u001B[43mside\u001B[49m\u001B[43m)\u001B[49m\n\u001B[1;32m   2757\u001B[0m \u001B[38;5;28;01mexcept\u001B[39;00m \u001B[38;5;167;01mTypeError\u001B[39;00m \u001B[38;5;28;01mas\u001B[39;00m err:\n\u001B[1;32m   2758\u001B[0m     \u001B[38;5;66;03m# non-comparable e.g. test_slice_locs_with_type_mismatch\u001B[39;00m\n",
      "File \u001B[0;32m~/Documents/Master of Statistics/2/Modern Data Analytics/Project/G0Z39a/.venv/lib/python3.9/site-packages/pandas/core/base.py:1266\u001B[0m, in \u001B[0;36mIndexOpsMixin.searchsorted\u001B[0;34m(self, value, side, sorter)\u001B[0m\n\u001B[1;32m   1264\u001B[0m \u001B[38;5;28;01mif\u001B[39;00m \u001B[38;5;129;01mnot\u001B[39;00m \u001B[38;5;28misinstance\u001B[39m(values, np\u001B[38;5;241m.\u001B[39mndarray):\n\u001B[1;32m   1265\u001B[0m     \u001B[38;5;66;03m# Going through EA.searchsorted directly improves performance GH#38083\u001B[39;00m\n\u001B[0;32m-> 1266\u001B[0m     \u001B[38;5;28;01mreturn\u001B[39;00m \u001B[43mvalues\u001B[49m\u001B[38;5;241;43m.\u001B[39;49m\u001B[43msearchsorted\u001B[49m\u001B[43m(\u001B[49m\u001B[43mvalue\u001B[49m\u001B[43m,\u001B[49m\u001B[43m \u001B[49m\u001B[43mside\u001B[49m\u001B[38;5;241;43m=\u001B[39;49m\u001B[43mside\u001B[49m\u001B[43m,\u001B[49m\u001B[43m \u001B[49m\u001B[43msorter\u001B[49m\u001B[38;5;241;43m=\u001B[39;49m\u001B[43msorter\u001B[49m\u001B[43m)\u001B[49m\n\u001B[1;32m   1268\u001B[0m \u001B[38;5;28;01mreturn\u001B[39;00m algorithms\u001B[38;5;241m.\u001B[39msearchsorted(\n\u001B[1;32m   1269\u001B[0m     values,\n\u001B[1;32m   1270\u001B[0m     value,\n\u001B[1;32m   1271\u001B[0m     side\u001B[38;5;241m=\u001B[39mside,\n\u001B[1;32m   1272\u001B[0m     sorter\u001B[38;5;241m=\u001B[39msorter,\n\u001B[1;32m   1273\u001B[0m )\n",
      "File \u001B[0;32m~/Documents/Master of Statistics/2/Modern Data Analytics/Project/G0Z39a/.venv/lib/python3.9/site-packages/pandas/core/arrays/_mixins.py:224\u001B[0m, in \u001B[0;36mNDArrayBackedExtensionArray.searchsorted\u001B[0;34m(self, value, side, sorter)\u001B[0m\n\u001B[1;32m    223\u001B[0m npvalue \u001B[38;5;241m=\u001B[39m \u001B[38;5;28mself\u001B[39m\u001B[38;5;241m.\u001B[39m_validate_searchsorted_value(value)\n\u001B[0;32m--> 224\u001B[0m \u001B[38;5;28;01mreturn\u001B[39;00m \u001B[38;5;28;43mself\u001B[39;49m\u001B[38;5;241;43m.\u001B[39;49m\u001B[43m_ndarray\u001B[49m\u001B[38;5;241;43m.\u001B[39;49m\u001B[43msearchsorted\u001B[49m\u001B[43m(\u001B[49m\u001B[43mnpvalue\u001B[49m\u001B[43m,\u001B[49m\u001B[43m \u001B[49m\u001B[43mside\u001B[49m\u001B[38;5;241;43m=\u001B[39;49m\u001B[43mside\u001B[49m\u001B[43m,\u001B[49m\u001B[43m \u001B[49m\u001B[43msorter\u001B[49m\u001B[38;5;241;43m=\u001B[39;49m\u001B[43msorter\u001B[49m\u001B[43m)\u001B[49m\n",
      "\u001B[0;31mTypeError\u001B[0m: '<' not supported between instances of 'str' and 'Timestamp'",
      "\nThe above exception was the direct cause of the following exception:\n",
      "\u001B[0;31mTypeError\u001B[0m                                 Traceback (most recent call last)",
      "Input \u001B[0;32mIn [210]\u001B[0m, in \u001B[0;36m<cell line: 18>\u001B[0;34m()\u001B[0m\n\u001B[1;32m     17\u001B[0m errors \u001B[38;5;241m=\u001B[39m []\n\u001B[1;32m     18\u001B[0m \u001B[38;5;28;01mfor\u001B[39;00m y_train, y_test \u001B[38;5;129;01min\u001B[39;00m get_windows(y[[\u001B[38;5;124m\"\u001B[39m\u001B[38;5;124mnew_cases\u001B[39m\u001B[38;5;124m\"\u001B[39m]]):\n\u001B[0;32m---> 19\u001B[0m     y_pred \u001B[38;5;241m=\u001B[39m \u001B[43mforecaster\u001B[49m\u001B[38;5;241;43m.\u001B[39;49m\u001B[43mfit_predict\u001B[49m\u001B[43m(\u001B[49m\u001B[43my\u001B[49m\u001B[38;5;241;43m=\u001B[39;49m\u001B[43my_train\u001B[49m\u001B[43m,\u001B[49m\u001B[43m \u001B[49m\u001B[43mfh\u001B[49m\u001B[38;5;241;43m=\u001B[39;49m\u001B[43mfh\u001B[49m\u001B[43m)\u001B[49m\n\u001B[1;32m     20\u001B[0m     errors\u001B[38;5;241m.\u001B[39mappend(meap(y_test, y_pred))\n\u001B[1;32m     22\u001B[0m \u001B[38;5;28mprint\u001B[39m(np\u001B[38;5;241m.\u001B[39mmean(errors))\n",
      "File \u001B[0;32m~/Documents/Master of Statistics/2/Modern Data Analytics/Project/G0Z39a/.venv/lib/python3.9/site-packages/sktime/forecasting/base/_base.py:410\u001B[0m, in \u001B[0;36mBaseForecaster.fit_predict\u001B[0;34m(self, y, X, fh)\u001B[0m\n\u001B[1;32m    407\u001B[0m \u001B[38;5;28mself\u001B[39m\u001B[38;5;241m.\u001B[39m_is_fitted \u001B[38;5;241m=\u001B[39m \u001B[38;5;28;01mTrue\u001B[39;00m\n\u001B[1;32m    408\u001B[0m \u001B[38;5;66;03m# call the public predict to avoid duplicating output conversions\u001B[39;00m\n\u001B[1;32m    409\u001B[0m \u001B[38;5;66;03m#  input conversions are skipped since we are using X_inner\u001B[39;00m\n\u001B[0;32m--> 410\u001B[0m \u001B[38;5;28;01mreturn\u001B[39;00m \u001B[38;5;28;43mself\u001B[39;49m\u001B[38;5;241;43m.\u001B[39;49m\u001B[43mpredict\u001B[49m\u001B[43m(\u001B[49m\u001B[43mfh\u001B[49m\u001B[38;5;241;43m=\u001B[39;49m\u001B[43mfh\u001B[49m\u001B[43m,\u001B[49m\u001B[43m \u001B[49m\u001B[43mX\u001B[49m\u001B[38;5;241;43m=\u001B[39;49m\u001B[43mX_inner\u001B[49m\u001B[43m)\u001B[49m\n",
      "File \u001B[0;32m~/Documents/Master of Statistics/2/Modern Data Analytics/Project/G0Z39a/.venv/lib/python3.9/site-packages/sktime/forecasting/base/_base.py:320\u001B[0m, in \u001B[0;36mBaseForecaster.predict\u001B[0;34m(self, fh, X)\u001B[0m\n\u001B[1;32m    318\u001B[0m \u001B[38;5;66;03m# we call the ordinary _predict if no looping/vectorization needed\u001B[39;00m\n\u001B[1;32m    319\u001B[0m \u001B[38;5;28;01mif\u001B[39;00m \u001B[38;5;129;01mnot\u001B[39;00m \u001B[38;5;28mself\u001B[39m\u001B[38;5;241m.\u001B[39m_is_vectorized:\n\u001B[0;32m--> 320\u001B[0m     y_pred \u001B[38;5;241m=\u001B[39m \u001B[38;5;28;43mself\u001B[39;49m\u001B[38;5;241;43m.\u001B[39;49m\u001B[43m_predict\u001B[49m\u001B[43m(\u001B[49m\u001B[43mfh\u001B[49m\u001B[38;5;241;43m=\u001B[39;49m\u001B[43mfh\u001B[49m\u001B[43m,\u001B[49m\u001B[43m \u001B[49m\u001B[43mX\u001B[49m\u001B[38;5;241;43m=\u001B[39;49m\u001B[43mX_inner\u001B[49m\u001B[43m)\u001B[49m\n\u001B[1;32m    321\u001B[0m \u001B[38;5;28;01melse\u001B[39;00m:\n\u001B[1;32m    322\u001B[0m     \u001B[38;5;66;03m# otherwise we call the vectorized version of predict\u001B[39;00m\n\u001B[1;32m    323\u001B[0m     y_pred \u001B[38;5;241m=\u001B[39m \u001B[38;5;28mself\u001B[39m\u001B[38;5;241m.\u001B[39m_vectorize(\u001B[38;5;124m\"\u001B[39m\u001B[38;5;124mpredict\u001B[39m\u001B[38;5;124m\"\u001B[39m, X\u001B[38;5;241m=\u001B[39mX_inner, fh\u001B[38;5;241m=\u001B[39mfh)\n",
      "File \u001B[0;32m~/Documents/Master of Statistics/2/Modern Data Analytics/Project/G0Z39a/.venv/lib/python3.9/site-packages/sktime/forecasting/base/_sktime.py:62\u001B[0m, in \u001B[0;36m_BaseWindowForecaster._predict\u001B[0;34m(self, fh, X)\u001B[0m\n\u001B[1;32m     60\u001B[0m \u001B[38;5;66;03m# all values are out-of-sample\u001B[39;00m\n\u001B[1;32m     61\u001B[0m \u001B[38;5;28;01mif\u001B[39;00m fh\u001B[38;5;241m.\u001B[39mis_all_out_of_sample(\u001B[38;5;28mself\u001B[39m\u001B[38;5;241m.\u001B[39mcutoff):\n\u001B[0;32m---> 62\u001B[0m     \u001B[38;5;28;01mreturn\u001B[39;00m \u001B[38;5;28;43mself\u001B[39;49m\u001B[38;5;241;43m.\u001B[39;49m\u001B[43m_predict_fixed_cutoff\u001B[49m\u001B[43m(\u001B[49m\n\u001B[1;32m     63\u001B[0m \u001B[43m        \u001B[49m\u001B[43mfh\u001B[49m\u001B[38;5;241;43m.\u001B[39;49m\u001B[43mto_out_of_sample\u001B[49m\u001B[43m(\u001B[49m\u001B[38;5;28;43mself\u001B[39;49m\u001B[38;5;241;43m.\u001B[39;49m\u001B[43mcutoff\u001B[49m\u001B[43m)\u001B[49m\u001B[43m,\u001B[49m\u001B[43m \u001B[49m\u001B[38;5;241;43m*\u001B[39;49m\u001B[38;5;241;43m*\u001B[39;49m\u001B[43mkwargs\u001B[49m\n\u001B[1;32m     64\u001B[0m \u001B[43m    \u001B[49m\u001B[43m)\u001B[49m\n\u001B[1;32m     66\u001B[0m \u001B[38;5;66;03m# all values are in-sample\u001B[39;00m\n\u001B[1;32m     67\u001B[0m \u001B[38;5;28;01melif\u001B[39;00m fh\u001B[38;5;241m.\u001B[39mis_all_in_sample(\u001B[38;5;28mself\u001B[39m\u001B[38;5;241m.\u001B[39mcutoff):\n",
      "File \u001B[0;32m~/Documents/Master of Statistics/2/Modern Data Analytics/Project/G0Z39a/.venv/lib/python3.9/site-packages/sktime/forecasting/base/_sktime.py:96\u001B[0m, in \u001B[0;36m_BaseWindowForecaster._predict_fixed_cutoff\u001B[0;34m(self, fh, X, return_pred_int, alpha)\u001B[0m\n\u001B[1;32m     81\u001B[0m \u001B[38;5;124;03m\"\"\"Make single-step or multi-step fixed cutoff predictions.\u001B[39;00m\n\u001B[1;32m     82\u001B[0m \n\u001B[1;32m     83\u001B[0m \u001B[38;5;124;03mParameters\u001B[39;00m\n\u001B[0;32m   (...)\u001B[0m\n\u001B[1;32m     93\u001B[0m \u001B[38;5;124;03my_pred = pd.Series or pd.DataFrame\u001B[39;00m\n\u001B[1;32m     94\u001B[0m \u001B[38;5;124;03m\"\"\"\u001B[39;00m\n\u001B[1;32m     95\u001B[0m \u001B[38;5;66;03m# assert all(fh > 0)\u001B[39;00m\n\u001B[0;32m---> 96\u001B[0m y_pred \u001B[38;5;241m=\u001B[39m \u001B[38;5;28;43mself\u001B[39;49m\u001B[38;5;241;43m.\u001B[39;49m\u001B[43m_predict_last_window\u001B[49m\u001B[43m(\u001B[49m\n\u001B[1;32m     97\u001B[0m \u001B[43m    \u001B[49m\u001B[43mfh\u001B[49m\u001B[43m,\u001B[49m\u001B[43m \u001B[49m\u001B[43mX\u001B[49m\u001B[43m,\u001B[49m\u001B[43m \u001B[49m\u001B[43mreturn_pred_int\u001B[49m\u001B[38;5;241;43m=\u001B[39;49m\u001B[43mreturn_pred_int\u001B[49m\u001B[43m,\u001B[49m\u001B[43m \u001B[49m\u001B[43malpha\u001B[49m\u001B[38;5;241;43m=\u001B[39;49m\u001B[43malpha\u001B[49m\n\u001B[1;32m     98\u001B[0m \u001B[43m\u001B[49m\u001B[43m)\u001B[49m\n\u001B[1;32m     99\u001B[0m \u001B[38;5;28;01mif\u001B[39;00m \u001B[38;5;28misinstance\u001B[39m(y_pred, pd\u001B[38;5;241m.\u001B[39mSeries) \u001B[38;5;129;01mor\u001B[39;00m \u001B[38;5;28misinstance\u001B[39m(y_pred, pd\u001B[38;5;241m.\u001B[39mDataFrame):\n\u001B[1;32m    100\u001B[0m     \u001B[38;5;28;01mreturn\u001B[39;00m y_pred\n",
      "File \u001B[0;32m~/Documents/Master of Statistics/2/Modern Data Analytics/Project/G0Z39a/.venv/lib/python3.9/site-packages/sktime/forecasting/compose/_reduce.py:527\u001B[0m, in \u001B[0;36m_RecursiveReducer._predict_last_window\u001B[0;34m(self, fh, X, return_pred_int, alpha)\u001B[0m\n\u001B[1;32m    525\u001B[0m     y_last, X_last \u001B[38;5;241m=\u001B[39m \u001B[38;5;28mself\u001B[39m\u001B[38;5;241m.\u001B[39m_get_shifted_window()\n\u001B[1;32m    526\u001B[0m \u001B[38;5;28;01melse\u001B[39;00m:\n\u001B[0;32m--> 527\u001B[0m     y_last, X_last \u001B[38;5;241m=\u001B[39m \u001B[38;5;28;43mself\u001B[39;49m\u001B[38;5;241;43m.\u001B[39;49m\u001B[43m_get_last_window\u001B[49m\u001B[43m(\u001B[49m\u001B[43m)\u001B[49m\n\u001B[1;32m    529\u001B[0m \u001B[38;5;66;03m# If we cannot generate a prediction from the available data, return nan.\u001B[39;00m\n\u001B[1;32m    530\u001B[0m \u001B[38;5;66;03m# danbartl: check for window_length fails since transformed data is returned.\u001B[39;00m\n\u001B[1;32m    531\u001B[0m \u001B[38;5;28;01mif\u001B[39;00m \u001B[38;5;28mself\u001B[39m\u001B[38;5;241m.\u001B[39mtransformers_ \u001B[38;5;129;01mis\u001B[39;00m \u001B[38;5;28;01mNone\u001B[39;00m:\n",
      "File \u001B[0;32m~/Documents/Master of Statistics/2/Modern Data Analytics/Project/G0Z39a/.venv/lib/python3.9/site-packages/sktime/forecasting/base/_sktime.py:158\u001B[0m, in \u001B[0;36m_BaseWindowForecaster._get_last_window\u001B[0;34m(self)\u001B[0m\n\u001B[1;32m    155\u001B[0m start \u001B[38;5;241m=\u001B[39m _shift(cutoff, by\u001B[38;5;241m=\u001B[39m\u001B[38;5;241m-\u001B[39m\u001B[38;5;28mself\u001B[39m\u001B[38;5;241m.\u001B[39mwindow_length_ \u001B[38;5;241m+\u001B[39m \u001B[38;5;241m1\u001B[39m)\n\u001B[1;32m    157\u001B[0m \u001B[38;5;66;03m# Get the last window of the endogenous variable.\u001B[39;00m\n\u001B[0;32m--> 158\u001B[0m y \u001B[38;5;241m=\u001B[39m \u001B[38;5;28;43mself\u001B[39;49m\u001B[38;5;241;43m.\u001B[39;49m\u001B[43m_y\u001B[49m\u001B[38;5;241;43m.\u001B[39;49m\u001B[43mloc\u001B[49m\u001B[43m[\u001B[49m\u001B[43mstart\u001B[49m\u001B[43m:\u001B[49m\u001B[43mcutoff\u001B[49m\u001B[43m]\u001B[49m\u001B[38;5;241m.\u001B[39mto_numpy()\n\u001B[1;32m    160\u001B[0m \u001B[38;5;66;03m# If X is given, also get the last window of the exogenous variables.\u001B[39;00m\n\u001B[1;32m    161\u001B[0m X \u001B[38;5;241m=\u001B[39m \u001B[38;5;28mself\u001B[39m\u001B[38;5;241m.\u001B[39m_X\u001B[38;5;241m.\u001B[39mloc[start:cutoff]\u001B[38;5;241m.\u001B[39mto_numpy() \u001B[38;5;28;01mif\u001B[39;00m \u001B[38;5;28mself\u001B[39m\u001B[38;5;241m.\u001B[39m_X \u001B[38;5;129;01mis\u001B[39;00m \u001B[38;5;129;01mnot\u001B[39;00m \u001B[38;5;28;01mNone\u001B[39;00m \u001B[38;5;28;01melse\u001B[39;00m \u001B[38;5;28;01mNone\u001B[39;00m\n",
      "File \u001B[0;32m~/Documents/Master of Statistics/2/Modern Data Analytics/Project/G0Z39a/.venv/lib/python3.9/site-packages/pandas/core/indexing.py:967\u001B[0m, in \u001B[0;36m_LocationIndexer.__getitem__\u001B[0;34m(self, key)\u001B[0m\n\u001B[1;32m    964\u001B[0m axis \u001B[38;5;241m=\u001B[39m \u001B[38;5;28mself\u001B[39m\u001B[38;5;241m.\u001B[39maxis \u001B[38;5;129;01mor\u001B[39;00m \u001B[38;5;241m0\u001B[39m\n\u001B[1;32m    966\u001B[0m maybe_callable \u001B[38;5;241m=\u001B[39m com\u001B[38;5;241m.\u001B[39mapply_if_callable(key, \u001B[38;5;28mself\u001B[39m\u001B[38;5;241m.\u001B[39mobj)\n\u001B[0;32m--> 967\u001B[0m \u001B[38;5;28;01mreturn\u001B[39;00m \u001B[38;5;28;43mself\u001B[39;49m\u001B[38;5;241;43m.\u001B[39;49m\u001B[43m_getitem_axis\u001B[49m\u001B[43m(\u001B[49m\u001B[43mmaybe_callable\u001B[49m\u001B[43m,\u001B[49m\u001B[43m \u001B[49m\u001B[43maxis\u001B[49m\u001B[38;5;241;43m=\u001B[39;49m\u001B[43maxis\u001B[49m\u001B[43m)\u001B[49m\n",
      "File \u001B[0;32m~/Documents/Master of Statistics/2/Modern Data Analytics/Project/G0Z39a/.venv/lib/python3.9/site-packages/pandas/core/indexing.py:1180\u001B[0m, in \u001B[0;36m_LocIndexer._getitem_axis\u001B[0;34m(self, key, axis)\u001B[0m\n\u001B[1;32m   1178\u001B[0m \u001B[38;5;28;01mif\u001B[39;00m \u001B[38;5;28misinstance\u001B[39m(key, \u001B[38;5;28mslice\u001B[39m):\n\u001B[1;32m   1179\u001B[0m     \u001B[38;5;28mself\u001B[39m\u001B[38;5;241m.\u001B[39m_validate_key(key, axis)\n\u001B[0;32m-> 1180\u001B[0m     \u001B[38;5;28;01mreturn\u001B[39;00m \u001B[38;5;28;43mself\u001B[39;49m\u001B[38;5;241;43m.\u001B[39;49m\u001B[43m_get_slice_axis\u001B[49m\u001B[43m(\u001B[49m\u001B[43mkey\u001B[49m\u001B[43m,\u001B[49m\u001B[43m \u001B[49m\u001B[43maxis\u001B[49m\u001B[38;5;241;43m=\u001B[39;49m\u001B[43maxis\u001B[49m\u001B[43m)\u001B[49m\n\u001B[1;32m   1181\u001B[0m \u001B[38;5;28;01melif\u001B[39;00m com\u001B[38;5;241m.\u001B[39mis_bool_indexer(key):\n\u001B[1;32m   1182\u001B[0m     \u001B[38;5;28;01mreturn\u001B[39;00m \u001B[38;5;28mself\u001B[39m\u001B[38;5;241m.\u001B[39m_getbool_axis(key, axis\u001B[38;5;241m=\u001B[39maxis)\n",
      "File \u001B[0;32m~/Documents/Master of Statistics/2/Modern Data Analytics/Project/G0Z39a/.venv/lib/python3.9/site-packages/pandas/core/indexing.py:1214\u001B[0m, in \u001B[0;36m_LocIndexer._get_slice_axis\u001B[0;34m(self, slice_obj, axis)\u001B[0m\n\u001B[1;32m   1211\u001B[0m     \u001B[38;5;28;01mreturn\u001B[39;00m obj\u001B[38;5;241m.\u001B[39mcopy(deep\u001B[38;5;241m=\u001B[39m\u001B[38;5;28;01mFalse\u001B[39;00m)\n\u001B[1;32m   1213\u001B[0m labels \u001B[38;5;241m=\u001B[39m obj\u001B[38;5;241m.\u001B[39m_get_axis(axis)\n\u001B[0;32m-> 1214\u001B[0m indexer \u001B[38;5;241m=\u001B[39m \u001B[43mlabels\u001B[49m\u001B[38;5;241;43m.\u001B[39;49m\u001B[43mslice_indexer\u001B[49m\u001B[43m(\u001B[49m\u001B[43mslice_obj\u001B[49m\u001B[38;5;241;43m.\u001B[39;49m\u001B[43mstart\u001B[49m\u001B[43m,\u001B[49m\u001B[43m \u001B[49m\u001B[43mslice_obj\u001B[49m\u001B[38;5;241;43m.\u001B[39;49m\u001B[43mstop\u001B[49m\u001B[43m,\u001B[49m\u001B[43m \u001B[49m\u001B[43mslice_obj\u001B[49m\u001B[38;5;241;43m.\u001B[39;49m\u001B[43mstep\u001B[49m\u001B[43m)\u001B[49m\n\u001B[1;32m   1216\u001B[0m \u001B[38;5;28;01mif\u001B[39;00m \u001B[38;5;28misinstance\u001B[39m(indexer, \u001B[38;5;28mslice\u001B[39m):\n\u001B[1;32m   1217\u001B[0m     \u001B[38;5;28;01mreturn\u001B[39;00m \u001B[38;5;28mself\u001B[39m\u001B[38;5;241m.\u001B[39mobj\u001B[38;5;241m.\u001B[39m_slice(indexer, axis\u001B[38;5;241m=\u001B[39maxis)\n",
      "File \u001B[0;32m~/Documents/Master of Statistics/2/Modern Data Analytics/Project/G0Z39a/.venv/lib/python3.9/site-packages/pandas/core/indexes/base.py:6274\u001B[0m, in \u001B[0;36mIndex.slice_indexer\u001B[0;34m(self, start, end, step, kind)\u001B[0m\n\u001B[1;32m   6231\u001B[0m \u001B[38;5;124;03m\"\"\"\u001B[39;00m\n\u001B[1;32m   6232\u001B[0m \u001B[38;5;124;03mCompute the slice indexer for input labels and step.\u001B[39;00m\n\u001B[1;32m   6233\u001B[0m \n\u001B[0;32m   (...)\u001B[0m\n\u001B[1;32m   6270\u001B[0m \u001B[38;5;124;03mslice(1, 3, None)\u001B[39;00m\n\u001B[1;32m   6271\u001B[0m \u001B[38;5;124;03m\"\"\"\u001B[39;00m\n\u001B[1;32m   6272\u001B[0m \u001B[38;5;28mself\u001B[39m\u001B[38;5;241m.\u001B[39m_deprecated_arg(kind, \u001B[38;5;124m\"\u001B[39m\u001B[38;5;124mkind\u001B[39m\u001B[38;5;124m\"\u001B[39m, \u001B[38;5;124m\"\u001B[39m\u001B[38;5;124mslice_indexer\u001B[39m\u001B[38;5;124m\"\u001B[39m)\n\u001B[0;32m-> 6274\u001B[0m start_slice, end_slice \u001B[38;5;241m=\u001B[39m \u001B[38;5;28;43mself\u001B[39;49m\u001B[38;5;241;43m.\u001B[39;49m\u001B[43mslice_locs\u001B[49m\u001B[43m(\u001B[49m\u001B[43mstart\u001B[49m\u001B[43m,\u001B[49m\u001B[43m \u001B[49m\u001B[43mend\u001B[49m\u001B[43m,\u001B[49m\u001B[43m \u001B[49m\u001B[43mstep\u001B[49m\u001B[38;5;241;43m=\u001B[39;49m\u001B[43mstep\u001B[49m\u001B[43m)\u001B[49m\n\u001B[1;32m   6276\u001B[0m \u001B[38;5;66;03m# return a slice\u001B[39;00m\n\u001B[1;32m   6277\u001B[0m \u001B[38;5;28;01mif\u001B[39;00m \u001B[38;5;129;01mnot\u001B[39;00m is_scalar(start_slice):\n",
      "File \u001B[0;32m~/Documents/Master of Statistics/2/Modern Data Analytics/Project/G0Z39a/.venv/lib/python3.9/site-packages/pandas/core/indexes/multi.py:2738\u001B[0m, in \u001B[0;36mMultiIndex.slice_locs\u001B[0;34m(self, start, end, step, kind)\u001B[0m\n\u001B[1;32m   2735\u001B[0m \u001B[38;5;28mself\u001B[39m\u001B[38;5;241m.\u001B[39m_deprecated_arg(kind, \u001B[38;5;124m\"\u001B[39m\u001B[38;5;124mkind\u001B[39m\u001B[38;5;124m\"\u001B[39m, \u001B[38;5;124m\"\u001B[39m\u001B[38;5;124mslice_locs\u001B[39m\u001B[38;5;124m\"\u001B[39m)\n\u001B[1;32m   2736\u001B[0m \u001B[38;5;66;03m# This function adds nothing to its parent implementation (the magic\u001B[39;00m\n\u001B[1;32m   2737\u001B[0m \u001B[38;5;66;03m# happens in get_slice_bound method), but it adds meaningful doc.\u001B[39;00m\n\u001B[0;32m-> 2738\u001B[0m \u001B[38;5;28;01mreturn\u001B[39;00m \u001B[38;5;28;43msuper\u001B[39;49m\u001B[43m(\u001B[49m\u001B[43m)\u001B[49m\u001B[38;5;241;43m.\u001B[39;49m\u001B[43mslice_locs\u001B[49m\u001B[43m(\u001B[49m\u001B[43mstart\u001B[49m\u001B[43m,\u001B[49m\u001B[43m \u001B[49m\u001B[43mend\u001B[49m\u001B[43m,\u001B[49m\u001B[43m \u001B[49m\u001B[43mstep\u001B[49m\u001B[43m)\u001B[49m\n",
      "File \u001B[0;32m~/Documents/Master of Statistics/2/Modern Data Analytics/Project/G0Z39a/.venv/lib/python3.9/site-packages/pandas/core/indexes/base.py:6484\u001B[0m, in \u001B[0;36mIndex.slice_locs\u001B[0;34m(self, start, end, step, kind)\u001B[0m\n\u001B[1;32m   6482\u001B[0m start_slice \u001B[38;5;241m=\u001B[39m \u001B[38;5;28;01mNone\u001B[39;00m\n\u001B[1;32m   6483\u001B[0m \u001B[38;5;28;01mif\u001B[39;00m start \u001B[38;5;129;01mis\u001B[39;00m \u001B[38;5;129;01mnot\u001B[39;00m \u001B[38;5;28;01mNone\u001B[39;00m:\n\u001B[0;32m-> 6484\u001B[0m     start_slice \u001B[38;5;241m=\u001B[39m \u001B[38;5;28;43mself\u001B[39;49m\u001B[38;5;241;43m.\u001B[39;49m\u001B[43mget_slice_bound\u001B[49m\u001B[43m(\u001B[49m\u001B[43mstart\u001B[49m\u001B[43m,\u001B[49m\u001B[43m \u001B[49m\u001B[38;5;124;43m\"\u001B[39;49m\u001B[38;5;124;43mleft\u001B[39;49m\u001B[38;5;124;43m\"\u001B[39;49m\u001B[43m)\u001B[49m\n\u001B[1;32m   6485\u001B[0m \u001B[38;5;28;01mif\u001B[39;00m start_slice \u001B[38;5;129;01mis\u001B[39;00m \u001B[38;5;28;01mNone\u001B[39;00m:\n\u001B[1;32m   6486\u001B[0m     start_slice \u001B[38;5;241m=\u001B[39m \u001B[38;5;241m0\u001B[39m\n",
      "File \u001B[0;32m~/Documents/Master of Statistics/2/Modern Data Analytics/Project/G0Z39a/.venv/lib/python3.9/site-packages/pandas/core/indexes/multi.py:2677\u001B[0m, in \u001B[0;36mMultiIndex.get_slice_bound\u001B[0;34m(self, label, side, kind)\u001B[0m\n\u001B[1;32m   2675\u001B[0m \u001B[38;5;28;01mif\u001B[39;00m \u001B[38;5;129;01mnot\u001B[39;00m \u001B[38;5;28misinstance\u001B[39m(label, \u001B[38;5;28mtuple\u001B[39m):\n\u001B[1;32m   2676\u001B[0m     label \u001B[38;5;241m=\u001B[39m (label,)\n\u001B[0;32m-> 2677\u001B[0m \u001B[38;5;28;01mreturn\u001B[39;00m \u001B[38;5;28;43mself\u001B[39;49m\u001B[38;5;241;43m.\u001B[39;49m\u001B[43m_partial_tup_index\u001B[49m\u001B[43m(\u001B[49m\u001B[43mlabel\u001B[49m\u001B[43m,\u001B[49m\u001B[43m \u001B[49m\u001B[43mside\u001B[49m\u001B[38;5;241;43m=\u001B[39;49m\u001B[43mside\u001B[49m\u001B[43m)\u001B[49m\n",
      "File \u001B[0;32m~/Documents/Master of Statistics/2/Modern Data Analytics/Project/G0Z39a/.venv/lib/python3.9/site-packages/pandas/core/indexes/multi.py:2759\u001B[0m, in \u001B[0;36mMultiIndex._partial_tup_index\u001B[0;34m(self, tup, side)\u001B[0m\n\u001B[1;32m   2756\u001B[0m     loc \u001B[38;5;241m=\u001B[39m lev\u001B[38;5;241m.\u001B[39msearchsorted(lab, side\u001B[38;5;241m=\u001B[39mside)\n\u001B[1;32m   2757\u001B[0m \u001B[38;5;28;01mexcept\u001B[39;00m \u001B[38;5;167;01mTypeError\u001B[39;00m \u001B[38;5;28;01mas\u001B[39;00m err:\n\u001B[1;32m   2758\u001B[0m     \u001B[38;5;66;03m# non-comparable e.g. test_slice_locs_with_type_mismatch\u001B[39;00m\n\u001B[0;32m-> 2759\u001B[0m     \u001B[38;5;28;01mraise\u001B[39;00m \u001B[38;5;167;01mTypeError\u001B[39;00m(\u001B[38;5;124mf\u001B[39m\u001B[38;5;124m\"\u001B[39m\u001B[38;5;124mLevel type mismatch: \u001B[39m\u001B[38;5;132;01m{\u001B[39;00mlab\u001B[38;5;132;01m}\u001B[39;00m\u001B[38;5;124m\"\u001B[39m) \u001B[38;5;28;01mfrom\u001B[39;00m \u001B[38;5;21;01merr\u001B[39;00m\n\u001B[1;32m   2760\u001B[0m \u001B[38;5;28;01mif\u001B[39;00m \u001B[38;5;129;01mnot\u001B[39;00m is_integer(loc):\n\u001B[1;32m   2761\u001B[0m     \u001B[38;5;66;03m# non-comparable level, e.g. test_groupby_example\u001B[39;00m\n\u001B[1;32m   2762\u001B[0m     \u001B[38;5;28;01mraise\u001B[39;00m \u001B[38;5;167;01mTypeError\u001B[39;00m(\u001B[38;5;124mf\u001B[39m\u001B[38;5;124m\"\u001B[39m\u001B[38;5;124mLevel type mismatch: \u001B[39m\u001B[38;5;132;01m{\u001B[39;00mlab\u001B[38;5;132;01m}\u001B[39;00m\u001B[38;5;124m\"\u001B[39m)\n",
      "\u001B[0;31mTypeError\u001B[0m: Level type mismatch: 2020-02-20 00:00:00"
     ]
    }
   ],
   "source": [
    "from sktime.performance_metrics.forecasting import mean_absolute_percentage_error as meap\n",
    "\n",
    "\n",
    "def sample_fips(df: pd.DataFrame, amount: int) -> pd.DataFrame:\n",
    "    subindex = df.index.get_level_values(\"fips\")\n",
    "    sample_ids = np.random.choice(subindex, amount, replace=False)\n",
    "    return df.loc[sample_ids].sort_index(level=[\"fips\", \"date\"])\n",
    "\n",
    "\n",
    "def date_index(df: pd.DataFrame) -> pd.Index:\n",
    "    idx: pd.Index = df.index.unique(\"date\")\n",
    "    return pd.DatetimeIndex(idx, freq=\"D\")\n",
    "\n",
    "\n",
    "y = sample_fips(df, 5)\n",
    "n_splits = cv.get_n_splits(y)\n",
    "print(f\"Number of Folds = {n_splits}\")\n",
    "\n",
    "errors = []\n",
    "for y_train, y_test in get_windows(y[[\"new_cases\"]]):\n",
    "    y_pred = forecaster.fit_predict(y=y_train, fh=fh)\n",
    "    errors.append(meap(y_test, y_pred))\n",
    "\n",
    "print(np.mean(errors))"
   ],
   "metadata": {
    "collapsed": false,
    "pycharm": {
     "name": "#%%\n"
    }
   }
  },
  {
   "cell_type": "code",
   "execution_count": null,
   "outputs": [],
   "source": [],
   "metadata": {
    "collapsed": false,
    "pycharm": {
     "name": "#%%\n"
    }
   }
  }
 ],
 "metadata": {
  "kernelspec": {
   "display_name": "Python 3",
   "language": "python",
   "name": "python3"
  },
  "language_info": {
   "codemirror_mode": {
    "name": "ipython",
    "version": 2
   },
   "file_extension": ".py",
   "mimetype": "text/x-python",
   "name": "python",
   "nbconvert_exporter": "python",
   "pygments_lexer": "ipython2",
   "version": "2.7.6"
  }
 },
 "nbformat": 4,
 "nbformat_minor": 0
}
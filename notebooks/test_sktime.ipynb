{
 "cells": [
  {
   "cell_type": "code",
   "execution_count": 2,
   "outputs": [],
   "source": [
    "from __future__ import annotations\n",
    "\n",
    "import numpy as np\n",
    "import pandas as pd\n",
    "\n",
    "from typing import *"
   ],
   "metadata": {
    "collapsed": false,
    "pycharm": {
     "name": "#%%\n"
    }
   }
  },
  {
   "cell_type": "code",
   "execution_count": 3,
   "outputs": [],
   "source": [
    "from nepal.datasets import NYTimes\n",
    "from nepal.ml.preprocess import Cases\n",
    "\n",
    "df: pd.DataFrame = Cases(NYTimes()).preprocessed()"
   ],
   "metadata": {
    "collapsed": false,
    "pycharm": {
     "name": "#%%\n"
    }
   }
  },
  {
   "cell_type": "code",
   "execution_count": 5,
   "outputs": [],
   "source": [
    "from typing import Callable, NamedTuple\n",
    "\n",
    "from sktime.performance_metrics.forecasting import (\n",
    "    MeanAbsolutePercentageError,\n",
    "    MeanAbsoluteError,\n",
    ")\n",
    "\n",
    "\n",
    "class Loss(NamedTuple):\n",
    "    name: str\n",
    "    function: Callable\n",
    "\n",
    "\n",
    "mae = Loss(\n",
    "    name=\"mean_absolute_error\",\n",
    "    function=MeanAbsoluteError(),\n",
    ")\n",
    "\n",
    "mape = Loss(\n",
    "    name=\"mean_absolute_percentage_error\",\n",
    "    function=MeanAbsolutePercentageError(symmetric=True),\n",
    ")"
   ],
   "metadata": {
    "collapsed": false,
    "pycharm": {
     "name": "#%%\n"
    }
   }
  },
  {
   "cell_type": "code",
   "execution_count": 6,
   "outputs": [
    {
     "data": {
      "text/plain": "Train/Test split:   0%|          | 0/12 [00:00<?, ?it/s]",
      "application/vnd.jupyter.widget-view+json": {
       "version_major": 2,
       "version_minor": 0,
       "model_id": "fc13678e744e43f5bac37f87e4586af9"
      }
     },
     "metadata": {},
     "output_type": "display_data"
    },
    {
     "name": "stdout",
     "output_type": "stream",
     "text": [
      "30.965630324684287\n"
     ]
    }
   ],
   "source": [
    "import lightgbm as lgb\n",
    "from sktime.forecasting.base import ForecastingHorizon\n",
    "from sktime.forecasting.model_selection import SlidingWindowSplitter\n",
    "\n",
    "from nepal.ml.forecaster import LGBMForecaster\n",
    "from nepal.ml.splitter import Splitter\n",
    "from nepal.ml.validate import cross_validate\n",
    "\n",
    "fh = ForecastingHorizon(list(range(1, 15)))\n",
    "cv = SlidingWindowSplitter(fh=fh, window_length=120, step_length=60)\n",
    "splitter: Splitter = Splitter(cv)\n",
    "\n",
    "# Create regressor with default parameters\n",
    "forecaster = LGBMForecaster(lgb.LGBMRegressor(objective=mae.name), lag=12)\n",
    "\n",
    "scores: Sequence[float] = cross_validate(\n",
    "    forecaster, splitter=splitter, y=df[[\"new_cases\"]], loss=mae.function\n",
    ")\n",
    "print(np.mean(scores))"
   ],
   "metadata": {
    "collapsed": false,
    "pycharm": {
     "name": "#%%\n"
    }
   }
  },
  {
   "cell_type": "code",
   "execution_count": 7,
   "outputs": [
    {
     "data": {
      "text/plain": "<AxesSubplot:>"
     },
     "execution_count": 7,
     "metadata": {},
     "output_type": "execute_result"
    },
    {
     "data": {
      "text/plain": "<Figure size 432x288 with 1 Axes>",
      "image/png": "[encoded data removed]"
     },
     "metadata": {
      "needs_background": "light"
     },
     "output_type": "display_data"
    }
   ],
   "source": [
    "import seaborn as sns\n",
    "\n",
    "sns.set(style=\"darkgrid\")\n",
    "sns.lineplot(data=scores)"
   ],
   "metadata": {
    "collapsed": false,
    "pycharm": {
     "name": "#%%\n"
    }
   }
  },
  {
   "cell_type": "code",
   "execution_count": null,
   "outputs": [],
   "source": [
    "import optuna\n",
    "\n",
    "from sklearn.pipeline import Pipeline\n",
    "from nepal.ml.transformers import RollingWindowSum\n",
    "\n",
    "transformers: Pipeline = Pipeline(\n",
    "    [\n",
    "        (\n",
    "            \"with_active_infections\",\n",
    "            RollingWindowSum(\"new_cases\", target=\"infections\", window=10),\n",
    "        ),\n",
    "    ]\n",
    ")\n",
    "\n",
    "\n",
    "def objective(trial: optuna.Trial) -> float:\n",
    "    lag = trial.suggest_int(\"lag\", 10, 12)\n",
    "    forecaster = LGBMForecaster(\n",
    "        lgb.LGBMRegressor(objective=mae.name), lag=lag, transformers=transformers\n",
    "    )\n",
    "\n",
    "    scores: Sequence[float] = cross_validate(\n",
    "        forecaster, splitter=splitter, y=df[[\"new_cases\"]], loss=mae.function\n",
    "    )\n",
    "    return np.mean(scores)\n",
    "\n",
    "\n",
    "study = optuna.create_study(direction=\"minimize\")\n",
    "study.optimize(objective, n_trials=1)\n",
    "\n",
    "study.best_params\n",
    "# Best found lag value with default LGBM params: 13"
   ],
   "metadata": {
    "collapsed": false,
    "pycharm": {
     "name": "#%%\n",
     "is_executing": true
    }
   }
  },
  {
   "cell_type": "code",
   "execution_count": 10,
   "outputs": [],
   "source": [
    "from nepal.graph import Connection, LocalConnection, GraphDB\n",
    "\n",
    "conn: Connection = LocalConnection(\n",
    "    database=\"neo4j\",\n",
    "    password=\"corona\",\n",
    ")\n",
    "\n",
    "assert conn.is_up()"
   ],
   "metadata": {
    "collapsed": false,
    "pycharm": {
     "name": "#%%\n"
    }
   }
  },
  {
   "cell_type": "code",
   "execution_count": 13,
   "outputs": [
    {
     "name": "stderr",
     "output_type": "stream",
     "text": [
      "\u001B[32m[I 2022-06-01 20:56:17,049]\u001B[0m A new study created in memory with name: no-name-63d4f69f-9fbd-4201-8b03-182df9a8d6ac\u001B[0m\n"
     ]
    },
    {
     "data": {
      "text/plain": "Train/Test split:   0%|          | 0/12 [00:00<?, ?it/s]",
      "application/vnd.jupyter.widget-view+json": {
       "version_major": 2,
       "version_minor": 0,
       "model_id": "bd04982f69924157a9e8583c0db7b45f"
      }
     },
     "metadata": {},
     "output_type": "display_data"
    },
    {
     "name": "stderr",
     "output_type": "stream",
     "text": [
      "\u001B[32m[I 2022-06-01 20:57:48,015]\u001B[0m Trial 0 finished with value: 30.847329788952635 and parameters: {'dim': 23, 'weight2': 0.9463261683719523, 'weight3': 0.07854714192529177, 'weight4': 0.30181327763992216, 'normalization': 0.7824211591882893, 'prop_ratio': 0.48473742618136995, 'self_influence': 0.1107871319701621}. Best is trial 0 with value: 30.847329788952635.\u001B[0m\n"
     ]
    },
    {
     "data": {
      "text/plain": "Train/Test split:   0%|          | 0/12 [00:00<?, ?it/s]",
      "application/vnd.jupyter.widget-view+json": {
       "version_major": 2,
       "version_minor": 0,
       "model_id": "6a5af999857d4db78e27705456350efa"
      }
     },
     "metadata": {},
     "output_type": "display_data"
    },
    {
     "name": "stderr",
     "output_type": "stream",
     "text": [
      "\u001B[32m[I 2022-06-01 20:59:21,606]\u001B[0m Trial 1 finished with value: 30.978690457780086 and parameters: {'dim': 25, 'weight2': 0.5254398393660553, 'weight3': 0.9719153317611482, 'weight4': 0.2848871340076513, 'normalization': -0.8738295100419884, 'prop_ratio': 0.6466804617875547, 'self_influence': 0.7248647323475229}. Best is trial 0 with value: 30.847329788952635.\u001B[0m\n"
     ]
    },
    {
     "data": {
      "text/plain": "Train/Test split:   0%|          | 0/12 [00:00<?, ?it/s]",
      "application/vnd.jupyter.widget-view+json": {
       "version_major": 2,
       "version_minor": 0,
       "model_id": "b5607bf6f6ee4ac9836cd4e2ea2e96e4"
      }
     },
     "metadata": {},
     "output_type": "display_data"
    },
    {
     "name": "stderr",
     "output_type": "stream",
     "text": [
      "\u001B[32m[I 2022-06-01 21:00:49,718]\u001B[0m Trial 2 finished with value: 30.85818269310562 and parameters: {'dim': 17, 'weight2': 0.7377244943435936, 'weight3': 0.9200735089364865, 'weight4': 0.5546745134300508, 'normalization': 0.7790156721908101, 'prop_ratio': 0.48983968186252236, 'self_influence': 0.28440736717504034}. Best is trial 0 with value: 30.847329788952635.\u001B[0m\n"
     ]
    },
    {
     "data": {
      "text/plain": "Train/Test split:   0%|          | 0/12 [00:00<?, ?it/s]",
      "application/vnd.jupyter.widget-view+json": {
       "version_major": 2,
       "version_minor": 0,
       "model_id": "70917ddce7084d1082be82e2f07df5e4"
      }
     },
     "metadata": {},
     "output_type": "display_data"
    },
    {
     "name": "stderr",
     "output_type": "stream",
     "text": [
      "\u001B[32m[I 2022-06-01 21:02:21,850]\u001B[0m Trial 3 finished with value: 30.833856122974694 and parameters: {'dim': 8, 'weight2': 0.08694122302121399, 'weight3': 0.405948437292195, 'weight4': 0.37829549295615683, 'normalization': 0.7161793576858579, 'prop_ratio': 0.7471283801543478, 'self_influence': 0.5180359086471884}. Best is trial 3 with value: 30.833856122974694.\u001B[0m\n"
     ]
    },
    {
     "data": {
      "text/plain": "Train/Test split:   0%|          | 0/12 [00:00<?, ?it/s]",
      "application/vnd.jupyter.widget-view+json": {
       "version_major": 2,
       "version_minor": 0,
       "model_id": "46d7e51e2c8a489f9df91b86f7d0e752"
      }
     },
     "metadata": {},
     "output_type": "display_data"
    },
    {
     "name": "stderr",
     "output_type": "stream",
     "text": [
      "\u001B[32m[I 2022-06-01 21:05:55,313]\u001B[0m Trial 4 finished with value: 30.914397072195914 and parameters: {'dim': 212, 'weight2': 0.35887284414821485, 'weight3': 0.6646061076172014, 'weight4': 0.8916139231602844, 'normalization': 0.5777076057246642, 'prop_ratio': 0.26902634739773557, 'self_influence': 0.4589609661084526}. Best is trial 3 with value: 30.833856122974694.\u001B[0m\n"
     ]
    },
    {
     "data": {
      "text/plain": "Train/Test split:   0%|          | 0/12 [00:00<?, ?it/s]",
      "application/vnd.jupyter.widget-view+json": {
       "version_major": 2,
       "version_minor": 0,
       "model_id": "1b81982fba194840954ff0f6dd41de09"
      }
     },
     "metadata": {},
     "output_type": "display_data"
    },
    {
     "name": "stderr",
     "output_type": "stream",
     "text": [
      "\u001B[32m[I 2022-06-01 21:07:10,187]\u001B[0m Trial 5 finished with value: 30.844648184427665 and parameters: {'dim': 10, 'weight2': 0.19106867700044694, 'weight3': 0.7761673674714425, 'weight4': 0.7935762750597714, 'normalization': 0.9796067386901623, 'prop_ratio': 0.4484057566984555, 'self_influence': 0.7659140383805088}. Best is trial 3 with value: 30.833856122974694.\u001B[0m\n"
     ]
    },
    {
     "data": {
      "text/plain": "Train/Test split:   0%|          | 0/12 [00:00<?, ?it/s]",
      "application/vnd.jupyter.widget-view+json": {
       "version_major": 2,
       "version_minor": 0,
       "model_id": "06b7391828df427f8c97f63d41d3881b"
      }
     },
     "metadata": {},
     "output_type": "display_data"
    },
    {
     "name": "stderr",
     "output_type": "stream",
     "text": [
      "\u001B[32m[I 2022-06-01 21:09:04,251]\u001B[0m Trial 6 finished with value: 31.197967484491574 and parameters: {'dim': 104, 'weight2': 0.36481706072472786, 'weight3': 0.6372430887745522, 'weight4': 0.8129546722917946, 'normalization': -0.601349451450391, 'prop_ratio': 0.5762504284893583, 'self_influence': 0.16260136062170516}. Best is trial 3 with value: 30.833856122974694.\u001B[0m\n"
     ]
    },
    {
     "data": {
      "text/plain": "Train/Test split:   0%|          | 0/12 [00:00<?, ?it/s]",
      "application/vnd.jupyter.widget-view+json": {
       "version_major": 2,
       "version_minor": 0,
       "model_id": "88a6fd792b034e22a737df9f345312fb"
      }
     },
     "metadata": {},
     "output_type": "display_data"
    },
    {
     "name": "stderr",
     "output_type": "stream",
     "text": [
      "\u001B[32m[I 2022-06-01 21:12:53,142]\u001B[0m Trial 7 finished with value: 31.048979421683796 and parameters: {'dim': 273, 'weight2': 0.39628758043796386, 'weight3': 0.5514876896873007, 'weight4': 0.9092674843099909, 'normalization': -0.3106799204756472, 'prop_ratio': 0.05408878507881787, 'self_influence': 0.6319157734964296}. Best is trial 3 with value: 30.833856122974694.\u001B[0m\n"
     ]
    },
    {
     "data": {
      "text/plain": "Train/Test split:   0%|          | 0/12 [00:00<?, ?it/s]",
      "application/vnd.jupyter.widget-view+json": {
       "version_major": 2,
       "version_minor": 0,
       "model_id": "72ef61ee9c534c8396fe2308b09ca9ef"
      }
     },
     "metadata": {},
     "output_type": "display_data"
    },
    {
     "name": "stderr",
     "output_type": "stream",
     "text": [
      "\u001B[32m[I 2022-06-01 21:14:47,005]\u001B[0m Trial 8 finished with value: 30.930058164904533 and parameters: {'dim': 95, 'weight2': 0.6043042387016521, 'weight3': 0.08573225453499167, 'weight4': 0.42753782217079306, 'normalization': -0.9992716716724124, 'prop_ratio': 0.5190438454720084, 'self_influence': 0.5364805253877545}. Best is trial 3 with value: 30.833856122974694.\u001B[0m\n"
     ]
    },
    {
     "data": {
      "text/plain": "Train/Test split:   0%|          | 0/12 [00:00<?, ?it/s]",
      "application/vnd.jupyter.widget-view+json": {
       "version_major": 2,
       "version_minor": 0,
       "model_id": "efe7a499c7b94568ac78d64b81c80073"
      }
     },
     "metadata": {},
     "output_type": "display_data"
    },
    {
     "name": "stderr",
     "output_type": "stream",
     "text": [
      "\u001B[32m[I 2022-06-01 21:16:03,271]\u001B[0m Trial 9 finished with value: 30.926795367550785 and parameters: {'dim': 15, 'weight2': 0.41352375863111934, 'weight3': 0.733337216707431, 'weight4': 0.12960229085490493, 'normalization': -0.40821278656356275, 'prop_ratio': 0.43077858558399007, 'self_influence': 0.5365616512069137}. Best is trial 3 with value: 30.833856122974694.\u001B[0m\n"
     ]
    },
    {
     "data": {
      "text/plain": "Train/Test split:   0%|          | 0/12 [00:00<?, ?it/s]",
      "application/vnd.jupyter.widget-view+json": {
       "version_major": 2,
       "version_minor": 0,
       "model_id": "0811fa57db404b17913509d3dfd04bbe"
      }
     },
     "metadata": {},
     "output_type": "display_data"
    },
    {
     "name": "stderr",
     "output_type": "stream",
     "text": [
      "\u001B[32m[I 2022-06-01 21:17:31,615]\u001B[0m Trial 10 finished with value: 30.8077243303904 and parameters: {'dim': 42, 'weight2': 0.013004209825647858, 'weight3': 0.33110505995404493, 'weight4': 0.6225157605575766, 'normalization': 0.17384310410478088, 'prop_ratio': 0.925436889393256, 'self_influence': 0.8545044793092034}. Best is trial 10 with value: 30.8077243303904.\u001B[0m\n"
     ]
    },
    {
     "data": {
      "text/plain": "Train/Test split:   0%|          | 0/12 [00:00<?, ?it/s]",
      "application/vnd.jupyter.widget-view+json": {
       "version_major": 2,
       "version_minor": 0,
       "model_id": "f01841e6654543b9b18c53c8b3e4dec1"
      }
     },
     "metadata": {},
     "output_type": "display_data"
    },
    {
     "name": "stderr",
     "output_type": "stream",
     "text": [
      "\u001B[32m[I 2022-06-01 21:19:07,562]\u001B[0m Trial 11 finished with value: 31.034930534401955 and parameters: {'dim': 49, 'weight2': 0.024825489203726188, 'weight3': 0.3326668513977894, 'weight4': 0.6238752589555212, 'normalization': 0.2531376561188521, 'prop_ratio': 0.9742411258081226, 'self_influence': 0.9971982991609823}. Best is trial 10 with value: 30.8077243303904.\u001B[0m\n"
     ]
    },
    {
     "data": {
      "text/plain": "Train/Test split:   0%|          | 0/12 [00:00<?, ?it/s]",
      "application/vnd.jupyter.widget-view+json": {
       "version_major": 2,
       "version_minor": 0,
       "model_id": "4711c889d7ff4a50a8321551ec3511e6"
      }
     },
     "metadata": {},
     "output_type": "display_data"
    },
    {
     "name": "stderr",
     "output_type": "stream",
     "text": [
      "\u001B[32m[I 2022-06-01 21:20:25,408]\u001B[0m Trial 12 finished with value: 30.896981808214935 and parameters: {'dim': 8, 'weight2': 0.0009075395449358453, 'weight3': 0.32065685840502167, 'weight4': 0.6303788171041775, 'normalization': 0.27900958562739925, 'prop_ratio': 0.9163975843683556, 'self_influence': 0.9729071779630851}. Best is trial 10 with value: 30.8077243303904.\u001B[0m\n"
     ]
    },
    {
     "data": {
      "text/plain": "Train/Test split:   0%|          | 0/12 [00:00<?, ?it/s]",
      "application/vnd.jupyter.widget-view+json": {
       "version_major": 2,
       "version_minor": 0,
       "model_id": "9251877219f949c98b6a6df0c30b08df"
      }
     },
     "metadata": {},
     "output_type": "display_data"
    },
    {
     "name": "stderr",
     "output_type": "stream",
     "text": [
      "\u001B[32m[I 2022-06-01 21:21:51,868]\u001B[0m Trial 13 finished with value: 31.045455002474238 and parameters: {'dim': 42, 'weight2': 0.1417050764911461, 'weight3': 0.3455896456496639, 'weight4': 0.03497188156794079, 'normalization': 0.06619101799625447, 'prop_ratio': 0.7439895553900221, 'self_influence': 0.8324366238776912}. Best is trial 10 with value: 30.8077243303904.\u001B[0m\n"
     ]
    },
    {
     "data": {
      "text/plain": "Train/Test split:   0%|          | 0/12 [00:00<?, ?it/s]",
      "application/vnd.jupyter.widget-view+json": {
       "version_major": 2,
       "version_minor": 0,
       "model_id": "6ac999d36258449c80fab271c7e7aa56"
      }
     },
     "metadata": {},
     "output_type": "display_data"
    },
    {
     "name": "stderr",
     "output_type": "stream",
     "text": [
      "\u001B[32m[I 2022-06-01 21:23:47,149]\u001B[0m Trial 14 finished with value: 30.80219460867086 and parameters: {'dim': 109, 'weight2': 0.1648515719416457, 'weight3': 0.22426708055854813, 'weight4': 0.4044864562751409, 'normalization': 0.5106964037278878, 'prop_ratio': 0.7676442123544605, 'self_influence': 0.3855633123021922}. Best is trial 14 with value: 30.80219460867086.\u001B[0m\n"
     ]
    },
    {
     "data": {
      "text/plain": "Train/Test split:   0%|          | 0/12 [00:00<?, ?it/s]",
      "application/vnd.jupyter.widget-view+json": {
       "version_major": 2,
       "version_minor": 0,
       "model_id": "206c801ac25e41a99822bf7c241e1dec"
      }
     },
     "metadata": {},
     "output_type": "display_data"
    },
    {
     "name": "stderr",
     "output_type": "stream",
     "text": [
      "\u001B[32m[I 2022-06-01 21:25:47,803]\u001B[0m Trial 15 finished with value: 30.85860179664687 and parameters: {'dim': 110, 'weight2': 0.21080890472885253, 'weight3': 0.18528876783561934, 'weight4': 0.7203051444730385, 'normalization': 0.3649914094438834, 'prop_ratio': 0.8319761718805088, 'self_influence': 0.43913432311588463}. Best is trial 14 with value: 30.80219460867086.\u001B[0m\n"
     ]
    },
    {
     "data": {
      "text/plain": "Train/Test split:   0%|          | 0/12 [00:00<?, ?it/s]",
      "application/vnd.jupyter.widget-view+json": {
       "version_major": 2,
       "version_minor": 0,
       "model_id": "2adab9dc2fd84b1b85034fa464e10b74"
      }
     },
     "metadata": {},
     "output_type": "display_data"
    },
    {
     "name": "stderr",
     "output_type": "stream",
     "text": [
      "\u001B[32m[I 2022-06-01 21:32:16,473]\u001B[0m Trial 16 finished with value: 30.955770001964428 and parameters: {'dim': 416, 'weight2': 0.23482184967014957, 'weight3': 0.17701769590786934, 'weight4': 0.48601333886405795, 'normalization': -0.18443439216948332, 'prop_ratio': 0.8543170314585332, 'self_influence': 0.36786401127368584}. Best is trial 14 with value: 30.80219460867086.\u001B[0m\n"
     ]
    },
    {
     "data": {
      "text/plain": "Train/Test split:   0%|          | 0/12 [00:00<?, ?it/s]",
      "application/vnd.jupyter.widget-view+json": {
       "version_major": 2,
       "version_minor": 0,
       "model_id": "19cf6fe6f7ae4c448f6930f5d08196ac"
      }
     },
     "metadata": {},
     "output_type": "display_data"
    },
    {
     "name": "stderr",
     "output_type": "stream",
     "text": [
      "\u001B[32m[I 2022-06-01 21:34:16,782]\u001B[0m Trial 17 finished with value: 30.98072330547596 and parameters: {'dim': 70, 'weight2': 0.2890925334564929, 'weight3': 0.4597298575035551, 'weight4': 0.21982226239192998, 'normalization': -0.016997439584544166, 'prop_ratio': 0.6994390472478296, 'self_influence': 0.0074378721799480685}. Best is trial 14 with value: 30.80219460867086.\u001B[0m\n"
     ]
    },
    {
     "data": {
      "text/plain": "Train/Test split:   0%|          | 0/12 [00:00<?, ?it/s]",
      "application/vnd.jupyter.widget-view+json": {
       "version_major": 2,
       "version_minor": 0,
       "model_id": "cfed00ccc65b42efad474dea8df9ef60"
      }
     },
     "metadata": {},
     "output_type": "display_data"
    },
    {
     "name": "stderr",
     "output_type": "stream",
     "text": [
      "\u001B[32m[I 2022-06-01 21:37:05,386]\u001B[0m Trial 18 finished with value: 30.80182532612682 and parameters: {'dim': 171, 'weight2': 0.1098466804080176, 'weight3': 0.23137727890329607, 'weight4': 0.9990393397476212, 'normalization': 0.477181295517087, 'prop_ratio': 0.9621922841319558, 'self_influence': 0.8641665730171354}. Best is trial 18 with value: 30.80182532612682.\u001B[0m\n"
     ]
    },
    {
     "data": {
      "text/plain": "Train/Test split:   0%|          | 0/12 [00:00<?, ?it/s]",
      "application/vnd.jupyter.widget-view+json": {
       "version_major": 2,
       "version_minor": 0,
       "model_id": "23773b87c5dd47c0ad76a5a9ee94f299"
      }
     },
     "metadata": {},
     "output_type": "display_data"
    },
    {
     "name": "stderr",
     "output_type": "stream",
     "text": [
      "\u001B[32m[I 2022-06-01 21:39:40,962]\u001B[0m Trial 19 finished with value: 30.814017189866277 and parameters: {'dim': 139, 'weight2': 0.6985277390179263, 'weight3': 0.009578592772053085, 'weight4': 0.3731235514947818, 'normalization': 0.44416683562118947, 'prop_ratio': 0.8254202066849298, 'self_influence': 0.30220541999824824}. Best is trial 18 with value: 30.80182532612682.\u001B[0m\n"
     ]
    },
    {
     "data": {
      "text/plain": "Train/Test split:   0%|          | 0/12 [00:00<?, ?it/s]",
      "application/vnd.jupyter.widget-view+json": {
       "version_major": 2,
       "version_minor": 0,
       "model_id": "cb201e492839402ab9b71f6aeef1fb8b"
      }
     },
     "metadata": {},
     "output_type": "display_data"
    },
    {
     "ename": "KeyboardInterrupt",
     "evalue": "",
     "output_type": "error",
     "traceback": [
      "\u001B[0;31m---------------------------------------------------------------------------\u001B[0m",
      "\u001B[0;31mKeyboardInterrupt\u001B[0m                         Traceback (most recent call last)",
      "Input \u001B[0;32mIn [13]\u001B[0m, in \u001B[0;36m<cell line: 41>\u001B[0;34m()\u001B[0m\n\u001B[1;32m     37\u001B[0m     \u001B[38;5;28;01mreturn\u001B[39;00m np\u001B[38;5;241m.\u001B[39mmean(scores)\n\u001B[1;32m     40\u001B[0m study \u001B[38;5;241m=\u001B[39m optuna\u001B[38;5;241m.\u001B[39mcreate_study(direction\u001B[38;5;241m=\u001B[39m\u001B[38;5;124m\"\u001B[39m\u001B[38;5;124mminimize\u001B[39m\u001B[38;5;124m\"\u001B[39m)\n\u001B[0;32m---> 41\u001B[0m \u001B[43mstudy\u001B[49m\u001B[38;5;241;43m.\u001B[39;49m\u001B[43moptimize\u001B[49m\u001B[43m(\u001B[49m\u001B[43mobjective\u001B[49m\u001B[43m,\u001B[49m\u001B[43m \u001B[49m\u001B[43mn_trials\u001B[49m\u001B[38;5;241;43m=\u001B[39;49m\u001B[38;5;241;43m50\u001B[39;49m\u001B[43m)\u001B[49m\n\u001B[1;32m     43\u001B[0m study\u001B[38;5;241m.\u001B[39mbest_params\n",
      "File \u001B[0;32m~/Documents/Master of Statistics/2/Modern Data Analytics/Project/G0Z39a/.venv/lib/python3.9/site-packages/optuna/study/study.py:400\u001B[0m, in \u001B[0;36mStudy.optimize\u001B[0;34m(self, func, n_trials, timeout, n_jobs, catch, callbacks, gc_after_trial, show_progress_bar)\u001B[0m\n\u001B[1;32m    392\u001B[0m \u001B[38;5;28;01mif\u001B[39;00m n_jobs \u001B[38;5;241m!=\u001B[39m \u001B[38;5;241m1\u001B[39m:\n\u001B[1;32m    393\u001B[0m     warnings\u001B[38;5;241m.\u001B[39mwarn(\n\u001B[1;32m    394\u001B[0m         \u001B[38;5;124m\"\u001B[39m\u001B[38;5;124m`n_jobs` argument has been deprecated in v2.7.0. \u001B[39m\u001B[38;5;124m\"\u001B[39m\n\u001B[1;32m    395\u001B[0m         \u001B[38;5;124m\"\u001B[39m\u001B[38;5;124mThis feature will be removed in v4.0.0. \u001B[39m\u001B[38;5;124m\"\u001B[39m\n\u001B[1;32m    396\u001B[0m         \u001B[38;5;124m\"\u001B[39m\u001B[38;5;124mSee https://github.com/optuna/optuna/releases/tag/v2.7.0.\u001B[39m\u001B[38;5;124m\"\u001B[39m,\n\u001B[1;32m    397\u001B[0m         \u001B[38;5;167;01mFutureWarning\u001B[39;00m,\n\u001B[1;32m    398\u001B[0m     )\n\u001B[0;32m--> 400\u001B[0m \u001B[43m_optimize\u001B[49m\u001B[43m(\u001B[49m\n\u001B[1;32m    401\u001B[0m \u001B[43m    \u001B[49m\u001B[43mstudy\u001B[49m\u001B[38;5;241;43m=\u001B[39;49m\u001B[38;5;28;43mself\u001B[39;49m\u001B[43m,\u001B[49m\n\u001B[1;32m    402\u001B[0m \u001B[43m    \u001B[49m\u001B[43mfunc\u001B[49m\u001B[38;5;241;43m=\u001B[39;49m\u001B[43mfunc\u001B[49m\u001B[43m,\u001B[49m\n\u001B[1;32m    403\u001B[0m \u001B[43m    \u001B[49m\u001B[43mn_trials\u001B[49m\u001B[38;5;241;43m=\u001B[39;49m\u001B[43mn_trials\u001B[49m\u001B[43m,\u001B[49m\n\u001B[1;32m    404\u001B[0m \u001B[43m    \u001B[49m\u001B[43mtimeout\u001B[49m\u001B[38;5;241;43m=\u001B[39;49m\u001B[43mtimeout\u001B[49m\u001B[43m,\u001B[49m\n\u001B[1;32m    405\u001B[0m \u001B[43m    \u001B[49m\u001B[43mn_jobs\u001B[49m\u001B[38;5;241;43m=\u001B[39;49m\u001B[43mn_jobs\u001B[49m\u001B[43m,\u001B[49m\n\u001B[1;32m    406\u001B[0m \u001B[43m    \u001B[49m\u001B[43mcatch\u001B[49m\u001B[38;5;241;43m=\u001B[39;49m\u001B[43mcatch\u001B[49m\u001B[43m,\u001B[49m\n\u001B[1;32m    407\u001B[0m \u001B[43m    \u001B[49m\u001B[43mcallbacks\u001B[49m\u001B[38;5;241;43m=\u001B[39;49m\u001B[43mcallbacks\u001B[49m\u001B[43m,\u001B[49m\n\u001B[1;32m    408\u001B[0m \u001B[43m    \u001B[49m\u001B[43mgc_after_trial\u001B[49m\u001B[38;5;241;43m=\u001B[39;49m\u001B[43mgc_after_trial\u001B[49m\u001B[43m,\u001B[49m\n\u001B[1;32m    409\u001B[0m \u001B[43m    \u001B[49m\u001B[43mshow_progress_bar\u001B[49m\u001B[38;5;241;43m=\u001B[39;49m\u001B[43mshow_progress_bar\u001B[49m\u001B[43m,\u001B[49m\n\u001B[1;32m    410\u001B[0m \u001B[43m\u001B[49m\u001B[43m)\u001B[49m\n",
      "File \u001B[0;32m~/Documents/Master of Statistics/2/Modern Data Analytics/Project/G0Z39a/.venv/lib/python3.9/site-packages/optuna/study/_optimize.py:66\u001B[0m, in \u001B[0;36m_optimize\u001B[0;34m(study, func, n_trials, timeout, n_jobs, catch, callbacks, gc_after_trial, show_progress_bar)\u001B[0m\n\u001B[1;32m     64\u001B[0m \u001B[38;5;28;01mtry\u001B[39;00m:\n\u001B[1;32m     65\u001B[0m     \u001B[38;5;28;01mif\u001B[39;00m n_jobs \u001B[38;5;241m==\u001B[39m \u001B[38;5;241m1\u001B[39m:\n\u001B[0;32m---> 66\u001B[0m         \u001B[43m_optimize_sequential\u001B[49m\u001B[43m(\u001B[49m\n\u001B[1;32m     67\u001B[0m \u001B[43m            \u001B[49m\u001B[43mstudy\u001B[49m\u001B[43m,\u001B[49m\n\u001B[1;32m     68\u001B[0m \u001B[43m            \u001B[49m\u001B[43mfunc\u001B[49m\u001B[43m,\u001B[49m\n\u001B[1;32m     69\u001B[0m \u001B[43m            \u001B[49m\u001B[43mn_trials\u001B[49m\u001B[43m,\u001B[49m\n\u001B[1;32m     70\u001B[0m \u001B[43m            \u001B[49m\u001B[43mtimeout\u001B[49m\u001B[43m,\u001B[49m\n\u001B[1;32m     71\u001B[0m \u001B[43m            \u001B[49m\u001B[43mcatch\u001B[49m\u001B[43m,\u001B[49m\n\u001B[1;32m     72\u001B[0m \u001B[43m            \u001B[49m\u001B[43mcallbacks\u001B[49m\u001B[43m,\u001B[49m\n\u001B[1;32m     73\u001B[0m \u001B[43m            \u001B[49m\u001B[43mgc_after_trial\u001B[49m\u001B[43m,\u001B[49m\n\u001B[1;32m     74\u001B[0m \u001B[43m            \u001B[49m\u001B[43mreseed_sampler_rng\u001B[49m\u001B[38;5;241;43m=\u001B[39;49m\u001B[38;5;28;43;01mFalse\u001B[39;49;00m\u001B[43m,\u001B[49m\n\u001B[1;32m     75\u001B[0m \u001B[43m            \u001B[49m\u001B[43mtime_start\u001B[49m\u001B[38;5;241;43m=\u001B[39;49m\u001B[38;5;28;43;01mNone\u001B[39;49;00m\u001B[43m,\u001B[49m\n\u001B[1;32m     76\u001B[0m \u001B[43m            \u001B[49m\u001B[43mprogress_bar\u001B[49m\u001B[38;5;241;43m=\u001B[39;49m\u001B[43mprogress_bar\u001B[49m\u001B[43m,\u001B[49m\n\u001B[1;32m     77\u001B[0m \u001B[43m        \u001B[49m\u001B[43m)\u001B[49m\n\u001B[1;32m     78\u001B[0m     \u001B[38;5;28;01melse\u001B[39;00m:\n\u001B[1;32m     79\u001B[0m         \u001B[38;5;28;01mif\u001B[39;00m show_progress_bar:\n",
      "File \u001B[0;32m~/Documents/Master of Statistics/2/Modern Data Analytics/Project/G0Z39a/.venv/lib/python3.9/site-packages/optuna/study/_optimize.py:163\u001B[0m, in \u001B[0;36m_optimize_sequential\u001B[0;34m(study, func, n_trials, timeout, catch, callbacks, gc_after_trial, reseed_sampler_rng, time_start, progress_bar)\u001B[0m\n\u001B[1;32m    160\u001B[0m         \u001B[38;5;28;01mbreak\u001B[39;00m\n\u001B[1;32m    162\u001B[0m \u001B[38;5;28;01mtry\u001B[39;00m:\n\u001B[0;32m--> 163\u001B[0m     trial \u001B[38;5;241m=\u001B[39m \u001B[43m_run_trial\u001B[49m\u001B[43m(\u001B[49m\u001B[43mstudy\u001B[49m\u001B[43m,\u001B[49m\u001B[43m \u001B[49m\u001B[43mfunc\u001B[49m\u001B[43m,\u001B[49m\u001B[43m \u001B[49m\u001B[43mcatch\u001B[49m\u001B[43m)\u001B[49m\n\u001B[1;32m    164\u001B[0m \u001B[38;5;28;01mexcept\u001B[39;00m \u001B[38;5;167;01mException\u001B[39;00m:\n\u001B[1;32m    165\u001B[0m     \u001B[38;5;28;01mraise\u001B[39;00m\n",
      "File \u001B[0;32m~/Documents/Master of Statistics/2/Modern Data Analytics/Project/G0Z39a/.venv/lib/python3.9/site-packages/optuna/study/_optimize.py:213\u001B[0m, in \u001B[0;36m_run_trial\u001B[0;34m(study, func, catch)\u001B[0m\n\u001B[1;32m    210\u001B[0m     thread\u001B[38;5;241m.\u001B[39mstart()\n\u001B[1;32m    212\u001B[0m \u001B[38;5;28;01mtry\u001B[39;00m:\n\u001B[0;32m--> 213\u001B[0m     value_or_values \u001B[38;5;241m=\u001B[39m \u001B[43mfunc\u001B[49m\u001B[43m(\u001B[49m\u001B[43mtrial\u001B[49m\u001B[43m)\u001B[49m\n\u001B[1;32m    214\u001B[0m \u001B[38;5;28;01mexcept\u001B[39;00m exceptions\u001B[38;5;241m.\u001B[39mTrialPruned \u001B[38;5;28;01mas\u001B[39;00m e:\n\u001B[1;32m    215\u001B[0m     \u001B[38;5;66;03m# TODO(mamu): Handle multi-objective cases.\u001B[39;00m\n\u001B[1;32m    216\u001B[0m     state \u001B[38;5;241m=\u001B[39m TrialState\u001B[38;5;241m.\u001B[39mPRUNED\n",
      "Input \u001B[0;32mIn [13]\u001B[0m, in \u001B[0;36mobjective\u001B[0;34m(trial)\u001B[0m\n\u001B[1;32m     21\u001B[0m forecaster \u001B[38;5;241m=\u001B[39m LGBMForecaster(lgb\u001B[38;5;241m.\u001B[39mLGBMRegressor(objective\u001B[38;5;241m=\u001B[39mmae\u001B[38;5;241m.\u001B[39mname), lag\u001B[38;5;241m=\u001B[39m\u001B[38;5;241m12\u001B[39m)\n\u001B[1;32m     23\u001B[0m X: pd\u001B[38;5;241m.\u001B[39mDataFrame \u001B[38;5;241m=\u001B[39m embedding\u001B[38;5;241m.\u001B[39mload_dataframe(\n\u001B[1;32m     24\u001B[0m     connection\u001B[38;5;241m=\u001B[39mconn,\n\u001B[1;32m     25\u001B[0m     embedding_dimension\u001B[38;5;241m=\u001B[39mtrial\u001B[38;5;241m.\u001B[39msuggest_int(\u001B[38;5;124m\"\u001B[39m\u001B[38;5;124mdim\u001B[39m\u001B[38;5;124m\"\u001B[39m, \u001B[38;5;241m8\u001B[39m, \u001B[38;5;241m512\u001B[39m, log\u001B[38;5;241m=\u001B[39m\u001B[38;5;28;01mTrue\u001B[39;00m),\n\u001B[0;32m   (...)\u001B[0m\n\u001B[1;32m     31\u001B[0m     self_influence\u001B[38;5;241m=\u001B[39mtrial\u001B[38;5;241m.\u001B[39msuggest_float(\u001B[38;5;124m\"\u001B[39m\u001B[38;5;124mself_influence\u001B[39m\u001B[38;5;124m\"\u001B[39m, \u001B[38;5;241m0.0\u001B[39m, \u001B[38;5;241m1.0\u001B[39m),\n\u001B[1;32m     32\u001B[0m )\u001B[38;5;241m.\u001B[39mrename(index\u001B[38;5;241m=\u001B[39m{\u001B[38;5;124m\"\u001B[39m\u001B[38;5;124mfips\u001B[39m\u001B[38;5;124m\"\u001B[39m: \u001B[38;5;124m\"\u001B[39m\u001B[38;5;124mFIPS\u001B[39m\u001B[38;5;124m\"\u001B[39m})\n\u001B[0;32m---> 34\u001B[0m scores: Sequence[\u001B[38;5;28mfloat\u001B[39m] \u001B[38;5;241m=\u001B[39m \u001B[43mcross_validate\u001B[49m\u001B[43m(\u001B[49m\n\u001B[1;32m     35\u001B[0m \u001B[43m    \u001B[49m\u001B[43mforecaster\u001B[49m\u001B[43m,\u001B[49m\u001B[43m \u001B[49m\u001B[43msplitter\u001B[49m\u001B[38;5;241;43m=\u001B[39;49m\u001B[43msplitter\u001B[49m\u001B[43m,\u001B[49m\u001B[43m \u001B[49m\u001B[43my\u001B[49m\u001B[38;5;241;43m=\u001B[39;49m\u001B[43mdf\u001B[49m\u001B[43m[\u001B[49m\u001B[43m[\u001B[49m\u001B[38;5;124;43m\"\u001B[39;49m\u001B[38;5;124;43mnew_cases\u001B[39;49m\u001B[38;5;124;43m\"\u001B[39;49m\u001B[43m]\u001B[49m\u001B[43m]\u001B[49m\u001B[43m,\u001B[49m\u001B[43m \u001B[49m\u001B[43mXs\u001B[49m\u001B[38;5;241;43m=\u001B[39;49m\u001B[43m[\u001B[49m\u001B[43mX\u001B[49m\u001B[43m]\u001B[49m\u001B[43m,\u001B[49m\u001B[43m \u001B[49m\u001B[43mloss\u001B[49m\u001B[38;5;241;43m=\u001B[39;49m\u001B[43mmae\u001B[49m\u001B[38;5;241;43m.\u001B[39;49m\u001B[43mfunction\u001B[49m\n\u001B[1;32m     36\u001B[0m \u001B[43m\u001B[49m\u001B[43m)\u001B[49m\n\u001B[1;32m     37\u001B[0m \u001B[38;5;28;01mreturn\u001B[39;00m np\u001B[38;5;241m.\u001B[39mmean(scores)\n",
      "File \u001B[0;32m~/Documents/Master of Statistics/2/Modern Data Analytics/Project/G0Z39a/src/nepal/ml/validate.py:26\u001B[0m, in \u001B[0;36mcross_validate\u001B[0;34m(forecaster, splitter, y, Xs, loss)\u001B[0m\n\u001B[1;32m     24\u001B[0m scores: List[\u001B[38;5;28mfloat\u001B[39m] \u001B[38;5;241m=\u001B[39m []\n\u001B[1;32m     25\u001B[0m \u001B[38;5;28;01mfor\u001B[39;00m df_train, df_test \u001B[38;5;129;01min\u001B[39;00m splitter\u001B[38;5;241m.\u001B[39mtrain_test_splits(y\u001B[38;5;241m=\u001B[39my):\n\u001B[0;32m---> 26\u001B[0m     model \u001B[38;5;241m=\u001B[39m \u001B[43mforecaster\u001B[49m\u001B[38;5;241;43m.\u001B[39;49m\u001B[43mfit\u001B[49m\u001B[43m(\u001B[49m\u001B[43my\u001B[49m\u001B[38;5;241;43m=\u001B[39;49m\u001B[43mdf_train\u001B[49m\u001B[43m,\u001B[49m\u001B[43m \u001B[49m\u001B[43mXs\u001B[49m\u001B[38;5;241;43m=\u001B[39;49m\u001B[43mXs\u001B[49m\u001B[43m)\u001B[49m\n\u001B[1;32m     27\u001B[0m     df_pred \u001B[38;5;241m=\u001B[39m model\u001B[38;5;241m.\u001B[39mforecast(fh\u001B[38;5;241m=\u001B[39msplitter\u001B[38;5;241m.\u001B[39mfh, y\u001B[38;5;241m=\u001B[39mdf_train, Xs\u001B[38;5;241m=\u001B[39mXs)\n\u001B[1;32m     29\u001B[0m     \u001B[38;5;28;01mwith\u001B[39;00m warnings\u001B[38;5;241m.\u001B[39mcatch_warnings():\n",
      "File \u001B[0;32m~/Documents/Master of Statistics/2/Modern Data Analytics/Project/G0Z39a/src/nepal/ml/forecaster.py:29\u001B[0m, in \u001B[0;36mBaseForecaster.fit\u001B[0;34m(self, y, Xs, transformers, **kwargs)\u001B[0m\n\u001B[1;32m     26\u001B[0m \u001B[38;5;28;01mif\u001B[39;00m \u001B[38;5;129;01mnot\u001B[39;00m Xs:\n\u001B[1;32m     27\u001B[0m     Xs \u001B[38;5;241m=\u001B[39m []\n\u001B[0;32m---> 29\u001B[0m \u001B[38;5;28;01mreturn\u001B[39;00m \u001B[38;5;28;43mself\u001B[39;49m\u001B[38;5;241;43m.\u001B[39;49m\u001B[43m_fit\u001B[49m\u001B[43m(\u001B[49m\u001B[43my\u001B[49m\u001B[38;5;241;43m=\u001B[39;49m\u001B[43my\u001B[49m\u001B[43m,\u001B[49m\u001B[43m \u001B[49m\u001B[43mXs\u001B[49m\u001B[38;5;241;43m=\u001B[39;49m\u001B[43mXs\u001B[49m\u001B[43m,\u001B[49m\u001B[43m \u001B[49m\u001B[38;5;241;43m*\u001B[39;49m\u001B[38;5;241;43m*\u001B[39;49m\u001B[43mkwargs\u001B[49m\u001B[43m)\u001B[49m\n",
      "File \u001B[0;32m~/Documents/Master of Statistics/2/Modern Data Analytics/Project/G0Z39a/src/nepal/ml/forecaster.py:156\u001B[0m, in \u001B[0;36mLGBMForecaster._fit\u001B[0;34m(self, y, Xs, **kwargs)\u001B[0m\n\u001B[1;32m    152\u001B[0m     X_t \u001B[38;5;241m=\u001B[39m X_t\u001B[38;5;241m.\u001B[39mmerge(exogenous, how\u001B[38;5;241m=\u001B[39m\u001B[38;5;124m\"\u001B[39m\u001B[38;5;124mleft\u001B[39m\u001B[38;5;124m\"\u001B[39m, left_index\u001B[38;5;241m=\u001B[39m\u001B[38;5;28;01mTrue\u001B[39;00m, right_index\u001B[38;5;241m=\u001B[39m\u001B[38;5;28;01mTrue\u001B[39;00m)\n\u001B[1;32m    154\u001B[0m y_t: pd\u001B[38;5;241m.\u001B[39mDataFrame \u001B[38;5;241m=\u001B[39m y_lagged[targets]\n\u001B[0;32m--> 156\u001B[0m \u001B[38;5;28mself\u001B[39m\u001B[38;5;241m.\u001B[39m_model \u001B[38;5;241m=\u001B[39m \u001B[38;5;28;43mself\u001B[39;49m\u001B[38;5;241;43m.\u001B[39;49m\u001B[43m_model\u001B[49m\u001B[38;5;241;43m.\u001B[39;49m\u001B[43mfit\u001B[49m\u001B[43m(\u001B[49m\u001B[43mX\u001B[49m\u001B[38;5;241;43m=\u001B[39;49m\u001B[43mX_t\u001B[49m\u001B[43m,\u001B[49m\u001B[43m \u001B[49m\u001B[43my\u001B[49m\u001B[38;5;241;43m=\u001B[39;49m\u001B[43my_t\u001B[49m\u001B[43m,\u001B[49m\u001B[43m \u001B[49m\u001B[38;5;241;43m*\u001B[39;49m\u001B[38;5;241;43m*\u001B[39;49m\u001B[43mkwargs\u001B[49m\u001B[43m)\u001B[49m\n\u001B[1;32m    157\u001B[0m \u001B[38;5;28;01mreturn\u001B[39;00m \u001B[38;5;28mself\u001B[39m\n",
      "File \u001B[0;32m~/Documents/Master of Statistics/2/Modern Data Analytics/Project/G0Z39a/.venv/lib/python3.9/site-packages/lightgbm/sklearn.py:895\u001B[0m, in \u001B[0;36mLGBMRegressor.fit\u001B[0;34m(self, X, y, sample_weight, init_score, eval_set, eval_names, eval_sample_weight, eval_init_score, eval_metric, early_stopping_rounds, verbose, feature_name, categorical_feature, callbacks, init_model)\u001B[0m\n\u001B[1;32m    888\u001B[0m \u001B[38;5;28;01mdef\u001B[39;00m \u001B[38;5;21mfit\u001B[39m(\u001B[38;5;28mself\u001B[39m, X, y,\n\u001B[1;32m    889\u001B[0m         sample_weight\u001B[38;5;241m=\u001B[39m\u001B[38;5;28;01mNone\u001B[39;00m, init_score\u001B[38;5;241m=\u001B[39m\u001B[38;5;28;01mNone\u001B[39;00m,\n\u001B[1;32m    890\u001B[0m         eval_set\u001B[38;5;241m=\u001B[39m\u001B[38;5;28;01mNone\u001B[39;00m, eval_names\u001B[38;5;241m=\u001B[39m\u001B[38;5;28;01mNone\u001B[39;00m, eval_sample_weight\u001B[38;5;241m=\u001B[39m\u001B[38;5;28;01mNone\u001B[39;00m,\n\u001B[1;32m    891\u001B[0m         eval_init_score\u001B[38;5;241m=\u001B[39m\u001B[38;5;28;01mNone\u001B[39;00m, eval_metric\u001B[38;5;241m=\u001B[39m\u001B[38;5;28;01mNone\u001B[39;00m, early_stopping_rounds\u001B[38;5;241m=\u001B[39m\u001B[38;5;28;01mNone\u001B[39;00m,\n\u001B[1;32m    892\u001B[0m         verbose\u001B[38;5;241m=\u001B[39m\u001B[38;5;124m'\u001B[39m\u001B[38;5;124mwarn\u001B[39m\u001B[38;5;124m'\u001B[39m, feature_name\u001B[38;5;241m=\u001B[39m\u001B[38;5;124m'\u001B[39m\u001B[38;5;124mauto\u001B[39m\u001B[38;5;124m'\u001B[39m, categorical_feature\u001B[38;5;241m=\u001B[39m\u001B[38;5;124m'\u001B[39m\u001B[38;5;124mauto\u001B[39m\u001B[38;5;124m'\u001B[39m,\n\u001B[1;32m    893\u001B[0m         callbacks\u001B[38;5;241m=\u001B[39m\u001B[38;5;28;01mNone\u001B[39;00m, init_model\u001B[38;5;241m=\u001B[39m\u001B[38;5;28;01mNone\u001B[39;00m):\n\u001B[1;32m    894\u001B[0m     \u001B[38;5;124;03m\"\"\"Docstring is inherited from the LGBMModel.\"\"\"\u001B[39;00m\n\u001B[0;32m--> 895\u001B[0m     \u001B[38;5;28;43msuper\u001B[39;49m\u001B[43m(\u001B[49m\u001B[43m)\u001B[49m\u001B[38;5;241;43m.\u001B[39;49m\u001B[43mfit\u001B[49m\u001B[43m(\u001B[49m\u001B[43mX\u001B[49m\u001B[43m,\u001B[49m\u001B[43m \u001B[49m\u001B[43my\u001B[49m\u001B[43m,\u001B[49m\u001B[43m \u001B[49m\u001B[43msample_weight\u001B[49m\u001B[38;5;241;43m=\u001B[39;49m\u001B[43msample_weight\u001B[49m\u001B[43m,\u001B[49m\u001B[43m \u001B[49m\u001B[43minit_score\u001B[49m\u001B[38;5;241;43m=\u001B[39;49m\u001B[43minit_score\u001B[49m\u001B[43m,\u001B[49m\n\u001B[1;32m    896\u001B[0m \u001B[43m                \u001B[49m\u001B[43meval_set\u001B[49m\u001B[38;5;241;43m=\u001B[39;49m\u001B[43meval_set\u001B[49m\u001B[43m,\u001B[49m\u001B[43m \u001B[49m\u001B[43meval_names\u001B[49m\u001B[38;5;241;43m=\u001B[39;49m\u001B[43meval_names\u001B[49m\u001B[43m,\u001B[49m\u001B[43m \u001B[49m\u001B[43meval_sample_weight\u001B[49m\u001B[38;5;241;43m=\u001B[39;49m\u001B[43meval_sample_weight\u001B[49m\u001B[43m,\u001B[49m\n\u001B[1;32m    897\u001B[0m \u001B[43m                \u001B[49m\u001B[43meval_init_score\u001B[49m\u001B[38;5;241;43m=\u001B[39;49m\u001B[43meval_init_score\u001B[49m\u001B[43m,\u001B[49m\u001B[43m \u001B[49m\u001B[43meval_metric\u001B[49m\u001B[38;5;241;43m=\u001B[39;49m\u001B[43meval_metric\u001B[49m\u001B[43m,\u001B[49m\n\u001B[1;32m    898\u001B[0m \u001B[43m                \u001B[49m\u001B[43mearly_stopping_rounds\u001B[49m\u001B[38;5;241;43m=\u001B[39;49m\u001B[43mearly_stopping_rounds\u001B[49m\u001B[43m,\u001B[49m\u001B[43m \u001B[49m\u001B[43mverbose\u001B[49m\u001B[38;5;241;43m=\u001B[39;49m\u001B[43mverbose\u001B[49m\u001B[43m,\u001B[49m\u001B[43m \u001B[49m\u001B[43mfeature_name\u001B[49m\u001B[38;5;241;43m=\u001B[39;49m\u001B[43mfeature_name\u001B[49m\u001B[43m,\u001B[49m\n\u001B[1;32m    899\u001B[0m \u001B[43m                \u001B[49m\u001B[43mcategorical_feature\u001B[49m\u001B[38;5;241;43m=\u001B[39;49m\u001B[43mcategorical_feature\u001B[49m\u001B[43m,\u001B[49m\u001B[43m \u001B[49m\u001B[43mcallbacks\u001B[49m\u001B[38;5;241;43m=\u001B[39;49m\u001B[43mcallbacks\u001B[49m\u001B[43m,\u001B[49m\u001B[43m \u001B[49m\u001B[43minit_model\u001B[49m\u001B[38;5;241;43m=\u001B[39;49m\u001B[43minit_model\u001B[49m\u001B[43m)\u001B[49m\n\u001B[1;32m    900\u001B[0m     \u001B[38;5;28;01mreturn\u001B[39;00m \u001B[38;5;28mself\u001B[39m\n",
      "File \u001B[0;32m~/Documents/Master of Statistics/2/Modern Data Analytics/Project/G0Z39a/.venv/lib/python3.9/site-packages/lightgbm/sklearn.py:748\u001B[0m, in \u001B[0;36mLGBMModel.fit\u001B[0;34m(self, X, y, sample_weight, init_score, group, eval_set, eval_names, eval_sample_weight, eval_class_weight, eval_init_score, eval_group, eval_metric, early_stopping_rounds, verbose, feature_name, categorical_feature, callbacks, init_model)\u001B[0m\n\u001B[1;32m    745\u001B[0m evals_result \u001B[38;5;241m=\u001B[39m {}\n\u001B[1;32m    746\u001B[0m callbacks\u001B[38;5;241m.\u001B[39mappend(record_evaluation(evals_result))\n\u001B[0;32m--> 748\u001B[0m \u001B[38;5;28mself\u001B[39m\u001B[38;5;241m.\u001B[39m_Booster \u001B[38;5;241m=\u001B[39m \u001B[43mtrain\u001B[49m\u001B[43m(\u001B[49m\n\u001B[1;32m    749\u001B[0m \u001B[43m    \u001B[49m\u001B[43mparams\u001B[49m\u001B[38;5;241;43m=\u001B[39;49m\u001B[43mparams\u001B[49m\u001B[43m,\u001B[49m\n\u001B[1;32m    750\u001B[0m \u001B[43m    \u001B[49m\u001B[43mtrain_set\u001B[49m\u001B[38;5;241;43m=\u001B[39;49m\u001B[43mtrain_set\u001B[49m\u001B[43m,\u001B[49m\n\u001B[1;32m    751\u001B[0m \u001B[43m    \u001B[49m\u001B[43mnum_boost_round\u001B[49m\u001B[38;5;241;43m=\u001B[39;49m\u001B[38;5;28;43mself\u001B[39;49m\u001B[38;5;241;43m.\u001B[39;49m\u001B[43mn_estimators\u001B[49m\u001B[43m,\u001B[49m\n\u001B[1;32m    752\u001B[0m \u001B[43m    \u001B[49m\u001B[43mvalid_sets\u001B[49m\u001B[38;5;241;43m=\u001B[39;49m\u001B[43mvalid_sets\u001B[49m\u001B[43m,\u001B[49m\n\u001B[1;32m    753\u001B[0m \u001B[43m    \u001B[49m\u001B[43mvalid_names\u001B[49m\u001B[38;5;241;43m=\u001B[39;49m\u001B[43meval_names\u001B[49m\u001B[43m,\u001B[49m\n\u001B[1;32m    754\u001B[0m \u001B[43m    \u001B[49m\u001B[43mfobj\u001B[49m\u001B[38;5;241;43m=\u001B[39;49m\u001B[38;5;28;43mself\u001B[39;49m\u001B[38;5;241;43m.\u001B[39;49m\u001B[43m_fobj\u001B[49m\u001B[43m,\u001B[49m\n\u001B[1;32m    755\u001B[0m \u001B[43m    \u001B[49m\u001B[43mfeval\u001B[49m\u001B[38;5;241;43m=\u001B[39;49m\u001B[43meval_metrics_callable\u001B[49m\u001B[43m,\u001B[49m\n\u001B[1;32m    756\u001B[0m \u001B[43m    \u001B[49m\u001B[43minit_model\u001B[49m\u001B[38;5;241;43m=\u001B[39;49m\u001B[43minit_model\u001B[49m\u001B[43m,\u001B[49m\n\u001B[1;32m    757\u001B[0m \u001B[43m    \u001B[49m\u001B[43mfeature_name\u001B[49m\u001B[38;5;241;43m=\u001B[39;49m\u001B[43mfeature_name\u001B[49m\u001B[43m,\u001B[49m\n\u001B[1;32m    758\u001B[0m \u001B[43m    \u001B[49m\u001B[43mcallbacks\u001B[49m\u001B[38;5;241;43m=\u001B[39;49m\u001B[43mcallbacks\u001B[49m\n\u001B[1;32m    759\u001B[0m \u001B[43m\u001B[49m\u001B[43m)\u001B[49m\n\u001B[1;32m    761\u001B[0m \u001B[38;5;28;01mif\u001B[39;00m evals_result:\n\u001B[1;32m    762\u001B[0m     \u001B[38;5;28mself\u001B[39m\u001B[38;5;241m.\u001B[39m_evals_result \u001B[38;5;241m=\u001B[39m evals_result\n",
      "File \u001B[0;32m~/Documents/Master of Statistics/2/Modern Data Analytics/Project/G0Z39a/.venv/lib/python3.9/site-packages/lightgbm/engine.py:292\u001B[0m, in \u001B[0;36mtrain\u001B[0;34m(params, train_set, num_boost_round, valid_sets, valid_names, fobj, feval, init_model, feature_name, categorical_feature, early_stopping_rounds, evals_result, verbose_eval, learning_rates, keep_training_booster, callbacks)\u001B[0m\n\u001B[1;32m    284\u001B[0m \u001B[38;5;28;01mfor\u001B[39;00m cb \u001B[38;5;129;01min\u001B[39;00m callbacks_before_iter:\n\u001B[1;32m    285\u001B[0m     cb(callback\u001B[38;5;241m.\u001B[39mCallbackEnv(model\u001B[38;5;241m=\u001B[39mbooster,\n\u001B[1;32m    286\u001B[0m                             params\u001B[38;5;241m=\u001B[39mparams,\n\u001B[1;32m    287\u001B[0m                             iteration\u001B[38;5;241m=\u001B[39mi,\n\u001B[1;32m    288\u001B[0m                             begin_iteration\u001B[38;5;241m=\u001B[39minit_iteration,\n\u001B[1;32m    289\u001B[0m                             end_iteration\u001B[38;5;241m=\u001B[39minit_iteration \u001B[38;5;241m+\u001B[39m num_boost_round,\n\u001B[1;32m    290\u001B[0m                             evaluation_result_list\u001B[38;5;241m=\u001B[39m\u001B[38;5;28;01mNone\u001B[39;00m))\n\u001B[0;32m--> 292\u001B[0m \u001B[43mbooster\u001B[49m\u001B[38;5;241;43m.\u001B[39;49m\u001B[43mupdate\u001B[49m\u001B[43m(\u001B[49m\u001B[43mfobj\u001B[49m\u001B[38;5;241;43m=\u001B[39;49m\u001B[43mfobj\u001B[49m\u001B[43m)\u001B[49m\n\u001B[1;32m    294\u001B[0m evaluation_result_list \u001B[38;5;241m=\u001B[39m []\n\u001B[1;32m    295\u001B[0m \u001B[38;5;66;03m# check evaluation result.\u001B[39;00m\n",
      "File \u001B[0;32m~/Documents/Master of Statistics/2/Modern Data Analytics/Project/G0Z39a/.venv/lib/python3.9/site-packages/lightgbm/basic.py:3021\u001B[0m, in \u001B[0;36mBooster.update\u001B[0;34m(self, train_set, fobj)\u001B[0m\n\u001B[1;32m   3019\u001B[0m \u001B[38;5;28;01mif\u001B[39;00m \u001B[38;5;28mself\u001B[39m\u001B[38;5;241m.\u001B[39m__set_objective_to_none:\n\u001B[1;32m   3020\u001B[0m     \u001B[38;5;28;01mraise\u001B[39;00m LightGBMError(\u001B[38;5;124m'\u001B[39m\u001B[38;5;124mCannot update due to null objective function.\u001B[39m\u001B[38;5;124m'\u001B[39m)\n\u001B[0;32m-> 3021\u001B[0m _safe_call(\u001B[43m_LIB\u001B[49m\u001B[38;5;241;43m.\u001B[39;49m\u001B[43mLGBM_BoosterUpdateOneIter\u001B[49m\u001B[43m(\u001B[49m\n\u001B[1;32m   3022\u001B[0m \u001B[43m    \u001B[49m\u001B[38;5;28;43mself\u001B[39;49m\u001B[38;5;241;43m.\u001B[39;49m\u001B[43mhandle\u001B[49m\u001B[43m,\u001B[49m\n\u001B[1;32m   3023\u001B[0m \u001B[43m    \u001B[49m\u001B[43mctypes\u001B[49m\u001B[38;5;241;43m.\u001B[39;49m\u001B[43mbyref\u001B[49m\u001B[43m(\u001B[49m\u001B[43mis_finished\u001B[49m\u001B[43m)\u001B[49m\u001B[43m)\u001B[49m)\n\u001B[1;32m   3024\u001B[0m \u001B[38;5;28mself\u001B[39m\u001B[38;5;241m.\u001B[39m__is_predicted_cur_iter \u001B[38;5;241m=\u001B[39m [\u001B[38;5;28;01mFalse\u001B[39;00m \u001B[38;5;28;01mfor\u001B[39;00m _ \u001B[38;5;129;01min\u001B[39;00m \u001B[38;5;28mrange\u001B[39m(\u001B[38;5;28mself\u001B[39m\u001B[38;5;241m.\u001B[39m__num_dataset)]\n\u001B[1;32m   3025\u001B[0m \u001B[38;5;28;01mreturn\u001B[39;00m is_finished\u001B[38;5;241m.\u001B[39mvalue \u001B[38;5;241m==\u001B[39m \u001B[38;5;241m1\u001B[39m\n",
      "\u001B[0;31mKeyboardInterrupt\u001B[0m: "
     ]
    }
   ],
   "source": [
    "import optuna\n",
    "import lightgbm as lgb\n",
    "from sktime.forecasting.base import ForecastingHorizon\n",
    "from sktime.forecasting.model_selection import SlidingWindowSplitter\n",
    "\n",
    "from nepal.ml.forecaster import LGBMForecaster\n",
    "from nepal.ml.splitter import Splitter\n",
    "\n",
    "from nepal.graph.gds import CountyEmbedding\n",
    "\n",
    "\n",
    "embedding = CountyEmbedding()\n",
    "embedding.create_projection(conn)\n",
    "\n",
    "fh = ForecastingHorizon(list(range(1, 15)))\n",
    "cv = SlidingWindowSplitter(fh=fh, window_length=120, step_length=60)\n",
    "splitter: Splitter = Splitter(cv)\n",
    "\n",
    "\n",
    "def objective(trial: optuna.Trial) -> float:\n",
    "    forecaster = LGBMForecaster(lgb.LGBMRegressor(objective=mae.name), lag=12)\n",
    "\n",
    "    X: pd.DataFrame = embedding.load_dataframe(\n",
    "        connection=conn,\n",
    "        embedding_dimension=trial.suggest_int(\"dim\", 8, 512, log=True),\n",
    "        weight2=trial.suggest_float(\"weight2\", 0.0, 1.0),\n",
    "        weight3=trial.suggest_float(\"weight3\", 0.0, 1.0),\n",
    "        weight4=trial.suggest_float(\"weight4\", 0.0, 1.0),\n",
    "        normalization=trial.suggest_float(\"normalization\", -1.0, 1.0),\n",
    "        property_ratio=trial.suggest_float(\"prop_ratio\", 0.0, 1.0),\n",
    "        self_influence=trial.suggest_float(\"self_influence\", 0.0, 1.0),\n",
    "    ).rename(index={\"fips\": \"FIPS\"})\n",
    "\n",
    "    scores: Sequence[float] = cross_validate(\n",
    "        forecaster, splitter=splitter, y=df[[\"new_cases\"]], Xs=[X], loss=mae.function\n",
    "    )\n",
    "    return np.mean(scores)\n",
    "\n",
    "\n",
    "study = optuna.create_study(direction=\"minimize\")\n",
    "study.optimize(objective, n_trials=50)\n",
    "\n",
    "study.best_params\n",
    "# Best found values with default LGBM params and lag=12:\n",
    "# {'dim': 13,\n",
    "#  'weight2': 0.9095431576049532,\n",
    "#  'weight3': 0.3804723961743889,\n",
    "#  'weight4': 0.9975167117131349,\n",
    "#  'normalization': -0.9871365897384008,\n",
    "#  'prop_ratio': 0.12685783148389826,\n",
    "#  'self_influence': 0.44962816623765073}"
   ],
   "metadata": {
    "collapsed": false,
    "pycharm": {
     "name": "#%%\n"
    }
   }
  },
  {
   "cell_type": "code",
   "execution_count": 13,
   "outputs": [
    {
     "data": {
      "text/plain": "Train/Test split:   0%|          | 0/12 [00:00<?, ?it/s]",
      "application/vnd.jupyter.widget-view+json": {
       "version_major": 2,
       "version_minor": 0,
       "model_id": "5c56f593b7f741dfb050376be3ee19fa"
      }
     },
     "metadata": {},
     "output_type": "display_data"
    },
    {
     "name": "stdout",
     "output_type": "stream",
     "text": [
      "1.1615128487786013\n"
     ]
    }
   ],
   "source": [
    "# Evaluate found parameters\n",
    "\n",
    "fh = ForecastingHorizon(list(range(1, 15)))\n",
    "cv = SlidingWindowSplitter(fh=fh, window_length=120, step_length=60)\n",
    "splitter: Splitter = Splitter(cv)\n",
    "\n",
    "# Create regressor with default parameters\n",
    "forecaster = LGBMForecaster(lgb.LGBMRegressor(), lag=13)\n",
    "embedding = CountyEmbedding()\n",
    "\n",
    "X: pd.DataFrame = embedding.load_dataframe(\n",
    "    connection=conn,\n",
    "    embedding_dimension=16,\n",
    "    weight2=0.9,\n",
    "    weight3=0.4,\n",
    "    weight4=1.0,\n",
    "    normalization=-1.0,\n",
    "    property_ratio=0.15,\n",
    "    self_influence=0.45,\n",
    ")\n",
    "\n",
    "scores: Sequence[float] = cross_validate(\n",
    "    forecaster, splitter=splitter, y=df[[\"new_cases\"]], Xs=[X]\n",
    ")\n",
    "\n",
    "print(np.mean(scores))"
   ],
   "metadata": {
    "collapsed": false,
    "pycharm": {
     "name": "#%%\n"
    }
   }
  },
  {
   "cell_type": "code",
   "execution_count": null,
   "outputs": [],
   "source": [],
   "metadata": {
    "collapsed": false,
    "pycharm": {
     "name": "#%%\n"
    }
   }
  }
 ],
 "metadata": {
  "kernelspec": {
   "display_name": "Python 3",
   "language": "python",
   "name": "python3"
  },
  "language_info": {
   "codemirror_mode": {
    "name": "ipython",
    "version": 2
   },
   "file_extension": ".py",
   "mimetype": "text/x-python",
   "name": "python",
   "nbconvert_exporter": "python",
   "pygments_lexer": "ipython2",
   "version": "2.7.6"
  }
 },
 "nbformat": 4,
 "nbformat_minor": 0
}
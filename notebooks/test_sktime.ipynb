{
 "cells": [
  {
   "cell_type": "code",
   "execution_count": 1,
   "outputs": [],
   "source": [
    "from __future__ import annotations\n",
    "\n",
    "import numpy as np\n",
    "import pandas as pd\n",
    "\n",
    "from typing import *"
   ],
   "metadata": {
    "collapsed": false,
    "pycharm": {
     "name": "#%%\n"
    }
   }
  },
  {
   "cell_type": "code",
   "execution_count": 2,
   "outputs": [],
   "source": [
    "from nepal.datasets import NYTimes\n",
    "from nepal.ml.preprocess import Cases\n",
    "\n",
    "df: pd.DataFrame = Cases(NYTimes()).preprocessed()"
   ],
   "metadata": {
    "collapsed": false,
    "pycharm": {
     "name": "#%%\n"
    }
   }
  },
  {
   "cell_type": "code",
   "execution_count": 4,
   "outputs": [],
   "source": [
    "import warnings\n",
    "\n",
    "from sktime.performance_metrics.forecasting import mean_absolute_percentage_error as mape\n",
    "\n",
    "from nepal.ml.forecaster import BaseForecaster\n",
    "from nepal.ml.splitter import Splitter\n",
    "\n",
    "\n",
    "def cross_validate(\n",
    "    forecaster: BaseForecaster,\n",
    "    *,\n",
    "    splitter: Splitter,\n",
    "    y: pd.DataFrame,\n",
    "    Xs: Optional[Iterable[pd.DataFrame]] = None,\n",
    ") -> Sequence[float]:\n",
    "    scores: List[float] = []\n",
    "    for df_train, df_test in splitter.train_test_splits(y=y):\n",
    "        model = forecaster.fit(y=df_train, Xs=Xs)\n",
    "        df_pred = model.forecast(fh=splitter.fh, y=df_train, Xs=Xs)\n",
    "\n",
    "        with warnings.catch_warnings():\n",
    "            warnings.simplefilter(action=\"ignore\", category=FutureWarning)\n",
    "            score: float = mape(y_true=df_test, y_pred=df_pred, symmetric=True)\n",
    "            scores.append(score)\n",
    "\n",
    "    return scores"
   ],
   "metadata": {
    "collapsed": false,
    "pycharm": {
     "name": "#%%\n"
    }
   }
  },
  {
   "cell_type": "code",
   "execution_count": 5,
   "outputs": [
    {
     "data": {
      "text/plain": "Train/Test split:   0%|          | 0/13 [00:00<?, ?it/s]",
      "application/vnd.jupyter.widget-view+json": {
       "version_major": 2,
       "version_minor": 0,
       "model_id": "f5c3c14eb6ad40bda10486aef4529b24"
      }
     },
     "metadata": {},
     "output_type": "display_data"
    },
    {
     "name": "stdout",
     "output_type": "stream",
     "text": [
      "1.1961088902660946\n"
     ]
    }
   ],
   "source": [
    "import lightgbm as lgb\n",
    "from sktime.forecasting.base import ForecastingHorizon\n",
    "from sktime.forecasting.model_selection import SlidingWindowSplitter\n",
    "\n",
    "from nepal.ml.forecaster import LGBMForecaster\n",
    "from nepal.ml.splitter import Splitter\n",
    "\n",
    "fh = ForecastingHorizon(list(range(1, 15)))\n",
    "cv = SlidingWindowSplitter(fh=fh, window_length=60, step_length=60)\n",
    "splitter: Splitter = Splitter(cv)\n",
    "\n",
    "# Create regressor with default parameters\n",
    "forecaster = LGBMForecaster(lgb.LGBMRegressor(), lag=13)\n",
    "\n",
    "scores: Sequence[float] = cross_validate(forecaster, splitter=splitter, y=df[[\"new_cases\"]])\n",
    "print(np.mean(scores))"
   ],
   "metadata": {
    "collapsed": false,
    "pycharm": {
     "name": "#%%\n"
    }
   }
  },
  {
   "cell_type": "code",
   "execution_count": 6,
   "outputs": [
    {
     "data": {
      "text/plain": "<AxesSubplot:>"
     },
     "execution_count": 6,
     "metadata": {},
     "output_type": "execute_result"
    },
    {
     "data": {
      "text/plain": "<Figure size 432x288 with 1 Axes>",
      "image/png": "[encoded data removed]"
     },
     "metadata": {
      "needs_background": "light"
     },
     "output_type": "display_data"
    }
   ],
   "source": [
    "import seaborn as sns\n",
    "\n",
    "sns.set(style=\"darkgrid\")\n",
    "sns.lineplot(data=scores)"
   ],
   "metadata": {
    "collapsed": false,
    "pycharm": {
     "name": "#%%\n"
    }
   }
  },
  {
   "cell_type": "code",
   "execution_count": null,
   "outputs": [],
   "source": [
    "import optuna\n",
    "\n",
    "\n",
    "def objective(trial: optuna.Trial) -> float:\n",
    "    lag = trial.suggest_int(\"lag\", 2, 30)\n",
    "    forecaster = LGBMForecaster(lgb.LGBMRegressor(), lag=lag)\n",
    "\n",
    "    scores: Sequence[float] = cross_validate(forecaster, splitter=splitter, y=df[[\"new_cases\"]])\n",
    "    return np.mean(scores)\n",
    "\n",
    "\n",
    "study = optuna.create_study(direction=\"minimize\")\n",
    "study.optimize(objective, n_trials=10)\n",
    "\n",
    "study.best_params\n",
    "# Best found lag value with default LGBM params: 9"
   ],
   "metadata": {
    "collapsed": false,
    "pycharm": {
     "name": "#%%\n",
     "is_executing": true
    }
   }
  },
  {
   "cell_type": "code",
   "execution_count": 7,
   "outputs": [],
   "source": [
    "from nepal.graph import Connection, LocalConnection, GraphDB\n",
    "\n",
    "conn: Connection = LocalConnection(\n",
    "    database=\"neo4j\",\n",
    "    password=\"corona\",\n",
    ")\n",
    "\n",
    "assert conn.is_up()"
   ],
   "metadata": {
    "collapsed": false,
    "pycharm": {
     "name": "#%%\n"
    }
   }
  },
  {
   "cell_type": "code",
   "execution_count": 8,
   "outputs": [
    {
     "name": "stderr",
     "output_type": "stream",
     "text": [
      "\u001B[32m[I 2022-05-31 22:25:57,580]\u001B[0m A new study created in memory with name: no-name-fab83e15-8fb9-4679-95c8-66995da820da\u001B[0m\n"
     ]
    },
    {
     "data": {
      "text/plain": "Train/Test split:   0%|          | 0/12 [00:00<?, ?it/s]",
      "application/vnd.jupyter.widget-view+json": {
       "version_major": 2,
       "version_minor": 0,
       "model_id": "7c2dbd5150954d6aa360b9c2e67a2f50"
      }
     },
     "metadata": {},
     "output_type": "display_data"
    },
    {
     "name": "stderr",
     "output_type": "stream",
     "text": [
      "\u001B[32m[I 2022-05-31 22:27:21,659]\u001B[0m Trial 0 finished with value: 1.1614616008561958 and parameters: {'dim': 18, 'weight2': 0.9605090767692531, 'weight3': 0.9742550704407172, 'weight4': 0.5089544189402592, 'normalization': 0.3418570745185203, 'prop_ratio': 0.4981737561617142, 'self_influence': 0.8513722138411854}. Best is trial 0 with value: 1.1614616008561958.\u001B[0m\n"
     ]
    },
    {
     "data": {
      "text/plain": "Train/Test split:   0%|          | 0/12 [00:00<?, ?it/s]",
      "application/vnd.jupyter.widget-view+json": {
       "version_major": 2,
       "version_minor": 0,
       "model_id": "2dfaad163dd6493aa5ff9dc6c0e01ead"
      }
     },
     "metadata": {},
     "output_type": "display_data"
    },
    {
     "name": "stderr",
     "output_type": "stream",
     "text": [
      "\u001B[32m[I 2022-05-31 22:28:46,866]\u001B[0m Trial 1 finished with value: 1.1629789749027537 and parameters: {'dim': 33, 'weight2': 0.46244147230145594, 'weight3': 0.8968138381124989, 'weight4': 0.8930463088735868, 'normalization': 0.06845670937754655, 'prop_ratio': 0.18610362570860484, 'self_influence': 0.3933267375871572}. Best is trial 0 with value: 1.1614616008561958.\u001B[0m\n"
     ]
    },
    {
     "data": {
      "text/plain": "Train/Test split:   0%|          | 0/12 [00:00<?, ?it/s]",
      "application/vnd.jupyter.widget-view+json": {
       "version_major": 2,
       "version_minor": 0,
       "model_id": "e1e1ebeef0dd46c5aa65aa6595e25cb2"
      }
     },
     "metadata": {},
     "output_type": "display_data"
    },
    {
     "name": "stderr",
     "output_type": "stream",
     "text": [
      "\u001B[32m[I 2022-05-31 22:30:20,534]\u001B[0m Trial 2 finished with value: 1.1641371084909564 and parameters: {'dim': 64, 'weight2': 0.16976549645578665, 'weight3': 0.7907948589200351, 'weight4': 0.04649675283420818, 'normalization': 0.8366394235785566, 'prop_ratio': 0.6472524025875208, 'self_influence': 0.8476021601522646}. Best is trial 0 with value: 1.1614616008561958.\u001B[0m\n"
     ]
    },
    {
     "data": {
      "text/plain": "Train/Test split:   0%|          | 0/12 [00:00<?, ?it/s]",
      "application/vnd.jupyter.widget-view+json": {
       "version_major": 2,
       "version_minor": 0,
       "model_id": "da55c8502fdf41e681e47f77c42138ec"
      }
     },
     "metadata": {},
     "output_type": "display_data"
    },
    {
     "name": "stderr",
     "output_type": "stream",
     "text": [
      "\u001B[32m[I 2022-05-31 22:32:06,501]\u001B[0m Trial 3 finished with value: 1.165037539427818 and parameters: {'dim': 69, 'weight2': 0.5918933474516418, 'weight3': 0.6962476351641363, 'weight4': 0.04501071500395226, 'normalization': 0.02482844744715762, 'prop_ratio': 0.6608364875141058, 'self_influence': 0.6187214814873438}. Best is trial 0 with value: 1.1614616008561958.\u001B[0m\n"
     ]
    },
    {
     "data": {
      "text/plain": "Train/Test split:   0%|          | 0/12 [00:00<?, ?it/s]",
      "application/vnd.jupyter.widget-view+json": {
       "version_major": 2,
       "version_minor": 0,
       "model_id": "def894b39e70486c9072bf4b3203ca99"
      }
     },
     "metadata": {},
     "output_type": "display_data"
    },
    {
     "name": "stderr",
     "output_type": "stream",
     "text": [
      "\u001B[32m[I 2022-05-31 22:33:24,521]\u001B[0m Trial 4 finished with value: 1.1636567910166304 and parameters: {'dim': 10, 'weight2': 0.5589411618599324, 'weight3': 0.09451629525635497, 'weight4': 0.05753118628527809, 'normalization': -0.8487876028199897, 'prop_ratio': 0.6763862874356271, 'self_influence': 0.8013566501530858}. Best is trial 0 with value: 1.1614616008561958.\u001B[0m\n"
     ]
    },
    {
     "data": {
      "text/plain": "Train/Test split:   0%|          | 0/12 [00:00<?, ?it/s]",
      "application/vnd.jupyter.widget-view+json": {
       "version_major": 2,
       "version_minor": 0,
       "model_id": "7031048e686c46aeada3e5f2107855e6"
      }
     },
     "metadata": {},
     "output_type": "display_data"
    },
    {
     "name": "stderr",
     "output_type": "stream",
     "text": [
      "\u001B[32m[I 2022-05-31 22:34:55,423]\u001B[0m Trial 5 finished with value: 1.1633542387604883 and parameters: {'dim': 39, 'weight2': 0.07158800290985623, 'weight3': 0.857875393265592, 'weight4': 0.3526790182042454, 'normalization': 0.5895476961425485, 'prop_ratio': 0.6988964704089019, 'self_influence': 0.3209251718739471}. Best is trial 0 with value: 1.1614616008561958.\u001B[0m\n"
     ]
    },
    {
     "data": {
      "text/plain": "Train/Test split:   0%|          | 0/12 [00:00<?, ?it/s]",
      "application/vnd.jupyter.widget-view+json": {
       "version_major": 2,
       "version_minor": 0,
       "model_id": "13454d703542482d820c4dc8a6959c18"
      }
     },
     "metadata": {},
     "output_type": "display_data"
    },
    {
     "name": "stderr",
     "output_type": "stream",
     "text": [
      "\u001B[32m[I 2022-05-31 22:36:15,127]\u001B[0m Trial 6 finished with value: 1.1625114619965513 and parameters: {'dim': 11, 'weight2': 0.10285672057931683, 'weight3': 0.31054520887696024, 'weight4': 0.7631342164397877, 'normalization': 0.5489099490166043, 'prop_ratio': 0.3850868431225153, 'self_influence': 0.6629164962022112}. Best is trial 0 with value: 1.1614616008561958.\u001B[0m\n"
     ]
    },
    {
     "data": {
      "text/plain": "Train/Test split:   0%|          | 0/12 [00:00<?, ?it/s]",
      "application/vnd.jupyter.widget-view+json": {
       "version_major": 2,
       "version_minor": 0,
       "model_id": "ba7c322969404758838ef8bfc85fa6f6"
      }
     },
     "metadata": {},
     "output_type": "display_data"
    },
    {
     "name": "stderr",
     "output_type": "stream",
     "text": [
      "\u001B[32m[I 2022-05-31 22:37:48,011]\u001B[0m Trial 7 finished with value: 1.165471050713774 and parameters: {'dim': 42, 'weight2': 0.9900207578401866, 'weight3': 0.7838889770918986, 'weight4': 0.5512120817516677, 'normalization': -0.5255618311628716, 'prop_ratio': 0.8793760850029226, 'self_influence': 0.6670105103081356}. Best is trial 0 with value: 1.1614616008561958.\u001B[0m\n"
     ]
    },
    {
     "data": {
      "text/plain": "Train/Test split:   0%|          | 0/12 [00:00<?, ?it/s]",
      "application/vnd.jupyter.widget-view+json": {
       "version_major": 2,
       "version_minor": 0,
       "model_id": "221aa0ed49c242678955681d01521f87"
      }
     },
     "metadata": {},
     "output_type": "display_data"
    },
    {
     "name": "stderr",
     "output_type": "stream",
     "text": [
      "\u001B[32m[I 2022-05-31 22:41:27,951]\u001B[0m Trial 8 finished with value: 1.1645484795801377 and parameters: {'dim': 355, 'weight2': 0.21394724342425042, 'weight3': 0.6770346762451284, 'weight4': 0.36368923450968693, 'normalization': 0.5795121822084244, 'prop_ratio': 0.05181282970114742, 'self_influence': 0.6659294713795809}. Best is trial 0 with value: 1.1614616008561958.\u001B[0m\n"
     ]
    },
    {
     "data": {
      "text/plain": "Train/Test split:   0%|          | 0/12 [00:00<?, ?it/s]",
      "application/vnd.jupyter.widget-view+json": {
       "version_major": 2,
       "version_minor": 0,
       "model_id": "c163af31ac7648c9aad48c4781ee688b"
      }
     },
     "metadata": {},
     "output_type": "display_data"
    },
    {
     "name": "stderr",
     "output_type": "stream",
     "text": [
      "\u001B[32m[I 2022-05-31 22:43:19,546]\u001B[0m Trial 9 finished with value: 1.1631336622549828 and parameters: {'dim': 111, 'weight2': 0.00809559179216568, 'weight3': 0.8247413017258771, 'weight4': 0.315736253054562, 'normalization': 0.6550867872365067, 'prop_ratio': 0.19406850717123114, 'self_influence': 0.22362985847260808}. Best is trial 0 with value: 1.1614616008561958.\u001B[0m\n"
     ]
    },
    {
     "data": {
      "text/plain": "Train/Test split:   0%|          | 0/12 [00:00<?, ?it/s]",
      "application/vnd.jupyter.widget-view+json": {
       "version_major": 2,
       "version_minor": 0,
       "model_id": "765782243da747a0bbe243c4267ef45a"
      }
     },
     "metadata": {},
     "output_type": "display_data"
    },
    {
     "name": "stderr",
     "output_type": "stream",
     "text": [
      "\u001B[32m[I 2022-05-31 22:44:39,774]\u001B[0m Trial 10 finished with value: 1.16469359863173 and parameters: {'dim': 18, 'weight2': 0.9577989582104844, 'weight3': 0.4922622904113955, 'weight4': 0.6186941104532702, 'normalization': -0.3140338176327876, 'prop_ratio': 0.4019892528340501, 'self_influence': 0.9634113892729802}. Best is trial 0 with value: 1.1614616008561958.\u001B[0m\n"
     ]
    },
    {
     "data": {
      "text/plain": "Train/Test split:   0%|          | 0/12 [00:00<?, ?it/s]",
      "application/vnd.jupyter.widget-view+json": {
       "version_major": 2,
       "version_minor": 0,
       "model_id": "57f5059260274542b59ca40784e13ee0"
      }
     },
     "metadata": {},
     "output_type": "display_data"
    },
    {
     "name": "stderr",
     "output_type": "stream",
     "text": [
      "\u001B[32m[I 2022-05-31 22:45:58,088]\u001B[0m Trial 11 finished with value: 1.1604021317651785 and parameters: {'dim': 8, 'weight2': 0.7135948644543276, 'weight3': 0.3024364736622952, 'weight4': 0.7550927797402021, 'normalization': 0.24198826102755272, 'prop_ratio': 0.4173647534103163, 'self_influence': 0.084762041414013}. Best is trial 11 with value: 1.1604021317651785.\u001B[0m\n"
     ]
    },
    {
     "data": {
      "text/plain": "Train/Test split:   0%|          | 0/12 [00:00<?, ?it/s]",
      "application/vnd.jupyter.widget-view+json": {
       "version_major": 2,
       "version_minor": 0,
       "model_id": "9d38e2f690bd492089cda0208470d62d"
      }
     },
     "metadata": {},
     "output_type": "display_data"
    },
    {
     "name": "stderr",
     "output_type": "stream",
     "text": [
      "\u001B[32m[I 2022-05-31 22:47:15,430]\u001B[0m Trial 12 finished with value: 1.1612166984768104 and parameters: {'dim': 8, 'weight2': 0.8132598141340661, 'weight3': 0.2879747189459305, 'weight4': 0.9784778284394092, 'normalization': 0.24175064099358, 'prop_ratio': 0.4499231618180835, 'self_influence': 0.0032716357858427747}. Best is trial 11 with value: 1.1604021317651785.\u001B[0m\n"
     ]
    },
    {
     "data": {
      "text/plain": "Train/Test split:   0%|          | 0/12 [00:00<?, ?it/s]",
      "application/vnd.jupyter.widget-view+json": {
       "version_major": 2,
       "version_minor": 0,
       "model_id": "40737842d5ae4b968a6adef2867f0007"
      }
     },
     "metadata": {},
     "output_type": "display_data"
    },
    {
     "name": "stderr",
     "output_type": "stream",
     "text": [
      "\u001B[32m[I 2022-05-31 22:48:30,072]\u001B[0m Trial 13 finished with value: 1.1617835268163967 and parameters: {'dim': 8, 'weight2': 0.7553287611303526, 'weight3': 0.2442997934999532, 'weight4': 0.9753322957893118, 'normalization': 0.2838756185462128, 'prop_ratio': 0.27359734587914475, 'self_influence': 0.01031037524512926}. Best is trial 11 with value: 1.1604021317651785.\u001B[0m\n"
     ]
    },
    {
     "data": {
      "text/plain": "Train/Test split:   0%|          | 0/12 [00:00<?, ?it/s]",
      "application/vnd.jupyter.widget-view+json": {
       "version_major": 2,
       "version_minor": 0,
       "model_id": "b25bd1a3ca8b4fed8936c8e1b95d081a"
      }
     },
     "metadata": {},
     "output_type": "display_data"
    },
    {
     "name": "stderr",
     "output_type": "stream",
     "text": [
      "\u001B[32m[I 2022-05-31 22:49:46,083]\u001B[0m Trial 14 finished with value: 1.1632682549885704 and parameters: {'dim': 18, 'weight2': 0.8023890019585342, 'weight3': 0.41967445070552645, 'weight4': 0.7674061683584277, 'normalization': -0.23754138545339132, 'prop_ratio': 0.510247568520607, 'self_influence': 0.019909130292676464}. Best is trial 11 with value: 1.1604021317651785.\u001B[0m\n"
     ]
    },
    {
     "data": {
      "text/plain": "Train/Test split:   0%|          | 0/12 [00:00<?, ?it/s]",
      "application/vnd.jupyter.widget-view+json": {
       "version_major": 2,
       "version_minor": 0,
       "model_id": "20313467f62349e98488c881bab2cba2"
      }
     },
     "metadata": {},
     "output_type": "display_data"
    },
    {
     "name": "stderr",
     "output_type": "stream",
     "text": [
      "\u001B[32m[I 2022-05-31 22:52:12,238]\u001B[0m Trial 15 finished with value: 1.166024601466707 and parameters: {'dim': 211, 'weight2': 0.7544087138232626, 'weight3': 0.006871325314368182, 'weight4': 0.7971424885409335, 'normalization': 0.21516507261623313, 'prop_ratio': 0.9985645300332302, 'self_influence': 0.18571973100792263}. Best is trial 11 with value: 1.1604021317651785.\u001B[0m\n"
     ]
    },
    {
     "data": {
      "text/plain": "Train/Test split:   0%|          | 0/12 [00:00<?, ?it/s]",
      "application/vnd.jupyter.widget-view+json": {
       "version_major": 2,
       "version_minor": 0,
       "model_id": "63498176029c4aeaa9070706e1581c1b"
      }
     },
     "metadata": {},
     "output_type": "display_data"
    },
    {
     "name": "stderr",
     "output_type": "stream",
     "text": [
      "\u001B[32m[I 2022-05-31 22:53:34,392]\u001B[0m Trial 16 finished with value: 1.1632350165212417 and parameters: {'dim': 14, 'weight2': 0.3607201596552181, 'weight3': 0.20612435472930107, 'weight4': 0.9851896683869733, 'normalization': 0.9464096223696756, 'prop_ratio': 0.5049161077204967, 'self_influence': 0.1569640168005907}. Best is trial 11 with value: 1.1604021317651785.\u001B[0m\n"
     ]
    },
    {
     "data": {
      "text/plain": "Train/Test split:   0%|          | 0/12 [00:00<?, ?it/s]",
      "application/vnd.jupyter.widget-view+json": {
       "version_major": 2,
       "version_minor": 0,
       "model_id": "fee6ece1f90d4a8b9933c9bf3e46963b"
      }
     },
     "metadata": {},
     "output_type": "display_data"
    },
    {
     "name": "stderr",
     "output_type": "stream",
     "text": [
      "\u001B[32m[I 2022-05-31 22:54:52,609]\u001B[0m Trial 17 finished with value: 1.1624962620693589 and parameters: {'dim': 27, 'weight2': 0.6468509987717889, 'weight3': 0.3704171504769612, 'weight4': 0.6654308681061135, 'normalization': -0.1947376745614459, 'prop_ratio': 0.32924855798990743, 'self_influence': 0.09721725670231392}. Best is trial 11 with value: 1.1604021317651785.\u001B[0m\n"
     ]
    },
    {
     "data": {
      "text/plain": "Train/Test split:   0%|          | 0/12 [00:00<?, ?it/s]",
      "application/vnd.jupyter.widget-view+json": {
       "version_major": 2,
       "version_minor": 0,
       "model_id": "670fd0ffd2bc405c81c6d4a41469d76a"
      }
     },
     "metadata": {},
     "output_type": "display_data"
    },
    {
     "name": "stderr",
     "output_type": "stream",
     "text": [
      "\u001B[32m[I 2022-05-31 22:56:04,766]\u001B[0m Trial 18 finished with value: 1.1613993623558676 and parameters: {'dim': 8, 'weight2': 0.8099911697072608, 'weight3': 0.5166670205971247, 'weight4': 0.8609146678456309, 'normalization': -0.46799810314764606, 'prop_ratio': 0.008818242288177403, 'self_influence': 0.3265380015907692}. Best is trial 11 with value: 1.1604021317651785.\u001B[0m\n"
     ]
    },
    {
     "data": {
      "text/plain": "Train/Test split:   0%|          | 0/12 [00:00<?, ?it/s]",
      "application/vnd.jupyter.widget-view+json": {
       "version_major": 2,
       "version_minor": 0,
       "model_id": "852566a66d7f430d83493735566aff47"
      }
     },
     "metadata": {},
     "output_type": "display_data"
    },
    {
     "name": "stderr",
     "output_type": "stream",
     "text": [
      "\u001B[32m[I 2022-05-31 22:57:53,908]\u001B[0m Trial 19 finished with value: 1.1652282123767281 and parameters: {'dim': 125, 'weight2': 0.4146364962826808, 'weight3': 0.14847577057064448, 'weight4': 0.6914863479935826, 'normalization': 0.3736547675003178, 'prop_ratio': 0.5516181927915846, 'self_influence': 0.4703537833884797}. Best is trial 11 with value: 1.1604021317651785.\u001B[0m\n"
     ]
    },
    {
     "data": {
      "text/plain": "Train/Test split:   0%|          | 0/12 [00:00<?, ?it/s]",
      "application/vnd.jupyter.widget-view+json": {
       "version_major": 2,
       "version_minor": 0,
       "model_id": "238b582aae1c4c818848f61676b2fc18"
      }
     },
     "metadata": {},
     "output_type": "display_data"
    },
    {
     "name": "stderr",
     "output_type": "stream",
     "text": [
      "\u001B[32m[I 2022-05-31 22:59:12,404]\u001B[0m Trial 20 finished with value: 1.1647625085965256 and parameters: {'dim': 24, 'weight2': 0.6591825527151863, 'weight3': 0.5821927994253753, 'weight4': 0.8939311968798698, 'normalization': -0.07664401128731002, 'prop_ratio': 0.8012535888122297, 'self_influence': 0.0985647667630493}. Best is trial 11 with value: 1.1604021317651785.\u001B[0m\n"
     ]
    },
    {
     "data": {
      "text/plain": "Train/Test split:   0%|          | 0/12 [00:00<?, ?it/s]",
      "application/vnd.jupyter.widget-view+json": {
       "version_major": 2,
       "version_minor": 0,
       "model_id": "8a21779244b54cc793960f4e3bec911d"
      }
     },
     "metadata": {},
     "output_type": "display_data"
    },
    {
     "name": "stderr",
     "output_type": "stream",
     "text": [
      "\u001B[32m[I 2022-05-31 23:00:25,362]\u001B[0m Trial 21 finished with value: 1.1615502719255544 and parameters: {'dim': 8, 'weight2': 0.8492465566861651, 'weight3': 0.5159923555829647, 'weight4': 0.8742679290895033, 'normalization': -0.5985891593191033, 'prop_ratio': 0.007032474441254251, 'self_influence': 0.27993855078478624}. Best is trial 11 with value: 1.1604021317651785.\u001B[0m\n"
     ]
    },
    {
     "data": {
      "text/plain": "Train/Test split:   0%|          | 0/12 [00:00<?, ?it/s]",
      "application/vnd.jupyter.widget-view+json": {
       "version_major": 2,
       "version_minor": 0,
       "model_id": "56beb73d2cd74589bc0188f2dfdb4bda"
      }
     },
     "metadata": {},
     "output_type": "display_data"
    },
    {
     "name": "stderr",
     "output_type": "stream",
     "text": [
      "\u001B[32m[I 2022-05-31 23:01:39,584]\u001B[0m Trial 22 finished with value: 1.1606849088905167 and parameters: {'dim': 13, 'weight2': 0.8737010364860301, 'weight3': 0.3388497475680614, 'weight4': 0.9978284981685288, 'normalization': -0.9519384990325692, 'prop_ratio': 0.1148174031962844, 'self_influence': 0.3392196413675873}. Best is trial 11 with value: 1.1604021317651785.\u001B[0m\n"
     ]
    },
    {
     "data": {
      "text/plain": "Train/Test split:   0%|          | 0/12 [00:00<?, ?it/s]",
      "application/vnd.jupyter.widget-view+json": {
       "version_major": 2,
       "version_minor": 0,
       "model_id": "28daa1262bb84d78bbf5358975f6f17a"
      }
     },
     "metadata": {},
     "output_type": "display_data"
    },
    {
     "name": "stderr",
     "output_type": "stream",
     "text": [
      "\u001B[32m[I 2022-05-31 23:02:52,393]\u001B[0m Trial 23 finished with value: 1.160906011121756 and parameters: {'dim': 13, 'weight2': 0.8926296239194083, 'weight3': 0.30768561656510013, 'weight4': 0.9891323690477183, 'normalization': -0.8733770354033383, 'prop_ratio': 0.14677844319519096, 'self_influence': 0.1071496264650898}. Best is trial 11 with value: 1.1604021317651785.\u001B[0m\n"
     ]
    },
    {
     "data": {
      "text/plain": "Train/Test split:   0%|          | 0/12 [00:00<?, ?it/s]",
      "application/vnd.jupyter.widget-view+json": {
       "version_major": 2,
       "version_minor": 0,
       "model_id": "cb526a2f000d45d1a52d6e8f4b315fbd"
      }
     },
     "metadata": {},
     "output_type": "display_data"
    },
    {
     "name": "stderr",
     "output_type": "stream",
     "text": [
      "\u001B[32m[I 2022-05-31 23:04:06,818]\u001B[0m Trial 24 finished with value: 1.1591163807156135 and parameters: {'dim': 13, 'weight2': 0.9095431576049532, 'weight3': 0.3804723961743889, 'weight4': 0.9975167117131349, 'normalization': -0.9871365897384008, 'prop_ratio': 0.12685783148389826, 'self_influence': 0.44962816623765073}. Best is trial 24 with value: 1.1591163807156135.\u001B[0m\n"
     ]
    },
    {
     "data": {
      "text/plain": "Train/Test split:   0%|          | 0/12 [00:00<?, ?it/s]",
      "application/vnd.jupyter.widget-view+json": {
       "version_major": 2,
       "version_minor": 0,
       "model_id": "d8bb1a244c1446b298348d361644ded8"
      }
     },
     "metadata": {},
     "output_type": "display_data"
    },
    {
     "name": "stderr",
     "output_type": "stream",
     "text": [
      "\u001B[32m[I 2022-05-31 23:05:23,780]\u001B[0m Trial 25 finished with value: 1.1606301790884281 and parameters: {'dim': 14, 'weight2': 0.6988145973950404, 'weight3': 0.3908075761792773, 'weight4': 0.840878770340131, 'normalization': -0.9803394095455722, 'prop_ratio': 0.1206066273372568, 'self_influence': 0.49913580180282513}. Best is trial 24 with value: 1.1591163807156135.\u001B[0m\n"
     ]
    },
    {
     "data": {
      "text/plain": "Train/Test split:   0%|          | 0/12 [00:00<?, ?it/s]",
      "application/vnd.jupyter.widget-view+json": {
       "version_major": 2,
       "version_minor": 0,
       "model_id": "8ac696dbb0d243c492590f2c9be31bf3"
      }
     },
     "metadata": {},
     "output_type": "display_data"
    },
    {
     "name": "stderr",
     "output_type": "stream",
     "text": [
      "\u001B[32m[I 2022-05-31 23:06:48,590]\u001B[0m Trial 26 finished with value: 1.1652467196287712 and parameters: {'dim': 23, 'weight2': 0.7047161269881094, 'weight3': 0.42943545593399024, 'weight4': 0.8215505521193596, 'normalization': -0.7989572615896818, 'prop_ratio': 0.23924852543398767, 'self_influence': 0.53632529955446}. Best is trial 24 with value: 1.1591163807156135.\u001B[0m\n"
     ]
    },
    {
     "data": {
      "text/plain": "Train/Test split:   0%|          | 0/12 [00:00<?, ?it/s]",
      "application/vnd.jupyter.widget-view+json": {
       "version_major": 2,
       "version_minor": 0,
       "model_id": "ee1de51f850341edb9bc7edafff411db"
      }
     },
     "metadata": {},
     "output_type": "display_data"
    },
    {
     "name": "stderr",
     "output_type": "stream",
     "text": [
      "\u001B[32m[I 2022-05-31 23:08:07,696]\u001B[0m Trial 27 finished with value: 1.1644266866351642 and parameters: {'dim': 17, 'weight2': 0.5492599676528565, 'weight3': 0.18411688543719956, 'weight4': 0.7105930665795598, 'normalization': -0.6283689186100734, 'prop_ratio': 0.314774966803689, 'self_influence': 0.43073412019848584}. Best is trial 24 with value: 1.1591163807156135.\u001B[0m\n"
     ]
    },
    {
     "data": {
      "text/plain": "Train/Test split:   0%|          | 0/12 [00:00<?, ?it/s]",
      "application/vnd.jupyter.widget-view+json": {
       "version_major": 2,
       "version_minor": 0,
       "model_id": "891ed02313c3486db9692b902567f0b9"
      }
     },
     "metadata": {},
     "output_type": "display_data"
    },
    {
     "name": "stderr",
     "output_type": "stream",
     "text": [
      "\u001B[32m[I 2022-05-31 23:09:38,230]\u001B[0m Trial 28 finished with value: 1.1622254289377745 and parameters: {'dim': 50, 'weight2': 0.6657639431216256, 'weight3': 0.39716851569830836, 'weight4': 0.6044655703572556, 'normalization': -0.7461582439045873, 'prop_ratio': 0.07299649035332917, 'self_influence': 0.4901783591516654}. Best is trial 24 with value: 1.1591163807156135.\u001B[0m\n"
     ]
    },
    {
     "data": {
      "text/plain": "Train/Test split:   0%|          | 0/12 [00:00<?, ?it/s]",
      "application/vnd.jupyter.widget-view+json": {
       "version_major": 2,
       "version_minor": 0,
       "model_id": "83e92ab1e12e4cab86e15284284e41e2"
      }
     },
     "metadata": {},
     "output_type": "display_data"
    },
    {
     "name": "stderr",
     "output_type": "stream",
     "text": [
      "\u001B[32m[I 2022-05-31 23:10:54,254]\u001B[0m Trial 29 finished with value: 1.1606952698926856 and parameters: {'dim': 11, 'weight2': 0.7337796793444178, 'weight3': 0.6140679420888748, 'weight4': 0.5249433683745923, 'normalization': -0.9656184617229062, 'prop_ratio': 0.23616283224568735, 'self_influence': 0.5839943627537693}. Best is trial 24 with value: 1.1591163807156135.\u001B[0m\n"
     ]
    },
    {
     "data": {
      "text/plain": "Train/Test split:   0%|          | 0/12 [00:00<?, ?it/s]",
      "application/vnd.jupyter.widget-view+json": {
       "version_major": 2,
       "version_minor": 0,
       "model_id": "554a8a0402f24707b08b6e17d8c9cf46"
      }
     },
     "metadata": {},
     "output_type": "display_data"
    },
    {
     "name": "stderr",
     "output_type": "stream",
     "text": [
      "\u001B[32m[I 2022-05-31 23:12:15,292]\u001B[0m Trial 30 finished with value: 1.1611405864222732 and parameters: {'dim': 20, 'weight2': 0.9557658125350481, 'weight3': 0.07613466544000075, 'weight4': 0.45070659597086554, 'normalization': -0.43126970256801656, 'prop_ratio': 0.11356571440278383, 'self_influence': 0.7664144627334465}. Best is trial 24 with value: 1.1591163807156135.\u001B[0m\n"
     ]
    },
    {
     "data": {
      "text/plain": "Train/Test split:   0%|          | 0/12 [00:00<?, ?it/s]",
      "application/vnd.jupyter.widget-view+json": {
       "version_major": 2,
       "version_minor": 0,
       "model_id": "f2a197f5a4584605a4bbae6c3023f995"
      }
     },
     "metadata": {},
     "output_type": "display_data"
    },
    {
     "name": "stderr",
     "output_type": "stream",
     "text": [
      "\u001B[32m[I 2022-05-31 23:13:35,249]\u001B[0m Trial 31 finished with value: 1.1608147143955767 and parameters: {'dim': 14, 'weight2': 0.8855550670339623, 'weight3': 0.36965177962041196, 'weight4': 0.9263662806869318, 'normalization': -0.9914275503905695, 'prop_ratio': 0.12202513664133689, 'self_influence': 0.36533700176057005}. Best is trial 24 with value: 1.1591163807156135.\u001B[0m\n"
     ]
    },
    {
     "data": {
      "text/plain": "Train/Test split:   0%|          | 0/12 [00:00<?, ?it/s]",
      "application/vnd.jupyter.widget-view+json": {
       "version_major": 2,
       "version_minor": 0,
       "model_id": "505c0b9f3d894f238a19064a63ce4b74"
      }
     },
     "metadata": {},
     "output_type": "display_data"
    },
    {
     "name": "stderr",
     "output_type": "stream",
     "text": [
      "\u001B[32m[I 2022-05-31 23:15:04,518]\u001B[0m Trial 32 finished with value: 1.1608705659029648 and parameters: {'dim': 11, 'weight2': 0.8957819749649648, 'weight3': 0.4612205956993836, 'weight4': 0.9246931047401236, 'normalization': -0.7333615229267845, 'prop_ratio': 0.17361863853263515, 'self_influence': 0.421385377528699}. Best is trial 24 with value: 1.1591163807156135.\u001B[0m\n"
     ]
    },
    {
     "data": {
      "text/plain": "Train/Test split:   0%|          | 0/12 [00:00<?, ?it/s]",
      "application/vnd.jupyter.widget-view+json": {
       "version_major": 2,
       "version_minor": 0,
       "model_id": "dee6e3e9cf6848eb9971deaac20566a7"
      }
     },
     "metadata": {},
     "output_type": "display_data"
    },
    {
     "name": "stderr",
     "output_type": "stream",
     "text": [
      "\u001B[32m[I 2022-05-31 23:16:34,170]\u001B[0m Trial 33 finished with value: 1.1617673979131775 and parameters: {'dim': 33, 'weight2': 0.4972021848554936, 'weight3': 0.3385638496854787, 'weight4': 0.8336620825767403, 'normalization': -0.9657055272183476, 'prop_ratio': 0.08314695238954353, 'self_influence': 0.257537833456714}. Best is trial 24 with value: 1.1591163807156135.\u001B[0m\n"
     ]
    },
    {
     "data": {
      "text/plain": "Train/Test split:   0%|          | 0/12 [00:00<?, ?it/s]",
      "application/vnd.jupyter.widget-view+json": {
       "version_major": 2,
       "version_minor": 0,
       "model_id": "66a6c2e944ff44089d20bb2b616f2e98"
      }
     },
     "metadata": {},
     "output_type": "display_data"
    },
    {
     "name": "stderr",
     "output_type": "stream",
     "text": [
      "\u001B[32m[I 2022-05-31 23:17:54,798]\u001B[0m Trial 34 finished with value: 1.160607446912519 and parameters: {'dim': 16, 'weight2': 0.6108531897799585, 'weight3': 0.2613031685445455, 'weight4': 0.9173525181068017, 'normalization': -0.6662496689901636, 'prop_ratio': 0.19480233034479358, 'self_influence': 0.5171079356783352}. Best is trial 24 with value: 1.1591163807156135.\u001B[0m\n"
     ]
    },
    {
     "data": {
      "text/plain": "Train/Test split:   0%|          | 0/12 [00:00<?, ?it/s]",
      "application/vnd.jupyter.widget-view+json": {
       "version_major": 2,
       "version_minor": 0,
       "model_id": "db88f3b27bea40a082f6b6436dc083a9"
      }
     },
     "metadata": {},
     "output_type": "display_data"
    },
    {
     "name": "stderr",
     "output_type": "stream",
     "text": [
      "\u001B[32m[I 2022-05-31 23:19:30,838]\u001B[0m Trial 35 finished with value: 1.1632922972311441 and parameters: {'dim': 28, 'weight2': 0.6256112569059918, 'weight3': 0.9752738508454899, 'weight4': 0.7237948943647216, 'normalization': 0.09610928389887508, 'prop_ratio': 0.31390908660290556, 'self_influence': 0.5731562019952195}. Best is trial 24 with value: 1.1591163807156135.\u001B[0m\n"
     ]
    },
    {
     "data": {
      "text/plain": "Train/Test split:   0%|          | 0/12 [00:00<?, ?it/s]",
      "application/vnd.jupyter.widget-view+json": {
       "version_major": 2,
       "version_minor": 0,
       "model_id": "a9ef9c7dce224157a67d6f7d6c5e4466"
      }
     },
     "metadata": {},
     "output_type": "display_data"
    },
    {
     "name": "stderr",
     "output_type": "stream",
     "text": [
      "\u001B[32m[I 2022-05-31 23:20:52,135]\u001B[0m Trial 36 finished with value: 1.1626091145730195 and parameters: {'dim': 15, 'weight2': 0.4264361589718003, 'weight3': 0.2746386434337079, 'weight4': 0.9221252033508127, 'normalization': -0.6056886406508778, 'prop_ratio': 0.5731081279515261, 'self_influence': 0.7333197691423218}. Best is trial 24 with value: 1.1591163807156135.\u001B[0m\n"
     ]
    },
    {
     "data": {
      "text/plain": "Train/Test split:   0%|          | 0/12 [00:00<?, ?it/s]",
      "application/vnd.jupyter.widget-view+json": {
       "version_major": 2,
       "version_minor": 0,
       "model_id": "575cb0ce2be84e6ead37078ac067bbab"
      }
     },
     "metadata": {},
     "output_type": "display_data"
    },
    {
     "name": "stderr",
     "output_type": "stream",
     "text": [
      "\u001B[32m[I 2022-05-31 23:22:08,898]\u001B[0m Trial 37 finished with value: 1.161266836577776 and parameters: {'dim': 10, 'weight2': 0.5827048025702306, 'weight3': 0.24325488361159386, 'weight4': 0.1909411460318447, 'normalization': -0.7360302312953273, 'prop_ratio': 0.19929943251123727, 'self_influence': 0.5010904448989048}. Best is trial 24 with value: 1.1591163807156135.\u001B[0m\n"
     ]
    },
    {
     "data": {
      "text/plain": "Train/Test split:   0%|          | 0/12 [00:00<?, ?it/s]",
      "application/vnd.jupyter.widget-view+json": {
       "version_major": 2,
       "version_minor": 0,
       "model_id": "e60c3464cf5340329bb5d223f031b363"
      }
     },
     "metadata": {},
     "output_type": "display_data"
    },
    {
     "name": "stderr",
     "output_type": "stream",
     "text": [
      "\u001B[32m[I 2022-05-31 23:23:52,315]\u001B[0m Trial 38 finished with value: 1.1668821181878601 and parameters: {'dim': 86, 'weight2': 0.31597174394936983, 'weight3': 0.15962708557240576, 'weight4': 0.7688239034084141, 'normalization': -0.35366788596302984, 'prop_ratio': 0.4117184305447141, 'self_influence': 0.881594527196419}. Best is trial 24 with value: 1.1591163807156135.\u001B[0m\n"
     ]
    },
    {
     "data": {
      "text/plain": "Train/Test split:   0%|          | 0/12 [00:00<?, ?it/s]",
      "application/vnd.jupyter.widget-view+json": {
       "version_major": 2,
       "version_minor": 0,
       "model_id": "518d65afaa6f4c04854496915fc4c18c"
      }
     },
     "metadata": {},
     "output_type": "display_data"
    },
    {
     "name": "stderr",
     "output_type": "stream",
     "text": [
      "\u001B[32m[I 2022-05-31 23:25:09,493]\u001B[0m Trial 39 finished with value: 1.164166519191657 and parameters: {'dim': 21, 'weight2': 0.5412756137938539, 'weight3': 0.551848664267285, 'weight4': 0.8419390425886459, 'normalization': 0.4373881277923901, 'prop_ratio': 0.35449800976225687, 'self_influence': 0.39163678822700543}. Best is trial 24 with value: 1.1591163807156135.\u001B[0m\n"
     ]
    },
    {
     "data": {
      "text/plain": "Train/Test split:   0%|          | 0/12 [00:00<?, ?it/s]",
      "application/vnd.jupyter.widget-view+json": {
       "version_major": 2,
       "version_minor": 0,
       "model_id": "832c23400f294f888032c1a22fcaab93"
      }
     },
     "metadata": {},
     "output_type": "display_data"
    },
    {
     "name": "stderr",
     "output_type": "stream",
     "text": [
      "\u001B[32m[I 2022-05-31 23:26:38,916]\u001B[0m Trial 40 finished with value: 1.1636581920198217 and parameters: {'dim': 51, 'weight2': 0.693127383312202, 'weight3': 0.11290304070708651, 'weight4': 0.9155649646525342, 'normalization': -0.8552449826962036, 'prop_ratio': 0.265659705519838, 'self_influence': 0.6167157226289408}. Best is trial 24 with value: 1.1591163807156135.\u001B[0m\n"
     ]
    },
    {
     "data": {
      "text/plain": "Train/Test split:   0%|          | 0/12 [00:00<?, ?it/s]",
      "application/vnd.jupyter.widget-view+json": {
       "version_major": 2,
       "version_minor": 0,
       "model_id": "a4dbf96e4b904a78954b521490d647c9"
      }
     },
     "metadata": {},
     "output_type": "display_data"
    },
    {
     "name": "stderr",
     "output_type": "stream",
     "text": [
      "\u001B[32m[I 2022-05-31 23:27:54,515]\u001B[0m Trial 41 finished with value: 1.161619349801226 and parameters: {'dim': 10, 'weight2': 0.7770536683052972, 'weight3': 0.3239906389891056, 'weight4': 0.94533044811171, 'normalization': -0.9011495105930248, 'prop_ratio': 0.05261649658756484, 'self_influence': 0.33909545703381216}. Best is trial 24 with value: 1.1591163807156135.\u001B[0m\n"
     ]
    },
    {
     "data": {
      "text/plain": "Train/Test split:   0%|          | 0/12 [00:00<?, ?it/s]",
      "application/vnd.jupyter.widget-view+json": {
       "version_major": 2,
       "version_minor": 0,
       "model_id": "927694dfd89c4fe9a14600c7355ac365"
      }
     },
     "metadata": {},
     "output_type": "display_data"
    },
    {
     "name": "stderr",
     "output_type": "stream",
     "text": [
      "\u001B[32m[I 2022-05-31 23:29:10,553]\u001B[0m Trial 42 finished with value: 1.1606872253852594 and parameters: {'dim': 11, 'weight2': 0.9224579844293141, 'weight3': 0.4603826671177729, 'weight4': 0.8916090116487666, 'normalization': -0.6613154797325296, 'prop_ratio': 0.15359636134254856, 'self_influence': 0.45644712640867807}. Best is trial 24 with value: 1.1591163807156135.\u001B[0m\n"
     ]
    },
    {
     "data": {
      "text/plain": "Train/Test split:   0%|          | 0/12 [00:00<?, ?it/s]",
      "application/vnd.jupyter.widget-view+json": {
       "version_major": 2,
       "version_minor": 0,
       "model_id": "8a6211b079fd417e85fb4fb26f993bbd"
      }
     },
     "metadata": {},
     "output_type": "display_data"
    },
    {
     "name": "stderr",
     "output_type": "stream",
     "text": [
      "\u001B[32m[I 2022-05-31 23:30:34,241]\u001B[0m Trial 43 finished with value: 1.1608785955973955 and parameters: {'dim': 13, 'weight2': 0.9992966044510054, 'weight3': 0.2416897864212508, 'weight4': 0.7874915110389267, 'normalization': -0.9969401290914989, 'prop_ratio': 0.2229170055040225, 'self_influence': 0.5377038827327761}. Best is trial 24 with value: 1.1591163807156135.\u001B[0m\n"
     ]
    },
    {
     "data": {
      "text/plain": "Train/Test split:   0%|          | 0/12 [00:00<?, ?it/s]",
      "application/vnd.jupyter.widget-view+json": {
       "version_major": 2,
       "version_minor": 0,
       "model_id": "487d41c99cea400495982e8285b6f583"
      }
     },
     "metadata": {},
     "output_type": "display_data"
    },
    {
     "name": "stderr",
     "output_type": "stream",
     "text": [
      "\u001B[32m[I 2022-05-31 23:31:58,720]\u001B[0m Trial 44 finished with value: 1.1606588671186715 and parameters: {'dim': 34, 'weight2': 0.8498982035895547, 'weight3': 0.3744475143197752, 'weight4': 0.9943425200157268, 'normalization': -0.8258405288771304, 'prop_ratio': 0.10533587973199549, 'self_influence': 0.27851635446244977}. Best is trial 24 with value: 1.1591163807156135.\u001B[0m\n"
     ]
    },
    {
     "data": {
      "text/plain": "Train/Test split:   0%|          | 0/12 [00:00<?, ?it/s]",
      "application/vnd.jupyter.widget-view+json": {
       "version_major": 2,
       "version_minor": 0,
       "model_id": "85242596e7284cf1ba91f859fdc87120"
      }
     },
     "metadata": {},
     "output_type": "display_data"
    },
    {
     "name": "stderr",
     "output_type": "stream",
     "text": [
      "\u001B[32m[I 2022-05-31 23:33:22,757]\u001B[0m Trial 45 finished with value: 1.160951105501621 and parameters: {'dim': 35, 'weight2': 0.8317106546676858, 'weight3': 0.3863326907205045, 'weight4': 0.8583519091099823, 'normalization': -0.8036877273923881, 'prop_ratio': 0.03746502090345455, 'self_influence': 0.29457374991220026}. Best is trial 24 with value: 1.1591163807156135.\u001B[0m\n"
     ]
    },
    {
     "data": {
      "text/plain": "Train/Test split:   0%|          | 0/12 [00:00<?, ?it/s]",
      "application/vnd.jupyter.widget-view+json": {
       "version_major": 2,
       "version_minor": 0,
       "model_id": "d6c7ebf3cae84758b68a54697defad5e"
      }
     },
     "metadata": {},
     "output_type": "display_data"
    },
    {
     "name": "stderr",
     "output_type": "stream",
     "text": [
      "\u001B[32m[I 2022-05-31 23:34:45,762]\u001B[0m Trial 46 finished with value: 1.163033992576763 and parameters: {'dim': 17, 'weight2': 0.610747434006724, 'weight3': 0.4590379706642499, 'weight4': 0.9530553591484084, 'normalization': 0.13715806579576462, 'prop_ratio': 0.27966990788574914, 'self_influence': 0.2241790758586901}. Best is trial 24 with value: 1.1591163807156135.\u001B[0m\n"
     ]
    },
    {
     "data": {
      "text/plain": "Train/Test split:   0%|          | 0/12 [00:00<?, ?it/s]",
      "application/vnd.jupyter.widget-view+json": {
       "version_major": 2,
       "version_minor": 0,
       "model_id": "df0b126cfa4747d99bcc5d5022caab74"
      }
     },
     "metadata": {},
     "output_type": "display_data"
    },
    {
     "name": "stderr",
     "output_type": "stream",
     "text": [
      "\u001B[32m[I 2022-05-31 23:36:16,452]\u001B[0m Trial 47 finished with value: 1.1651146336481215 and parameters: {'dim': 43, 'weight2': 0.7007924210929495, 'weight3': 0.2752634442260913, 'weight4': 0.743456672567526, 'normalization': -0.02545620231156908, 'prop_ratio': 0.09436444913864983, 'self_influence': 0.7011195509852306}. Best is trial 24 with value: 1.1591163807156135.\u001B[0m\n"
     ]
    },
    {
     "data": {
      "text/plain": "Train/Test split:   0%|          | 0/12 [00:00<?, ?it/s]",
      "application/vnd.jupyter.widget-view+json": {
       "version_major": 2,
       "version_minor": 0,
       "model_id": "be8a36496f684e6c80db86284dbd618a"
      }
     },
     "metadata": {},
     "output_type": "display_data"
    },
    {
     "name": "stderr",
     "output_type": "stream",
     "text": [
      "\u001B[32m[I 2022-05-31 23:37:44,414]\u001B[0m Trial 48 finished with value: 1.163075606158799 and parameters: {'dim': 30, 'weight2': 0.7302740652660662, 'weight3': 0.6720658332706047, 'weight4': 0.6333044486250271, 'normalization': -0.6975958773777546, 'prop_ratio': 0.45681172519967594, 'self_influence': 0.1613087619009701}. Best is trial 24 with value: 1.1591163807156135.\u001B[0m\n"
     ]
    },
    {
     "data": {
      "text/plain": "Train/Test split:   0%|          | 0/12 [00:00<?, ?it/s]",
      "application/vnd.jupyter.widget-view+json": {
       "version_major": 2,
       "version_minor": 0,
       "model_id": "7b5178ecf6bc4bf18e7cf8aec14ef2b5"
      }
     },
     "metadata": {},
     "output_type": "display_data"
    },
    {
     "name": "stderr",
     "output_type": "stream",
     "text": [
      "\u001B[32m[I 2022-05-31 23:39:33,260]\u001B[0m Trial 49 finished with value: 1.1634882254733259 and parameters: {'dim': 64, 'weight2': 0.7695046856008602, 'weight3': 0.2099954453504308, 'weight4': 0.8002681299946166, 'normalization': 0.7951999912279567, 'prop_ratio': 0.17432576125399624, 'self_influence': 0.055778975009438396}. Best is trial 24 with value: 1.1591163807156135.\u001B[0m\n"
     ]
    },
    {
     "data": {
      "text/plain": "{'dim': 13,\n 'weight2': 0.9095431576049532,\n 'weight3': 0.3804723961743889,\n 'weight4': 0.9975167117131349,\n 'normalization': -0.9871365897384008,\n 'prop_ratio': 0.12685783148389826,\n 'self_influence': 0.44962816623765073}"
     },
     "execution_count": 8,
     "metadata": {},
     "output_type": "execute_result"
    }
   ],
   "source": [
    "import optuna\n",
    "import lightgbm as lgb\n",
    "from sktime.forecasting.base import ForecastingHorizon\n",
    "from sktime.forecasting.model_selection import SlidingWindowSplitter\n",
    "\n",
    "from nepal.ml.forecaster import LGBMForecaster\n",
    "from nepal.ml.splitter import Splitter\n",
    "\n",
    "from nepal.graph.gds import CountyEmbedding\n",
    "\n",
    "\n",
    "embedding = CountyEmbedding()\n",
    "fh = ForecastingHorizon(list(range(1, 15)))\n",
    "cv = SlidingWindowSplitter(fh=fh, window_length=120, step_length=60)\n",
    "splitter: Splitter = Splitter(cv)\n",
    "\n",
    "# Create regressor with default parameters\n",
    "forecaster = LGBMForecaster(lgb.LGBMRegressor(), lag=13)\n",
    "\n",
    "\n",
    "def objective(trial: optuna.Trial) -> float:\n",
    "    forecaster = LGBMForecaster(lgb.LGBMRegressor(), lag=13)\n",
    "\n",
    "    X: pd.DataFrame = embedding.load_dataframe(\n",
    "        connection=conn,\n",
    "        embedding_dimension=trial.suggest_int(\"dim\", 8, 512, log=True),\n",
    "        weight2=trial.suggest_float(\"weight2\", 0.0, 1.0),\n",
    "        weight3=trial.suggest_float(\"weight3\", 0.0, 1.0),\n",
    "        weight4=trial.suggest_float(\"weight4\", 0.0, 1.0),\n",
    "        normalization=trial.suggest_float(\"normalization\", -1.0, 1.0),\n",
    "        property_ratio=trial.suggest_float(\"prop_ratio\", 0.0, 1.0),\n",
    "        self_influence=trial.suggest_float(\"self_influence\", 0.0, 1.0),\n",
    "    ).rename(index={\"fips\": \"FIPS\"})\n",
    "\n",
    "    scores: Sequence[float] = cross_validate(\n",
    "        forecaster, splitter=splitter, y=df[[\"new_cases\"]], Xs=[X]\n",
    "    )\n",
    "    return np.mean(scores)\n",
    "\n",
    "\n",
    "study = optuna.create_study(direction=\"minimize\")\n",
    "study.optimize(objective, n_trials=50)\n",
    "\n",
    "study.best_params\n",
    "# Best found values with default LGBM params and lag=13:\n",
    "# {'dim': 13,\n",
    "#  'weight2': 0.9095431576049532,\n",
    "#  'weight3': 0.3804723961743889,\n",
    "#  'weight4': 0.9975167117131349,\n",
    "#  'normalization': -0.9871365897384008,\n",
    "#  'prop_ratio': 0.12685783148389826,\n",
    "#  'self_influence': 0.44962816623765073}"
   ],
   "metadata": {
    "collapsed": false,
    "pycharm": {
     "name": "#%%\n"
    }
   }
  },
  {
   "cell_type": "code",
   "execution_count": 13,
   "outputs": [
    {
     "data": {
      "text/plain": "Train/Test split:   0%|          | 0/12 [00:00<?, ?it/s]",
      "application/vnd.jupyter.widget-view+json": {
       "version_major": 2,
       "version_minor": 0,
       "model_id": "5c56f593b7f741dfb050376be3ee19fa"
      }
     },
     "metadata": {},
     "output_type": "display_data"
    },
    {
     "name": "stdout",
     "output_type": "stream",
     "text": [
      "1.1615128487786013\n"
     ]
    }
   ],
   "source": [
    "# Evaluate found parameters\n",
    "\n",
    "fh = ForecastingHorizon(list(range(1, 15)))\n",
    "cv = SlidingWindowSplitter(fh=fh, window_length=120, step_length=60)\n",
    "splitter: Splitter = Splitter(cv)\n",
    "\n",
    "# Create regressor with default parameters\n",
    "forecaster = LGBMForecaster(lgb.LGBMRegressor(), lag=13)\n",
    "embedding = CountyEmbedding()\n",
    "\n",
    "X: pd.DataFrame = embedding.load_dataframe(\n",
    "    connection=conn,\n",
    "    embedding_dimension=16,\n",
    "    weight2=0.9,\n",
    "    weight3=0.4,\n",
    "    weight4=1.0,\n",
    "    normalization=-1.0,\n",
    "    property_ratio=0.15,\n",
    "    self_influence=0.45,\n",
    ")\n",
    "\n",
    "scores: Sequence[float] = cross_validate(\n",
    "    forecaster, splitter=splitter, y=df[[\"new_cases\"]], Xs=[X]\n",
    ")\n",
    "\n",
    "print(np.mean(scores))"
   ],
   "metadata": {
    "collapsed": false,
    "pycharm": {
     "name": "#%%\n"
    }
   }
  },
  {
   "cell_type": "code",
   "execution_count": null,
   "outputs": [],
   "source": [],
   "metadata": {
    "collapsed": false,
    "pycharm": {
     "name": "#%%\n"
    }
   }
  }
 ],
 "metadata": {
  "kernelspec": {
   "display_name": "Python 3",
   "language": "python",
   "name": "python3"
  },
  "language_info": {
   "codemirror_mode": {
    "name": "ipython",
    "version": 2
   },
   "file_extension": ".py",
   "mimetype": "text/x-python",
   "name": "python",
   "nbconvert_exporter": "python",
   "pygments_lexer": "ipython2",
   "version": "2.7.6"
  }
 },
 "nbformat": 4,
 "nbformat_minor": 0
}
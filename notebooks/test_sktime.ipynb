{
 "cells": [
  {
   "cell_type": "code",
   "execution_count": 1,
   "outputs": [],
   "source": [
    "from __future__ import annotations\n",
    "\n",
    "import numpy as np\n",
    "import pandas as pd\n",
    "\n",
    "from typing import *"
   ],
   "metadata": {
    "collapsed": false,
    "pycharm": {
     "name": "#%%\n"
    }
   }
  },
  {
   "cell_type": "code",
   "execution_count": 2,
   "outputs": [],
   "source": [
    "from nepal.datasets import NYTimes\n",
    "from nepal.ml.preprocess import Cases\n",
    "\n",
    "df: pd.DataFrame = Cases(NYTimes()).preprocessed()"
   ],
   "metadata": {
    "collapsed": false,
    "pycharm": {
     "name": "#%%\n"
    }
   }
  },
  {
   "cell_type": "code",
   "execution_count": 4,
   "outputs": [],
   "source": [
    "import warnings\n",
    "\n",
    "from sktime.performance_metrics.forecasting import mean_absolute_percentage_error as mape\n",
    "\n",
    "from nepal.ml.forecaster import BaseForecaster\n",
    "from nepal.ml.splitter import Splitter\n",
    "\n",
    "\n",
    "def cross_validate(\n",
    "    forecaster: BaseForecaster,\n",
    "    *,\n",
    "    splitter: Splitter,\n",
    "    y: pd.DataFrame,\n",
    "    Xs: Optional[Iterable[pd.DataFrame]] = None,\n",
    ") -> Sequence[float]:\n",
    "    scores: List[float] = []\n",
    "    for df_train, df_test in splitter.train_test_splits(y=y):\n",
    "        model = forecaster.fit(y=df_train, Xs=Xs)\n",
    "        df_pred = model.forecast(fh=splitter.fh, y=df_train, Xs=Xs)\n",
    "\n",
    "        with warnings.catch_warnings():\n",
    "            warnings.simplefilter(action=\"ignore\", category=FutureWarning)\n",
    "            score: float = mape(y_true=df_test, y_pred=df_pred, symmetric=True)\n",
    "            scores.append(score)\n",
    "\n",
    "    return scores"
   ],
   "metadata": {
    "collapsed": false,
    "pycharm": {
     "name": "#%%\n"
    }
   }
  },
  {
   "cell_type": "code",
   "execution_count": 5,
   "outputs": [
    {
     "data": {
      "text/plain": "Train/Test split:   0%|          | 0/13 [00:00<?, ?it/s]",
      "application/vnd.jupyter.widget-view+json": {
       "version_major": 2,
       "version_minor": 0,
       "model_id": "f5c3c14eb6ad40bda10486aef4529b24"
      }
     },
     "metadata": {},
     "output_type": "display_data"
    },
    {
     "name": "stdout",
     "output_type": "stream",
     "text": [
      "1.1961088902660946\n"
     ]
    }
   ],
   "source": [
    "import lightgbm as lgb\n",
    "from sktime.forecasting.base import ForecastingHorizon\n",
    "from sktime.forecasting.model_selection import SlidingWindowSplitter\n",
    "\n",
    "from nepal.ml.forecaster import LGBMForecaster\n",
    "from nepal.ml.splitter import Splitter\n",
    "\n",
    "fh = ForecastingHorizon(list(range(1, 15)))\n",
    "cv = SlidingWindowSplitter(fh=fh, window_length=60, step_length=60)\n",
    "splitter: Splitter = Splitter(cv)\n",
    "\n",
    "# Create regressor with default parameters\n",
    "forecaster = LGBMForecaster(lgb.LGBMRegressor(), lag=13)\n",
    "\n",
    "scores: Sequence[float] = cross_validate(forecaster, splitter=splitter, y=df[[\"new_cases\"]])\n",
    "print(np.mean(scores))"
   ],
   "metadata": {
    "collapsed": false,
    "pycharm": {
     "name": "#%%\n"
    }
   }
  },
  {
   "cell_type": "code",
   "execution_count": 6,
   "outputs": [
    {
     "data": {
      "text/plain": "<AxesSubplot:>"
     },
     "execution_count": 6,
     "metadata": {},
     "output_type": "execute_result"
    },
    {
     "data": {
      "text/plain": "<Figure size 432x288 with 1 Axes>",
      "image/png": "[encoded data removed]"
     },
     "metadata": {
      "needs_background": "light"
     },
     "output_type": "display_data"
    }
   ],
   "source": [
    "import seaborn as sns\n",
    "\n",
    "sns.set(style=\"darkgrid\")\n",
    "sns.lineplot(data=scores)"
   ],
   "metadata": {
    "collapsed": false,
    "pycharm": {
     "name": "#%%\n"
    }
   }
  },
  {
   "cell_type": "code",
   "execution_count": null,
   "outputs": [],
   "source": [
    "import optuna\n",
    "\n",
    "\n",
    "def objective(trial: optuna.Trial) -> float:\n",
    "    lag = trial.suggest_int(\"lag\", 2, 30)\n",
    "    forecaster = LGBMForecaster(lgb.LGBMRegressor(), lag=lag)\n",
    "\n",
    "    scores: Sequence[float] = cross_validate(forecaster, splitter=splitter, y=df[[\"new_cases\"]])\n",
    "    return np.mean(scores)\n",
    "\n",
    "\n",
    "study = optuna.create_study(direction=\"minimize\")\n",
    "study.optimize(objective, n_trials=10)\n",
    "\n",
    "study.best_params  # Best found lag value with default LGBM params: 9"
   ],
   "metadata": {
    "collapsed": false,
    "pycharm": {
     "name": "#%%\n",
     "is_executing": true
    }
   }
  },
  {
   "cell_type": "code",
   "execution_count": 7,
   "outputs": [],
   "source": [
    "from nepal.graph import Connection, LocalConnection, GraphDB\n",
    "\n",
    "conn: Connection = LocalConnection(\n",
    "    database=\"neo4j\",\n",
    "    password=\"corona\",\n",
    ")\n",
    "\n",
    "assert conn.is_up()"
   ],
   "metadata": {
    "collapsed": false,
    "pycharm": {
     "name": "#%%\n"
    }
   }
  },
  {
   "cell_type": "code",
   "execution_count": null,
   "outputs": [
    {
     "name": "stderr",
     "output_type": "stream",
     "text": [
      "\u001B[32m[I 2022-05-31 22:25:57,580]\u001B[0m A new study created in memory with name: no-name-fab83e15-8fb9-4679-95c8-66995da820da\u001B[0m\n"
     ]
    },
    {
     "data": {
      "text/plain": "Train/Test split:   0%|          | 0/12 [00:00<?, ?it/s]",
      "application/vnd.jupyter.widget-view+json": {
       "version_major": 2,
       "version_minor": 0,
       "model_id": "7c2dbd5150954d6aa360b9c2e67a2f50"
      }
     },
     "metadata": {},
     "output_type": "display_data"
    }
   ],
   "source": [
    "import optuna\n",
    "import lightgbm as lgb\n",
    "from sktime.forecasting.base import ForecastingHorizon\n",
    "from sktime.forecasting.model_selection import SlidingWindowSplitter\n",
    "\n",
    "from nepal.ml.forecaster import LGBMForecaster\n",
    "from nepal.ml.splitter import Splitter\n",
    "\n",
    "from nepal.graph.gds import CountyEmbedding\n",
    "\n",
    "\n",
    "embedding = CountyEmbedding()\n",
    "fh = ForecastingHorizon(list(range(1, 15)))\n",
    "cv = SlidingWindowSplitter(fh=fh, window_length=120, step_length=60)\n",
    "splitter: Splitter = Splitter(cv)\n",
    "\n",
    "# Create regressor with default parameters\n",
    "forecaster = LGBMForecaster(lgb.LGBMRegressor(), lag=13)\n",
    "\n",
    "\n",
    "def objective(trial: optuna.Trial) -> float:\n",
    "    forecaster = LGBMForecaster(lgb.LGBMRegressor(), lag=13)\n",
    "\n",
    "    X: pd.DataFrame = embedding.load_dataframe(\n",
    "        connection=conn,\n",
    "        embedding_dimension=trial.suggest_int(\"dim\", 8, 512, log=True),\n",
    "        weight2=trial.suggest_float(\"weight2\", 0.0, 1.0),\n",
    "        weight3=trial.suggest_float(\"weight3\", 0.0, 1.0),\n",
    "        weight4=trial.suggest_float(\"weight4\", 0.0, 1.0),\n",
    "        normalization=trial.suggest_float(\"normalization\", -1.0, 1.0),\n",
    "        property_ratio=trial.suggest_float(\"prop_ratio\", 0.0, 1.0),\n",
    "        self_influence=trial.suggest_float(\"self_influence\", 0.0, 1.0),\n",
    "    ).rename(index={\"fips\": \"FIPS\"})\n",
    "\n",
    "    scores: Sequence[float] = cross_validate(\n",
    "        forecaster, splitter=splitter, y=df[[\"new_cases\"]], Xs=[X]\n",
    "    )\n",
    "    return np.mean(scores)\n",
    "\n",
    "\n",
    "study = optuna.create_study(direction=\"minimize\")\n",
    "study.optimize(objective, n_trials=50)\n",
    "\n",
    "study.best_params  # Best found lag value with default LGBM params: 13"
   ],
   "metadata": {
    "collapsed": false,
    "pycharm": {
     "name": "#%%\n",
     "is_executing": true
    }
   }
  },
  {
   "cell_type": "code",
   "execution_count": null,
   "outputs": [],
   "source": [],
   "metadata": {
    "collapsed": false,
    "pycharm": {
     "name": "#%%\n"
    }
   }
  }
 ],
 "metadata": {
  "kernelspec": {
   "display_name": "Python 3",
   "language": "python",
   "name": "python3"
  },
  "language_info": {
   "codemirror_mode": {
    "name": "ipython",
    "version": 2
   },
   "file_extension": ".py",
   "mimetype": "text/x-python",
   "name": "python",
   "nbconvert_exporter": "python",
   "pygments_lexer": "ipython2",
   "version": "2.7.6"
  }
 },
 "nbformat": 4,
 "nbformat_minor": 0
}
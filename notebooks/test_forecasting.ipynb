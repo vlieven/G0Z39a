{
 "cells": [
  {
   "cell_type": "code",
   "execution_count": 1,
   "outputs": [],
   "source": [
    "from __future__ import annotations\n",
    "\n",
    "import numpy as np\n",
    "import pandas as pd\n",
    "import seaborn as sns\n",
    "\n",
    "from typing import *\n",
    "\n",
    "\n",
    "sns.set(style=\"darkgrid\")"
   ],
   "metadata": {
    "collapsed": false,
    "pycharm": {
     "name": "#%%\n"
    }
   }
  },
  {
   "cell_type": "markdown",
   "source": [
    "## Load data\n",
    "Load Covid-19 cases data provided by the New York Times,\n",
    "along with population density information."
   ],
   "metadata": {
    "collapsed": false,
    "pycharm": {
     "name": "#%% md\n"
    }
   }
  },
  {
   "cell_type": "code",
   "execution_count": null,
   "outputs": [
    {
     "name": "stderr",
     "output_type": "stream",
     "text": [
      "/Users/personal/Documents/Master of Statistics/2/Modern Data Analytics/Project/G0Z39a/src/nepal/ml/transformers/functions.py:25: SettingWithCopyWarning: \n",
      "A value is trying to be set on a copy of a slice from a DataFrame.\n",
      "Try using .loc[row_indexer,col_indexer] = value instead\n",
      "\n",
      "See the caveats in the documentation: https://pandas.pydata.org/pandas-docs/stable/user_guide/indexing.html#returning-a-view-versus-a-copy\n",
      "  X.loc[:, self._name] = log_transformer.transform(X[self._name])\n"
     ]
    }
   ],
   "source": [
    "from nepal.datasets import NYTimes, PopulationDensity\n",
    "from nepal.ml.features.preprocess import Cases, Population\n",
    "from nepal.ml.transformers import TargetTransform, log_transformer\n",
    "\n",
    "\n",
    "df: pd.DataFrame = Cases(NYTimes()).preprocessed()\n",
    "extra_pop: pd.DataFrame = Population(PopulationDensity()).preprocessed()\n",
    "\n",
    "preprocess = TargetTransform()\n",
    "\n",
    "df_y: pd.DataFrame = preprocess.transform(df[[\"new_cases\"]])\n",
    "df_y.plot()"
   ],
   "metadata": {
    "collapsed": false,
    "pycharm": {
     "name": "#%%\n",
     "is_executing": true
    }
   }
  },
  {
   "cell_type": "markdown",
   "source": [
    "## Experiment setup\n",
    "We choose a forecasting horizon of 2 weeks (14 days), and setup a sliding window splitter accordingly to use for cross-validation.\n",
    "The target we will attempt to predict is the amount of new infections per day. To measure performance for this task, we select\n",
    "MAPE as criterion, given that we want errors to be treated relatively to their actual value."
   ],
   "metadata": {
    "collapsed": false,
    "pycharm": {
     "name": "#%% md\n"
    }
   }
  },
  {
   "cell_type": "code",
   "execution_count": null,
   "outputs": [],
   "source": [
    "import lightgbm as lgb\n",
    "\n",
    "from sktime.forecasting.base import ForecastingHorizon\n",
    "from sktime.forecasting.model_selection import SlidingWindowSplitter\n",
    "\n",
    "from nepal.ml.loss import mape\n",
    "from nepal.ml.splitter import Splitter\n",
    "from nepal.ml.validate import cross_validate\n",
    "from nepal.ml.forecaster import LGBMForecaster\n",
    "\n",
    "fh = ForecastingHorizon(list(range(1, 15)))\n",
    "cv = SlidingWindowSplitter(fh=fh, window_length=120, step_length=60)\n",
    "splitter: Splitter = Splitter(cv)"
   ],
   "metadata": {
    "collapsed": false,
    "pycharm": {
     "name": "#%%\n"
    }
   }
  },
  {
   "cell_type": "markdown",
   "source": [
    "Here we first determine a performance baseline."
   ],
   "metadata": {
    "collapsed": false,
    "pycharm": {
     "name": "#%% md\n"
    }
   }
  },
  {
   "cell_type": "code",
   "execution_count": 4,
   "outputs": [
    {
     "data": {
      "text/plain": "Cross Validation:   0%|          | 0/12 [00:00<?, ?it/s]",
      "application/vnd.jupyter.widget-view+json": {
       "version_major": 2,
       "version_minor": 0,
       "model_id": "e0b2702fbc7542d9a39fb075578edcd7"
      }
     },
     "metadata": {},
     "output_type": "display_data"
    },
    {
     "name": "stdout",
     "output_type": "stream",
     "text": [
      "0.30250178015390755\n"
     ]
    },
    {
     "data": {
      "text/plain": "<Figure size 432x288 with 1 Axes>",
      "image/png": "[encoded data removed]"
     },
     "metadata": {
      "needs_background": "light"
     },
     "output_type": "display_data"
    }
   ],
   "source": [
    "# Create regressor with default parameters\n",
    "default_lag: Final[int] = 7\n",
    "forecaster = LGBMForecaster(lgb.LGBMRegressor(objective=mape.name), lag=default_lag)\n",
    "\n",
    "scores: Sequence[float] = cross_validate(\n",
    "    forecaster, splitter=splitter, y=df_y, loss=mape.function\n",
    ")\n",
    "\n",
    "sns.lineplot(data=scores)\n",
    "print(np.mean(scores))"
   ],
   "metadata": {
    "collapsed": false,
    "pycharm": {
     "name": "#%%\n"
    }
   }
  },
  {
   "cell_type": "markdown",
   "source": [
    "Now we add additional exogenous information to our forecasting problem."
   ],
   "metadata": {
    "collapsed": false,
    "pycharm": {
     "name": "#%% md\n"
    }
   }
  },
  {
   "cell_type": "code",
   "execution_count": null,
   "outputs": [],
   "source": [
    "# Create regressor with default parameters\n",
    "forecaster = LGBMForecaster(lgb.LGBMRegressor(objective=mape.name), lag=default_lag)\n",
    "\n",
    "scores: Sequence[float] = cross_validate(\n",
    "    forecaster, splitter=splitter, y=df_y, Xs=extra_pop, loss=mape.function\n",
    ")\n",
    "\n",
    "sns.lineplot(data=scores)\n",
    "print(np.mean(scores))"
   ],
   "metadata": {
    "collapsed": false,
    "pycharm": {
     "name": "#%%\n"
    }
   }
  },
  {
   "cell_type": "markdown",
   "source": [
    "We add an approximate for the current number of active infections,\n",
    "based on the sliding sum of new cases over the past 10 days.\n",
    "\n",
    "Window size based on [CDC guidelines](https://www.cdc.gov/coronavirus/2019-ncov/hcp/duration-isolation.html)."
   ],
   "metadata": {
    "collapsed": false,
    "pycharm": {
     "name": "#%% md\n"
    }
   }
  },
  {
   "cell_type": "code",
   "execution_count": 6,
   "outputs": [],
   "source": [
    "from sklearn.pipeline import Pipeline\n",
    "from nepal.ml.transformers import RollingWindowSum, log_transformer\n",
    "\n",
    "transformers: Pipeline = Pipeline(\n",
    "    [\n",
    "        (\n",
    "            \"with_active_infections\",\n",
    "            RollingWindowSum(\n",
    "                \"new_cases\", target=\"infections\", window=10, transformer=log_transformer\n",
    "            ),\n",
    "        ),\n",
    "    ]\n",
    ")"
   ],
   "metadata": {
    "collapsed": false,
    "pycharm": {
     "name": "#%%\n"
    }
   }
  },
  {
   "cell_type": "code",
   "execution_count": 7,
   "outputs": [
    {
     "data": {
      "text/plain": "Cross Validation:   0%|          | 0/12 [00:00<?, ?it/s]",
      "application/vnd.jupyter.widget-view+json": {
       "version_major": 2,
       "version_minor": 0,
       "model_id": "cc1a6065527c4a5690525ac15844fe88"
      }
     },
     "metadata": {},
     "output_type": "display_data"
    },
    {
     "name": "stdout",
     "output_type": "stream",
     "text": [
      "0.3036226081896825\n"
     ]
    },
    {
     "data": {
      "text/plain": "<Figure size 432x288 with 1 Axes>",
      "image/png": "[encoded data removed]"
     },
     "metadata": {
      "needs_background": "light"
     },
     "output_type": "display_data"
    }
   ],
   "source": [
    "forecaster = LGBMForecaster(\n",
    "    lgb.LGBMRegressor(objective=mape.name), lag=default_lag, transformers=transformers\n",
    ")\n",
    "\n",
    "scores: Sequence[float] = cross_validate(\n",
    "    forecaster, splitter=splitter, y=df_y, Xs=[extra_pop], loss=mape.function\n",
    ")\n",
    "\n",
    "sns.lineplot(data=scores)\n",
    "print(np.mean(scores))"
   ],
   "metadata": {
    "collapsed": false,
    "pycharm": {
     "name": "#%%\n"
    }
   }
  },
  {
   "cell_type": "markdown",
   "source": [
    "## Window optimization\n",
    "\n",
    "We use the [optuna](https://optuna.org/) framework to optimize the window size of the endogenous variable."
   ],
   "metadata": {
    "collapsed": false,
    "pycharm": {
     "name": "#%% md\n"
    }
   }
  },
  {
   "cell_type": "code",
   "execution_count": 8,
   "outputs": [
    {
     "name": "stderr",
     "output_type": "stream",
     "text": [
      "\u001B[32m[I 2022-06-05 18:53:28,119]\u001B[0m A new study created in memory with name: no-name-bed6a2a6-e991-49e0-9753-dc84a0b2f099\u001B[0m\n"
     ]
    },
    {
     "data": {
      "text/plain": "Cross Validation:   0%|          | 0/12 [00:00<?, ?it/s]",
      "application/vnd.jupyter.widget-view+json": {
       "version_major": 2,
       "version_minor": 0,
       "model_id": "652dbdcb01f243ceac8bc72993ab6254"
      }
     },
     "metadata": {},
     "output_type": "display_data"
    },
    {
     "name": "stderr",
     "output_type": "stream",
     "text": [
      "\u001B[32m[I 2022-06-05 18:54:56,968]\u001B[0m Trial 0 finished with value: 0.3036226081896825 and parameters: {'lag': 7}. Best is trial 0 with value: 0.3036226081896825.\u001B[0m\n"
     ]
    },
    {
     "data": {
      "text/plain": "Cross Validation:   0%|          | 0/12 [00:00<?, ?it/s]",
      "application/vnd.jupyter.widget-view+json": {
       "version_major": 2,
       "version_minor": 0,
       "model_id": "33edde2a5f71406a9de1a63f3dd821f7"
      }
     },
     "metadata": {},
     "output_type": "display_data"
    },
    {
     "name": "stderr",
     "output_type": "stream",
     "text": [
      "\u001B[32m[I 2022-06-05 18:56:41,431]\u001B[0m Trial 1 finished with value: 0.30997451429534034 and parameters: {'lag': 20}. Best is trial 0 with value: 0.3036226081896825.\u001B[0m\n"
     ]
    },
    {
     "data": {
      "text/plain": "Cross Validation:   0%|          | 0/12 [00:00<?, ?it/s]",
      "application/vnd.jupyter.widget-view+json": {
       "version_major": 2,
       "version_minor": 0,
       "model_id": "f0105ac490084d64866450242e85fe83"
      }
     },
     "metadata": {},
     "output_type": "display_data"
    },
    {
     "name": "stderr",
     "output_type": "stream",
     "text": [
      "\u001B[32m[I 2022-06-05 18:58:08,147]\u001B[0m Trial 2 finished with value: 0.2995277276464143 and parameters: {'lag': 5}. Best is trial 2 with value: 0.2995277276464143.\u001B[0m\n"
     ]
    },
    {
     "data": {
      "text/plain": "Cross Validation:   0%|          | 0/12 [00:00<?, ?it/s]",
      "application/vnd.jupyter.widget-view+json": {
       "version_major": 2,
       "version_minor": 0,
       "model_id": "fabd0313b833427296ea4af4b9e23fb1"
      }
     },
     "metadata": {},
     "output_type": "display_data"
    },
    {
     "name": "stderr",
     "output_type": "stream",
     "text": [
      "\u001B[32m[I 2022-06-05 18:59:27,311]\u001B[0m Trial 3 finished with value: 0.30975903862187015 and parameters: {'lag': 12}. Best is trial 2 with value: 0.2995277276464143.\u001B[0m\n"
     ]
    },
    {
     "data": {
      "text/plain": "Cross Validation:   0%|          | 0/12 [00:00<?, ?it/s]",
      "application/vnd.jupyter.widget-view+json": {
       "version_major": 2,
       "version_minor": 0,
       "model_id": "9b69d54293444ab1a3a7f39c8098d308"
      }
     },
     "metadata": {},
     "output_type": "display_data"
    },
    {
     "name": "stderr",
     "output_type": "stream",
     "text": [
      "\u001B[32m[I 2022-06-05 19:00:53,187]\u001B[0m Trial 4 finished with value: 0.3109582733611294 and parameters: {'lag': 19}. Best is trial 2 with value: 0.2995277276464143.\u001B[0m\n"
     ]
    },
    {
     "data": {
      "text/plain": "Cross Validation:   0%|          | 0/12 [00:00<?, ?it/s]",
      "application/vnd.jupyter.widget-view+json": {
       "version_major": 2,
       "version_minor": 0,
       "model_id": "b7621fa468c54824bb71a207fed93fa3"
      }
     },
     "metadata": {},
     "output_type": "display_data"
    },
    {
     "name": "stderr",
     "output_type": "stream",
     "text": [
      "\u001B[32m[I 2022-06-05 19:02:24,932]\u001B[0m Trial 5 finished with value: 0.31093955027384157 and parameters: {'lag': 22}. Best is trial 2 with value: 0.2995277276464143.\u001B[0m\n"
     ]
    },
    {
     "data": {
      "text/plain": "Cross Validation:   0%|          | 0/12 [00:00<?, ?it/s]",
      "application/vnd.jupyter.widget-view+json": {
       "version_major": 2,
       "version_minor": 0,
       "model_id": "0043549a9fbc41bbb9e8c5b6123572f9"
      }
     },
     "metadata": {},
     "output_type": "display_data"
    },
    {
     "name": "stderr",
     "output_type": "stream",
     "text": [
      "\u001B[32m[I 2022-06-05 19:04:02,966]\u001B[0m Trial 6 finished with value: 0.30995551157337026 and parameters: {'lag': 15}. Best is trial 2 with value: 0.2995277276464143.\u001B[0m\n"
     ]
    },
    {
     "data": {
      "text/plain": "Cross Validation:   0%|          | 0/12 [00:00<?, ?it/s]",
      "application/vnd.jupyter.widget-view+json": {
       "version_major": 2,
       "version_minor": 0,
       "model_id": "43ac1e3903b14c7fa4d700a6c603eec2"
      }
     },
     "metadata": {},
     "output_type": "display_data"
    },
    {
     "ename": "KeyboardInterrupt",
     "evalue": "",
     "output_type": "error",
     "traceback": [
      "\u001B[0;31m---------------------------------------------------------------------------\u001B[0m",
      "\u001B[0;31mEmpty\u001B[0m                                     Traceback (most recent call last)",
      "File \u001B[0;32m~/Documents/Master of Statistics/2/Modern Data Analytics/Project/G0Z39a/.venv/lib/python3.9/site-packages/joblib/parallel.py:822\u001B[0m, in \u001B[0;36mParallel.dispatch_one_batch\u001B[0;34m(self, iterator)\u001B[0m\n\u001B[1;32m    821\u001B[0m \u001B[38;5;28;01mtry\u001B[39;00m:\n\u001B[0;32m--> 822\u001B[0m     tasks \u001B[38;5;241m=\u001B[39m \u001B[38;5;28;43mself\u001B[39;49m\u001B[38;5;241;43m.\u001B[39;49m\u001B[43m_ready_batches\u001B[49m\u001B[38;5;241;43m.\u001B[39;49m\u001B[43mget\u001B[49m\u001B[43m(\u001B[49m\u001B[43mblock\u001B[49m\u001B[38;5;241;43m=\u001B[39;49m\u001B[38;5;28;43;01mFalse\u001B[39;49;00m\u001B[43m)\u001B[49m\n\u001B[1;32m    823\u001B[0m \u001B[38;5;28;01mexcept\u001B[39;00m queue\u001B[38;5;241m.\u001B[39mEmpty:\n\u001B[1;32m    824\u001B[0m     \u001B[38;5;66;03m# slice the iterator n_jobs * batchsize items at a time. If the\u001B[39;00m\n\u001B[1;32m    825\u001B[0m     \u001B[38;5;66;03m# slice returns less than that, then the current batchsize puts\u001B[39;00m\n\u001B[0;32m   (...)\u001B[0m\n\u001B[1;32m    828\u001B[0m     \u001B[38;5;66;03m# accordingly to distribute evenly the last items between all\u001B[39;00m\n\u001B[1;32m    829\u001B[0m     \u001B[38;5;66;03m# workers.\u001B[39;00m\n",
      "File \u001B[0;32m~/.pyenv/versions/3.9.10/lib/python3.9/queue.py:168\u001B[0m, in \u001B[0;36mQueue.get\u001B[0;34m(self, block, timeout)\u001B[0m\n\u001B[1;32m    167\u001B[0m     \u001B[38;5;28;01mif\u001B[39;00m \u001B[38;5;129;01mnot\u001B[39;00m \u001B[38;5;28mself\u001B[39m\u001B[38;5;241m.\u001B[39m_qsize():\n\u001B[0;32m--> 168\u001B[0m         \u001B[38;5;28;01mraise\u001B[39;00m Empty\n\u001B[1;32m    169\u001B[0m \u001B[38;5;28;01melif\u001B[39;00m timeout \u001B[38;5;129;01mis\u001B[39;00m \u001B[38;5;28;01mNone\u001B[39;00m:\n",
      "\u001B[0;31mEmpty\u001B[0m: ",
      "\nDuring handling of the above exception, another exception occurred:\n",
      "\u001B[0;31mInvalidIndexError\u001B[0m                         Traceback (most recent call last)",
      "File \u001B[0;32m~/Documents/Master of Statistics/2/Modern Data Analytics/Project/G0Z39a/.venv/lib/python3.9/site-packages/pandas/core/indexes/multi.py:3346\u001B[0m, in \u001B[0;36mMultiIndex.get_locs\u001B[0;34m(self, seq)\u001B[0m\n\u001B[1;32m   3343\u001B[0m \u001B[38;5;28;01mtry\u001B[39;00m:\n\u001B[1;32m   3344\u001B[0m     \u001B[38;5;66;03m# Argument \"indexer\" to \"_get_level_indexer\" of \"MultiIndex\"\u001B[39;00m\n\u001B[1;32m   3345\u001B[0m     \u001B[38;5;66;03m# has incompatible type \"Index\"; expected \"Optional[Int64Index]\"\u001B[39;00m\n\u001B[0;32m-> 3346\u001B[0m     lev_loc \u001B[38;5;241m=\u001B[39m \u001B[38;5;28;43mself\u001B[39;49m\u001B[38;5;241;43m.\u001B[39;49m\u001B[43m_get_level_indexer\u001B[49m\u001B[43m(\u001B[49m\n\u001B[1;32m   3347\u001B[0m \u001B[43m        \u001B[49m\u001B[43mk\u001B[49m\u001B[43m,\u001B[49m\u001B[43m \u001B[49m\u001B[43mlevel\u001B[49m\u001B[38;5;241;43m=\u001B[39;49m\u001B[43mi\u001B[49m\u001B[43m,\u001B[49m\u001B[43m \u001B[49m\u001B[43mindexer\u001B[49m\u001B[38;5;241;43m=\u001B[39;49m\u001B[43mindexer\u001B[49m\u001B[43m  \u001B[49m\u001B[38;5;66;43;03m# type: ignore[arg-type]\u001B[39;49;00m\n\u001B[1;32m   3348\u001B[0m \u001B[43m    \u001B[49m\u001B[43m)\u001B[49m\n\u001B[1;32m   3349\u001B[0m \u001B[38;5;28;01mexcept\u001B[39;00m (InvalidIndexError, \u001B[38;5;167;01mTypeError\u001B[39;00m, \u001B[38;5;167;01mKeyError\u001B[39;00m) \u001B[38;5;28;01mas\u001B[39;00m err:\n\u001B[1;32m   3350\u001B[0m     \u001B[38;5;66;03m# InvalidIndexError e.g. non-hashable, fall back to treating\u001B[39;00m\n\u001B[1;32m   3351\u001B[0m     \u001B[38;5;66;03m#  this as a sequence of labels\u001B[39;00m\n\u001B[1;32m   3352\u001B[0m     \u001B[38;5;66;03m# KeyError it can be ambiguous if this is a label or sequence\u001B[39;00m\n\u001B[1;32m   3353\u001B[0m     \u001B[38;5;66;03m#  of labels\u001B[39;00m\n\u001B[1;32m   3354\u001B[0m     \u001B[38;5;66;03m#  github.com/pandas-dev/pandas/issues/39424#issuecomment-871626708\u001B[39;00m\n",
      "File \u001B[0;32m~/Documents/Master of Statistics/2/Modern Data Analytics/Project/G0Z39a/.venv/lib/python3.9/site-packages/pandas/core/indexes/multi.py:3222\u001B[0m, in \u001B[0;36mMultiIndex._get_level_indexer\u001B[0;34m(self, key, level, indexer)\u001B[0m\n\u001B[1;32m   3220\u001B[0m \u001B[38;5;28;01melse\u001B[39;00m:\n\u001B[0;32m-> 3222\u001B[0m     idx \u001B[38;5;241m=\u001B[39m \u001B[38;5;28;43mself\u001B[39;49m\u001B[38;5;241;43m.\u001B[39;49m\u001B[43m_get_loc_single_level_index\u001B[49m\u001B[43m(\u001B[49m\u001B[43mlevel_index\u001B[49m\u001B[43m,\u001B[49m\u001B[43m \u001B[49m\u001B[43mkey\u001B[49m\u001B[43m)\u001B[49m\n\u001B[1;32m   3224\u001B[0m     \u001B[38;5;28;01mif\u001B[39;00m level \u001B[38;5;241m>\u001B[39m \u001B[38;5;241m0\u001B[39m \u001B[38;5;129;01mor\u001B[39;00m \u001B[38;5;28mself\u001B[39m\u001B[38;5;241m.\u001B[39m_lexsort_depth \u001B[38;5;241m==\u001B[39m \u001B[38;5;241m0\u001B[39m:\n\u001B[1;32m   3225\u001B[0m         \u001B[38;5;66;03m# Desired level is not sorted\u001B[39;00m\n",
      "File \u001B[0;32m~/Documents/Master of Statistics/2/Modern Data Analytics/Project/G0Z39a/.venv/lib/python3.9/site-packages/pandas/core/indexes/multi.py:2802\u001B[0m, in \u001B[0;36mMultiIndex._get_loc_single_level_index\u001B[0;34m(self, level_index, key)\u001B[0m\n\u001B[1;32m   2801\u001B[0m \u001B[38;5;28;01melse\u001B[39;00m:\n\u001B[0;32m-> 2802\u001B[0m     \u001B[38;5;28;01mreturn\u001B[39;00m \u001B[43mlevel_index\u001B[49m\u001B[38;5;241;43m.\u001B[39;49m\u001B[43mget_loc\u001B[49m\u001B[43m(\u001B[49m\u001B[43mkey\u001B[49m\u001B[43m)\u001B[49m\n",
      "File \u001B[0;32m~/Documents/Master of Statistics/2/Modern Data Analytics/Project/G0Z39a/.venv/lib/python3.9/site-packages/pandas/core/indexes/datetimes.py:630\u001B[0m, in \u001B[0;36mDatetimeIndex.get_loc\u001B[0;34m(self, key, method, tolerance)\u001B[0m\n\u001B[1;32m    623\u001B[0m \u001B[38;5;124;03m\"\"\"\u001B[39;00m\n\u001B[1;32m    624\u001B[0m \u001B[38;5;124;03mGet integer location for requested label\u001B[39;00m\n\u001B[1;32m    625\u001B[0m \n\u001B[0;32m   (...)\u001B[0m\n\u001B[1;32m    628\u001B[0m \u001B[38;5;124;03mloc : int\u001B[39;00m\n\u001B[1;32m    629\u001B[0m \u001B[38;5;124;03m\"\"\"\u001B[39;00m\n\u001B[0;32m--> 630\u001B[0m \u001B[38;5;28;43mself\u001B[39;49m\u001B[38;5;241;43m.\u001B[39;49m\u001B[43m_check_indexing_error\u001B[49m\u001B[43m(\u001B[49m\u001B[43mkey\u001B[49m\u001B[43m)\u001B[49m\n\u001B[1;32m    632\u001B[0m orig_key \u001B[38;5;241m=\u001B[39m key\n",
      "File \u001B[0;32m~/Documents/Master of Statistics/2/Modern Data Analytics/Project/G0Z39a/.venv/lib/python3.9/site-packages/pandas/core/indexes/base.py:5637\u001B[0m, in \u001B[0;36mIndex._check_indexing_error\u001B[0;34m(self, key)\u001B[0m\n\u001B[1;32m   5634\u001B[0m \u001B[38;5;28;01mif\u001B[39;00m \u001B[38;5;129;01mnot\u001B[39;00m is_scalar(key):\n\u001B[1;32m   5635\u001B[0m     \u001B[38;5;66;03m# if key is not a scalar, directly raise an error (the code below\u001B[39;00m\n\u001B[1;32m   5636\u001B[0m     \u001B[38;5;66;03m# would convert to numpy arrays and raise later any way) - GH29926\u001B[39;00m\n\u001B[0;32m-> 5637\u001B[0m     \u001B[38;5;28;01mraise\u001B[39;00m InvalidIndexError(key)\n",
      "\u001B[0;31mInvalidIndexError\u001B[0m: date\n2020-03-21   2020-03-21\n2020-03-22   2020-03-22\n2020-03-23   2020-03-23\n2020-03-24   2020-03-24\n2020-03-25   2020-03-25\n                ...    \n2020-07-14   2020-07-14\n2020-07-15   2020-07-15\n2020-07-16   2020-07-16\n2020-07-17   2020-07-17\n2020-07-18   2020-07-18\nName: date, Length: 120, dtype: datetime64[ns]",
      "\nDuring handling of the above exception, another exception occurred:\n",
      "\u001B[0;31mKeyboardInterrupt\u001B[0m                         Traceback (most recent call last)",
      "Input \u001B[0;32mIn [8]\u001B[0m, in \u001B[0;36m<cell line: 17>\u001B[0;34m()\u001B[0m\n\u001B[1;32m     13\u001B[0m     \u001B[38;5;28;01mreturn\u001B[39;00m np\u001B[38;5;241m.\u001B[39mmean(scores)\n\u001B[1;32m     16\u001B[0m study \u001B[38;5;241m=\u001B[39m optuna\u001B[38;5;241m.\u001B[39mcreate_study(direction\u001B[38;5;241m=\u001B[39m\u001B[38;5;124m\"\u001B[39m\u001B[38;5;124mminimize\u001B[39m\u001B[38;5;124m\"\u001B[39m)\n\u001B[0;32m---> 17\u001B[0m \u001B[43mstudy\u001B[49m\u001B[38;5;241;43m.\u001B[39;49m\u001B[43moptimize\u001B[49m\u001B[43m(\u001B[49m\u001B[43mobjective\u001B[49m\u001B[43m,\u001B[49m\u001B[43m \u001B[49m\u001B[43mn_trials\u001B[49m\u001B[38;5;241;43m=\u001B[39;49m\u001B[38;5;241;43m10\u001B[39;49m\u001B[43m)\u001B[49m\n\u001B[1;32m     19\u001B[0m study\u001B[38;5;241m.\u001B[39mbest_params\n",
      "File \u001B[0;32m~/Documents/Master of Statistics/2/Modern Data Analytics/Project/G0Z39a/.venv/lib/python3.9/site-packages/optuna/study/study.py:400\u001B[0m, in \u001B[0;36mStudy.optimize\u001B[0;34m(self, func, n_trials, timeout, n_jobs, catch, callbacks, gc_after_trial, show_progress_bar)\u001B[0m\n\u001B[1;32m    392\u001B[0m \u001B[38;5;28;01mif\u001B[39;00m n_jobs \u001B[38;5;241m!=\u001B[39m \u001B[38;5;241m1\u001B[39m:\n\u001B[1;32m    393\u001B[0m     warnings\u001B[38;5;241m.\u001B[39mwarn(\n\u001B[1;32m    394\u001B[0m         \u001B[38;5;124m\"\u001B[39m\u001B[38;5;124m`n_jobs` argument has been deprecated in v2.7.0. \u001B[39m\u001B[38;5;124m\"\u001B[39m\n\u001B[1;32m    395\u001B[0m         \u001B[38;5;124m\"\u001B[39m\u001B[38;5;124mThis feature will be removed in v4.0.0. \u001B[39m\u001B[38;5;124m\"\u001B[39m\n\u001B[1;32m    396\u001B[0m         \u001B[38;5;124m\"\u001B[39m\u001B[38;5;124mSee https://github.com/optuna/optuna/releases/tag/v2.7.0.\u001B[39m\u001B[38;5;124m\"\u001B[39m,\n\u001B[1;32m    397\u001B[0m         \u001B[38;5;167;01mFutureWarning\u001B[39;00m,\n\u001B[1;32m    398\u001B[0m     )\n\u001B[0;32m--> 400\u001B[0m \u001B[43m_optimize\u001B[49m\u001B[43m(\u001B[49m\n\u001B[1;32m    401\u001B[0m \u001B[43m    \u001B[49m\u001B[43mstudy\u001B[49m\u001B[38;5;241;43m=\u001B[39;49m\u001B[38;5;28;43mself\u001B[39;49m\u001B[43m,\u001B[49m\n\u001B[1;32m    402\u001B[0m \u001B[43m    \u001B[49m\u001B[43mfunc\u001B[49m\u001B[38;5;241;43m=\u001B[39;49m\u001B[43mfunc\u001B[49m\u001B[43m,\u001B[49m\n\u001B[1;32m    403\u001B[0m \u001B[43m    \u001B[49m\u001B[43mn_trials\u001B[49m\u001B[38;5;241;43m=\u001B[39;49m\u001B[43mn_trials\u001B[49m\u001B[43m,\u001B[49m\n\u001B[1;32m    404\u001B[0m \u001B[43m    \u001B[49m\u001B[43mtimeout\u001B[49m\u001B[38;5;241;43m=\u001B[39;49m\u001B[43mtimeout\u001B[49m\u001B[43m,\u001B[49m\n\u001B[1;32m    405\u001B[0m \u001B[43m    \u001B[49m\u001B[43mn_jobs\u001B[49m\u001B[38;5;241;43m=\u001B[39;49m\u001B[43mn_jobs\u001B[49m\u001B[43m,\u001B[49m\n\u001B[1;32m    406\u001B[0m \u001B[43m    \u001B[49m\u001B[43mcatch\u001B[49m\u001B[38;5;241;43m=\u001B[39;49m\u001B[43mcatch\u001B[49m\u001B[43m,\u001B[49m\n\u001B[1;32m    407\u001B[0m \u001B[43m    \u001B[49m\u001B[43mcallbacks\u001B[49m\u001B[38;5;241;43m=\u001B[39;49m\u001B[43mcallbacks\u001B[49m\u001B[43m,\u001B[49m\n\u001B[1;32m    408\u001B[0m \u001B[43m    \u001B[49m\u001B[43mgc_after_trial\u001B[49m\u001B[38;5;241;43m=\u001B[39;49m\u001B[43mgc_after_trial\u001B[49m\u001B[43m,\u001B[49m\n\u001B[1;32m    409\u001B[0m \u001B[43m    \u001B[49m\u001B[43mshow_progress_bar\u001B[49m\u001B[38;5;241;43m=\u001B[39;49m\u001B[43mshow_progress_bar\u001B[49m\u001B[43m,\u001B[49m\n\u001B[1;32m    410\u001B[0m \u001B[43m\u001B[49m\u001B[43m)\u001B[49m\n",
      "File \u001B[0;32m~/Documents/Master of Statistics/2/Modern Data Analytics/Project/G0Z39a/.venv/lib/python3.9/site-packages/optuna/study/_optimize.py:66\u001B[0m, in \u001B[0;36m_optimize\u001B[0;34m(study, func, n_trials, timeout, n_jobs, catch, callbacks, gc_after_trial, show_progress_bar)\u001B[0m\n\u001B[1;32m     64\u001B[0m \u001B[38;5;28;01mtry\u001B[39;00m:\n\u001B[1;32m     65\u001B[0m     \u001B[38;5;28;01mif\u001B[39;00m n_jobs \u001B[38;5;241m==\u001B[39m \u001B[38;5;241m1\u001B[39m:\n\u001B[0;32m---> 66\u001B[0m         \u001B[43m_optimize_sequential\u001B[49m\u001B[43m(\u001B[49m\n\u001B[1;32m     67\u001B[0m \u001B[43m            \u001B[49m\u001B[43mstudy\u001B[49m\u001B[43m,\u001B[49m\n\u001B[1;32m     68\u001B[0m \u001B[43m            \u001B[49m\u001B[43mfunc\u001B[49m\u001B[43m,\u001B[49m\n\u001B[1;32m     69\u001B[0m \u001B[43m            \u001B[49m\u001B[43mn_trials\u001B[49m\u001B[43m,\u001B[49m\n\u001B[1;32m     70\u001B[0m \u001B[43m            \u001B[49m\u001B[43mtimeout\u001B[49m\u001B[43m,\u001B[49m\n\u001B[1;32m     71\u001B[0m \u001B[43m            \u001B[49m\u001B[43mcatch\u001B[49m\u001B[43m,\u001B[49m\n\u001B[1;32m     72\u001B[0m \u001B[43m            \u001B[49m\u001B[43mcallbacks\u001B[49m\u001B[43m,\u001B[49m\n\u001B[1;32m     73\u001B[0m \u001B[43m            \u001B[49m\u001B[43mgc_after_trial\u001B[49m\u001B[43m,\u001B[49m\n\u001B[1;32m     74\u001B[0m \u001B[43m            \u001B[49m\u001B[43mreseed_sampler_rng\u001B[49m\u001B[38;5;241;43m=\u001B[39;49m\u001B[38;5;28;43;01mFalse\u001B[39;49;00m\u001B[43m,\u001B[49m\n\u001B[1;32m     75\u001B[0m \u001B[43m            \u001B[49m\u001B[43mtime_start\u001B[49m\u001B[38;5;241;43m=\u001B[39;49m\u001B[38;5;28;43;01mNone\u001B[39;49;00m\u001B[43m,\u001B[49m\n\u001B[1;32m     76\u001B[0m \u001B[43m            \u001B[49m\u001B[43mprogress_bar\u001B[49m\u001B[38;5;241;43m=\u001B[39;49m\u001B[43mprogress_bar\u001B[49m\u001B[43m,\u001B[49m\n\u001B[1;32m     77\u001B[0m \u001B[43m        \u001B[49m\u001B[43m)\u001B[49m\n\u001B[1;32m     78\u001B[0m     \u001B[38;5;28;01melse\u001B[39;00m:\n\u001B[1;32m     79\u001B[0m         \u001B[38;5;28;01mif\u001B[39;00m show_progress_bar:\n",
      "File \u001B[0;32m~/Documents/Master of Statistics/2/Modern Data Analytics/Project/G0Z39a/.venv/lib/python3.9/site-packages/optuna/study/_optimize.py:163\u001B[0m, in \u001B[0;36m_optimize_sequential\u001B[0;34m(study, func, n_trials, timeout, catch, callbacks, gc_after_trial, reseed_sampler_rng, time_start, progress_bar)\u001B[0m\n\u001B[1;32m    160\u001B[0m         \u001B[38;5;28;01mbreak\u001B[39;00m\n\u001B[1;32m    162\u001B[0m \u001B[38;5;28;01mtry\u001B[39;00m:\n\u001B[0;32m--> 163\u001B[0m     trial \u001B[38;5;241m=\u001B[39m \u001B[43m_run_trial\u001B[49m\u001B[43m(\u001B[49m\u001B[43mstudy\u001B[49m\u001B[43m,\u001B[49m\u001B[43m \u001B[49m\u001B[43mfunc\u001B[49m\u001B[43m,\u001B[49m\u001B[43m \u001B[49m\u001B[43mcatch\u001B[49m\u001B[43m)\u001B[49m\n\u001B[1;32m    164\u001B[0m \u001B[38;5;28;01mexcept\u001B[39;00m \u001B[38;5;167;01mException\u001B[39;00m:\n\u001B[1;32m    165\u001B[0m     \u001B[38;5;28;01mraise\u001B[39;00m\n",
      "File \u001B[0;32m~/Documents/Master of Statistics/2/Modern Data Analytics/Project/G0Z39a/.venv/lib/python3.9/site-packages/optuna/study/_optimize.py:213\u001B[0m, in \u001B[0;36m_run_trial\u001B[0;34m(study, func, catch)\u001B[0m\n\u001B[1;32m    210\u001B[0m     thread\u001B[38;5;241m.\u001B[39mstart()\n\u001B[1;32m    212\u001B[0m \u001B[38;5;28;01mtry\u001B[39;00m:\n\u001B[0;32m--> 213\u001B[0m     value_or_values \u001B[38;5;241m=\u001B[39m \u001B[43mfunc\u001B[49m\u001B[43m(\u001B[49m\u001B[43mtrial\u001B[49m\u001B[43m)\u001B[49m\n\u001B[1;32m    214\u001B[0m \u001B[38;5;28;01mexcept\u001B[39;00m exceptions\u001B[38;5;241m.\u001B[39mTrialPruned \u001B[38;5;28;01mas\u001B[39;00m e:\n\u001B[1;32m    215\u001B[0m     \u001B[38;5;66;03m# TODO(mamu): Handle multi-objective cases.\u001B[39;00m\n\u001B[1;32m    216\u001B[0m     state \u001B[38;5;241m=\u001B[39m TrialState\u001B[38;5;241m.\u001B[39mPRUNED\n",
      "Input \u001B[0;32mIn [8]\u001B[0m, in \u001B[0;36mobjective\u001B[0;34m(trial)\u001B[0m\n\u001B[1;32m      5\u001B[0m lag: \u001B[38;5;28mint\u001B[39m \u001B[38;5;241m=\u001B[39m trial\u001B[38;5;241m.\u001B[39msuggest_int(\u001B[38;5;124m\"\u001B[39m\u001B[38;5;124mlag\u001B[39m\u001B[38;5;124m\"\u001B[39m, \u001B[38;5;241m5\u001B[39m, \u001B[38;5;241m25\u001B[39m)\n\u001B[1;32m      6\u001B[0m forecaster \u001B[38;5;241m=\u001B[39m LGBMForecaster(\n\u001B[1;32m      7\u001B[0m     lgb\u001B[38;5;241m.\u001B[39mLGBMRegressor(objective\u001B[38;5;241m=\u001B[39mmape\u001B[38;5;241m.\u001B[39mname), lag\u001B[38;5;241m=\u001B[39mlag, transformers\u001B[38;5;241m=\u001B[39mtransformers\n\u001B[1;32m      8\u001B[0m )\n\u001B[0;32m---> 10\u001B[0m scores: Sequence[\u001B[38;5;28mfloat\u001B[39m] \u001B[38;5;241m=\u001B[39m \u001B[43mcross_validate\u001B[49m\u001B[43m(\u001B[49m\n\u001B[1;32m     11\u001B[0m \u001B[43m    \u001B[49m\u001B[43mforecaster\u001B[49m\u001B[43m,\u001B[49m\u001B[43m \u001B[49m\u001B[43msplitter\u001B[49m\u001B[38;5;241;43m=\u001B[39;49m\u001B[43msplitter\u001B[49m\u001B[43m,\u001B[49m\u001B[43m \u001B[49m\u001B[43my\u001B[49m\u001B[38;5;241;43m=\u001B[39;49m\u001B[43mdf_y\u001B[49m\u001B[43m,\u001B[49m\u001B[43m \u001B[49m\u001B[43mXs\u001B[49m\u001B[38;5;241;43m=\u001B[39;49m\u001B[43m[\u001B[49m\u001B[43mextra_pop\u001B[49m\u001B[43m]\u001B[49m\u001B[43m,\u001B[49m\u001B[43m \u001B[49m\u001B[43mloss\u001B[49m\u001B[38;5;241;43m=\u001B[39;49m\u001B[43mmape\u001B[49m\u001B[38;5;241;43m.\u001B[39;49m\u001B[43mfunction\u001B[49m\n\u001B[1;32m     12\u001B[0m \u001B[43m\u001B[49m\u001B[43m)\u001B[49m\n\u001B[1;32m     13\u001B[0m \u001B[38;5;28;01mreturn\u001B[39;00m np\u001B[38;5;241m.\u001B[39mmean(scores)\n",
      "File \u001B[0;32m~/Documents/Master of Statistics/2/Modern Data Analytics/Project/G0Z39a/src/nepal/ml/validate.py:41\u001B[0m, in \u001B[0;36mcross_validate\u001B[0;34m(forecaster, splitter, y, Xs, loss, threads)\u001B[0m\n\u001B[1;32m     34\u001B[0m     threads \u001B[38;5;241m=\u001B[39m os\u001B[38;5;241m.\u001B[39mcpu_count()\n\u001B[1;32m     36\u001B[0m \u001B[38;5;28;01mwith\u001B[39;00m tqdm_joblib(\n\u001B[1;32m     37\u001B[0m     tqdm(desc\u001B[38;5;241m=\u001B[39m\u001B[38;5;124m\"\u001B[39m\u001B[38;5;124mCross Validation\u001B[39m\u001B[38;5;124m\"\u001B[39m, total\u001B[38;5;241m=\u001B[39msplitter\u001B[38;5;241m.\u001B[39mget_n_splits(y))\n\u001B[1;32m     38\u001B[0m ) \u001B[38;5;28;01mas\u001B[39;00m progress_bar:\n\u001B[1;32m     39\u001B[0m     \u001B[38;5;28;01mreturn\u001B[39;00m cast(\n\u001B[1;32m     40\u001B[0m         Sequence[\u001B[38;5;28mfloat\u001B[39m],\n\u001B[0;32m---> 41\u001B[0m         \u001B[43mParallel\u001B[49m\u001B[43m(\u001B[49m\u001B[43mn_jobs\u001B[49m\u001B[38;5;241;43m=\u001B[39;49m\u001B[43mthreads\u001B[49m\u001B[43m)\u001B[49m\u001B[43m(\u001B[49m\n\u001B[1;32m     42\u001B[0m \u001B[43m            \u001B[49m\u001B[43mdelayed\u001B[49m\u001B[43m(\u001B[49m\u001B[43m_single_run\u001B[49m\u001B[43m)\u001B[49m\u001B[43m(\u001B[49m\n\u001B[1;32m     43\u001B[0m \u001B[43m                \u001B[49m\u001B[38;5;241;43m*\u001B[39;49m\u001B[38;5;241;43m*\u001B[39;49m\u001B[43m{\u001B[49m\n\u001B[1;32m     44\u001B[0m \u001B[43m                    \u001B[49m\u001B[38;5;124;43m\"\u001B[39;49m\u001B[38;5;124;43mforecaster\u001B[39;49m\u001B[38;5;124;43m\"\u001B[39;49m\u001B[43m:\u001B[49m\u001B[43m \u001B[49m\u001B[43mforecaster\u001B[49m\u001B[43m,\u001B[49m\n\u001B[1;32m     45\u001B[0m \u001B[43m                    \u001B[49m\u001B[38;5;124;43m\"\u001B[39;49m\u001B[38;5;124;43mdf_train\u001B[39;49m\u001B[38;5;124;43m\"\u001B[39;49m\u001B[43m:\u001B[49m\u001B[43m \u001B[49m\u001B[43mdf_train\u001B[49m\u001B[43m,\u001B[49m\n\u001B[1;32m     46\u001B[0m \u001B[43m                    \u001B[49m\u001B[38;5;124;43m\"\u001B[39;49m\u001B[38;5;124;43mdf_test\u001B[39;49m\u001B[38;5;124;43m\"\u001B[39;49m\u001B[43m:\u001B[49m\u001B[43m \u001B[49m\u001B[43mdf_test\u001B[49m\u001B[43m,\u001B[49m\n\u001B[1;32m     47\u001B[0m \u001B[43m                    \u001B[49m\u001B[38;5;124;43m\"\u001B[39;49m\u001B[38;5;124;43mexogenous\u001B[39;49m\u001B[38;5;124;43m\"\u001B[39;49m\u001B[43m:\u001B[49m\u001B[43m \u001B[49m\u001B[43mXs\u001B[49m\u001B[43m,\u001B[49m\n\u001B[1;32m     48\u001B[0m \u001B[43m                    \u001B[49m\u001B[38;5;124;43m\"\u001B[39;49m\u001B[38;5;124;43mloss\u001B[39;49m\u001B[38;5;124;43m\"\u001B[39;49m\u001B[43m:\u001B[49m\u001B[43m \u001B[49m\u001B[43mloss\u001B[49m\u001B[43m,\u001B[49m\n\u001B[1;32m     49\u001B[0m \u001B[43m                    \u001B[49m\u001B[38;5;124;43m\"\u001B[39;49m\u001B[38;5;124;43mfh\u001B[39;49m\u001B[38;5;124;43m\"\u001B[39;49m\u001B[43m:\u001B[49m\u001B[43m \u001B[49m\u001B[43msplitter\u001B[49m\u001B[38;5;241;43m.\u001B[39;49m\u001B[43mfh\u001B[49m\u001B[43m,\u001B[49m\n\u001B[1;32m     50\u001B[0m \u001B[43m                \u001B[49m\u001B[43m}\u001B[49m\n\u001B[1;32m     51\u001B[0m \u001B[43m            \u001B[49m\u001B[43m)\u001B[49m\n\u001B[1;32m     52\u001B[0m \u001B[43m            \u001B[49m\u001B[38;5;28;43;01mfor\u001B[39;49;00m\u001B[43m \u001B[49m\u001B[43mdf_train\u001B[49m\u001B[43m,\u001B[49m\u001B[43m \u001B[49m\u001B[43mdf_test\u001B[49m\u001B[43m \u001B[49m\u001B[38;5;129;43;01min\u001B[39;49;00m\u001B[43m \u001B[49m\u001B[43msplitter\u001B[49m\u001B[38;5;241;43m.\u001B[39;49m\u001B[43mtrain_test_splits\u001B[49m\u001B[43m(\u001B[49m\u001B[43my\u001B[49m\u001B[38;5;241;43m=\u001B[39;49m\u001B[43my\u001B[49m\u001B[43m)\u001B[49m\n\u001B[1;32m     53\u001B[0m \u001B[43m        \u001B[49m\u001B[43m)\u001B[49m,\n\u001B[1;32m     54\u001B[0m     )\n",
      "File \u001B[0;32m~/Documents/Master of Statistics/2/Modern Data Analytics/Project/G0Z39a/.venv/lib/python3.9/site-packages/joblib/parallel.py:1043\u001B[0m, in \u001B[0;36mParallel.__call__\u001B[0;34m(self, iterable)\u001B[0m\n\u001B[1;32m   1034\u001B[0m \u001B[38;5;28;01mtry\u001B[39;00m:\n\u001B[1;32m   1035\u001B[0m     \u001B[38;5;66;03m# Only set self._iterating to True if at least a batch\u001B[39;00m\n\u001B[1;32m   1036\u001B[0m     \u001B[38;5;66;03m# was dispatched. In particular this covers the edge\u001B[39;00m\n\u001B[0;32m   (...)\u001B[0m\n\u001B[1;32m   1040\u001B[0m     \u001B[38;5;66;03m# was very quick and its callback already dispatched all the\u001B[39;00m\n\u001B[1;32m   1041\u001B[0m     \u001B[38;5;66;03m# remaining jobs.\u001B[39;00m\n\u001B[1;32m   1042\u001B[0m     \u001B[38;5;28mself\u001B[39m\u001B[38;5;241m.\u001B[39m_iterating \u001B[38;5;241m=\u001B[39m \u001B[38;5;28;01mFalse\u001B[39;00m\n\u001B[0;32m-> 1043\u001B[0m     \u001B[38;5;28;01mif\u001B[39;00m \u001B[38;5;28;43mself\u001B[39;49m\u001B[38;5;241;43m.\u001B[39;49m\u001B[43mdispatch_one_batch\u001B[49m\u001B[43m(\u001B[49m\u001B[43miterator\u001B[49m\u001B[43m)\u001B[49m:\n\u001B[1;32m   1044\u001B[0m         \u001B[38;5;28mself\u001B[39m\u001B[38;5;241m.\u001B[39m_iterating \u001B[38;5;241m=\u001B[39m \u001B[38;5;28mself\u001B[39m\u001B[38;5;241m.\u001B[39m_original_iterator \u001B[38;5;129;01mis\u001B[39;00m \u001B[38;5;129;01mnot\u001B[39;00m \u001B[38;5;28;01mNone\u001B[39;00m\n\u001B[1;32m   1046\u001B[0m     \u001B[38;5;28;01mwhile\u001B[39;00m \u001B[38;5;28mself\u001B[39m\u001B[38;5;241m.\u001B[39mdispatch_one_batch(iterator):\n",
      "File \u001B[0;32m~/Documents/Master of Statistics/2/Modern Data Analytics/Project/G0Z39a/.venv/lib/python3.9/site-packages/joblib/parallel.py:833\u001B[0m, in \u001B[0;36mParallel.dispatch_one_batch\u001B[0;34m(self, iterator)\u001B[0m\n\u001B[1;32m    830\u001B[0m n_jobs \u001B[38;5;241m=\u001B[39m \u001B[38;5;28mself\u001B[39m\u001B[38;5;241m.\u001B[39m_cached_effective_n_jobs\n\u001B[1;32m    831\u001B[0m big_batch_size \u001B[38;5;241m=\u001B[39m batch_size \u001B[38;5;241m*\u001B[39m n_jobs\n\u001B[0;32m--> 833\u001B[0m islice \u001B[38;5;241m=\u001B[39m \u001B[38;5;28;43mlist\u001B[39;49m\u001B[43m(\u001B[49m\u001B[43mitertools\u001B[49m\u001B[38;5;241;43m.\u001B[39;49m\u001B[43mislice\u001B[49m\u001B[43m(\u001B[49m\u001B[43miterator\u001B[49m\u001B[43m,\u001B[49m\u001B[43m \u001B[49m\u001B[43mbig_batch_size\u001B[49m\u001B[43m)\u001B[49m\u001B[43m)\u001B[49m\n\u001B[1;32m    834\u001B[0m \u001B[38;5;28;01mif\u001B[39;00m \u001B[38;5;28mlen\u001B[39m(islice) \u001B[38;5;241m==\u001B[39m \u001B[38;5;241m0\u001B[39m:\n\u001B[1;32m    835\u001B[0m     \u001B[38;5;28;01mreturn\u001B[39;00m \u001B[38;5;28;01mFalse\u001B[39;00m\n",
      "File \u001B[0;32m~/Documents/Master of Statistics/2/Modern Data Analytics/Project/G0Z39a/src/nepal/ml/validate.py:41\u001B[0m, in \u001B[0;36m<genexpr>\u001B[0;34m(.0)\u001B[0m\n\u001B[1;32m     34\u001B[0m     threads \u001B[38;5;241m=\u001B[39m os\u001B[38;5;241m.\u001B[39mcpu_count()\n\u001B[1;32m     36\u001B[0m \u001B[38;5;28;01mwith\u001B[39;00m tqdm_joblib(\n\u001B[1;32m     37\u001B[0m     tqdm(desc\u001B[38;5;241m=\u001B[39m\u001B[38;5;124m\"\u001B[39m\u001B[38;5;124mCross Validation\u001B[39m\u001B[38;5;124m\"\u001B[39m, total\u001B[38;5;241m=\u001B[39msplitter\u001B[38;5;241m.\u001B[39mget_n_splits(y))\n\u001B[1;32m     38\u001B[0m ) \u001B[38;5;28;01mas\u001B[39;00m progress_bar:\n\u001B[1;32m     39\u001B[0m     \u001B[38;5;28;01mreturn\u001B[39;00m cast(\n\u001B[1;32m     40\u001B[0m         Sequence[\u001B[38;5;28mfloat\u001B[39m],\n\u001B[0;32m---> 41\u001B[0m         Parallel(n_jobs\u001B[38;5;241m=\u001B[39mthreads)(\n\u001B[1;32m     42\u001B[0m             delayed(_single_run)(\n\u001B[1;32m     43\u001B[0m                 \u001B[38;5;241m*\u001B[39m\u001B[38;5;241m*\u001B[39m{\n\u001B[1;32m     44\u001B[0m                     \u001B[38;5;124m\"\u001B[39m\u001B[38;5;124mforecaster\u001B[39m\u001B[38;5;124m\"\u001B[39m: forecaster,\n\u001B[1;32m     45\u001B[0m                     \u001B[38;5;124m\"\u001B[39m\u001B[38;5;124mdf_train\u001B[39m\u001B[38;5;124m\"\u001B[39m: df_train,\n\u001B[1;32m     46\u001B[0m                     \u001B[38;5;124m\"\u001B[39m\u001B[38;5;124mdf_test\u001B[39m\u001B[38;5;124m\"\u001B[39m: df_test,\n\u001B[1;32m     47\u001B[0m                     \u001B[38;5;124m\"\u001B[39m\u001B[38;5;124mexogenous\u001B[39m\u001B[38;5;124m\"\u001B[39m: Xs,\n\u001B[1;32m     48\u001B[0m                     \u001B[38;5;124m\"\u001B[39m\u001B[38;5;124mloss\u001B[39m\u001B[38;5;124m\"\u001B[39m: loss,\n\u001B[1;32m     49\u001B[0m                     \u001B[38;5;124m\"\u001B[39m\u001B[38;5;124mfh\u001B[39m\u001B[38;5;124m\"\u001B[39m: splitter\u001B[38;5;241m.\u001B[39mfh,\n\u001B[1;32m     50\u001B[0m                 }\n\u001B[1;32m     51\u001B[0m             )\n\u001B[1;32m     52\u001B[0m             \u001B[38;5;28;01mfor\u001B[39;00m df_train, df_test \u001B[38;5;129;01min\u001B[39;00m splitter\u001B[38;5;241m.\u001B[39mtrain_test_splits(y\u001B[38;5;241m=\u001B[39my)\n\u001B[1;32m     53\u001B[0m         ),\n\u001B[1;32m     54\u001B[0m     )\n",
      "File \u001B[0;32m~/Documents/Master of Statistics/2/Modern Data Analytics/Project/G0Z39a/src/nepal/ml/splitter.py:42\u001B[0m, in \u001B[0;36mSplitter.generate_window_splits\u001B[0;34m(self, y)\u001B[0m\n\u001B[1;32m     39\u001B[0m idx_train: pd\u001B[38;5;241m.\u001B[39mSeries \u001B[38;5;241m=\u001B[39m dates\u001B[38;5;241m.\u001B[39miloc[train, \u001B[38;5;241m0\u001B[39m]\n\u001B[1;32m     40\u001B[0m idx_test: pd\u001B[38;5;241m.\u001B[39mSeries \u001B[38;5;241m=\u001B[39m dates\u001B[38;5;241m.\u001B[39miloc[test, \u001B[38;5;241m0\u001B[39m]\n\u001B[0;32m---> 42\u001B[0m \u001B[38;5;28;01myield\u001B[39;00m \u001B[43my\u001B[49m\u001B[38;5;241;43m.\u001B[39;49m\u001B[43mloc\u001B[49m\u001B[43m[\u001B[49m\u001B[43mpd\u001B[49m\u001B[38;5;241;43m.\u001B[39;49m\u001B[43mIndexSlice\u001B[49m\u001B[43m[\u001B[49m\u001B[43m:\u001B[49m\u001B[43m,\u001B[49m\u001B[43m \u001B[49m\u001B[43midx_train\u001B[49m\u001B[43m]\u001B[49m\u001B[43m,\u001B[49m\u001B[43m \u001B[49m\u001B[43m:\u001B[49m\u001B[43m]\u001B[49m, y\u001B[38;5;241m.\u001B[39mloc[pd\u001B[38;5;241m.\u001B[39mIndexSlice[:, idx_test], :]\n",
      "File \u001B[0;32m~/Documents/Master of Statistics/2/Modern Data Analytics/Project/G0Z39a/.venv/lib/python3.9/site-packages/pandas/core/indexing.py:961\u001B[0m, in \u001B[0;36m_LocationIndexer.__getitem__\u001B[0;34m(self, key)\u001B[0m\n\u001B[1;32m    959\u001B[0m     \u001B[38;5;28;01mif\u001B[39;00m \u001B[38;5;28mself\u001B[39m\u001B[38;5;241m.\u001B[39m_is_scalar_access(key):\n\u001B[1;32m    960\u001B[0m         \u001B[38;5;28;01mreturn\u001B[39;00m \u001B[38;5;28mself\u001B[39m\u001B[38;5;241m.\u001B[39mobj\u001B[38;5;241m.\u001B[39m_get_value(\u001B[38;5;241m*\u001B[39mkey, takeable\u001B[38;5;241m=\u001B[39m\u001B[38;5;28mself\u001B[39m\u001B[38;5;241m.\u001B[39m_takeable)\n\u001B[0;32m--> 961\u001B[0m     \u001B[38;5;28;01mreturn\u001B[39;00m \u001B[38;5;28;43mself\u001B[39;49m\u001B[38;5;241;43m.\u001B[39;49m\u001B[43m_getitem_tuple\u001B[49m\u001B[43m(\u001B[49m\u001B[43mkey\u001B[49m\u001B[43m)\u001B[49m\n\u001B[1;32m    962\u001B[0m \u001B[38;5;28;01melse\u001B[39;00m:\n\u001B[1;32m    963\u001B[0m     \u001B[38;5;66;03m# we by definition only have the 0th axis\u001B[39;00m\n\u001B[1;32m    964\u001B[0m     axis \u001B[38;5;241m=\u001B[39m \u001B[38;5;28mself\u001B[39m\u001B[38;5;241m.\u001B[39maxis \u001B[38;5;129;01mor\u001B[39;00m \u001B[38;5;241m0\u001B[39m\n",
      "File \u001B[0;32m~/Documents/Master of Statistics/2/Modern Data Analytics/Project/G0Z39a/.venv/lib/python3.9/site-packages/pandas/core/indexing.py:1140\u001B[0m, in \u001B[0;36m_LocIndexer._getitem_tuple\u001B[0;34m(self, tup)\u001B[0m\n\u001B[1;32m   1138\u001B[0m \u001B[38;5;28;01mwith\u001B[39;00m suppress(IndexingError):\n\u001B[1;32m   1139\u001B[0m     tup \u001B[38;5;241m=\u001B[39m \u001B[38;5;28mself\u001B[39m\u001B[38;5;241m.\u001B[39m_expand_ellipsis(tup)\n\u001B[0;32m-> 1140\u001B[0m     \u001B[38;5;28;01mreturn\u001B[39;00m \u001B[38;5;28;43mself\u001B[39;49m\u001B[38;5;241;43m.\u001B[39;49m\u001B[43m_getitem_lowerdim\u001B[49m\u001B[43m(\u001B[49m\u001B[43mtup\u001B[49m\u001B[43m)\u001B[49m\n\u001B[1;32m   1142\u001B[0m \u001B[38;5;66;03m# no multi-index, so validate all of the indexers\u001B[39;00m\n\u001B[1;32m   1143\u001B[0m tup \u001B[38;5;241m=\u001B[39m \u001B[38;5;28mself\u001B[39m\u001B[38;5;241m.\u001B[39m_validate_tuple_indexer(tup)\n",
      "File \u001B[0;32m~/Documents/Master of Statistics/2/Modern Data Analytics/Project/G0Z39a/.venv/lib/python3.9/site-packages/pandas/core/indexing.py:843\u001B[0m, in \u001B[0;36m_LocationIndexer._getitem_lowerdim\u001B[0;34m(self, tup)\u001B[0m\n\u001B[1;32m    841\u001B[0m \u001B[38;5;66;03m# we may have a nested tuples indexer here\u001B[39;00m\n\u001B[1;32m    842\u001B[0m \u001B[38;5;28;01mif\u001B[39;00m \u001B[38;5;28mself\u001B[39m\u001B[38;5;241m.\u001B[39m_is_nested_tuple_indexer(tup):\n\u001B[0;32m--> 843\u001B[0m     \u001B[38;5;28;01mreturn\u001B[39;00m \u001B[38;5;28;43mself\u001B[39;49m\u001B[38;5;241;43m.\u001B[39;49m\u001B[43m_getitem_nested_tuple\u001B[49m\u001B[43m(\u001B[49m\u001B[43mtup\u001B[49m\u001B[43m)\u001B[49m\n\u001B[1;32m    845\u001B[0m \u001B[38;5;66;03m# we maybe be using a tuple to represent multiple dimensions here\u001B[39;00m\n\u001B[1;32m    846\u001B[0m ax0 \u001B[38;5;241m=\u001B[39m \u001B[38;5;28mself\u001B[39m\u001B[38;5;241m.\u001B[39mobj\u001B[38;5;241m.\u001B[39m_get_axis(\u001B[38;5;241m0\u001B[39m)\n",
      "File \u001B[0;32m~/Documents/Master of Statistics/2/Modern Data Analytics/Project/G0Z39a/.venv/lib/python3.9/site-packages/pandas/core/indexing.py:942\u001B[0m, in \u001B[0;36m_LocationIndexer._getitem_nested_tuple\u001B[0;34m(self, tup)\u001B[0m\n\u001B[1;32m    939\u001B[0m     axis \u001B[38;5;241m-\u001B[39m\u001B[38;5;241m=\u001B[39m \u001B[38;5;241m1\u001B[39m\n\u001B[1;32m    940\u001B[0m     \u001B[38;5;28;01mcontinue\u001B[39;00m\n\u001B[0;32m--> 942\u001B[0m obj \u001B[38;5;241m=\u001B[39m \u001B[38;5;28;43mgetattr\u001B[39;49m\u001B[43m(\u001B[49m\u001B[43mobj\u001B[49m\u001B[43m,\u001B[49m\u001B[43m \u001B[49m\u001B[38;5;28;43mself\u001B[39;49m\u001B[38;5;241;43m.\u001B[39;49m\u001B[43mname\u001B[49m\u001B[43m)\u001B[49m\u001B[38;5;241;43m.\u001B[39;49m\u001B[43m_getitem_axis\u001B[49m\u001B[43m(\u001B[49m\u001B[43mkey\u001B[49m\u001B[43m,\u001B[49m\u001B[43m \u001B[49m\u001B[43maxis\u001B[49m\u001B[38;5;241;43m=\u001B[39;49m\u001B[43maxis\u001B[49m\u001B[43m)\u001B[49m\n\u001B[1;32m    943\u001B[0m axis \u001B[38;5;241m-\u001B[39m\u001B[38;5;241m=\u001B[39m \u001B[38;5;241m1\u001B[39m\n\u001B[1;32m    945\u001B[0m \u001B[38;5;66;03m# if we have a scalar, we are done\u001B[39;00m\n",
      "File \u001B[0;32m~/Documents/Master of Statistics/2/Modern Data Analytics/Project/G0Z39a/.venv/lib/python3.9/site-packages/pandas/core/indexing.py:1195\u001B[0m, in \u001B[0;36m_LocIndexer._getitem_axis\u001B[0;34m(self, key, axis)\u001B[0m\n\u001B[1;32m   1193\u001B[0m \u001B[38;5;66;03m# nested tuple slicing\u001B[39;00m\n\u001B[1;32m   1194\u001B[0m \u001B[38;5;28;01mif\u001B[39;00m is_nested_tuple(key, labels):\n\u001B[0;32m-> 1195\u001B[0m     locs \u001B[38;5;241m=\u001B[39m \u001B[43mlabels\u001B[49m\u001B[38;5;241;43m.\u001B[39;49m\u001B[43mget_locs\u001B[49m\u001B[43m(\u001B[49m\u001B[43mkey\u001B[49m\u001B[43m)\u001B[49m\n\u001B[1;32m   1196\u001B[0m     indexer \u001B[38;5;241m=\u001B[39m [\u001B[38;5;28mslice\u001B[39m(\u001B[38;5;28;01mNone\u001B[39;00m)] \u001B[38;5;241m*\u001B[39m \u001B[38;5;28mself\u001B[39m\u001B[38;5;241m.\u001B[39mndim\n\u001B[1;32m   1197\u001B[0m     indexer[axis] \u001B[38;5;241m=\u001B[39m locs\n",
      "File \u001B[0;32m~/Documents/Master of Statistics/2/Modern Data Analytics/Project/G0Z39a/.venv/lib/python3.9/site-packages/pandas/core/indexes/multi.py:3389\u001B[0m, in \u001B[0;36mMultiIndex.get_locs\u001B[0;34m(self, seq)\u001B[0m\n\u001B[1;32m   3387\u001B[0m                 indexers \u001B[38;5;241m=\u001B[39m idxrs\n\u001B[1;32m   3388\u001B[0m             \u001B[38;5;28;01melse\u001B[39;00m:\n\u001B[0;32m-> 3389\u001B[0m                 indexers \u001B[38;5;241m=\u001B[39m \u001B[43mindexers\u001B[49m\u001B[38;5;241;43m.\u001B[39;49m\u001B[43munion\u001B[49m\u001B[43m(\u001B[49m\u001B[43midxrs\u001B[49m\u001B[43m,\u001B[49m\u001B[43m \u001B[49m\u001B[43msort\u001B[49m\u001B[38;5;241;43m=\u001B[39;49m\u001B[38;5;28;43;01mFalse\u001B[39;49;00m\u001B[43m)\u001B[49m\n\u001B[1;32m   3391\u001B[0m \u001B[38;5;28;01melse\u001B[39;00m:\n\u001B[1;32m   3392\u001B[0m     idxrs \u001B[38;5;241m=\u001B[39m _convert_to_indexer(lev_loc)\n",
      "File \u001B[0;32m~/Documents/Master of Statistics/2/Modern Data Analytics/Project/G0Z39a/.venv/lib/python3.9/site-packages/pandas/core/indexes/base.py:3185\u001B[0m, in \u001B[0;36mIndex.union\u001B[0;34m(self, other, sort)\u001B[0m\n\u001B[1;32m   3182\u001B[0m \u001B[38;5;28;01melif\u001B[39;00m \u001B[38;5;129;01mnot\u001B[39;00m \u001B[38;5;28mlen\u001B[39m(\u001B[38;5;28mself\u001B[39m):\n\u001B[1;32m   3183\u001B[0m     \u001B[38;5;28;01mreturn\u001B[39;00m other\u001B[38;5;241m.\u001B[39m_get_reconciled_name_object(\u001B[38;5;28mself\u001B[39m)\n\u001B[0;32m-> 3185\u001B[0m result \u001B[38;5;241m=\u001B[39m \u001B[38;5;28;43mself\u001B[39;49m\u001B[38;5;241;43m.\u001B[39;49m\u001B[43m_union\u001B[49m\u001B[43m(\u001B[49m\u001B[43mother\u001B[49m\u001B[43m,\u001B[49m\u001B[43m \u001B[49m\u001B[43msort\u001B[49m\u001B[38;5;241;43m=\u001B[39;49m\u001B[43msort\u001B[49m\u001B[43m)\u001B[49m\n\u001B[1;32m   3187\u001B[0m \u001B[38;5;28;01mreturn\u001B[39;00m \u001B[38;5;28mself\u001B[39m\u001B[38;5;241m.\u001B[39m_wrap_setop_result(other, result)\n",
      "File \u001B[0;32m~/Documents/Master of Statistics/2/Modern Data Analytics/Project/G0Z39a/.venv/lib/python3.9/site-packages/pandas/core/indexes/base.py:3248\u001B[0m, in \u001B[0;36mIndex._union\u001B[0;34m(self, other, sort)\u001B[0m\n\u001B[1;32m   3246\u001B[0m \u001B[38;5;28;01mif\u001B[39;00m \u001B[38;5;28mlen\u001B[39m(missing) \u001B[38;5;241m>\u001B[39m \u001B[38;5;241m0\u001B[39m:\n\u001B[1;32m   3247\u001B[0m     other_diff \u001B[38;5;241m=\u001B[39m rvals\u001B[38;5;241m.\u001B[39mtake(missing)\n\u001B[0;32m-> 3248\u001B[0m     result \u001B[38;5;241m=\u001B[39m \u001B[43mconcat_compat\u001B[49m\u001B[43m(\u001B[49m\u001B[43m(\u001B[49m\u001B[43mlvals\u001B[49m\u001B[43m,\u001B[49m\u001B[43m \u001B[49m\u001B[43mother_diff\u001B[49m\u001B[43m)\u001B[49m\u001B[43m)\u001B[49m\n\u001B[1;32m   3249\u001B[0m \u001B[38;5;28;01melse\u001B[39;00m:\n\u001B[1;32m   3250\u001B[0m     result \u001B[38;5;241m=\u001B[39m lvals\n",
      "File \u001B[0;32m~/Documents/Master of Statistics/2/Modern Data Analytics/Project/G0Z39a/.venv/lib/python3.9/site-packages/pandas/core/dtypes/concat.py:151\u001B[0m, in \u001B[0;36mconcat_compat\u001B[0;34m(to_concat, axis, ea_compat_axis)\u001B[0m\n\u001B[1;32m    148\u001B[0m             to_concat \u001B[38;5;241m=\u001B[39m [x\u001B[38;5;241m.\u001B[39mastype(\u001B[38;5;124m\"\u001B[39m\u001B[38;5;124mobject\u001B[39m\u001B[38;5;124m\"\u001B[39m) \u001B[38;5;28;01mfor\u001B[39;00m x \u001B[38;5;129;01min\u001B[39;00m to_concat]\n\u001B[1;32m    149\u001B[0m             kinds \u001B[38;5;241m=\u001B[39m {\u001B[38;5;124m\"\u001B[39m\u001B[38;5;124mo\u001B[39m\u001B[38;5;124m\"\u001B[39m}\n\u001B[0;32m--> 151\u001B[0m result \u001B[38;5;241m=\u001B[39m \u001B[43mnp\u001B[49m\u001B[38;5;241;43m.\u001B[39;49m\u001B[43mconcatenate\u001B[49m\u001B[43m(\u001B[49m\u001B[43mto_concat\u001B[49m\u001B[43m,\u001B[49m\u001B[43m \u001B[49m\u001B[43maxis\u001B[49m\u001B[38;5;241;43m=\u001B[39;49m\u001B[43maxis\u001B[49m\u001B[43m)\u001B[49m\n\u001B[1;32m    152\u001B[0m \u001B[38;5;28;01mif\u001B[39;00m \u001B[38;5;124m\"\u001B[39m\u001B[38;5;124mb\u001B[39m\u001B[38;5;124m\"\u001B[39m \u001B[38;5;129;01min\u001B[39;00m kinds \u001B[38;5;129;01mand\u001B[39;00m result\u001B[38;5;241m.\u001B[39mdtype\u001B[38;5;241m.\u001B[39mkind \u001B[38;5;129;01min\u001B[39;00m [\u001B[38;5;124m\"\u001B[39m\u001B[38;5;124mi\u001B[39m\u001B[38;5;124m\"\u001B[39m, \u001B[38;5;124m\"\u001B[39m\u001B[38;5;124mu\u001B[39m\u001B[38;5;124m\"\u001B[39m, \u001B[38;5;124m\"\u001B[39m\u001B[38;5;124mf\u001B[39m\u001B[38;5;124m\"\u001B[39m]:\n\u001B[1;32m    153\u001B[0m     \u001B[38;5;66;03m# GH#39817\u001B[39;00m\n\u001B[1;32m    154\u001B[0m     warnings\u001B[38;5;241m.\u001B[39mwarn(\n\u001B[1;32m    155\u001B[0m         \u001B[38;5;124m\"\u001B[39m\u001B[38;5;124mBehavior when concatenating bool-dtype and numeric-dtype arrays is \u001B[39m\u001B[38;5;124m\"\u001B[39m\n\u001B[1;32m    156\u001B[0m         \u001B[38;5;124m\"\u001B[39m\u001B[38;5;124mdeprecated; in a future version these will cast to object dtype \u001B[39m\u001B[38;5;124m\"\u001B[39m\n\u001B[0;32m   (...)\u001B[0m\n\u001B[1;32m    160\u001B[0m         stacklevel\u001B[38;5;241m=\u001B[39mfind_stack_level(),\n\u001B[1;32m    161\u001B[0m     )\n",
      "File \u001B[0;32m<__array_function__ internals>:5\u001B[0m, in \u001B[0;36mconcatenate\u001B[0;34m(*args, **kwargs)\u001B[0m\n",
      "\u001B[0;31mKeyboardInterrupt\u001B[0m: "
     ]
    }
   ],
   "source": [
    "import optuna\n",
    "\n",
    "\n",
    "def objective(trial: optuna.Trial) -> float:\n",
    "    lag: int = trial.suggest_int(\"lag\", 5, 25)\n",
    "    forecaster = LGBMForecaster(\n",
    "        lgb.LGBMRegressor(objective=mape.name), lag=lag, transformers=transformers\n",
    "    )\n",
    "\n",
    "    scores: Sequence[float] = cross_validate(\n",
    "        forecaster, splitter=splitter, y=df_y, Xs=[extra_pop], loss=mape.function\n",
    "    )\n",
    "    return np.mean(scores)\n",
    "\n",
    "\n",
    "study = optuna.create_study(direction=\"minimize\")\n",
    "study.optimize(objective, n_trials=10)\n",
    "\n",
    "study.best_params"
   ],
   "metadata": {
    "collapsed": false,
    "pycharm": {
     "name": "#%%\n"
    }
   }
  },
  {
   "cell_type": "code",
   "execution_count": 9,
   "outputs": [],
   "source": [
    "best_lag: Final[int] = 5"
   ],
   "metadata": {
    "collapsed": false,
    "pycharm": {
     "name": "#%%\n"
    }
   }
  },
  {
   "cell_type": "markdown",
   "source": [
    "## Graph Embedding\n",
    "We use Neo4J to create an embedding of the US Counties, in order to create features capturing the geographical information.\n",
    "These features are then used to improve the forecasting accuracy.\n",
    "\n",
    "We select [FastRP](https://neo4j.com/docs/graph-data-science/current/machine-learning/node-embeddings/fastrp/) embeddings, as these are stable and quick to compute ([GraphSage](https://neo4j.com/docs/graph-data-science/current/machine-learning/node-embeddings/graph-sage/) is neither).\n",
    "Optuna is again used to tune the hyperparameters for these embeddings."
   ],
   "metadata": {
    "collapsed": false,
    "pycharm": {
     "name": "#%% md\n"
    }
   }
  },
  {
   "cell_type": "code",
   "execution_count": 10,
   "outputs": [],
   "source": [
    "from nepal.graph import Connection, LocalConnection\n",
    "\n",
    "conn: Connection = LocalConnection(\n",
    "    database=\"neo4j\",\n",
    "    password=\"corona\",\n",
    ")\n",
    "\n",
    "assert conn.is_up()"
   ],
   "metadata": {
    "collapsed": false,
    "pycharm": {
     "name": "#%%\n"
    }
   }
  },
  {
   "cell_type": "code",
   "execution_count": 14,
   "outputs": [
    {
     "name": "stderr",
     "output_type": "stream",
     "text": [
      "/Users/personal/Documents/Master of Statistics/2/Modern Data Analytics/Project/G0Z39a/src/nepal/graph/gds/embedding.py:73: UserWarning: {code: Neo.ClientError.Procedure.ProcedureCallFailed} {message: Failed to invoke procedure `gds.graph.project`: Caused by: java.lang.IllegalArgumentException: A graph with name 'counties' already exists.}\n",
      "  warnings.warn(str(e))\n",
      "\u001B[32m[I 2022-06-05 11:33:00,020]\u001B[0m A new study created in memory with name: no-name-b841aad4-b545-42d0-9458-2fb8b2857acb\u001B[0m\n"
     ]
    },
    {
     "data": {
      "text/plain": "Cross Validation:   0%|          | 0/12 [00:00<?, ?it/s]",
      "application/vnd.jupyter.widget-view+json": {
       "version_major": 2,
       "version_minor": 0,
       "model_id": "a56baf4e9c78407cbf59df96ee6bc753"
      }
     },
     "metadata": {},
     "output_type": "display_data"
    },
    {
     "name": "stderr",
     "output_type": "stream",
     "text": [
      "\u001B[32m[I 2022-06-05 11:35:00,762]\u001B[0m Trial 0 finished with value: 0.35863587033671357 and parameters: {'dim': 72, 'weight2': 0.37854077978036405, 'weight3': 0.6149673172116273, 'weight4': 0.35213715163509074, 'normalization': 0.48474286944703504, 'self_influence': 0.8499185105802718}. Best is trial 0 with value: 0.35863587033671357.\u001B[0m\n"
     ]
    },
    {
     "data": {
      "text/plain": "Cross Validation:   0%|          | 0/12 [00:00<?, ?it/s]",
      "application/vnd.jupyter.widget-view+json": {
       "version_major": 2,
       "version_minor": 0,
       "model_id": "a32d9102e74e4f91a9cb7bae98796916"
      }
     },
     "metadata": {},
     "output_type": "display_data"
    },
    {
     "name": "stderr",
     "output_type": "stream",
     "text": [
      "\u001B[32m[I 2022-06-05 11:37:32,870]\u001B[0m Trial 1 finished with value: 0.3571813829985527 and parameters: {'dim': 121, 'weight2': 0.012347438724336524, 'weight3': 0.4390397187169419, 'weight4': 0.739567652660214, 'normalization': 0.3755959209263564, 'self_influence': 0.3782024145920334}. Best is trial 1 with value: 0.3571813829985527.\u001B[0m\n"
     ]
    },
    {
     "data": {
      "text/plain": "Cross Validation:   0%|          | 0/12 [00:00<?, ?it/s]",
      "application/vnd.jupyter.widget-view+json": {
       "version_major": 2,
       "version_minor": 0,
       "model_id": "899b2fb67f404fc6877ccdc9b8c3d348"
      }
     },
     "metadata": {},
     "output_type": "display_data"
    },
    {
     "name": "stderr",
     "output_type": "stream",
     "text": [
      "\u001B[32m[I 2022-06-05 11:39:42,635]\u001B[0m Trial 2 finished with value: 0.35916751408202924 and parameters: {'dim': 79, 'weight2': 0.04078369037634666, 'weight3': 0.6887173610913776, 'weight4': 0.8523168175118271, 'normalization': 0.6113112064583213, 'self_influence': 0.48960251113318876}. Best is trial 1 with value: 0.3571813829985527.\u001B[0m\n"
     ]
    },
    {
     "data": {
      "text/plain": "Cross Validation:   0%|          | 0/12 [00:00<?, ?it/s]",
      "application/vnd.jupyter.widget-view+json": {
       "version_major": 2,
       "version_minor": 0,
       "model_id": "fa6b5477e76f406a9ba2f2502dba2cf2"
      }
     },
     "metadata": {},
     "output_type": "display_data"
    },
    {
     "name": "stderr",
     "output_type": "stream",
     "text": [
      "\u001B[32m[I 2022-06-05 11:41:34,352]\u001B[0m Trial 3 finished with value: 0.35910617324669364 and parameters: {'dim': 37, 'weight2': 0.03538202868204199, 'weight3': 0.15706013702754085, 'weight4': 0.8623395043722905, 'normalization': 0.8663177747765893, 'self_influence': 0.43387710164671134}. Best is trial 1 with value: 0.3571813829985527.\u001B[0m\n"
     ]
    },
    {
     "data": {
      "text/plain": "Cross Validation:   0%|          | 0/12 [00:00<?, ?it/s]",
      "application/vnd.jupyter.widget-view+json": {
       "version_major": 2,
       "version_minor": 0,
       "model_id": "4a11d23e71794a3f9350bfbbfa8e0db1"
      }
     },
     "metadata": {},
     "output_type": "display_data"
    },
    {
     "name": "stderr",
     "output_type": "stream",
     "text": [
      "\u001B[32m[I 2022-06-05 11:43:28,417]\u001B[0m Trial 4 finished with value: 0.35848674892767113 and parameters: {'dim': 71, 'weight2': 0.3697821051610687, 'weight3': 0.2933647180372849, 'weight4': 0.5478778650965741, 'normalization': -0.21682436722431686, 'self_influence': 0.44257903118937914}. Best is trial 1 with value: 0.3571813829985527.\u001B[0m\n"
     ]
    },
    {
     "data": {
      "text/plain": "Cross Validation:   0%|          | 0/12 [00:00<?, ?it/s]",
      "application/vnd.jupyter.widget-view+json": {
       "version_major": 2,
       "version_minor": 0,
       "model_id": "68cc0964e9f04f6080a4ee02291ce669"
      }
     },
     "metadata": {},
     "output_type": "display_data"
    },
    {
     "name": "stderr",
     "output_type": "stream",
     "text": [
      "\u001B[32m[I 2022-06-05 11:45:37,551]\u001B[0m Trial 5 finished with value: 0.35768151416546234 and parameters: {'dim': 74, 'weight2': 0.9163137284123962, 'weight3': 0.9838137856832769, 'weight4': 0.21720003593981208, 'normalization': -0.5546304353354907, 'self_influence': 0.12028724581394545}. Best is trial 1 with value: 0.3571813829985527.\u001B[0m\n"
     ]
    },
    {
     "data": {
      "text/plain": "Cross Validation:   0%|          | 0/12 [00:00<?, ?it/s]",
      "application/vnd.jupyter.widget-view+json": {
       "version_major": 2,
       "version_minor": 0,
       "model_id": "0f5d2ba428ef4e59b5b96fd1601eab61"
      }
     },
     "metadata": {},
     "output_type": "display_data"
    },
    {
     "name": "stderr",
     "output_type": "stream",
     "text": [
      "\u001B[32m[I 2022-06-05 11:48:01,411]\u001B[0m Trial 6 finished with value: 0.3582786830936826 and parameters: {'dim': 104, 'weight2': 0.4693258675433807, 'weight3': 0.3029056746615927, 'weight4': 0.06850501975417211, 'normalization': -0.6443414243637424, 'self_influence': 0.036837607428978236}. Best is trial 1 with value: 0.3571813829985527.\u001B[0m\n"
     ]
    },
    {
     "data": {
      "text/plain": "Cross Validation:   0%|          | 0/12 [00:00<?, ?it/s]",
      "application/vnd.jupyter.widget-view+json": {
       "version_major": 2,
       "version_minor": 0,
       "model_id": "5cfee517698140daaac852cea20e6914"
      }
     },
     "metadata": {},
     "output_type": "display_data"
    },
    {
     "name": "stderr",
     "output_type": "stream",
     "text": [
      "\u001B[32m[I 2022-06-05 11:50:15,233]\u001B[0m Trial 7 finished with value: 0.3599388214576113 and parameters: {'dim': 99, 'weight2': 0.5829566271843791, 'weight3': 0.9682483625731488, 'weight4': 0.6077408383605367, 'normalization': -0.11957947468401509, 'self_influence': 0.8623224894261488}. Best is trial 1 with value: 0.3571813829985527.\u001B[0m\n"
     ]
    },
    {
     "data": {
      "text/plain": "Cross Validation:   0%|          | 0/12 [00:00<?, ?it/s]",
      "application/vnd.jupyter.widget-view+json": {
       "version_major": 2,
       "version_minor": 0,
       "model_id": "e200c0fe16c34a8e819b213b29084f4c"
      }
     },
     "metadata": {},
     "output_type": "display_data"
    },
    {
     "name": "stderr",
     "output_type": "stream",
     "text": [
      "\u001B[32m[I 2022-06-05 11:52:38,178]\u001B[0m Trial 8 finished with value: 0.3577443399347646 and parameters: {'dim': 118, 'weight2': 0.31238218200789436, 'weight3': 0.9196270731216363, 'weight4': 0.9729982368072359, 'normalization': 0.29098863917338114, 'self_influence': 0.8455626421868375}. Best is trial 1 with value: 0.3571813829985527.\u001B[0m\n"
     ]
    },
    {
     "data": {
      "text/plain": "Cross Validation:   0%|          | 0/12 [00:00<?, ?it/s]",
      "application/vnd.jupyter.widget-view+json": {
       "version_major": 2,
       "version_minor": 0,
       "model_id": "84801a0fcef54c3884cd48fbab165fbb"
      }
     },
     "metadata": {},
     "output_type": "display_data"
    },
    {
     "name": "stderr",
     "output_type": "stream",
     "text": [
      "\u001B[32m[I 2022-06-05 11:54:20,813]\u001B[0m Trial 9 finished with value: 0.35749963612382324 and parameters: {'dim': 46, 'weight2': 0.6753109974131081, 'weight3': 0.47578825483541876, 'weight4': 0.6968693918497392, 'normalization': -0.7773426362883518, 'self_influence': 0.36844945246420846}. Best is trial 1 with value: 0.3571813829985527.\u001B[0m\n"
     ]
    },
    {
     "data": {
      "text/plain": "Cross Validation:   0%|          | 0/12 [00:00<?, ?it/s]",
      "application/vnd.jupyter.widget-view+json": {
       "version_major": 2,
       "version_minor": 0,
       "model_id": "06397ddac5cb43da8c9e9beec17b9faa"
      }
     },
     "metadata": {},
     "output_type": "display_data"
    },
    {
     "name": "stderr",
     "output_type": "stream",
     "text": [
      "\u001B[32m[I 2022-06-05 11:56:22,458]\u001B[0m Trial 10 finished with value: 0.3574467911260489 and parameters: {'dim': 52, 'weight2': 0.20483336598393836, 'weight3': 0.012796383462919114, 'weight4': 0.749851259267584, 'normalization': 0.15981060382438514, 'self_influence': 0.226097440516831}. Best is trial 1 with value: 0.3571813829985527.\u001B[0m\n"
     ]
    },
    {
     "data": {
      "text/plain": "Cross Validation:   0%|          | 0/12 [00:00<?, ?it/s]",
      "application/vnd.jupyter.widget-view+json": {
       "version_major": 2,
       "version_minor": 0,
       "model_id": "71b72b2ebe0d4b10905ea50ff846c42c"
      }
     },
     "metadata": {},
     "output_type": "display_data"
    },
    {
     "name": "stderr",
     "output_type": "stream",
     "text": [
      "\u001B[32m[I 2022-06-05 11:58:06,854]\u001B[0m Trial 11 finished with value: 0.3567171240653518 and parameters: {'dim': 51, 'weight2': 0.17630450140841697, 'weight3': 0.07173736054162, 'weight4': 0.7328964789388661, 'normalization': 0.18786469851294318, 'self_influence': 0.24679665226579728}. Best is trial 11 with value: 0.3567171240653518.\u001B[0m\n"
     ]
    },
    {
     "data": {
      "text/plain": "Cross Validation:   0%|          | 0/12 [00:00<?, ?it/s]",
      "application/vnd.jupyter.widget-view+json": {
       "version_major": 2,
       "version_minor": 0,
       "model_id": "03fa5447e3134f18a03fe00aa1aed7ac"
      }
     },
     "metadata": {},
     "output_type": "display_data"
    },
    {
     "name": "stderr",
     "output_type": "stream",
     "text": [
      "\u001B[32m[I 2022-06-05 12:00:00,352]\u001B[0m Trial 12 finished with value: 0.35848203999097733 and parameters: {'dim': 32, 'weight2': 0.13536463531003917, 'weight3': 0.01899550021177849, 'weight4': 0.40020927945288803, 'normalization': 0.9588614113479605, 'self_influence': 0.6429709458885082}. Best is trial 11 with value: 0.3567171240653518.\u001B[0m\n"
     ]
    },
    {
     "data": {
      "text/plain": "Cross Validation:   0%|          | 0/12 [00:00<?, ?it/s]",
      "application/vnd.jupyter.widget-view+json": {
       "version_major": 2,
       "version_minor": 0,
       "model_id": "0900bf3016bd4e84a9f521a5759c65a8"
      }
     },
     "metadata": {},
     "output_type": "display_data"
    },
    {
     "name": "stderr",
     "output_type": "stream",
     "text": [
      "\u001B[32m[I 2022-06-05 12:02:07,765]\u001B[0m Trial 13 finished with value: 0.35855992126248104 and parameters: {'dim': 54, 'weight2': 0.20056800516391504, 'weight3': 0.410515027831761, 'weight4': 0.7017319441636798, 'normalization': -0.31728094903802095, 'self_influence': 0.24516946811318077}. Best is trial 11 with value: 0.3567171240653518.\u001B[0m\n"
     ]
    },
    {
     "data": {
      "text/plain": "Cross Validation:   0%|          | 0/12 [00:00<?, ?it/s]",
      "application/vnd.jupyter.widget-view+json": {
       "version_major": 2,
       "version_minor": 0,
       "model_id": "9be3e2d987d24af4baabe3a93386034e"
      }
     },
     "metadata": {},
     "output_type": "display_data"
    },
    {
     "name": "stderr",
     "output_type": "stream",
     "text": [
      "\u001B[32m[I 2022-06-05 12:03:45,888]\u001B[0m Trial 14 finished with value: 0.35931959558762605 and parameters: {'dim': 41, 'weight2': 0.031248799593392718, 'weight3': 0.7276233574845536, 'weight4': 0.9780609055463301, 'normalization': 0.09437282675408454, 'self_influence': 0.6202116057391291}. Best is trial 11 with value: 0.3567171240653518.\u001B[0m\n"
     ]
    },
    {
     "data": {
      "text/plain": "Cross Validation:   0%|          | 0/12 [00:00<?, ?it/s]",
      "application/vnd.jupyter.widget-view+json": {
       "version_major": 2,
       "version_minor": 0,
       "model_id": "5004fa4aed1e47d6a5a7af84933a1c10"
      }
     },
     "metadata": {},
     "output_type": "display_data"
    },
    {
     "name": "stderr",
     "output_type": "stream",
     "text": [
      "\u001B[32m[I 2022-06-05 12:05:52,648]\u001B[0m Trial 15 finished with value: 0.3585285568845811 and parameters: {'dim': 58, 'weight2': 0.2004219811815752, 'weight3': 0.17783768196819305, 'weight4': 0.473974987735284, 'normalization': 0.46218126272270016, 'self_influence': 0.2812736559411994}. Best is trial 11 with value: 0.3567171240653518.\u001B[0m\n"
     ]
    },
    {
     "data": {
      "text/plain": "Cross Validation:   0%|          | 0/12 [00:00<?, ?it/s]",
      "application/vnd.jupyter.widget-view+json": {
       "version_major": 2,
       "version_minor": 0,
       "model_id": "8864fbe5a950428f8d105249a00d8007"
      }
     },
     "metadata": {},
     "output_type": "display_data"
    },
    {
     "name": "stderr",
     "output_type": "stream",
     "text": [
      "\u001B[32m[I 2022-06-05 12:08:25,720]\u001B[0m Trial 16 finished with value: 0.3586037215402819 and parameters: {'dim': 87, 'weight2': 0.753086549371849, 'weight3': 0.5970341299059859, 'weight4': 0.8100532863415657, 'normalization': 0.6943785112606744, 'self_influence': 0.6226206819593617}. Best is trial 11 with value: 0.3567171240653518.\u001B[0m\n"
     ]
    },
    {
     "data": {
      "text/plain": "Cross Validation:   0%|          | 0/12 [00:00<?, ?it/s]",
      "application/vnd.jupyter.widget-view+json": {
       "version_major": 2,
       "version_minor": 0,
       "model_id": "dc8d46149ce44c60b43e5a5fed5e230f"
      }
     },
     "metadata": {},
     "output_type": "display_data"
    },
    {
     "name": "stderr",
     "output_type": "stream",
     "text": [
      "\u001B[32m[I 2022-06-05 12:11:20,522]\u001B[0m Trial 17 finished with value: 0.35799794099417853 and parameters: {'dim': 127, 'weight2': 0.28352532049679247, 'weight3': 0.8166709992832855, 'weight4': 0.6179647442183341, 'normalization': 0.250549295806986, 'self_influence': 0.006365749987958524}. Best is trial 11 with value: 0.3567171240653518.\u001B[0m\n"
     ]
    },
    {
     "data": {
      "text/plain": "Cross Validation:   0%|          | 0/12 [00:00<?, ?it/s]",
      "application/vnd.jupyter.widget-view+json": {
       "version_major": 2,
       "version_minor": 0,
       "model_id": "5e0fb58c0c1d41f28c7538fbde6f4007"
      }
     },
     "metadata": {},
     "output_type": "display_data"
    },
    {
     "name": "stderr",
     "output_type": "stream",
     "text": [
      "\u001B[32m[I 2022-06-05 12:13:20,239]\u001B[0m Trial 18 finished with value: 0.3577405037924555 and parameters: {'dim': 61, 'weight2': 0.12158274704577998, 'weight3': 0.15609401698837683, 'weight4': 0.8820727345362058, 'normalization': -0.026196215675707346, 'self_influence': 0.15795373681219294}. Best is trial 11 with value: 0.3567171240653518.\u001B[0m\n"
     ]
    },
    {
     "data": {
      "text/plain": "Cross Validation:   0%|          | 0/12 [00:00<?, ?it/s]",
      "application/vnd.jupyter.widget-view+json": {
       "version_major": 2,
       "version_minor": 0,
       "model_id": "cfb07b1c0e154a8bbdc8d7f0a79893ba"
      }
     },
     "metadata": {},
     "output_type": "display_data"
    },
    {
     "name": "stderr",
     "output_type": "stream",
     "text": [
      "\u001B[32m[I 2022-06-05 12:15:01,225]\u001B[0m Trial 19 finished with value: 0.35908313788623625 and parameters: {'dim': 46, 'weight2': 0.48935303286758186, 'weight3': 0.36276102007387995, 'weight4': 0.6389644469816486, 'normalization': -0.3700034950730926, 'self_influence': 0.9987098520003739}. Best is trial 11 with value: 0.3567171240653518.\u001B[0m\n"
     ]
    },
    {
     "data": {
      "text/plain": "Cross Validation:   0%|          | 0/12 [00:00<?, ?it/s]",
      "application/vnd.jupyter.widget-view+json": {
       "version_major": 2,
       "version_minor": 0,
       "model_id": "7e12db5b18e84d308a3cc224bd616a57"
      }
     },
     "metadata": {},
     "output_type": "display_data"
    },
    {
     "name": "stderr",
     "output_type": "stream",
     "text": [
      "\u001B[32m[I 2022-06-05 12:17:12,361]\u001B[0m Trial 20 finished with value: 0.36035435402184857 and parameters: {'dim': 92, 'weight2': 0.12300677795275536, 'weight3': 0.5334072384777897, 'weight4': 0.4869311908818208, 'normalization': 0.3391136370769514, 'self_influence': 0.29685349896837754}. Best is trial 11 with value: 0.3567171240653518.\u001B[0m\n"
     ]
    },
    {
     "data": {
      "text/plain": "Cross Validation:   0%|          | 0/12 [00:00<?, ?it/s]",
      "application/vnd.jupyter.widget-view+json": {
       "version_major": 2,
       "version_minor": 0,
       "model_id": "dc554b8a32cf466eb4778901cb673c7e"
      }
     },
     "metadata": {},
     "output_type": "display_data"
    },
    {
     "name": "stderr",
     "output_type": "stream",
     "text": [
      "\u001B[32m[I 2022-06-05 12:19:14,822]\u001B[0m Trial 21 finished with value: 0.35802408773568306 and parameters: {'dim': 50, 'weight2': 0.22341482853645261, 'weight3': 0.0044654006565860455, 'weight4': 0.7524939395670177, 'normalization': 0.115696371038906, 'self_influence': 0.15580008777086013}. Best is trial 11 with value: 0.3567171240653518.\u001B[0m\n"
     ]
    },
    {
     "data": {
      "text/plain": "Cross Validation:   0%|          | 0/12 [00:00<?, ?it/s]",
      "application/vnd.jupyter.widget-view+json": {
       "version_major": 2,
       "version_minor": 0,
       "model_id": "195ce93eb4a747aa84e39ebb87a4b5b8"
      }
     },
     "metadata": {},
     "output_type": "display_data"
    },
    {
     "name": "stderr",
     "output_type": "stream",
     "text": [
      "\u001B[32m[I 2022-06-05 12:21:23,715]\u001B[0m Trial 22 finished with value: 0.35954444540363334 and parameters: {'dim': 64, 'weight2': 0.0032859414098618967, 'weight3': 0.09459527900080462, 'weight4': 0.7484088429674414, 'normalization': 0.13293028985311953, 'self_influence': 0.3509843577636208}. Best is trial 11 with value: 0.3567171240653518.\u001B[0m\n"
     ]
    },
    {
     "data": {
      "text/plain": "Cross Validation:   0%|          | 0/12 [00:00<?, ?it/s]",
      "application/vnd.jupyter.widget-view+json": {
       "version_major": 2,
       "version_minor": 0,
       "model_id": "1c3c7986318a45449e512c962ad1d134"
      }
     },
     "metadata": {},
     "output_type": "display_data"
    },
    {
     "name": "stderr",
     "output_type": "stream",
     "text": [
      "\u001B[32m[I 2022-06-05 12:23:26,026]\u001B[0m Trial 23 finished with value: 0.3582306274057924 and parameters: {'dim': 52, 'weight2': 0.12371513077560961, 'weight3': 0.23407414264988183, 'weight4': 0.7919832513934686, 'normalization': -0.9785166411813342, 'self_influence': 0.20618722427980385}. Best is trial 11 with value: 0.3567171240653518.\u001B[0m\n"
     ]
    },
    {
     "data": {
      "text/plain": "Cross Validation:   0%|          | 0/12 [00:00<?, ?it/s]",
      "application/vnd.jupyter.widget-view+json": {
       "version_major": 2,
       "version_minor": 0,
       "model_id": "e11171254aa046909a6c89910f99beaa"
      }
     },
     "metadata": {},
     "output_type": "display_data"
    },
    {
     "name": "stderr",
     "output_type": "stream",
     "text": [
      "\u001B[32m[I 2022-06-05 12:25:21,275]\u001B[0m Trial 24 finished with value: 0.357662920054915 and parameters: {'dim': 41, 'weight2': 0.2720189877873951, 'weight3': 0.0923794260057057, 'weight4': 0.9056316166776278, 'normalization': 0.653158821216238, 'self_influence': 0.3744276185103007}. Best is trial 11 with value: 0.3567171240653518.\u001B[0m\n"
     ]
    },
    {
     "data": {
      "text/plain": "{'dim': 51,\n 'weight2': 0.17630450140841697,\n 'weight3': 0.07173736054162,\n 'weight4': 0.7328964789388661,\n 'normalization': 0.18786469851294318,\n 'self_influence': 0.24679665226579728}"
     },
     "execution_count": 14,
     "metadata": {},
     "output_type": "execute_result"
    }
   ],
   "source": [
    "import optuna\n",
    "\n",
    "from nepal.graph.gds import CountyEmbedding\n",
    "\n",
    "\n",
    "embedding = CountyEmbedding()\n",
    "embedding.create_projection(conn)\n",
    "\n",
    "\n",
    "def objective(trial: optuna.Trial) -> float:\n",
    "    forecaster = LGBMForecaster(\n",
    "        lgb.LGBMRegressor(objective=mape.name), lag=best_lag, transformers=transformers\n",
    "    )\n",
    "\n",
    "    neo4j: pd.DataFrame = embedding.load_dataframe(\n",
    "        connection=conn,\n",
    "        embedding_dimension=trial.suggest_int(\"dim\", 32, 128, log=True),\n",
    "        weight2=trial.suggest_float(\"weight2\", 0.0, 1.0),\n",
    "        weight3=trial.suggest_float(\"weight3\", 0.0, 1.0),\n",
    "        weight4=trial.suggest_float(\"weight4\", 0.0, 1.0),\n",
    "        normalization=trial.suggest_float(\"normalization\", -1.0, 1.0),\n",
    "        property_ratio=0.0,\n",
    "        self_influence=trial.suggest_float(\"self_influence\", 0.0, 1.0),\n",
    "    )\n",
    "\n",
    "    scores: Sequence[float] = cross_validate(\n",
    "        forecaster,\n",
    "        splitter=splitter,\n",
    "        y=df_y,\n",
    "        Xs=[extra_pop, neo4j],\n",
    "        loss=mape.function,\n",
    "    )\n",
    "    return np.mean(scores)\n",
    "\n",
    "\n",
    "study = optuna.create_study(direction=\"minimize\")\n",
    "study.optimize(objective, n_trials=25)\n",
    "\n",
    "study.best_params"
   ],
   "metadata": {
    "collapsed": false,
    "pycharm": {
     "name": "#%%\n"
    }
   }
  },
  {
   "cell_type": "code",
   "execution_count": 11,
   "outputs": [],
   "source": [
    "best_embedding: Final[dict] = {\n",
    "    \"embedding_dimension\": 51,\n",
    "    \"weight2\": 0.17630450140841697,\n",
    "    \"weight3\": 0.07173736054162,\n",
    "    \"weight4\": 0.7328964789388661,\n",
    "    \"normalization\": 0.18786469851294318,\n",
    "    \"property_ratio\": 0.0,\n",
    "    \"self_influence\": 0.24679665226579728,\n",
    "}"
   ],
   "metadata": {
    "collapsed": false,
    "pycharm": {
     "name": "#%%\n"
    }
   }
  },
  {
   "cell_type": "code",
   "execution_count": 13,
   "outputs": [
    {
     "data": {
      "text/plain": "Cross Validation:   0%|          | 0/12 [00:00<?, ?it/s]",
      "application/vnd.jupyter.widget-view+json": {
       "version_major": 2,
       "version_minor": 0,
       "model_id": "9f47a190bff245d285f44fa83b979e71"
      }
     },
     "metadata": {},
     "output_type": "display_data"
    },
    {
     "name": "stdout",
     "output_type": "stream",
     "text": [
      "0.29910118198532915\n"
     ]
    }
   ],
   "source": [
    "from nepal.graph.gds import CountyEmbedding\n",
    "from nepal.ml.features.embedding import PersistableEmbedding\n",
    "\n",
    "neo4j: pd.DataFrame = CountyEmbedding().load_dataframe(\n",
    "    connection=conn,\n",
    "    **best_embedding,\n",
    ")\n",
    "\n",
    "# Store embedding\n",
    "storage = PersistableEmbedding(\"counties\")\n",
    "storage.store(neo4j)\n",
    "embedding = storage.load()\n",
    "\n",
    "forecaster = LGBMForecaster(\n",
    "    lgb.LGBMRegressor(objective=mape.name), lag=best_lag, transformers=transformers\n",
    ")\n",
    "\n",
    "# Verify that loaded embedding works as intended\n",
    "scores: Sequence[float] = cross_validate(\n",
    "    forecaster,\n",
    "    splitter=splitter,\n",
    "    y=df_y,\n",
    "    Xs=[extra_pop, embedding],\n",
    "    loss=mape.function,\n",
    ")\n",
    "\n",
    "print(np.mean(scores))"
   ],
   "metadata": {
    "collapsed": false,
    "pycharm": {
     "name": "#%%\n"
    }
   }
  },
  {
   "cell_type": "code",
   "execution_count": 14,
   "outputs": [
    {
     "data": {
      "text/plain": "                  StringencyIndex  GovernmentResponseIndex  \\\nfips  date                                                   \n01001 2020-12-13            43.52                    47.40   \n      2020-12-14            43.52                    47.40   \n      2020-12-15            43.52                    48.65   \n      2020-12-16            43.52                    48.65   \n      2020-12-17            43.52                    48.65   \n...                           ...                      ...   \nUNK   2022-05-21              NaN                      NaN   \n      2022-05-21              NaN                      NaN   \n      2022-05-21              NaN                      NaN   \n      2022-05-21              NaN                      NaN   \n      2022-05-21              NaN                      NaN   \n\n                  ContainmentHealthIndex  EconomicSupportIndex  \\\nfips  date                                                       \n01001 2020-12-13                   48.81                  37.5   \n      2020-12-14                   48.81                  37.5   \n      2020-12-15                   50.24                  37.5   \n      2020-12-16                   50.24                  37.5   \n      2020-12-17                   50.24                  37.5   \n...                                  ...                   ...   \nUNK   2022-05-21                     NaN                   NaN   \n      2022-05-21                     NaN                   NaN   \n      2022-05-21                     NaN                   NaN   \n      2022-05-21                     NaN                   NaN   \n      2022-05-21                     NaN                   NaN   \n\n                  Completeness_pct  Administered_Dose1_Pop_Pct  \\\nfips  date                                                       \n01001 2020-12-13               0.0                         0.0   \n      2020-12-14               0.0                         0.0   \n      2020-12-15               0.0                         0.0   \n      2020-12-16               0.0                         0.0   \n      2020-12-17               0.0                         0.0   \n...                            ...                         ...   \nUNK   2022-05-21              73.5                         NaN   \n      2022-05-21              96.0                         NaN   \n      2022-05-21              96.8                         NaN   \n      2022-05-21              97.2                         NaN   \n      2022-05-21              97.1                         NaN   \n\n                  Administered_Dose1_Recip_18PlusPop_Pct  \\\nfips  date                                                 \n01001 2020-12-13                                     0.0   \n      2020-12-14                                     0.0   \n      2020-12-15                                     0.0   \n      2020-12-16                                     0.0   \n      2020-12-17                                     0.0   \n...                                                  ...   \nUNK   2022-05-21                                     NaN   \n      2022-05-21                                     NaN   \n      2022-05-21                                     NaN   \n      2022-05-21                                     NaN   \n      2022-05-21                                     NaN   \n\n                  Administered_Dose1_Recip_65PlusPop_Pct  \\\nfips  date                                                 \n01001 2020-12-13                                     0.0   \n      2020-12-14                                     0.0   \n      2020-12-15                                     0.0   \n      2020-12-16                                     0.0   \n      2020-12-17                                     0.0   \n...                                                  ...   \nUNK   2022-05-21                                     NaN   \n      2022-05-21                                     NaN   \n      2022-05-21                                     NaN   \n      2022-05-21                                     NaN   \n      2022-05-21                                     NaN   \n\n                  Series_Complete_Pop_Pct  Series_Complete_18PlusPop_Pct  ...  \\\nfips  date                                                                ...   \n01001 2020-12-13                      0.0                            0.0  ...   \n      2020-12-14                      0.0                            0.0  ...   \n      2020-12-15                      0.0                            0.0  ...   \n      2020-12-16                      0.0                            0.0  ...   \n      2020-12-17                      0.0                            0.0  ...   \n...                                   ...                            ...  ...   \nUNK   2022-05-21                      NaN                            NaN  ...   \n      2022-05-21                      NaN                            NaN  ...   \n      2022-05-21                      NaN                            NaN  ...   \n      2022-05-21                      NaN                            NaN  ...   \n      2022-05-21                      NaN                            NaN  ...   \n\n                  Booster_Doses_65Plus_Vax_Pct  Under5_Pop_Pct  \\\nfips  date                                                       \n01001 2020-12-13                           NaN             NaN   \n      2020-12-14                           NaN             NaN   \n      2020-12-15                           NaN             NaN   \n      2020-12-16                           NaN             NaN   \n      2020-12-17                           NaN             NaN   \n...                                        ...             ...   \nUNK   2022-05-21                          87.1             NaN   \n      2022-05-21                          41.6             NaN   \n      2022-05-21                          95.0             NaN   \n      2022-05-21                          95.0             NaN   \n      2022-05-21                          94.3             NaN   \n\n                  Between5to17_Pop_Pct  Between18to65_Pop_Pct  Plus65_Pop_Pct  \\\nfips  date                                                                      \n01001 2020-12-13                   NaN                    NaN             NaN   \n      2020-12-14                   NaN                    NaN             NaN   \n      2020-12-15                   NaN                    NaN             NaN   \n      2020-12-16                   NaN                    NaN             NaN   \n      2020-12-17                   NaN                    NaN             NaN   \n...                                ...                    ...             ...   \nUNK   2022-05-21                   NaN                    NaN             NaN   \n      2022-05-21                   NaN                    NaN             NaN   \n      2022-05-21                   NaN                    NaN             NaN   \n      2022-05-21                   NaN                    NaN             NaN   \n      2022-05-21                   NaN                    NaN             NaN   \n\n                  Is_Metro  SVI_A  SVI_B  SVI_C  SVI_D  \nfips  date                                              \n01001 2020-12-13       1.0    0.0    1.0    0.0    0.0  \n      2020-12-14       1.0    0.0    1.0    0.0    0.0  \n      2020-12-15       1.0    0.0    1.0    0.0    0.0  \n      2020-12-16       1.0    0.0    1.0    0.0    0.0  \n      2020-12-17       1.0    0.0    1.0    0.0    0.0  \n...                    ...    ...    ...    ...    ...  \nUNK   2022-05-21       0.0    0.0    0.0    0.0    0.0  \n      2022-05-21       0.0    0.0    0.0    0.0    0.0  \n      2022-05-21       0.0    0.0    0.0    0.0    0.0  \n      2022-05-21       0.0    0.0    0.0    0.0    0.0  \n      2022-05-21       0.0    0.0    0.0    0.0    0.0  \n\n[1675549 rows x 24 columns]",
      "text/html": "<div>\n<style scoped>\n    .dataframe tbody tr th:only-of-type {\n        vertical-align: middle;\n    }\n\n    .dataframe tbody tr th {\n        vertical-align: top;\n    }\n\n    .dataframe thead th {\n        text-align: right;\n    }\n</style>\n<table border=\"1\" class=\"dataframe\">\n  <thead>\n    <tr style=\"text-align: right;\">\n      <th></th>\n      <th></th>\n      <th>StringencyIndex</th>\n      <th>GovernmentResponseIndex</th>\n      <th>ContainmentHealthIndex</th>\n      <th>EconomicSupportIndex</th>\n      <th>Completeness_pct</th>\n      <th>Administered_Dose1_Pop_Pct</th>\n      <th>Administered_Dose1_Recip_18PlusPop_Pct</th>\n      <th>Administered_Dose1_Recip_65PlusPop_Pct</th>\n      <th>Series_Complete_Pop_Pct</th>\n      <th>Series_Complete_18PlusPop_Pct</th>\n      <th>...</th>\n      <th>Booster_Doses_65Plus_Vax_Pct</th>\n      <th>Under5_Pop_Pct</th>\n      <th>Between5to17_Pop_Pct</th>\n      <th>Between18to65_Pop_Pct</th>\n      <th>Plus65_Pop_Pct</th>\n      <th>Is_Metro</th>\n      <th>SVI_A</th>\n      <th>SVI_B</th>\n      <th>SVI_C</th>\n      <th>SVI_D</th>\n    </tr>\n    <tr>\n      <th>fips</th>\n      <th>date</th>\n      <th></th>\n      <th></th>\n      <th></th>\n      <th></th>\n      <th></th>\n      <th></th>\n      <th></th>\n      <th></th>\n      <th></th>\n      <th></th>\n      <th></th>\n      <th></th>\n      <th></th>\n      <th></th>\n      <th></th>\n      <th></th>\n      <th></th>\n      <th></th>\n      <th></th>\n      <th></th>\n      <th></th>\n    </tr>\n  </thead>\n  <tbody>\n    <tr>\n      <th rowspan=\"5\" valign=\"top\">01001</th>\n      <th>2020-12-13</th>\n      <td>43.52</td>\n      <td>47.40</td>\n      <td>48.81</td>\n      <td>37.5</td>\n      <td>0.0</td>\n      <td>0.0</td>\n      <td>0.0</td>\n      <td>0.0</td>\n      <td>0.0</td>\n      <td>0.0</td>\n      <td>...</td>\n      <td>NaN</td>\n      <td>NaN</td>\n      <td>NaN</td>\n      <td>NaN</td>\n      <td>NaN</td>\n      <td>1.0</td>\n      <td>0.0</td>\n      <td>1.0</td>\n      <td>0.0</td>\n      <td>0.0</td>\n    </tr>\n    <tr>\n      <th>2020-12-14</th>\n      <td>43.52</td>\n      <td>47.40</td>\n      <td>48.81</td>\n      <td>37.5</td>\n      <td>0.0</td>\n      <td>0.0</td>\n      <td>0.0</td>\n      <td>0.0</td>\n      <td>0.0</td>\n      <td>0.0</td>\n      <td>...</td>\n      <td>NaN</td>\n      <td>NaN</td>\n      <td>NaN</td>\n      <td>NaN</td>\n      <td>NaN</td>\n      <td>1.0</td>\n      <td>0.0</td>\n      <td>1.0</td>\n      <td>0.0</td>\n      <td>0.0</td>\n    </tr>\n    <tr>\n      <th>2020-12-15</th>\n      <td>43.52</td>\n      <td>48.65</td>\n      <td>50.24</td>\n      <td>37.5</td>\n      <td>0.0</td>\n      <td>0.0</td>\n      <td>0.0</td>\n      <td>0.0</td>\n      <td>0.0</td>\n      <td>0.0</td>\n      <td>...</td>\n      <td>NaN</td>\n      <td>NaN</td>\n      <td>NaN</td>\n      <td>NaN</td>\n      <td>NaN</td>\n      <td>1.0</td>\n      <td>0.0</td>\n      <td>1.0</td>\n      <td>0.0</td>\n      <td>0.0</td>\n    </tr>\n    <tr>\n      <th>2020-12-16</th>\n      <td>43.52</td>\n      <td>48.65</td>\n      <td>50.24</td>\n      <td>37.5</td>\n      <td>0.0</td>\n      <td>0.0</td>\n      <td>0.0</td>\n      <td>0.0</td>\n      <td>0.0</td>\n      <td>0.0</td>\n      <td>...</td>\n      <td>NaN</td>\n      <td>NaN</td>\n      <td>NaN</td>\n      <td>NaN</td>\n      <td>NaN</td>\n      <td>1.0</td>\n      <td>0.0</td>\n      <td>1.0</td>\n      <td>0.0</td>\n      <td>0.0</td>\n    </tr>\n    <tr>\n      <th>2020-12-17</th>\n      <td>43.52</td>\n      <td>48.65</td>\n      <td>50.24</td>\n      <td>37.5</td>\n      <td>0.0</td>\n      <td>0.0</td>\n      <td>0.0</td>\n      <td>0.0</td>\n      <td>0.0</td>\n      <td>0.0</td>\n      <td>...</td>\n      <td>NaN</td>\n      <td>NaN</td>\n      <td>NaN</td>\n      <td>NaN</td>\n      <td>NaN</td>\n      <td>1.0</td>\n      <td>0.0</td>\n      <td>1.0</td>\n      <td>0.0</td>\n      <td>0.0</td>\n    </tr>\n    <tr>\n      <th>...</th>\n      <th>...</th>\n      <td>...</td>\n      <td>...</td>\n      <td>...</td>\n      <td>...</td>\n      <td>...</td>\n      <td>...</td>\n      <td>...</td>\n      <td>...</td>\n      <td>...</td>\n      <td>...</td>\n      <td>...</td>\n      <td>...</td>\n      <td>...</td>\n      <td>...</td>\n      <td>...</td>\n      <td>...</td>\n      <td>...</td>\n      <td>...</td>\n      <td>...</td>\n      <td>...</td>\n      <td>...</td>\n    </tr>\n    <tr>\n      <th rowspan=\"5\" valign=\"top\">UNK</th>\n      <th>2022-05-21</th>\n      <td>NaN</td>\n      <td>NaN</td>\n      <td>NaN</td>\n      <td>NaN</td>\n      <td>73.5</td>\n      <td>NaN</td>\n      <td>NaN</td>\n      <td>NaN</td>\n      <td>NaN</td>\n      <td>NaN</td>\n      <td>...</td>\n      <td>87.1</td>\n      <td>NaN</td>\n      <td>NaN</td>\n      <td>NaN</td>\n      <td>NaN</td>\n      <td>0.0</td>\n      <td>0.0</td>\n      <td>0.0</td>\n      <td>0.0</td>\n      <td>0.0</td>\n    </tr>\n    <tr>\n      <th>2022-05-21</th>\n      <td>NaN</td>\n      <td>NaN</td>\n      <td>NaN</td>\n      <td>NaN</td>\n      <td>96.0</td>\n      <td>NaN</td>\n      <td>NaN</td>\n      <td>NaN</td>\n      <td>NaN</td>\n      <td>NaN</td>\n      <td>...</td>\n      <td>41.6</td>\n      <td>NaN</td>\n      <td>NaN</td>\n      <td>NaN</td>\n      <td>NaN</td>\n      <td>0.0</td>\n      <td>0.0</td>\n      <td>0.0</td>\n      <td>0.0</td>\n      <td>0.0</td>\n    </tr>\n    <tr>\n      <th>2022-05-21</th>\n      <td>NaN</td>\n      <td>NaN</td>\n      <td>NaN</td>\n      <td>NaN</td>\n      <td>96.8</td>\n      <td>NaN</td>\n      <td>NaN</td>\n      <td>NaN</td>\n      <td>NaN</td>\n      <td>NaN</td>\n      <td>...</td>\n      <td>95.0</td>\n      <td>NaN</td>\n      <td>NaN</td>\n      <td>NaN</td>\n      <td>NaN</td>\n      <td>0.0</td>\n      <td>0.0</td>\n      <td>0.0</td>\n      <td>0.0</td>\n      <td>0.0</td>\n    </tr>\n    <tr>\n      <th>2022-05-21</th>\n      <td>NaN</td>\n      <td>NaN</td>\n      <td>NaN</td>\n      <td>NaN</td>\n      <td>97.2</td>\n      <td>NaN</td>\n      <td>NaN</td>\n      <td>NaN</td>\n      <td>NaN</td>\n      <td>NaN</td>\n      <td>...</td>\n      <td>95.0</td>\n      <td>NaN</td>\n      <td>NaN</td>\n      <td>NaN</td>\n      <td>NaN</td>\n      <td>0.0</td>\n      <td>0.0</td>\n      <td>0.0</td>\n      <td>0.0</td>\n      <td>0.0</td>\n    </tr>\n    <tr>\n      <th>2022-05-21</th>\n      <td>NaN</td>\n      <td>NaN</td>\n      <td>NaN</td>\n      <td>NaN</td>\n      <td>97.1</td>\n      <td>NaN</td>\n      <td>NaN</td>\n      <td>NaN</td>\n      <td>NaN</td>\n      <td>NaN</td>\n      <td>...</td>\n      <td>94.3</td>\n      <td>NaN</td>\n      <td>NaN</td>\n      <td>NaN</td>\n      <td>NaN</td>\n      <td>0.0</td>\n      <td>0.0</td>\n      <td>0.0</td>\n      <td>0.0</td>\n      <td>0.0</td>\n    </tr>\n  </tbody>\n</table>\n<p>1675549 rows × 24 columns</p>\n</div>"
     },
     "execution_count": 14,
     "metadata": {},
     "output_type": "execute_result"
    }
   ],
   "source": [
    "from nepal.datasets import GovernmentResponse, Vaccinations\n",
    "from nepal.ml.features.preprocess import GovernmentMeasures\n",
    "\n",
    "measures = GovernmentMeasures(response=GovernmentResponse(), vaccinations=Vaccinations())\n",
    "extra_measures: pd.DataFrame = measures.preprocessed()\n",
    "extra_measures"
   ],
   "metadata": {
    "collapsed": false,
    "pycharm": {
     "name": "#%%\n"
    }
   }
  },
  {
   "cell_type": "code",
   "execution_count": 20,
   "outputs": [
    {
     "data": {
      "text/plain": "Cross Validation:   0%|          | 0/12 [00:00<?, ?it/s]",
      "application/vnd.jupyter.widget-view+json": {
       "version_major": 2,
       "version_minor": 0,
       "model_id": "28634bf2e5c741128362520700baede1"
      }
     },
     "metadata": {},
     "output_type": "display_data"
    },
    {
     "name": "stdout",
     "output_type": "stream",
     "text": [
      "0.2987525516272536\n"
     ]
    },
    {
     "data": {
      "text/plain": "<Figure size 432x288 with 1 Axes>",
      "image/png": "[encoded data removed]"
     },
     "metadata": {
      "needs_background": "light"
     },
     "output_type": "display_data"
    }
   ],
   "source": [
    "from nepal.ml.features.embedding import PersistableEmbedding\n",
    "\n",
    "\n",
    "# Load embedding\n",
    "embedding = PersistableEmbedding(\"counties\").load()\n",
    "\n",
    "forecaster = LGBMForecaster(\n",
    "    lgb.LGBMRegressor(objective=mape.name), lag=best_lag, transformers=transformers\n",
    ")\n",
    "\n",
    "# Pre-join measures, population data and embedding data\n",
    "Xs = (\n",
    "    df_y.join(extra_measures)\n",
    "    .join(extra_pop)\n",
    "    .join(embedding)\n",
    "    .drop(columns=df_y.columns)\n",
    "    .groupby(level=\"fips\")\n",
    "    .apply(lambda x: x.fillna(method=\"ffill\").fillna(method=\"bfill\"))\n",
    ")\n",
    "\n",
    "# Compute new score\n",
    "scores: Sequence[float] = cross_validate(\n",
    "    forecaster,\n",
    "    splitter=splitter,\n",
    "    y=df_y,\n",
    "    Xs=[Xs],\n",
    "    loss=mape.function,\n",
    ")\n",
    "\n",
    "sns.lineplot(data=scores)\n",
    "print(np.mean(scores))"
   ],
   "metadata": {
    "collapsed": false,
    "pycharm": {
     "name": "#%%\n"
    }
   }
  },
  {
   "cell_type": "code",
   "execution_count": null,
   "outputs": [
    {
     "name": "stderr",
     "output_type": "stream",
     "text": [
      "\u001B[32m[I 2022-06-05 20:08:13,137]\u001B[0m A new study created in memory with name: no-name-03a6aaf9-03a2-4207-8abb-ddccc777be23\u001B[0m\n"
     ]
    },
    {
     "data": {
      "text/plain": "Cross Validation:   0%|          | 0/12 [00:00<?, ?it/s]",
      "application/vnd.jupyter.widget-view+json": {
       "version_major": 2,
       "version_minor": 0,
       "model_id": "c2f2ce2e4abf484db8d4e3bc1a25a432"
      }
     },
     "metadata": {},
     "output_type": "display_data"
    },
    {
     "name": "stderr",
     "output_type": "stream",
     "text": [
      "\u001B[32m[I 2022-06-05 20:14:07,801]\u001B[0m Trial 0 finished with value: 0.301907876969749 and parameters: {'lag': 15}. Best is trial 0 with value: 0.301907876969749.\u001B[0m\n"
     ]
    },
    {
     "data": {
      "text/plain": "Cross Validation:   0%|          | 0/12 [00:00<?, ?it/s]",
      "application/vnd.jupyter.widget-view+json": {
       "version_major": 2,
       "version_minor": 0,
       "model_id": "651daf4c50dd4eff971a27c8c1223a7f"
      }
     },
     "metadata": {},
     "output_type": "display_data"
    }
   ],
   "source": [
    "import optuna\n",
    "\n",
    "\n",
    "def objective(trial: optuna.Trial) -> float:\n",
    "    forecaster = LGBMForecaster(\n",
    "        lgb.LGBMRegressor(objective=mape.name), lag=best_lag, transformers=transformers\n",
    "    )\n",
    "\n",
    "    lag: int = trial.suggest_int(\"lag\", 10, 20, 1)\n",
    "    lagged_measures = extra_measures.groupby(level=\"fips\").shift(lag)\n",
    "    Xs = (\n",
    "        df_y.join(lagged_measures)\n",
    "            .join(extra_pop)\n",
    "            .join(embedding)\n",
    "            .drop(columns=df_y.columns)\n",
    "            .groupby(level=\"fips\")\n",
    "            .apply(lambda x: x.fillna(method=\"ffill\").fillna(method=\"bfill\"))\n",
    "    )\n",
    "\n",
    "    scores: Sequence[float] = cross_validate(\n",
    "        forecaster,\n",
    "        splitter=splitter,\n",
    "        y=df_y,\n",
    "        Xs=[Xs],\n",
    "        loss=mape.function,\n",
    "    )\n",
    "    return np.mean(scores)\n",
    "\n",
    "\n",
    "search_space = {\"lag\": list(range(10, 21))}\n",
    "study = optuna.create_study(direction=\"minimize\", sampler=optuna.samplers.GridSampler(search_space))\n",
    "study.optimize(objective, n_trials=10)\n",
    "\n",
    "study.best_params"
   ],
   "metadata": {
    "collapsed": false,
    "pycharm": {
     "name": "#%%\n"
    }
   }
  },
  {
   "cell_type": "code",
   "execution_count": null,
   "outputs": [],
   "source": [],
   "metadata": {
    "collapsed": false,
    "pycharm": {
     "name": "#%%\n"
    }
   }
  }
 ],
 "metadata": {
  "kernelspec": {
   "display_name": "Python 3",
   "language": "python",
   "name": "python3"
  },
  "language_info": {
   "codemirror_mode": {
    "name": "ipython",
    "version": 2
   },
   "file_extension": ".py",
   "mimetype": "text/x-python",
   "name": "python",
   "nbconvert_exporter": "python",
   "pygments_lexer": "ipython2",
   "version": "2.7.6"
  }
 },
 "nbformat": 4,
 "nbformat_minor": 0
}
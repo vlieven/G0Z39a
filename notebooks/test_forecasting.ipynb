{
 "cells": [
  {
   "cell_type": "code",
   "execution_count": 1,
   "outputs": [],
   "source": [
    "from __future__ import annotations\n",
    "\n",
    "import numpy as np\n",
    "import pandas as pd\n",
    "import seaborn as sns\n",
    "\n",
    "from typing import *\n",
    "\n",
    "\n",
    "sns.set(style=\"darkgrid\")"
   ],
   "metadata": {
    "collapsed": false,
    "pycharm": {
     "name": "#%%\n"
    }
   }
  },
  {
   "cell_type": "code",
   "execution_count": 2,
   "outputs": [
    {
     "data": {
      "text/plain": "                  new_cases\nfips  date                 \n01001 2020-01-21   0.000000\n      2020-01-22   0.000000\n      2020-01-23   0.000000\n      2020-01-24   0.000000\n      2020-01-25   0.000000\n...                     ...\n78030 2022-04-07   2.371578\n      2022-04-08   2.448539\n      2022-04-09   2.448539\n      2022-04-10   2.448539\n      2022-04-11   2.448539\n\n[2614640 rows x 1 columns]",
      "text/html": "<div>\n<style scoped>\n    .dataframe tbody tr th:only-of-type {\n        vertical-align: middle;\n    }\n\n    .dataframe tbody tr th {\n        vertical-align: top;\n    }\n\n    .dataframe thead th {\n        text-align: right;\n    }\n</style>\n<table border=\"1\" class=\"dataframe\">\n  <thead>\n    <tr style=\"text-align: right;\">\n      <th></th>\n      <th></th>\n      <th>new_cases</th>\n    </tr>\n    <tr>\n      <th>fips</th>\n      <th>date</th>\n      <th></th>\n    </tr>\n  </thead>\n  <tbody>\n    <tr>\n      <th rowspan=\"5\" valign=\"top\">01001</th>\n      <th>2020-01-21</th>\n      <td>0.000000</td>\n    </tr>\n    <tr>\n      <th>2020-01-22</th>\n      <td>0.000000</td>\n    </tr>\n    <tr>\n      <th>2020-01-23</th>\n      <td>0.000000</td>\n    </tr>\n    <tr>\n      <th>2020-01-24</th>\n      <td>0.000000</td>\n    </tr>\n    <tr>\n      <th>2020-01-25</th>\n      <td>0.000000</td>\n    </tr>\n    <tr>\n      <th>...</th>\n      <th>...</th>\n      <td>...</td>\n    </tr>\n    <tr>\n      <th rowspan=\"5\" valign=\"top\">78030</th>\n      <th>2022-04-07</th>\n      <td>2.371578</td>\n    </tr>\n    <tr>\n      <th>2022-04-08</th>\n      <td>2.448539</td>\n    </tr>\n    <tr>\n      <th>2022-04-09</th>\n      <td>2.448539</td>\n    </tr>\n    <tr>\n      <th>2022-04-10</th>\n      <td>2.448539</td>\n    </tr>\n    <tr>\n      <th>2022-04-11</th>\n      <td>2.448539</td>\n    </tr>\n  </tbody>\n</table>\n<p>2614640 rows × 1 columns</p>\n</div>"
     },
     "execution_count": 2,
     "metadata": {},
     "output_type": "execute_result"
    }
   ],
   "source": [
    "from nepal.datasets import NYTimes, PopulationDensity\n",
    "from nepal.ml.preprocess import Cases, Population\n",
    "from nepal.ml.transformers import log_transformer\n",
    "\n",
    "df: pd.DataFrame = Cases(NYTimes()).preprocessed()\n",
    "extra_pop: pd.DataFrame = Population(PopulationDensity()).preprocessed()\n",
    "\n",
    "df_y: pd.DataFrame = log_transformer.transform(df[[\"new_cases\"]])\n",
    "df_y"
   ],
   "metadata": {
    "collapsed": false,
    "pycharm": {
     "name": "#%%\n"
    }
   }
  },
  {
   "cell_type": "code",
   "execution_count": 3,
   "outputs": [],
   "source": [
    "from sktime.performance_metrics.forecasting import (\n",
    "    MeanAbsolutePercentageError,\n",
    "    MeanAbsoluteError,\n",
    ")\n",
    "\n",
    "\n",
    "class Loss(NamedTuple):\n",
    "    name: str\n",
    "    function: Callable\n",
    "\n",
    "\n",
    "mae = Loss(\n",
    "    name=\"mean_absolute_error\",\n",
    "    function=MeanAbsoluteError(),\n",
    ")\n",
    "\n",
    "mape = Loss(\n",
    "    name=\"mean_absolute_percentage_error\",\n",
    "    function=MeanAbsolutePercentageError(symmetric=True),\n",
    ")"
   ],
   "metadata": {
    "collapsed": false,
    "pycharm": {
     "name": "#%%\n"
    }
   }
  },
  {
   "cell_type": "code",
   "execution_count": 4,
   "outputs": [
    {
     "data": {
      "text/plain": "Train/Test split:   0%|          | 0/12 [00:00<?, ?it/s]",
      "application/vnd.jupyter.widget-view+json": {
       "version_major": 2,
       "version_minor": 0,
       "model_id": "20fcee02bc7c4373aeffd30e86cf75b9"
      }
     },
     "metadata": {},
     "output_type": "display_data"
    },
    {
     "name": "stdout",
     "output_type": "stream",
     "text": [
      "0.37715012926854374\n"
     ]
    },
    {
     "data": {
      "text/plain": "<Figure size 432x288 with 1 Axes>",
      "image/png": "[encoded data removed]"
     },
     "metadata": {
      "needs_background": "light"
     },
     "output_type": "display_data"
    }
   ],
   "source": [
    "import lightgbm as lgb\n",
    "from sktime.forecasting.base import ForecastingHorizon\n",
    "from sktime.forecasting.model_selection import SlidingWindowSplitter\n",
    "\n",
    "from nepal.ml.forecaster import LGBMForecaster\n",
    "from nepal.ml.splitter import Splitter\n",
    "from nepal.ml.validate import cross_validate\n",
    "\n",
    "fh = ForecastingHorizon(list(range(1, 15)))\n",
    "cv = SlidingWindowSplitter(fh=fh, window_length=120, step_length=60)\n",
    "splitter: Splitter = Splitter(cv)\n",
    "\n",
    "# Create regressor with default parameters\n",
    "forecaster = LGBMForecaster(lgb.LGBMRegressor(objective=mape.name), lag=18)\n",
    "\n",
    "scores: Sequence[float] = cross_validate(\n",
    "    forecaster, splitter=splitter, y=df_y, loss=mape.function, threads=8\n",
    ")\n",
    "\n",
    "sns.lineplot(data=scores)\n",
    "print(np.mean(scores))"
   ],
   "metadata": {
    "collapsed": false,
    "pycharm": {
     "name": "#%%\n"
    }
   }
  },
  {
   "cell_type": "code",
   "execution_count": 7,
   "outputs": [
    {
     "data": {
      "text/plain": "Train/Test split:   0%|          | 0/12 [00:00<?, ?it/s]",
      "application/vnd.jupyter.widget-view+json": {
       "version_major": 2,
       "version_minor": 0,
       "model_id": "2876201b76584c82b6bdd4f8cb5552d8"
      }
     },
     "metadata": {},
     "output_type": "display_data"
    },
    {
     "name": "stdout",
     "output_type": "stream",
     "text": [
      "Date: 2020-05-20 00:00:00\n",
      "Prediction: 2020-05-20 00:00:00\n",
      "Date: 2020-05-21 00:00:00\n",
      "Prediction: 2020-05-21 00:00:00\n",
      "Date: 2020-05-22 00:00:00\n",
      "Prediction: 2020-05-22 00:00:00\n",
      "Date: 2020-05-23 00:00:00\n",
      "Prediction: 2020-05-23 00:00:00\n",
      "Date: 2020-05-24 00:00:00\n",
      "Prediction: 2020-05-24 00:00:00\n",
      "Date: 2020-05-25 00:00:00\n",
      "Prediction: 2020-05-25 00:00:00\n",
      "Date: 2020-05-26 00:00:00\n",
      "Prediction: 2020-05-26 00:00:00\n",
      "Date: 2020-05-27 00:00:00\n",
      "Prediction: 2020-05-27 00:00:00\n",
      "Date: 2020-05-28 00:00:00\n",
      "Prediction: 2020-05-28 00:00:00\n",
      "Date: 2020-05-29 00:00:00\n",
      "Prediction: 2020-05-29 00:00:00\n",
      "Date: 2020-05-30 00:00:00\n",
      "Prediction: 2020-05-30 00:00:00\n",
      "Date: 2020-05-31 00:00:00\n",
      "Prediction: 2020-05-31 00:00:00\n",
      "Date: 2020-06-01 00:00:00\n",
      "Prediction: 2020-06-01 00:00:00\n",
      "Date: 2020-06-02 00:00:00\n",
      "Prediction: 2020-06-02 00:00:00\n",
      "Date: 2020-07-19 00:00:00\n",
      "Prediction: 2020-07-19 00:00:00\n",
      "Date: 2020-07-20 00:00:00\n",
      "Prediction: 2020-07-20 00:00:00\n",
      "Date: 2020-07-21 00:00:00\n",
      "Prediction: 2020-07-21 00:00:00\n",
      "Date: 2020-07-22 00:00:00\n",
      "Prediction: 2020-07-22 00:00:00\n",
      "Date: 2020-07-23 00:00:00\n",
      "Prediction: 2020-07-23 00:00:00\n",
      "Date: 2020-07-24 00:00:00\n",
      "Prediction: 2020-07-24 00:00:00\n",
      "Date: 2020-07-25 00:00:00\n",
      "Prediction: 2020-07-25 00:00:00\n",
      "Date: 2020-07-26 00:00:00\n",
      "Prediction: 2020-07-26 00:00:00\n",
      "Date: 2020-07-27 00:00:00\n",
      "Prediction: 2020-07-27 00:00:00\n",
      "Date: 2020-07-28 00:00:00\n",
      "Prediction: 2020-07-28 00:00:00\n",
      "Date: 2020-07-29 00:00:00\n",
      "Prediction: 2020-07-29 00:00:00\n",
      "Date: 2020-07-30 00:00:00\n",
      "Prediction: 2020-07-30 00:00:00\n",
      "Date: 2020-07-31 00:00:00\n",
      "Prediction: 2020-07-31 00:00:00\n",
      "Date: 2020-08-01 00:00:00\n",
      "Prediction: 2020-08-01 00:00:00\n",
      "Date: 2020-09-17 00:00:00\n",
      "Prediction: 2020-09-17 00:00:00\n",
      "Date: 2020-09-18 00:00:00\n",
      "Prediction: 2020-09-18 00:00:00\n",
      "Date: 2020-09-19 00:00:00\n",
      "Prediction: 2020-09-19 00:00:00\n",
      "Date: 2020-09-20 00:00:00\n",
      "Prediction: 2020-09-20 00:00:00\n",
      "Date: 2020-09-21 00:00:00\n",
      "Prediction: 2020-09-21 00:00:00\n",
      "Date: 2020-09-22 00:00:00\n",
      "Prediction: 2020-09-22 00:00:00\n",
      "Date: 2020-09-23 00:00:00\n",
      "Prediction: 2020-09-23 00:00:00\n",
      "Date: 2020-09-24 00:00:00\n",
      "Prediction: 2020-09-24 00:00:00\n",
      "Date: 2020-09-25 00:00:00\n",
      "Prediction: 2020-09-25 00:00:00\n",
      "Date: 2020-09-26 00:00:00\n",
      "Prediction: 2020-09-26 00:00:00\n",
      "Date: 2020-09-27 00:00:00\n",
      "Prediction: 2020-09-27 00:00:00\n",
      "Date: 2020-09-28 00:00:00\n",
      "Prediction: 2020-09-28 00:00:00\n",
      "Date: 2020-09-29 00:00:00\n",
      "Prediction: 2020-09-29 00:00:00\n",
      "Date: 2020-09-30 00:00:00\n",
      "Prediction: 2020-09-30 00:00:00\n",
      "Date: 2020-11-16 00:00:00\n",
      "Prediction: 2020-11-16 00:00:00\n",
      "Date: 2020-11-17 00:00:00\n",
      "Prediction: 2020-11-17 00:00:00\n",
      "Date: 2020-11-18 00:00:00\n",
      "Prediction: 2020-11-18 00:00:00\n",
      "Date: 2020-11-19 00:00:00\n",
      "Prediction: 2020-11-19 00:00:00\n",
      "Date: 2020-11-20 00:00:00\n",
      "Prediction: 2020-11-20 00:00:00\n",
      "Date: 2020-11-21 00:00:00\n",
      "Prediction: 2020-11-21 00:00:00\n",
      "Date: 2020-11-22 00:00:00\n",
      "Prediction: 2020-11-22 00:00:00\n",
      "Date: 2020-11-23 00:00:00\n",
      "Prediction: 2020-11-23 00:00:00\n",
      "Date: 2020-11-24 00:00:00\n",
      "Prediction: 2020-11-24 00:00:00\n",
      "Date: 2020-11-25 00:00:00\n",
      "Prediction: 2020-11-25 00:00:00\n",
      "Date: 2020-11-26 00:00:00\n",
      "Prediction: 2020-11-26 00:00:00\n",
      "Date: 2020-11-27 00:00:00\n",
      "Prediction: 2020-11-27 00:00:00\n",
      "Date: 2020-11-28 00:00:00\n",
      "Prediction: 2020-11-28 00:00:00\n",
      "Date: 2020-11-29 00:00:00\n",
      "Prediction: 2020-11-29 00:00:00\n",
      "Date: 2021-01-15 00:00:00\n",
      "Prediction: 2021-01-15 00:00:00\n",
      "Date: 2021-01-16 00:00:00\n",
      "Prediction: 2021-01-16 00:00:00\n",
      "Date: 2021-01-17 00:00:00\n",
      "Prediction: 2021-01-17 00:00:00\n",
      "Date: 2021-01-18 00:00:00\n",
      "Prediction: 2021-01-18 00:00:00\n",
      "Date: 2021-01-19 00:00:00\n",
      "Prediction: 2021-01-19 00:00:00\n",
      "Date: 2021-01-20 00:00:00\n",
      "Prediction: 2021-01-20 00:00:00\n",
      "Date: 2021-01-21 00:00:00\n",
      "Prediction: 2021-01-21 00:00:00\n",
      "Date: 2021-01-22 00:00:00\n",
      "Prediction: 2021-01-22 00:00:00\n",
      "Date: 2021-01-23 00:00:00\n",
      "Prediction: 2021-01-23 00:00:00\n",
      "Date: 2021-01-24 00:00:00\n",
      "Prediction: 2021-01-24 00:00:00\n",
      "Date: 2021-01-25 00:00:00\n",
      "Prediction: 2021-01-25 00:00:00\n",
      "Date: 2021-01-26 00:00:00\n",
      "Prediction: 2021-01-26 00:00:00\n",
      "Date: 2021-01-27 00:00:00\n",
      "Prediction: 2021-01-27 00:00:00\n",
      "Date: 2021-01-28 00:00:00\n",
      "Prediction: 2021-01-28 00:00:00\n",
      "Date: 2021-03-16 00:00:00\n",
      "Prediction: 2021-03-16 00:00:00\n",
      "Date: 2021-03-17 00:00:00\n",
      "Prediction: 2021-03-17 00:00:00\n",
      "Date: 2021-03-18 00:00:00\n",
      "Prediction: 2021-03-18 00:00:00\n",
      "Date: 2021-03-19 00:00:00\n",
      "Prediction: 2021-03-19 00:00:00\n",
      "Date: 2021-03-20 00:00:00\n",
      "Prediction: 2021-03-20 00:00:00\n",
      "Date: 2021-03-21 00:00:00\n",
      "Prediction: 2021-03-21 00:00:00\n",
      "Date: 2021-03-22 00:00:00\n",
      "Prediction: 2021-03-22 00:00:00\n",
      "Date: 2021-03-23 00:00:00\n",
      "Prediction: 2021-03-23 00:00:00\n",
      "Date: 2021-03-24 00:00:00\n",
      "Prediction: 2021-03-24 00:00:00\n",
      "Date: 2021-03-25 00:00:00\n",
      "Prediction: 2021-03-25 00:00:00\n",
      "Date: 2021-03-26 00:00:00\n",
      "Prediction: 2021-03-26 00:00:00\n",
      "Date: 2021-03-27 00:00:00\n",
      "Prediction: 2021-03-27 00:00:00\n",
      "Date: 2021-03-28 00:00:00\n",
      "Prediction: 2021-03-28 00:00:00\n",
      "Date: 2021-03-29 00:00:00\n",
      "Prediction: 2021-03-29 00:00:00\n",
      "Date: 2021-05-15 00:00:00\n",
      "Prediction: 2021-05-15 00:00:00\n",
      "Date: 2021-05-16 00:00:00\n",
      "Prediction: 2021-05-16 00:00:00\n",
      "Date: 2021-05-17 00:00:00\n",
      "Prediction: 2021-05-17 00:00:00\n",
      "Date: 2021-05-18 00:00:00\n",
      "Prediction: 2021-05-18 00:00:00\n",
      "Date: 2021-05-19 00:00:00\n",
      "Prediction: 2021-05-19 00:00:00\n",
      "Date: 2021-05-20 00:00:00\n",
      "Prediction: 2021-05-20 00:00:00\n",
      "Date: 2021-05-21 00:00:00\n",
      "Prediction: 2021-05-21 00:00:00\n",
      "Date: 2021-05-22 00:00:00\n",
      "Prediction: 2021-05-22 00:00:00\n",
      "Date: 2021-05-23 00:00:00\n",
      "Prediction: 2021-05-23 00:00:00\n",
      "Date: 2021-05-24 00:00:00\n",
      "Prediction: 2021-05-24 00:00:00\n",
      "Date: 2021-05-25 00:00:00\n",
      "Prediction: 2021-05-25 00:00:00\n",
      "Date: 2021-05-26 00:00:00\n",
      "Prediction: 2021-05-26 00:00:00\n",
      "Date: 2021-05-27 00:00:00\n",
      "Prediction: 2021-05-27 00:00:00\n",
      "Date: 2021-05-28 00:00:00\n",
      "Prediction: 2021-05-28 00:00:00\n",
      "Date: 2021-07-14 00:00:00\n",
      "Prediction: 2021-07-14 00:00:00\n",
      "Date: 2021-07-15 00:00:00\n",
      "Prediction: 2021-07-15 00:00:00\n",
      "Date: 2021-07-16 00:00:00\n",
      "Prediction: 2021-07-16 00:00:00\n",
      "Date: 2021-07-17 00:00:00\n",
      "Prediction: 2021-07-17 00:00:00\n",
      "Date: 2021-07-18 00:00:00\n",
      "Prediction: 2021-07-18 00:00:00\n",
      "Date: 2021-07-19 00:00:00\n",
      "Prediction: 2021-07-19 00:00:00\n",
      "Date: 2021-07-20 00:00:00\n",
      "Prediction: 2021-07-20 00:00:00\n",
      "Date: 2021-07-21 00:00:00\n",
      "Prediction: 2021-07-21 00:00:00\n",
      "Date: 2021-07-22 00:00:00\n",
      "Prediction: 2021-07-22 00:00:00\n",
      "Date: 2021-07-23 00:00:00\n",
      "Prediction: 2021-07-23 00:00:00\n",
      "Date: 2021-07-24 00:00:00\n",
      "Prediction: 2021-07-24 00:00:00\n",
      "Date: 2021-07-25 00:00:00\n",
      "Prediction: 2021-07-25 00:00:00\n",
      "Date: 2021-07-26 00:00:00\n",
      "Prediction: 2021-07-26 00:00:00\n",
      "Date: 2021-07-27 00:00:00\n",
      "Prediction: 2021-07-27 00:00:00\n",
      "Date: 2021-09-12 00:00:00\n",
      "Prediction: 2021-09-12 00:00:00\n",
      "Date: 2021-09-13 00:00:00\n",
      "Prediction: 2021-09-13 00:00:00\n",
      "Date: 2021-09-14 00:00:00\n",
      "Prediction: 2021-09-14 00:00:00\n",
      "Date: 2021-09-15 00:00:00\n",
      "Prediction: 2021-09-15 00:00:00\n",
      "Date: 2021-09-16 00:00:00\n",
      "Prediction: 2021-09-16 00:00:00\n",
      "Date: 2021-09-17 00:00:00\n",
      "Prediction: 2021-09-17 00:00:00\n",
      "Date: 2021-09-18 00:00:00\n",
      "Prediction: 2021-09-18 00:00:00\n",
      "Date: 2021-09-19 00:00:00\n",
      "Prediction: 2021-09-19 00:00:00\n",
      "Date: 2021-09-20 00:00:00\n",
      "Prediction: 2021-09-20 00:00:00\n",
      "Date: 2021-09-21 00:00:00\n",
      "Prediction: 2021-09-21 00:00:00\n",
      "Date: 2021-09-22 00:00:00\n",
      "Prediction: 2021-09-22 00:00:00\n",
      "Date: 2021-09-23 00:00:00\n",
      "Prediction: 2021-09-23 00:00:00\n",
      "Date: 2021-09-24 00:00:00\n",
      "Prediction: 2021-09-24 00:00:00\n",
      "Date: 2021-09-25 00:00:00\n",
      "Prediction: 2021-09-25 00:00:00\n",
      "Date: 2021-11-11 00:00:00\n",
      "Prediction: 2021-11-11 00:00:00\n",
      "Date: 2021-11-12 00:00:00\n",
      "Prediction: 2021-11-12 00:00:00\n",
      "Date: 2021-11-13 00:00:00\n",
      "Prediction: 2021-11-13 00:00:00\n",
      "Date: 2021-11-14 00:00:00\n",
      "Prediction: 2021-11-14 00:00:00\n",
      "Date: 2021-11-15 00:00:00\n",
      "Prediction: 2021-11-15 00:00:00\n",
      "Date: 2021-11-16 00:00:00\n",
      "Prediction: 2021-11-16 00:00:00\n",
      "Date: 2021-11-17 00:00:00\n",
      "Prediction: 2021-11-17 00:00:00\n",
      "Date: 2021-11-18 00:00:00\n",
      "Prediction: 2021-11-18 00:00:00\n",
      "Date: 2021-11-19 00:00:00\n",
      "Prediction: 2021-11-19 00:00:00\n",
      "Date: 2021-11-20 00:00:00\n",
      "Prediction: 2021-11-20 00:00:00\n",
      "Date: 2021-11-21 00:00:00\n",
      "Prediction: 2021-11-21 00:00:00\n",
      "Date: 2021-11-22 00:00:00\n",
      "Prediction: 2021-11-22 00:00:00\n",
      "Date: 2021-11-23 00:00:00\n",
      "Prediction: 2021-11-23 00:00:00\n",
      "Date: 2021-11-24 00:00:00\n",
      "Prediction: 2021-11-24 00:00:00\n",
      "Date: 2022-01-10 00:00:00\n",
      "Prediction: 2022-01-10 00:00:00\n",
      "Date: 2022-01-11 00:00:00\n",
      "Prediction: 2022-01-11 00:00:00\n",
      "Date: 2022-01-12 00:00:00\n",
      "Prediction: 2022-01-12 00:00:00\n",
      "Date: 2022-01-13 00:00:00\n",
      "Prediction: 2022-01-13 00:00:00\n",
      "Date: 2022-01-14 00:00:00\n",
      "Prediction: 2022-01-14 00:00:00\n",
      "Date: 2022-01-15 00:00:00\n",
      "Prediction: 2022-01-15 00:00:00\n",
      "Date: 2022-01-16 00:00:00\n",
      "Prediction: 2022-01-16 00:00:00\n",
      "Date: 2022-01-17 00:00:00\n",
      "Prediction: 2022-01-17 00:00:00\n",
      "Date: 2022-01-18 00:00:00\n",
      "Prediction: 2022-01-18 00:00:00\n",
      "Date: 2022-01-19 00:00:00\n",
      "Prediction: 2022-01-19 00:00:00\n",
      "Date: 2022-01-20 00:00:00\n",
      "Prediction: 2022-01-20 00:00:00\n",
      "Date: 2022-01-21 00:00:00\n",
      "Prediction: 2022-01-21 00:00:00\n",
      "Date: 2022-01-22 00:00:00\n",
      "Prediction: 2022-01-22 00:00:00\n",
      "Date: 2022-01-23 00:00:00\n",
      "Prediction: 2022-01-23 00:00:00\n",
      "Date: 2022-03-11 00:00:00\n",
      "Prediction: 2022-03-11 00:00:00\n",
      "Date: 2022-03-12 00:00:00\n",
      "Prediction: 2022-03-12 00:00:00\n",
      "Date: 2022-03-13 00:00:00\n",
      "Prediction: 2022-03-13 00:00:00\n",
      "Date: 2022-03-14 00:00:00\n",
      "Prediction: 2022-03-14 00:00:00\n",
      "Date: 2022-03-15 00:00:00\n",
      "Prediction: 2022-03-15 00:00:00\n",
      "Date: 2022-03-16 00:00:00\n",
      "Prediction: 2022-03-16 00:00:00\n",
      "Date: 2022-03-17 00:00:00\n",
      "Prediction: 2022-03-17 00:00:00\n",
      "Date: 2022-03-18 00:00:00\n",
      "Prediction: 2022-03-18 00:00:00\n",
      "Date: 2022-03-19 00:00:00\n",
      "Prediction: 2022-03-19 00:00:00\n",
      "Date: 2022-03-20 00:00:00\n",
      "Prediction: 2022-03-20 00:00:00\n",
      "Date: 2022-03-21 00:00:00\n",
      "Prediction: 2022-03-21 00:00:00\n",
      "Date: 2022-03-22 00:00:00\n",
      "Prediction: 2022-03-22 00:00:00\n",
      "Date: 2022-03-23 00:00:00\n",
      "Prediction: 2022-03-23 00:00:00\n",
      "Date: 2022-03-24 00:00:00\n",
      "Prediction: 2022-03-24 00:00:00\n",
      "0.37715012926854374\n"
     ]
    }
   ],
   "source": [
    "# Create regressor with default parameters\n",
    "forecaster = LGBMForecaster(lgb.LGBMRegressor(objective=mape.name), lag=18)\n",
    "\n",
    "scores: Sequence[float] = cross_validate(\n",
    "    forecaster, splitter=splitter, y=df_y, Xs=[extra_pop], loss=mape.function\n",
    ")\n",
    "\n",
    "sns.lineplot(data=scores)\n",
    "print(np.mean(scores))"
   ],
   "metadata": {
    "collapsed": false,
    "pycharm": {
     "name": "#%%\n"
    }
   }
  },
  {
   "cell_type": "code",
   "execution_count": 7,
   "outputs": [
    {
     "data": {
      "text/plain": "Train/Test split:   0%|          | 0/12 [00:00<?, ?it/s]",
      "application/vnd.jupyter.widget-view+json": {
       "version_major": 2,
       "version_minor": 0,
       "model_id": "15ce6ac458a1496c837d25873d428248"
      }
     },
     "metadata": {},
     "output_type": "display_data"
    },
    {
     "name": "stdout",
     "output_type": "stream",
     "text": [
      "0.3735501707737354\n"
     ]
    },
    {
     "data": {
      "text/plain": "<Figure size 432x288 with 1 Axes>",
      "image/png": "[encoded data removed]"
     },
     "metadata": {
      "needs_background": "light"
     },
     "output_type": "display_data"
    }
   ],
   "source": [
    "from sklearn.pipeline import Pipeline\n",
    "from nepal.ml.transformers import RollingWindowSum, log_transformer\n",
    "\n",
    "transformers: Pipeline = Pipeline(\n",
    "    [\n",
    "        (\n",
    "            \"with_active_infections\",\n",
    "            RollingWindowSum(\n",
    "                \"new_cases\", target=\"infections\", window=10, transformer=log_transformer\n",
    "            ),\n",
    "        ),\n",
    "    ]\n",
    ")\n",
    "\n",
    "forecaster = LGBMForecaster(\n",
    "    lgb.LGBMRegressor(objective=mape.name), lag=18, transformers=transformers\n",
    ")\n",
    "\n",
    "scores: Sequence[float] = cross_validate(\n",
    "    forecaster, splitter=splitter, y=df_y, Xs=[extra_pop], loss=mape.function\n",
    ")\n",
    "\n",
    "sns.lineplot(data=scores)\n",
    "print(np.mean(scores))"
   ],
   "metadata": {
    "collapsed": false,
    "pycharm": {
     "name": "#%%\n"
    }
   }
  },
  {
   "cell_type": "code",
   "execution_count": 8,
   "outputs": [
    {
     "name": "stderr",
     "output_type": "stream",
     "text": [
      "\u001B[32m[I 2022-06-03 10:27:08,574]\u001B[0m A new study created in memory with name: no-name-f5f0f9c0-8361-41f9-a0d6-de4414a1e271\u001B[0m\n"
     ]
    },
    {
     "data": {
      "text/plain": "Train/Test split:   0%|          | 0/12 [00:00<?, ?it/s]",
      "application/vnd.jupyter.widget-view+json": {
       "version_major": 2,
       "version_minor": 0,
       "model_id": "cbe8b58755a0413d8559f0b91c6328c3"
      }
     },
     "metadata": {},
     "output_type": "display_data"
    },
    {
     "name": "stderr",
     "output_type": "stream",
     "text": [
      "\u001B[32m[I 2022-06-03 10:38:29,718]\u001B[0m Trial 0 finished with value: 0.37453985641905546 and parameters: {'lag': 23}. Best is trial 0 with value: 0.37453985641905546.\u001B[0m\n"
     ]
    },
    {
     "data": {
      "text/plain": "Train/Test split:   0%|          | 0/12 [00:00<?, ?it/s]",
      "application/vnd.jupyter.widget-view+json": {
       "version_major": 2,
       "version_minor": 0,
       "model_id": "1c0d19ee1acf40e4ba1f7c8536f10dad"
      }
     },
     "metadata": {},
     "output_type": "display_data"
    },
    {
     "name": "stderr",
     "output_type": "stream",
     "text": [
      "\u001B[32m[I 2022-06-03 10:47:47,075]\u001B[0m Trial 1 finished with value: 0.3725283654949331 and parameters: {'lag': 17}. Best is trial 1 with value: 0.3725283654949331.\u001B[0m\n"
     ]
    },
    {
     "data": {
      "text/plain": "Train/Test split:   0%|          | 0/12 [00:00<?, ?it/s]",
      "application/vnd.jupyter.widget-view+json": {
       "version_major": 2,
       "version_minor": 0,
       "model_id": "be91683ec43a496cbe14557ecc3fdf2a"
      }
     },
     "metadata": {},
     "output_type": "display_data"
    },
    {
     "name": "stderr",
     "output_type": "stream",
     "text": [
      "\u001B[32m[I 2022-06-03 10:58:23,295]\u001B[0m Trial 2 finished with value: 0.37330029514569646 and parameters: {'lag': 24}. Best is trial 1 with value: 0.3725283654949331.\u001B[0m\n"
     ]
    },
    {
     "data": {
      "text/plain": "Train/Test split:   0%|          | 0/12 [00:00<?, ?it/s]",
      "application/vnd.jupyter.widget-view+json": {
       "version_major": 2,
       "version_minor": 0,
       "model_id": "c0d1d9072efd4d1db0b594aecf80e37f"
      }
     },
     "metadata": {},
     "output_type": "display_data"
    },
    {
     "name": "stderr",
     "output_type": "stream",
     "text": [
      "\u001B[32m[I 2022-06-03 11:07:27,904]\u001B[0m Trial 3 finished with value: 0.37518475029141807 and parameters: {'lag': 11}. Best is trial 1 with value: 0.3725283654949331.\u001B[0m\n"
     ]
    },
    {
     "data": {
      "text/plain": "Train/Test split:   0%|          | 0/12 [00:00<?, ?it/s]",
      "application/vnd.jupyter.widget-view+json": {
       "version_major": 2,
       "version_minor": 0,
       "model_id": "312ca89dd4594c3d949fe20bd4997205"
      }
     },
     "metadata": {},
     "output_type": "display_data"
    },
    {
     "name": "stderr",
     "output_type": "stream",
     "text": [
      "\u001B[32m[I 2022-06-03 11:16:55,861]\u001B[0m Trial 4 finished with value: 0.375661437334359 and parameters: {'lag': 10}. Best is trial 1 with value: 0.3725283654949331.\u001B[0m\n"
     ]
    },
    {
     "data": {
      "text/plain": "Train/Test split:   0%|          | 0/12 [00:00<?, ?it/s]",
      "application/vnd.jupyter.widget-view+json": {
       "version_major": 2,
       "version_minor": 0,
       "model_id": "f806840ecc3543adb51053b0ce6af45f"
      }
     },
     "metadata": {},
     "output_type": "display_data"
    },
    {
     "name": "stderr",
     "output_type": "stream",
     "text": [
      "\u001B[32m[I 2022-06-03 11:26:25,504]\u001B[0m Trial 5 finished with value: 0.37462178901813825 and parameters: {'lag': 13}. Best is trial 1 with value: 0.3725283654949331.\u001B[0m\n"
     ]
    },
    {
     "data": {
      "text/plain": "Train/Test split:   0%|          | 0/12 [00:00<?, ?it/s]",
      "application/vnd.jupyter.widget-view+json": {
       "version_major": 2,
       "version_minor": 0,
       "model_id": "404de7ab128f4efe91f481b8acc919f7"
      }
     },
     "metadata": {},
     "output_type": "display_data"
    },
    {
     "name": "stderr",
     "output_type": "stream",
     "text": [
      "\u001B[32m[I 2022-06-03 11:36:01,433]\u001B[0m Trial 6 finished with value: 0.37462178901813825 and parameters: {'lag': 13}. Best is trial 1 with value: 0.3725283654949331.\u001B[0m\n"
     ]
    },
    {
     "data": {
      "text/plain": "Train/Test split:   0%|          | 0/12 [00:00<?, ?it/s]",
      "application/vnd.jupyter.widget-view+json": {
       "version_major": 2,
       "version_minor": 0,
       "model_id": "8ba6e8fd8568442286213909c5837886"
      }
     },
     "metadata": {},
     "output_type": "display_data"
    },
    {
     "name": "stderr",
     "output_type": "stream",
     "text": [
      "\u001B[32m[I 2022-06-03 11:47:24,832]\u001B[0m Trial 7 finished with value: 0.3732829518050142 and parameters: {'lag': 22}. Best is trial 1 with value: 0.3725283654949331.\u001B[0m\n"
     ]
    },
    {
     "data": {
      "text/plain": "Train/Test split:   0%|          | 0/12 [00:00<?, ?it/s]",
      "application/vnd.jupyter.widget-view+json": {
       "version_major": 2,
       "version_minor": 0,
       "model_id": "3d3e2dc6d1fd473d91510ec7a36be4a8"
      }
     },
     "metadata": {},
     "output_type": "display_data"
    },
    {
     "name": "stderr",
     "output_type": "stream",
     "text": [
      "\u001B[32m[I 2022-06-03 11:59:17,259]\u001B[0m Trial 8 finished with value: 0.37330029514569646 and parameters: {'lag': 24}. Best is trial 1 with value: 0.3725283654949331.\u001B[0m\n"
     ]
    },
    {
     "data": {
      "text/plain": "Train/Test split:   0%|          | 0/12 [00:00<?, ?it/s]",
      "application/vnd.jupyter.widget-view+json": {
       "version_major": 2,
       "version_minor": 0,
       "model_id": "c123d8a6a6754a5489861d3bdf2b1031"
      }
     },
     "metadata": {},
     "output_type": "display_data"
    },
    {
     "name": "stderr",
     "output_type": "stream",
     "text": [
      "\u001B[32m[I 2022-06-03 12:09:41,140]\u001B[0m Trial 9 finished with value: 0.3735501707737354 and parameters: {'lag': 18}. Best is trial 1 with value: 0.3725283654949331.\u001B[0m\n"
     ]
    },
    {
     "data": {
      "text/plain": "{'lag': 17}"
     },
     "execution_count": 8,
     "metadata": {},
     "output_type": "execute_result"
    }
   ],
   "source": [
    "import optuna\n",
    "\n",
    "\n",
    "def objective(trial: optuna.Trial) -> float:\n",
    "    lag = trial.suggest_int(\"lag\", 10, 24)\n",
    "    forecaster = LGBMForecaster(\n",
    "        lgb.LGBMRegressor(objective=mape.name), lag=lag, transformers=transformers\n",
    "    )\n",
    "\n",
    "    scores: Sequence[float] = cross_validate(\n",
    "        forecaster, splitter=splitter, y=df_y, Xs=[extra_pop], loss=mape.function\n",
    "    )\n",
    "    return np.mean(scores)\n",
    "\n",
    "\n",
    "study = optuna.create_study(direction=\"minimize\")\n",
    "study.optimize(objective, n_trials=10)\n",
    "\n",
    "study.best_params\n",
    "# Best found lag value with default LGBM params: 17"
   ],
   "metadata": {
    "collapsed": false,
    "pycharm": {
     "name": "#%%\n"
    }
   }
  },
  {
   "cell_type": "code",
   "execution_count": 16,
   "outputs": [],
   "source": [
    "from nepal.graph import Connection, LocalConnection\n",
    "\n",
    "conn: Connection = LocalConnection(\n",
    "    database=\"neo4j\",\n",
    "    password=\"corona\",\n",
    ")\n",
    "\n",
    "assert conn.is_up()"
   ],
   "metadata": {
    "collapsed": false,
    "pycharm": {
     "name": "#%%\n"
    }
   }
  },
  {
   "cell_type": "code",
   "execution_count": null,
   "outputs": [
    {
     "name": "stderr",
     "output_type": "stream",
     "text": [
      "/Users/personal/Documents/Master of Statistics/2/Modern Data Analytics/Project/G0Z39a/src/nepal/graph/gds/embedding.py:73: UserWarning: {code: Neo.ClientError.Procedure.ProcedureCallFailed} {message: Failed to invoke procedure `gds.graph.project`: Caused by: java.lang.IllegalArgumentException: A graph with name 'counties' already exists.}\n",
      "  warnings.warn(str(e))\n",
      "\u001B[32m[I 2022-06-02 21:25:04,381]\u001B[0m A new study created in memory with name: no-name-57e03020-97ec-4bf4-acce-d3d410597f1f\u001B[0m\n"
     ]
    },
    {
     "data": {
      "text/plain": "Train/Test split:   0%|          | 0/12 [00:00<?, ?it/s]",
      "application/vnd.jupyter.widget-view+json": {
       "version_major": 2,
       "version_minor": 0,
       "model_id": "d22b0fb104524e72a6afda0e02a18fab"
      }
     },
     "metadata": {},
     "output_type": "display_data"
    },
    {
     "name": "stderr",
     "output_type": "stream",
     "text": [
      "\u001B[32m[I 2022-06-02 21:35:33,874]\u001B[0m Trial 0 finished with value: 1.214076252986109 and parameters: {'dim': 408, 'weight2': 0.39278214194521766, 'weight3': 0.8137099329508811, 'weight4': 0.3071328418127124, 'normalization': 0.2372850761336367, 'prop_ratio': 0.26756988069025145, 'self_influence': 0.678000929249061}. Best is trial 0 with value: 1.214076252986109.\u001B[0m\n"
     ]
    },
    {
     "data": {
      "text/plain": "Train/Test split:   0%|          | 0/12 [00:00<?, ?it/s]",
      "application/vnd.jupyter.widget-view+json": {
       "version_major": 2,
       "version_minor": 0,
       "model_id": "8005046439d6448ebcd7afbbeb8ec576"
      }
     },
     "metadata": {},
     "output_type": "display_data"
    },
    {
     "name": "stderr",
     "output_type": "stream",
     "text": [
      "\u001B[32m[I 2022-06-02 21:43:19,912]\u001B[0m Trial 1 finished with value: 1.2125646198488904 and parameters: {'dim': 210, 'weight2': 0.4220780500930186, 'weight3': 0.32985761428142546, 'weight4': 0.5968719136353636, 'normalization': 0.45863988740932604, 'prop_ratio': 0.1431323571731158, 'self_influence': 0.10243912001333766}. Best is trial 1 with value: 1.2125646198488904.\u001B[0m\n"
     ]
    },
    {
     "data": {
      "text/plain": "Train/Test split:   0%|          | 0/12 [00:00<?, ?it/s]",
      "application/vnd.jupyter.widget-view+json": {
       "version_major": 2,
       "version_minor": 0,
       "model_id": "bcca452d487d4da48901b4a073709c4c"
      }
     },
     "metadata": {},
     "output_type": "display_data"
    }
   ],
   "source": [
    "import optuna\n",
    "import lightgbm as lgb\n",
    "from sktime.forecasting.base import ForecastingHorizon\n",
    "from sktime.forecasting.model_selection import SlidingWindowSplitter\n",
    "\n",
    "from nepal.ml.forecaster import LGBMForecaster\n",
    "from nepal.ml.splitter import Splitter\n",
    "\n",
    "from nepal.graph.gds import CountyEmbedding\n",
    "\n",
    "\n",
    "embedding = CountyEmbedding()\n",
    "embedding.create_projection(conn)\n",
    "\n",
    "fh = ForecastingHorizon(list(range(1, 15)))\n",
    "cv = SlidingWindowSplitter(fh=fh, window_length=120, step_length=60)\n",
    "splitter: Splitter = Splitter(cv)\n",
    "\n",
    "\n",
    "def objective(trial: optuna.Trial) -> float:\n",
    "    forecaster = LGBMForecaster(\n",
    "        lgb.LGBMRegressor(objective=mape.name), lag=18, transformers=transformers\n",
    "    )\n",
    "\n",
    "    neo4j: pd.DataFrame = embedding.load_dataframe(\n",
    "        connection=conn,\n",
    "        embedding_dimension=trial.suggest_int(\"dim\", 128, 512, log=True),\n",
    "        weight2=trial.suggest_float(\"weight2\", 0.0, 1.0),\n",
    "        weight3=trial.suggest_float(\"weight3\", 0.0, 1.0),\n",
    "        weight4=trial.suggest_float(\"weight4\", 0.0, 1.0),\n",
    "        normalization=trial.suggest_float(\"normalization\", -1.0, 1.0),\n",
    "        property_ratio=trial.suggest_float(\"prop_ratio\", 0.0, 1.0),\n",
    "        self_influence=trial.suggest_float(\"self_influence\", 0.0, 1.0),\n",
    "    )\n",
    "\n",
    "    scores: Sequence[float] = cross_validate(\n",
    "        forecaster,\n",
    "        splitter=splitter,\n",
    "        y=df[[\"new_cases\"]],\n",
    "        Xs=[extra_pop, neo4j],\n",
    "        loss=mape.function,\n",
    "    )\n",
    "    return np.mean(scores)\n",
    "\n",
    "\n",
    "study = optuna.create_study(direction=\"minimize\")\n",
    "study.optimize(objective, n_trials=25)\n",
    "\n",
    "study.best_params\n",
    "# Best found values with default LGBM params and lag=12:\n",
    "# {'dim': 13,\n",
    "#  'weight2': 0.9095431576049532,\n",
    "#  'weight3': 0.3804723961743889,\n",
    "#  'weight4': 0.9975167117131349,\n",
    "#  'normalization': -0.9871365897384008,\n",
    "#  'prop_ratio': 0.12685783148389826,\n",
    "#  'self_influence': 0.44962816623765073}"
   ],
   "metadata": {
    "collapsed": false,
    "pycharm": {
     "name": "#%%\n"
    }
   }
  },
  {
   "cell_type": "code",
   "execution_count": 13,
   "outputs": [
    {
     "data": {
      "text/plain": "Train/Test split:   0%|          | 0/12 [00:00<?, ?it/s]",
      "application/vnd.jupyter.widget-view+json": {
       "version_major": 2,
       "version_minor": 0,
       "model_id": "5c56f593b7f741dfb050376be3ee19fa"
      }
     },
     "metadata": {},
     "output_type": "display_data"
    },
    {
     "name": "stdout",
     "output_type": "stream",
     "text": [
      "1.1615128487786013\n"
     ]
    }
   ],
   "source": [
    "# Evaluate found parameters\n",
    "\n",
    "fh = ForecastingHorizon(list(range(1, 15)))\n",
    "cv = SlidingWindowSplitter(fh=fh, window_length=120, step_length=60)\n",
    "splitter: Splitter = Splitter(cv)\n",
    "\n",
    "# Create regressor with default parameters\n",
    "forecaster = LGBMForecaster(lgb.LGBMRegressor(), lag=12)\n",
    "embedding = CountyEmbedding()\n",
    "\n",
    "X: pd.DataFrame = embedding.load_dataframe(\n",
    "    connection=conn,\n",
    "    embedding_dimension=16,\n",
    "    weight2=0.9,\n",
    "    weight3=0.4,\n",
    "    weight4=1.0,\n",
    "    normalization=-1.0,\n",
    "    property_ratio=0.15,\n",
    "    self_influence=0.45,\n",
    ")\n",
    "\n",
    "scores: Sequence[float] = cross_validate(\n",
    "    forecaster, splitter=splitter, y=df[[\"new_cases\"]], Xs=[X]\n",
    ")\n",
    "\n",
    "print(np.mean(scores))"
   ],
   "metadata": {
    "collapsed": false,
    "pycharm": {
     "name": "#%%\n"
    }
   }
  },
  {
   "cell_type": "code",
   "execution_count": null,
   "outputs": [],
   "source": [],
   "metadata": {
    "collapsed": false,
    "pycharm": {
     "name": "#%%\n"
    }
   }
  }
 ],
 "metadata": {
  "kernelspec": {
   "display_name": "Python 3",
   "language": "python",
   "name": "python3"
  },
  "language_info": {
   "codemirror_mode": {
    "name": "ipython",
    "version": 2
   },
   "file_extension": ".py",
   "mimetype": "text/x-python",
   "name": "python",
   "nbconvert_exporter": "python",
   "pygments_lexer": "ipython2",
   "version": "2.7.6"
  }
 },
 "nbformat": 4,
 "nbformat_minor": 0
}
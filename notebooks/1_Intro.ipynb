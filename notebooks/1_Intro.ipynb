{
 "cells": [
  {
   "cell_type": "markdown",
   "metadata": {},
   "source": [
    "# Introduction\n",
    "In this report, the relationship between Covid-19 infections and death, vaccination, and government measures to contain the virus is explored. The goal is to aid governments in finetuning their policy to suppress the spread of the virus. Given the current number of covid cases, vaccination, and the planned government policies, a model will predict the expected number of cases (and deaths) in the future. Users can explore several scenario's of interest in an app.\n",
    "\n",
    "## raw data overview\n",
    "The data is retrieved from different sources and focuses on the United States' situation.\n",
    "\n",
    "- data_nyt: The New York Times dataset contains, for each day in 2020, 2021, and 2022, and for each county, the number of confirmed Covid-19 cases and the number of deaths due to Covid-19 on that day. The raw data files were obtained from [this GitHub repository](https://github.com/nytimes/covid-19-data) that also includes a full, detailed description of the data.\n",
    "- data_distance: Contains the distance in ???miles??? between two counties. This dataset is included since the virus spreads mainly through human-human interactions. Local hotbeds might spread first to neighboring counties. As such, the number of infections (deaths) at time  in one county will likely influence the number of infections (death) at time  in counties that are closeby. The closer the counties are, the more correlated the number of infections (deaths) are.\n",
    "- data_vax: This dataset from the [Centers for Disease Control and Prevention](https://data.cdc.gov/Vaccinations/COVID-19-Vaccinations-in-the-United-States-County/8xkx-amqh/data) contains, for all counties over time:\n",
    "    - Census data, by age\n",
    "    - Number of distributed and administered vaccinations\n",
    "        - by age group\n",
    "        - by vaccine brand (Moderna, Janssens, Pfizer, and others)\n",
    "        - by type of vaccine (first shot, second shot (if applicable), booster shot, additional booster shot) and by age group\n",
    "- data_gov: The [Oxford government response tracker](https://www.bsg.ox.ac.uk/research/research-projects/covid-19-government-response-tracker) aims to record government responses in a rigorous, consistent way across countries and across time. Government responses are grouped into several categories. Each of these categories are summarized to an index which is a number between 0 and 1; the higher the index, the more government policies are in place for this category. The full details of the datasets can be found in Hale et al. (2021). The following government policy categories can be distinguished:\n",
    "    - Containment and closure policies, eg: closing schools, closing workplaces, restricting public events and gatherings\n",
    "    - Economic policies, eg: Income support for people who loose their job or fiscal measures\n",
    "    - Health system policies, eg: testing policies, public information campaigns,  contact tracing, or vaccination policies\n",
    "    - Vaccination policies eg: vaccine prioritisation, vaccine availability, vaccine requirement\n",
    "    - Miscellaneous policies record policy announcements that do not fit anywhere else\n",
    "    "
   ]
  },
  {
   "cell_type": "markdown",
   "metadata": {},
   "source": [
    "## Previous research\n",
    "As all the data is open to all, many researchers have already explored these datasets. \n",
    "\n",
    "The Oxford covid-19 government response dataset is immensely popular. It has been linked to the mental health impacts of covid-19 (Aknin et al., 2021; Lee et al., 2021), people's mobility (Kim & Kwan, 2021), crime (Nivette et al., 2021), and even music choices (Fink et al., 2021). Dergiades et al. (2022) focused on the first wave of cases and found it is important to act quickly to be able to slow down or reverse the growth rate of deaths. School closures have a significant impact on reducing the growth rate of deaths, which is less powerful compared to the case where a number of policy interventions are combined together. Additionally, Goldstein et al. (2021) found that lockdown effectiveness might slow down or dimishing over time due to non-compliance with mobility restrictions.\n",
    "\n",
    "There are many other original research questions on covid-19. The link between socio-economic status and the impact that government interventions have on different socio-economic groups is investigated in Gozzi et al. (2021). Reinstadler er al. (2021) found that the consumption of recreational drugs declines during the covid-19 lockdown in Innsbruck. Shang er al. (2021) found that bike-sharing greatly decreased during the covid-19 pandemic, using big data to . Even the effects on stock exchange are being studied (Rouatbi et al., 2021).\n",
    "\n",
    "There are also quite some medical papers that look into how covi-19 put a burden on the medical system. Next to the extra load that covid-19 patients put on hospitals, quarantines also had a large impact on cancer patients (COVIDSurg Collaborative, 2021), tuberculosis patients (McQuaid, 2021), meternity care (Townsend et al. 2021)\n"
   ]
  },
  {
   "cell_type": "code",
   "execution_count": 1,
   "metadata": {},
   "outputs": [],
   "source": [
    "# load packages\n",
    "import plotly.express as px\n",
    "import pandas as pd\n",
    "import plotly.graph_objs as go\n",
    "import numpy as np\n",
    "import censusdata\n",
    "import datetime"
   ]
  },
  {
   "cell_type": "code",
   "execution_count": 2,
   "metadata": {},
   "outputs": [],
   "source": [
    "# load the data\n",
    "from nepal.datasets import NYTimes, Vaccinations, CountyDistance, GovernmentResponse\n",
    "\n",
    "nytimes = NYTimes().load()\n",
    "# vaccinations = Vaccinations().load()\n",
    "response_tracker = GovernmentResponse().load()"
   ]
  },
  {
   "cell_type": "markdown",
   "metadata": {},
   "source": [
    "# Data exploration\n",
    "In this section, each of the dataset are explored and checked for completeness and validity.\n",
    "Please refer to the following notebooks for an overview of each respective dataset:\n",
    "* 2_NYtimes.ipynb\n",
    "* 2_Vaccinations.ipynb\n",
    "* 2_Government_response.ipynb"
   ]
  },
  {
   "cell_type": "markdown",
   "metadata": {},
   "source": [
    "# Methods and results\n",
    "A description of the methods and the results can be found in the jupyter notebook **NOTEBOOKNAME**."
   ]
  },
  {
   "cell_type": "markdown",
   "metadata": {},
   "source": [
    "# Conclusion\n"
   ]
  },
  {
   "cell_type": "markdown",
   "metadata": {},
   "source": [
    "# References\n",
    "Aknin, Lara B., et al. \"Mental health during the first year of the COVID-19 pandemic: A review and recommendations for moving forward.\" *Perspectives on Psychological Science* (2021): 17456916211029964.\n",
    "\n",
    "COVIDSurg Collaborative. (2021). Effect of COVID-19 pandemic lockdowns on planned cancer surgery for 15 tumour types in 61 countries: an international, prospective, cohort study. *The lancet oncology*, **22**(11), 1507-1517.\n",
    "\n",
    "Dergiades, T., Milas, C., Mossialos, E., & Panagiotidis, T. (2022). Effectiveness of government policies in response to the first COVID-19 outbreak. *PLOS Global Public Health*,**2**(4), e0000242.\n",
    "\n",
    "Fink, L. K., Warrenburg, L. A., Howlin, C., Randall, W. M., Hansen, N. C., & Wald-Fuhrmann, M. (2021). Viral tunes: changes in musical behaviours and interest in coronamusic predict socio-emotional coping during COVID-19 lockdown. *Humanities and Social Sciences Communications*, **8**(1), 1-11.\n",
    "\n",
    "Goldstein, P., Levy Yeyati, E., & Sartorio, L. (2021). Lockdown fatigue: The diminishing effects of quarantines on the spread of COVID-19. *CID Working Paper Series*.\n",
    "\n",
    "Gozzi, N., Tizzoni, M., Chinazzi, M., Ferres, L., Vespignani, A., & Perra, N. (2021). Estimating the effect of social inequalities on the mitigation of COVID-19 across communities in Santiago de Chile. *Nature communications*, **12**(1), 1-9.\n",
    "\n",
    "Hale, T., Angrist, N., Goldszmidt, R. et al. A global panel database of pandemic policies (Oxford COVID-19 Government Response Tracker). *Nat Hum Behav* **5**, 529–538 (2021). https://doi.org/10.1038/s41562-021-01079-8\n",
    "\n",
    "Kim, J., & Kwan, M. P. (2021). The impact of the COVID-19 pandemic on people's mobility: A longitudinal study of the US from March to September of 2020. *Journal of transport geography*, **93**, 103039.\n",
    "\n",
    "Lee, Yena, et al. \"Government response moderates the mental health impact of COVID-19: a systematic review and meta-analysis of depression outcomes across countries.\" *Journal of affective disorders* **290** (2021): 364-377.\n",
    "\n",
    "McQuaid, C. F., Vassall, A., Cohen, T., Fiekert, K., & White, R. G. (2021). The impact of COVID-19 on TB: a review of the data. *The International Journal of Tuberculosis and Lung Disease*, **25**(6), 436-446.\n",
    "\n",
    "Nivette, A. E., Zahnow, R., Aguilar, R., Ahven, A., Amram, S., Ariel, B., ... & Eisner, M. P. (2021). A global analysis of the impact of COVID-19 stay-at-home restrictions on crime. *Nature Human Behaviour*, **5**(7), 868-877.\n",
    "\n",
    "Reinstadler, V., Ausweger, V., Grabher, A. L., Kreidl, M., Huber, S., Grander, J., ... & Oberacher, H. (2021). Monitoring drug consumption in Innsbruck during coronavirus disease 2019 (COVID-19) lockdown by wastewater analysis. *Science of the Total Environment*, **757**, 144006.\n",
    "\n",
    "Rouatbi, W., Demir, E., Kizys, R., & Zaremba, A. (2021). Immunizing markets against the pandemic: COVID-19 vaccinations and stock volatility around the world. *International review of financial analysis*, **77**, 101819.\n",
    "\n",
    "Shang, W. L., Chen, J., Bi, H., Sui, Y., Chen, Y., & Yu, H. (2021). Impacts of COVID-19 pandemic on user behaviors and environmental benefits of bike sharing: A big-data analysis. *Applied Energy*, **285**, 116429.\n",
    "\n",
    "Townsend, R., Chmielewska, B., Barratt, I., Kalafat, E., van der Meulen, J., Gurol-Urganci, I., ... & Khalil, A. (2021). Global changes in maternity care provision during the COVID-19 pandemic: A systematic review and meta-analysis. *EClinicalMedicine*, **37**, 100947."
   ]
  }
 ],
 "metadata": {
  "interpreter": {
   "hash": "6af0d6b00811a70392c671009b551fae89b11426b33403fc6f01e09aa1b80d7f"
  },
  "kernelspec": {
   "display_name": "Python 3.10.4 ('nepal')",
   "language": "python",
   "name": "python3"
  },
  "language_info": {
   "codemirror_mode": {
    "name": "ipython",
    "version": 3
   },
   "file_extension": ".py",
   "mimetype": "text/x-python",
   "name": "python",
   "nbconvert_exporter": "python",
   "pygments_lexer": "ipython3",
   "version": "3.10.4"
  },
  "orig_nbformat": 4
 },
 "nbformat": 4,
 "nbformat_minor": 2
}

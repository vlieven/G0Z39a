{
 "cells": [
  {
   "cell_type": "code",
   "execution_count": 10,
   "metadata": {
    "collapsed": true
   },
   "outputs": [],
   "source": [
    "from abc import ABC, abstractmethod\n",
    "from typing import Iterable, Mapping, Sequence\n",
    "\n",
    "import pandas as pd\n",
    "\n",
    "from nepal.datasets import Dataset, NYTimes, PopulationDensity, GovernmentResponse, Vaccinations"
   ]
  },
  {
   "cell_type": "code",
   "execution_count": 2,
   "outputs": [],
   "source": [
    "df = GovernmentResponse().load()"
   ],
   "metadata": {
    "collapsed": false,
    "pycharm": {
     "name": "#%%\n"
    }
   }
  },
  {
   "cell_type": "code",
   "execution_count": 8,
   "outputs": [
    {
     "data": {
      "text/plain": "          CountryName CountryCode RegionName RegionCode Jurisdiction  \\\n243474  United States         USA     Alaska      US_AK  STATE_TOTAL   \n243475  United States         USA     Alaska      US_AK  STATE_TOTAL   \n243476  United States         USA     Alaska      US_AK  STATE_TOTAL   \n243477  United States         USA     Alaska      US_AK  STATE_TOTAL   \n243478  United States         USA     Alaska      US_AK  STATE_TOTAL   \n...               ...         ...        ...        ...          ...   \n288043  United States         USA    Wyoming      US_WY  STATE_TOTAL   \n288044  United States         USA    Wyoming      US_WY  STATE_TOTAL   \n288045  United States         USA    Wyoming      US_WY  STATE_TOTAL   \n288046  United States         USA    Wyoming      US_WY  STATE_TOTAL   \n288047  United States         USA    Wyoming      US_WY  STATE_TOTAL   \n\n             Date  C1_combined_numeric C1_combined  C2_combined_numeric  \\\n243474 2020-01-01                  0.0           0                  0.0   \n243475 2020-01-02                  0.0           0                  0.0   \n243476 2020-01-03                  0.0           0                  0.0   \n243477 2020-01-04                  0.0           0                  0.0   \n243478 2020-01-05                  0.0           0                  0.0   \n...           ...                  ...         ...                  ...   \n288043 2022-05-19                  NaN        <NA>                  NaN   \n288044 2022-05-20                  NaN        <NA>                  NaN   \n288045 2022-05-21                  NaN        <NA>                  NaN   \n288046 2022-05-22                  NaN        <NA>                  NaN   \n288047 2022-05-23                  NaN        <NA>                  NaN   \n\n       C2_combined  ...  StringencyIndex StringencyIndexForDisplay  \\\n243474           0  ...              0.0                       0.0   \n243475           0  ...              0.0                       0.0   \n243476           0  ...              0.0                       0.0   \n243477           0  ...              0.0                       0.0   \n243478           0  ...              0.0                       0.0   \n...            ...  ...              ...                       ...   \n288043        <NA>  ...              NaN                       NaN   \n288044        <NA>  ...              NaN                       NaN   \n288045        <NA>  ...              NaN                       NaN   \n288046        <NA>  ...              NaN                       NaN   \n288047        <NA>  ...              NaN                       NaN   \n\n        StringencyLegacyIndex StringencyLegacyIndexForDisplay  \\\n243474                    0.0                             0.0   \n243475                    0.0                             0.0   \n243476                    0.0                             0.0   \n243477                    0.0                             0.0   \n243478                    0.0                             0.0   \n...                       ...                             ...   \n288043                    NaN                             NaN   \n288044                    NaN                             NaN   \n288045                    NaN                             NaN   \n288046                    NaN                             NaN   \n288047                    NaN                             NaN   \n\n        GovernmentResponseIndex GovernmentResponseIndexForDisplay  \\\n243474                      0.0                               0.0   \n243475                      0.0                               0.0   \n243476                      0.0                               0.0   \n243477                      0.0                               0.0   \n243478                      0.0                               0.0   \n...                         ...                               ...   \n288043                      NaN                               NaN   \n288044                      NaN                               NaN   \n288045                      NaN                               NaN   \n288046                      NaN                               NaN   \n288047                      NaN                               NaN   \n\n        ContainmentHealthIndex ContainmentHealthIndexForDisplay  \\\n243474                     0.0                              0.0   \n243475                     0.0                              0.0   \n243476                     0.0                              0.0   \n243477                     0.0                              0.0   \n243478                     0.0                              0.0   \n...                        ...                              ...   \n288043                     NaN                              NaN   \n288044                     NaN                              NaN   \n288045                     NaN                              NaN   \n288046                     NaN                              NaN   \n288047                     NaN                              NaN   \n\n        EconomicSupportIndex EconomicSupportIndexForDisplay  \n243474                   0.0                            0.0  \n243475                   0.0                            0.0  \n243476                   0.0                            0.0  \n243477                   0.0                            0.0  \n243478                   0.0                            0.0  \n...                      ...                            ...  \n288043                   NaN                            NaN  \n288044                   NaN                            NaN  \n288045                   NaN                            NaN  \n288046                   NaN                            NaN  \n288047                   NaN                            NaN  \n\n[44574 rows x 58 columns]",
      "text/html": "<div>\n<style scoped>\n    .dataframe tbody tr th:only-of-type {\n        vertical-align: middle;\n    }\n\n    .dataframe tbody tr th {\n        vertical-align: top;\n    }\n\n    .dataframe thead th {\n        text-align: right;\n    }\n</style>\n<table border=\"1\" class=\"dataframe\">\n  <thead>\n    <tr style=\"text-align: right;\">\n      <th></th>\n      <th>CountryName</th>\n      <th>CountryCode</th>\n      <th>RegionName</th>\n      <th>RegionCode</th>\n      <th>Jurisdiction</th>\n      <th>Date</th>\n      <th>C1_combined_numeric</th>\n      <th>C1_combined</th>\n      <th>C2_combined_numeric</th>\n      <th>C2_combined</th>\n      <th>...</th>\n      <th>StringencyIndex</th>\n      <th>StringencyIndexForDisplay</th>\n      <th>StringencyLegacyIndex</th>\n      <th>StringencyLegacyIndexForDisplay</th>\n      <th>GovernmentResponseIndex</th>\n      <th>GovernmentResponseIndexForDisplay</th>\n      <th>ContainmentHealthIndex</th>\n      <th>ContainmentHealthIndexForDisplay</th>\n      <th>EconomicSupportIndex</th>\n      <th>EconomicSupportIndexForDisplay</th>\n    </tr>\n  </thead>\n  <tbody>\n    <tr>\n      <th>243474</th>\n      <td>United States</td>\n      <td>USA</td>\n      <td>Alaska</td>\n      <td>US_AK</td>\n      <td>STATE_TOTAL</td>\n      <td>2020-01-01</td>\n      <td>0.0</td>\n      <td>0</td>\n      <td>0.0</td>\n      <td>0</td>\n      <td>...</td>\n      <td>0.0</td>\n      <td>0.0</td>\n      <td>0.0</td>\n      <td>0.0</td>\n      <td>0.0</td>\n      <td>0.0</td>\n      <td>0.0</td>\n      <td>0.0</td>\n      <td>0.0</td>\n      <td>0.0</td>\n    </tr>\n    <tr>\n      <th>243475</th>\n      <td>United States</td>\n      <td>USA</td>\n      <td>Alaska</td>\n      <td>US_AK</td>\n      <td>STATE_TOTAL</td>\n      <td>2020-01-02</td>\n      <td>0.0</td>\n      <td>0</td>\n      <td>0.0</td>\n      <td>0</td>\n      <td>...</td>\n      <td>0.0</td>\n      <td>0.0</td>\n      <td>0.0</td>\n      <td>0.0</td>\n      <td>0.0</td>\n      <td>0.0</td>\n      <td>0.0</td>\n      <td>0.0</td>\n      <td>0.0</td>\n      <td>0.0</td>\n    </tr>\n    <tr>\n      <th>243476</th>\n      <td>United States</td>\n      <td>USA</td>\n      <td>Alaska</td>\n      <td>US_AK</td>\n      <td>STATE_TOTAL</td>\n      <td>2020-01-03</td>\n      <td>0.0</td>\n      <td>0</td>\n      <td>0.0</td>\n      <td>0</td>\n      <td>...</td>\n      <td>0.0</td>\n      <td>0.0</td>\n      <td>0.0</td>\n      <td>0.0</td>\n      <td>0.0</td>\n      <td>0.0</td>\n      <td>0.0</td>\n      <td>0.0</td>\n      <td>0.0</td>\n      <td>0.0</td>\n    </tr>\n    <tr>\n      <th>243477</th>\n      <td>United States</td>\n      <td>USA</td>\n      <td>Alaska</td>\n      <td>US_AK</td>\n      <td>STATE_TOTAL</td>\n      <td>2020-01-04</td>\n      <td>0.0</td>\n      <td>0</td>\n      <td>0.0</td>\n      <td>0</td>\n      <td>...</td>\n      <td>0.0</td>\n      <td>0.0</td>\n      <td>0.0</td>\n      <td>0.0</td>\n      <td>0.0</td>\n      <td>0.0</td>\n      <td>0.0</td>\n      <td>0.0</td>\n      <td>0.0</td>\n      <td>0.0</td>\n    </tr>\n    <tr>\n      <th>243478</th>\n      <td>United States</td>\n      <td>USA</td>\n      <td>Alaska</td>\n      <td>US_AK</td>\n      <td>STATE_TOTAL</td>\n      <td>2020-01-05</td>\n      <td>0.0</td>\n      <td>0</td>\n      <td>0.0</td>\n      <td>0</td>\n      <td>...</td>\n      <td>0.0</td>\n      <td>0.0</td>\n      <td>0.0</td>\n      <td>0.0</td>\n      <td>0.0</td>\n      <td>0.0</td>\n      <td>0.0</td>\n      <td>0.0</td>\n      <td>0.0</td>\n      <td>0.0</td>\n    </tr>\n    <tr>\n      <th>...</th>\n      <td>...</td>\n      <td>...</td>\n      <td>...</td>\n      <td>...</td>\n      <td>...</td>\n      <td>...</td>\n      <td>...</td>\n      <td>...</td>\n      <td>...</td>\n      <td>...</td>\n      <td>...</td>\n      <td>...</td>\n      <td>...</td>\n      <td>...</td>\n      <td>...</td>\n      <td>...</td>\n      <td>...</td>\n      <td>...</td>\n      <td>...</td>\n      <td>...</td>\n      <td>...</td>\n    </tr>\n    <tr>\n      <th>288043</th>\n      <td>United States</td>\n      <td>USA</td>\n      <td>Wyoming</td>\n      <td>US_WY</td>\n      <td>STATE_TOTAL</td>\n      <td>2022-05-19</td>\n      <td>NaN</td>\n      <td>&lt;NA&gt;</td>\n      <td>NaN</td>\n      <td>&lt;NA&gt;</td>\n      <td>...</td>\n      <td>NaN</td>\n      <td>NaN</td>\n      <td>NaN</td>\n      <td>NaN</td>\n      <td>NaN</td>\n      <td>NaN</td>\n      <td>NaN</td>\n      <td>NaN</td>\n      <td>NaN</td>\n      <td>NaN</td>\n    </tr>\n    <tr>\n      <th>288044</th>\n      <td>United States</td>\n      <td>USA</td>\n      <td>Wyoming</td>\n      <td>US_WY</td>\n      <td>STATE_TOTAL</td>\n      <td>2022-05-20</td>\n      <td>NaN</td>\n      <td>&lt;NA&gt;</td>\n      <td>NaN</td>\n      <td>&lt;NA&gt;</td>\n      <td>...</td>\n      <td>NaN</td>\n      <td>NaN</td>\n      <td>NaN</td>\n      <td>NaN</td>\n      <td>NaN</td>\n      <td>NaN</td>\n      <td>NaN</td>\n      <td>NaN</td>\n      <td>NaN</td>\n      <td>NaN</td>\n    </tr>\n    <tr>\n      <th>288045</th>\n      <td>United States</td>\n      <td>USA</td>\n      <td>Wyoming</td>\n      <td>US_WY</td>\n      <td>STATE_TOTAL</td>\n      <td>2022-05-21</td>\n      <td>NaN</td>\n      <td>&lt;NA&gt;</td>\n      <td>NaN</td>\n      <td>&lt;NA&gt;</td>\n      <td>...</td>\n      <td>NaN</td>\n      <td>NaN</td>\n      <td>NaN</td>\n      <td>NaN</td>\n      <td>NaN</td>\n      <td>NaN</td>\n      <td>NaN</td>\n      <td>NaN</td>\n      <td>NaN</td>\n      <td>NaN</td>\n    </tr>\n    <tr>\n      <th>288046</th>\n      <td>United States</td>\n      <td>USA</td>\n      <td>Wyoming</td>\n      <td>US_WY</td>\n      <td>STATE_TOTAL</td>\n      <td>2022-05-22</td>\n      <td>NaN</td>\n      <td>&lt;NA&gt;</td>\n      <td>NaN</td>\n      <td>&lt;NA&gt;</td>\n      <td>...</td>\n      <td>NaN</td>\n      <td>NaN</td>\n      <td>NaN</td>\n      <td>NaN</td>\n      <td>NaN</td>\n      <td>NaN</td>\n      <td>NaN</td>\n      <td>NaN</td>\n      <td>NaN</td>\n      <td>NaN</td>\n    </tr>\n    <tr>\n      <th>288047</th>\n      <td>United States</td>\n      <td>USA</td>\n      <td>Wyoming</td>\n      <td>US_WY</td>\n      <td>STATE_TOTAL</td>\n      <td>2022-05-23</td>\n      <td>NaN</td>\n      <td>&lt;NA&gt;</td>\n      <td>NaN</td>\n      <td>&lt;NA&gt;</td>\n      <td>...</td>\n      <td>NaN</td>\n      <td>NaN</td>\n      <td>NaN</td>\n      <td>NaN</td>\n      <td>NaN</td>\n      <td>NaN</td>\n      <td>NaN</td>\n      <td>NaN</td>\n      <td>NaN</td>\n      <td>NaN</td>\n    </tr>\n  </tbody>\n</table>\n<p>44574 rows × 58 columns</p>\n</div>"
     },
     "execution_count": 8,
     "metadata": {},
     "output_type": "execute_result"
    }
   ],
   "source": [
    "df_usa = df[(df[\"CountryCode\"] == \"USA\") & (df[\"RegionCode\"].notna())]"
   ],
   "metadata": {
    "collapsed": false,
    "pycharm": {
     "name": "#%%\n"
    }
   }
  },
  {
   "cell_type": "code",
   "execution_count": 35,
   "outputs": [],
   "source": [
    "df_left = df_usa[\n",
    "    [\n",
    "        \"RegionCode\",\n",
    "        \"Date\",\n",
    "        \"StringencyIndex\",\n",
    "        \"GovernmentResponseIndex\",\n",
    "        \"ContainmentHealthIndex\",\n",
    "        \"EconomicSupportIndex\",\n",
    "    ]\n",
    "].set_index([\"RegionCode\", \"Date\"])"
   ],
   "metadata": {
    "collapsed": false,
    "pycharm": {
     "name": "#%%\n"
    }
   }
  },
  {
   "cell_type": "code",
   "execution_count": 21,
   "outputs": [
    {
     "data": {
      "text/plain": "{'AK',\n 'AL',\n 'AR',\n 'AZ',\n 'CA',\n 'CO',\n 'CT',\n 'DC',\n 'DE',\n 'FL',\n 'GA',\n 'GU',\n 'HI',\n 'IA',\n 'ID',\n 'IL',\n 'IN',\n 'KS',\n 'KY',\n 'LA',\n 'MA',\n 'MD',\n 'ME',\n 'MI',\n 'MN',\n 'MO',\n 'MS',\n 'MT',\n 'NC',\n 'ND',\n 'NE',\n 'NH',\n 'NJ',\n 'NM',\n 'NV',\n 'NY',\n 'OH',\n 'OK',\n 'OR',\n 'PA',\n 'PR',\n 'RI',\n 'SC',\n 'SD',\n 'TN',\n 'TX',\n 'UT',\n 'VA',\n 'VI',\n 'VT',\n 'WA',\n 'WI',\n 'WV',\n 'WY'}"
     },
     "execution_count": 21,
     "metadata": {},
     "output_type": "execute_result"
    }
   ],
   "source": [
    "df = Vaccinations().load()\n",
    "df = df[df[\"FIPS\"] != \"UNK\"]"
   ],
   "metadata": {
    "collapsed": false,
    "pycharm": {
     "name": "#%%\n"
    }
   }
  },
  {
   "cell_type": "code",
   "execution_count": 39,
   "outputs": [],
   "source": [
    "import numpy as np\n",
    "\n",
    "\n",
    "def _add_derived_columns(data: pd.DataFrame) -> pd.DataFrame:\n",
    "    data[\"RegionCode\"] = (\"US_\" + data[\"Recip_State\"]).astype(\"string\")\n",
    "    data[\"Under5_Pop_Pct\"] = (data[\"Census2019\"] - data[\"Census2019_5PlusPop\"]) / data[\n",
    "        \"Census2019\"\n",
    "    ]\n",
    "    data[\"Between5to17_Pop_Pct\"] = data[\"Census2019_5to17Pop\"] / data[\"Census2019\"]\n",
    "    data[\"Between18to65_Pop_Pct\"] = (\n",
    "        data[\"Census2019_18PlusPop\"] - data[\"Census2019_65PlusPop\"]\n",
    "    ) / data[\"Census2019\"]\n",
    "    data[\"Plus65_Pop_Pct\"] = data[\"Census2019_65PlusPop\"] / data[\"Census2019\"]\n",
    "    data[\"Is_Metro\"] = np.where(data[\"Metro_status\"] == \"Metro\", 1, 0)\n",
    "    data[\"SVI_A\"] = np.where(data[\"SVI_CTGY\"] == \"A\", 1, 0)\n",
    "    data[\"SVI_B\"] = np.where(data[\"SVI_CTGY\"] == \"B\", 1, 0)\n",
    "    data[\"SVI_C\"] = np.where(data[\"SVI_CTGY\"] == \"C\", 1, 0)\n",
    "    data[\"SVI_D\"] = np.where(data[\"SVI_CTGY\"] == \"D\", 1, 0)\n",
    "    return data"
   ],
   "metadata": {
    "collapsed": false,
    "pycharm": {
     "name": "#%%\n"
    }
   }
  },
  {
   "cell_type": "code",
   "execution_count": 42,
   "outputs": [],
   "source": [
    "df_ex = _add_derived_columns(df)\n",
    "\n",
    "df_right = (\n",
    "    df_ex[\n",
    "        [\n",
    "            \"Date\",\n",
    "            \"RegionCode\",\n",
    "            \"FIPS\",\n",
    "            \"Completeness_pct\",\n",
    "            \"Administered_Dose1_Pop_Pct\",\n",
    "            \"Administered_Dose1_Recip_18PlusPop_Pct\",\n",
    "            \"Administered_Dose1_Recip_65PlusPop_Pct\",\n",
    "            \"Series_Complete_Pop_Pct\",\n",
    "            \"Series_Complete_18PlusPop_Pct\",\n",
    "            \"Series_Complete_65PlusPop_Pct\",\n",
    "            \"Booster_Doses_Vax_Pct\",\n",
    "            \"Booster_Doses_18Plus_Vax_Pct\",\n",
    "            \"Booster_Doses_50Plus_Vax_Pct\",\n",
    "            \"Booster_Doses_65Plus_Vax_Pct\",\n",
    "            \"Under5_Pop_Pct\",\n",
    "            \"Between5to17_Pop_Pct\",\n",
    "            \"Between18to65_Pop_Pct\",\n",
    "            \"Plus65_Pop_Pct\",\n",
    "            \"Is_Metro\",\n",
    "            \"SVI_A\",\n",
    "            \"SVI_B\",\n",
    "            \"SVI_C\",\n",
    "            \"SVI_D\",\n",
    "        ]\n",
    "    ]\n",
    "    .set_index([\"RegionCode\", \"Date\"])\n",
    "    .sort_index()\n",
    ")"
   ],
   "metadata": {
    "collapsed": false,
    "pycharm": {
     "name": "#%%\n"
    }
   }
  },
  {
   "cell_type": "code",
   "execution_count": 43,
   "outputs": [
    {
     "data": {
      "text/plain": "                        FIPS  Completeness_pct  Administered_Dose1_Pop_Pct  \\\nRegionCode Date                                                              \nUS_AK      2020-12-13  02130               0.0                         0.0   \n           2020-12-13  02122               0.0                         0.0   \n           2020-12-13  02090               0.0                         0.0   \n           2020-12-13  02100               0.0                         0.0   \n           2020-12-13  02170               0.0                         0.0   \n...                      ...               ...                         ...   \nUS_WY      2022-05-21  56027         97.099998                   34.099998   \n           2022-05-21  56021         97.099998                   64.699997   \n           2022-05-21  56017         97.099998                   52.299999   \n           2022-05-21  56037         97.099998                   59.200001   \n           2022-05-21  56011         97.099998                        36.0   \n\n                       Administered_Dose1_Recip_18PlusPop_Pct  \\\nRegionCode Date                                                 \nUS_AK      2020-12-13                                     0.0   \n           2020-12-13                                     0.0   \n           2020-12-13                                     0.0   \n           2020-12-13                                     0.0   \n           2020-12-13                                     0.0   \n...                                                       ...   \nUS_WY      2022-05-21                               40.400002   \n           2022-05-21                               76.800003   \n           2022-05-21                               62.400002   \n           2022-05-21                                    73.0   \n           2022-05-21                                    45.5   \n\n                       Administered_Dose1_Recip_65PlusPop_Pct  \\\nRegionCode Date                                                 \nUS_AK      2020-12-13                                     0.0   \n           2020-12-13                                     0.0   \n           2020-12-13                                     0.0   \n           2020-12-13                                     0.0   \n           2020-12-13                                     0.0   \n...                                                       ...   \nUS_WY      2022-05-21                               67.099998   \n           2022-05-21                                    95.0   \n           2022-05-21                                    85.0   \n           2022-05-21                                    95.0   \n           2022-05-21                               73.699997   \n\n                       Series_Complete_Pop_Pct  Series_Complete_18PlusPop_Pct  \\\nRegionCode Date                                                                 \nUS_AK      2020-12-13                      0.0                            0.0   \n           2020-12-13                      0.0                            0.0   \n           2020-12-13                      0.0                            0.0   \n           2020-12-13                      0.0                            0.0   \n           2020-12-13                      0.0                            0.0   \n...                                        ...                            ...   \nUS_WY      2022-05-21                     31.5                           37.5   \n           2022-05-21                56.799999                      67.400002   \n           2022-05-21                49.799999                      59.400002   \n           2022-05-21                50.299999                      62.099998   \n           2022-05-21                     31.0                           39.5   \n\n                       Series_Complete_65PlusPop_Pct  Booster_Doses_Vax_Pct  \\\nRegionCode Date                                                               \nUS_AK      2020-12-13                            0.0                   <NA>   \n           2020-12-13                            0.0                   <NA>   \n           2020-12-13                            0.0                   <NA>   \n           2020-12-13                            0.0                   <NA>   \n           2020-12-13                            0.0                   <NA>   \n...                                              ...                    ...   \nUS_WY      2022-05-21                      62.700001              40.799999   \n           2022-05-21                      89.199997              38.200001   \n           2022-05-21                      81.400002              54.599998   \n           2022-05-21                      93.199997              40.599998   \n           2022-05-21                           66.5              41.799999   \n\n                       Booster_Doses_18Plus_Vax_Pct  ...  \\\nRegionCode Date                                      ...   \nUS_AK      2020-12-13                          <NA>  ...   \n           2020-12-13                          <NA>  ...   \n           2020-12-13                          <NA>  ...   \n           2020-12-13                          <NA>  ...   \n           2020-12-13                          <NA>  ...   \n...                                             ...  ...   \nUS_WY      2022-05-21                     41.299999  ...   \n           2022-05-21                     40.599998  ...   \n           2022-05-21                     56.900002  ...   \n           2022-05-21                     43.400002  ...   \n           2022-05-21                          43.5  ...   \n\n                       Booster_Doses_65Plus_Vax_Pct  Under5_Pop_Pct  \\\nRegionCode Date                                                       \nUS_AK      2020-12-13                          <NA>            <NA>   \n           2020-12-13                          <NA>            <NA>   \n           2020-12-13                          <NA>            <NA>   \n           2020-12-13                          <NA>            <NA>   \n           2020-12-13                          <NA>            <NA>   \n...                                             ...             ...   \nUS_WY      2022-05-21                     57.700001        0.060696   \n           2022-05-21                     63.599998        0.062744   \n           2022-05-21                     71.900002        0.048946   \n           2022-05-21                     68.099998        0.066056   \n           2022-05-21                     59.299999        0.072653   \n\n                       Between5to17_Pop_Pct  Between18to65_Pop_Pct  \\\nRegionCode Date                                                      \nUS_AK      2020-12-13                  <NA>                   <NA>   \n           2020-12-13                  <NA>                   <NA>   \n           2020-12-13                  <NA>                   <NA>   \n           2020-12-13                  <NA>                   <NA>   \n           2020-12-13                  <NA>                   <NA>   \n...                                     ...                    ...   \nUS_WY      2022-05-21              0.114601               0.591256   \n           2022-05-21              0.167668               0.604864   \n           2022-05-21              0.156583               0.517788   \n           2022-05-21              0.192972               0.611341   \n           2022-05-21              0.174314               0.541799   \n\n                       Plus65_Pop_Pct  Is_Metro  SVI_A  SVI_B  SVI_C  SVI_D  \nRegionCode Date                                                              \nUS_AK      2020-12-13            <NA>         0      0      0      1      0  \n           2020-12-13            <NA>         0      0      1      0      0  \n           2020-12-13            <NA>         1      0      1      0      0  \n           2020-12-13            <NA>         0      1      0      0      0  \n           2020-12-13            <NA>         1      0      1      0      0  \n...                               ...       ...    ...    ...    ...    ...  \nUS_WY      2022-05-21        0.233447         0      0      1      0      0  \n           2022-05-21        0.164724         1      0      1      0      0  \n           2022-05-21        0.276683         0      1      0      0      0  \n           2022-05-21        0.129632         0      0      1      0      0  \n           2022-05-21        0.211234         0      1      0      0      0  \n\n[1692600 rows x 21 columns]",
      "text/html": "<div>\n<style scoped>\n    .dataframe tbody tr th:only-of-type {\n        vertical-align: middle;\n    }\n\n    .dataframe tbody tr th {\n        vertical-align: top;\n    }\n\n    .dataframe thead th {\n        text-align: right;\n    }\n</style>\n<table border=\"1\" class=\"dataframe\">\n  <thead>\n    <tr style=\"text-align: right;\">\n      <th></th>\n      <th></th>\n      <th>FIPS</th>\n      <th>Completeness_pct</th>\n      <th>Administered_Dose1_Pop_Pct</th>\n      <th>Administered_Dose1_Recip_18PlusPop_Pct</th>\n      <th>Administered_Dose1_Recip_65PlusPop_Pct</th>\n      <th>Series_Complete_Pop_Pct</th>\n      <th>Series_Complete_18PlusPop_Pct</th>\n      <th>Series_Complete_65PlusPop_Pct</th>\n      <th>Booster_Doses_Vax_Pct</th>\n      <th>Booster_Doses_18Plus_Vax_Pct</th>\n      <th>...</th>\n      <th>Booster_Doses_65Plus_Vax_Pct</th>\n      <th>Under5_Pop_Pct</th>\n      <th>Between5to17_Pop_Pct</th>\n      <th>Between18to65_Pop_Pct</th>\n      <th>Plus65_Pop_Pct</th>\n      <th>Is_Metro</th>\n      <th>SVI_A</th>\n      <th>SVI_B</th>\n      <th>SVI_C</th>\n      <th>SVI_D</th>\n    </tr>\n    <tr>\n      <th>RegionCode</th>\n      <th>Date</th>\n      <th></th>\n      <th></th>\n      <th></th>\n      <th></th>\n      <th></th>\n      <th></th>\n      <th></th>\n      <th></th>\n      <th></th>\n      <th></th>\n      <th></th>\n      <th></th>\n      <th></th>\n      <th></th>\n      <th></th>\n      <th></th>\n      <th></th>\n      <th></th>\n      <th></th>\n      <th></th>\n      <th></th>\n    </tr>\n  </thead>\n  <tbody>\n    <tr>\n      <th rowspan=\"5\" valign=\"top\">US_AK</th>\n      <th>2020-12-13</th>\n      <td>02130</td>\n      <td>0.0</td>\n      <td>0.0</td>\n      <td>0.0</td>\n      <td>0.0</td>\n      <td>0.0</td>\n      <td>0.0</td>\n      <td>0.0</td>\n      <td>&lt;NA&gt;</td>\n      <td>&lt;NA&gt;</td>\n      <td>...</td>\n      <td>&lt;NA&gt;</td>\n      <td>&lt;NA&gt;</td>\n      <td>&lt;NA&gt;</td>\n      <td>&lt;NA&gt;</td>\n      <td>&lt;NA&gt;</td>\n      <td>0</td>\n      <td>0</td>\n      <td>0</td>\n      <td>1</td>\n      <td>0</td>\n    </tr>\n    <tr>\n      <th>2020-12-13</th>\n      <td>02122</td>\n      <td>0.0</td>\n      <td>0.0</td>\n      <td>0.0</td>\n      <td>0.0</td>\n      <td>0.0</td>\n      <td>0.0</td>\n      <td>0.0</td>\n      <td>&lt;NA&gt;</td>\n      <td>&lt;NA&gt;</td>\n      <td>...</td>\n      <td>&lt;NA&gt;</td>\n      <td>&lt;NA&gt;</td>\n      <td>&lt;NA&gt;</td>\n      <td>&lt;NA&gt;</td>\n      <td>&lt;NA&gt;</td>\n      <td>0</td>\n      <td>0</td>\n      <td>1</td>\n      <td>0</td>\n      <td>0</td>\n    </tr>\n    <tr>\n      <th>2020-12-13</th>\n      <td>02090</td>\n      <td>0.0</td>\n      <td>0.0</td>\n      <td>0.0</td>\n      <td>0.0</td>\n      <td>0.0</td>\n      <td>0.0</td>\n      <td>0.0</td>\n      <td>&lt;NA&gt;</td>\n      <td>&lt;NA&gt;</td>\n      <td>...</td>\n      <td>&lt;NA&gt;</td>\n      <td>&lt;NA&gt;</td>\n      <td>&lt;NA&gt;</td>\n      <td>&lt;NA&gt;</td>\n      <td>&lt;NA&gt;</td>\n      <td>1</td>\n      <td>0</td>\n      <td>1</td>\n      <td>0</td>\n      <td>0</td>\n    </tr>\n    <tr>\n      <th>2020-12-13</th>\n      <td>02100</td>\n      <td>0.0</td>\n      <td>0.0</td>\n      <td>0.0</td>\n      <td>0.0</td>\n      <td>0.0</td>\n      <td>0.0</td>\n      <td>0.0</td>\n      <td>&lt;NA&gt;</td>\n      <td>&lt;NA&gt;</td>\n      <td>...</td>\n      <td>&lt;NA&gt;</td>\n      <td>&lt;NA&gt;</td>\n      <td>&lt;NA&gt;</td>\n      <td>&lt;NA&gt;</td>\n      <td>&lt;NA&gt;</td>\n      <td>0</td>\n      <td>1</td>\n      <td>0</td>\n      <td>0</td>\n      <td>0</td>\n    </tr>\n    <tr>\n      <th>2020-12-13</th>\n      <td>02170</td>\n      <td>0.0</td>\n      <td>0.0</td>\n      <td>0.0</td>\n      <td>0.0</td>\n      <td>0.0</td>\n      <td>0.0</td>\n      <td>0.0</td>\n      <td>&lt;NA&gt;</td>\n      <td>&lt;NA&gt;</td>\n      <td>...</td>\n      <td>&lt;NA&gt;</td>\n      <td>&lt;NA&gt;</td>\n      <td>&lt;NA&gt;</td>\n      <td>&lt;NA&gt;</td>\n      <td>&lt;NA&gt;</td>\n      <td>1</td>\n      <td>0</td>\n      <td>1</td>\n      <td>0</td>\n      <td>0</td>\n    </tr>\n    <tr>\n      <th>...</th>\n      <th>...</th>\n      <td>...</td>\n      <td>...</td>\n      <td>...</td>\n      <td>...</td>\n      <td>...</td>\n      <td>...</td>\n      <td>...</td>\n      <td>...</td>\n      <td>...</td>\n      <td>...</td>\n      <td>...</td>\n      <td>...</td>\n      <td>...</td>\n      <td>...</td>\n      <td>...</td>\n      <td>...</td>\n      <td>...</td>\n      <td>...</td>\n      <td>...</td>\n      <td>...</td>\n      <td>...</td>\n    </tr>\n    <tr>\n      <th rowspan=\"5\" valign=\"top\">US_WY</th>\n      <th>2022-05-21</th>\n      <td>56027</td>\n      <td>97.099998</td>\n      <td>34.099998</td>\n      <td>40.400002</td>\n      <td>67.099998</td>\n      <td>31.5</td>\n      <td>37.5</td>\n      <td>62.700001</td>\n      <td>40.799999</td>\n      <td>41.299999</td>\n      <td>...</td>\n      <td>57.700001</td>\n      <td>0.060696</td>\n      <td>0.114601</td>\n      <td>0.591256</td>\n      <td>0.233447</td>\n      <td>0</td>\n      <td>0</td>\n      <td>1</td>\n      <td>0</td>\n      <td>0</td>\n    </tr>\n    <tr>\n      <th>2022-05-21</th>\n      <td>56021</td>\n      <td>97.099998</td>\n      <td>64.699997</td>\n      <td>76.800003</td>\n      <td>95.0</td>\n      <td>56.799999</td>\n      <td>67.400002</td>\n      <td>89.199997</td>\n      <td>38.200001</td>\n      <td>40.599998</td>\n      <td>...</td>\n      <td>63.599998</td>\n      <td>0.062744</td>\n      <td>0.167668</td>\n      <td>0.604864</td>\n      <td>0.164724</td>\n      <td>1</td>\n      <td>0</td>\n      <td>1</td>\n      <td>0</td>\n      <td>0</td>\n    </tr>\n    <tr>\n      <th>2022-05-21</th>\n      <td>56017</td>\n      <td>97.099998</td>\n      <td>52.299999</td>\n      <td>62.400002</td>\n      <td>85.0</td>\n      <td>49.799999</td>\n      <td>59.400002</td>\n      <td>81.400002</td>\n      <td>54.599998</td>\n      <td>56.900002</td>\n      <td>...</td>\n      <td>71.900002</td>\n      <td>0.048946</td>\n      <td>0.156583</td>\n      <td>0.517788</td>\n      <td>0.276683</td>\n      <td>0</td>\n      <td>1</td>\n      <td>0</td>\n      <td>0</td>\n      <td>0</td>\n    </tr>\n    <tr>\n      <th>2022-05-21</th>\n      <td>56037</td>\n      <td>97.099998</td>\n      <td>59.200001</td>\n      <td>73.0</td>\n      <td>95.0</td>\n      <td>50.299999</td>\n      <td>62.099998</td>\n      <td>93.199997</td>\n      <td>40.599998</td>\n      <td>43.400002</td>\n      <td>...</td>\n      <td>68.099998</td>\n      <td>0.066056</td>\n      <td>0.192972</td>\n      <td>0.611341</td>\n      <td>0.129632</td>\n      <td>0</td>\n      <td>0</td>\n      <td>1</td>\n      <td>0</td>\n      <td>0</td>\n    </tr>\n    <tr>\n      <th>2022-05-21</th>\n      <td>56011</td>\n      <td>97.099998</td>\n      <td>36.0</td>\n      <td>45.5</td>\n      <td>73.699997</td>\n      <td>31.0</td>\n      <td>39.5</td>\n      <td>66.5</td>\n      <td>41.799999</td>\n      <td>43.5</td>\n      <td>...</td>\n      <td>59.299999</td>\n      <td>0.072653</td>\n      <td>0.174314</td>\n      <td>0.541799</td>\n      <td>0.211234</td>\n      <td>0</td>\n      <td>1</td>\n      <td>0</td>\n      <td>0</td>\n      <td>0</td>\n    </tr>\n  </tbody>\n</table>\n<p>1692600 rows × 21 columns</p>\n</div>"
     },
     "execution_count": 43,
     "metadata": {},
     "output_type": "execute_result"
    }
   ],
   "source": [
    "df_right"
   ],
   "metadata": {
    "collapsed": false,
    "pycharm": {
     "name": "#%%\n"
    }
   }
  },
  {
   "cell_type": "code",
   "execution_count": 47,
   "outputs": [],
   "source": [
    "df_joined = df_left.join(df_right, on=[\"RegionCode\", \"Date\"])"
   ],
   "metadata": {
    "collapsed": false,
    "pycharm": {
     "name": "#%%\n"
    }
   }
  },
  {
   "cell_type": "code",
   "execution_count": 62,
   "outputs": [
    {
     "data": {
      "text/plain": "                  StringencyIndex  GovernmentResponseIndex  \\\nFIPS  Date                                                   \n01001 2020-12-13            43.52                    47.40   \n      2020-12-14            43.52                    47.40   \n      2020-12-15            43.52                    48.65   \n      2020-12-16            43.52                    48.65   \n      2020-12-17            43.52                    48.65   \n...                           ...                      ...   \n56045 2022-05-17            27.78                      NaN   \n      2022-05-18              NaN                      NaN   \n      2022-05-19              NaN                      NaN   \n      2022-05-20              NaN                      NaN   \n      2022-05-21              NaN                      NaN   \n\n                  ContainmentHealthIndex  EconomicSupportIndex  \\\nFIPS  Date                                                       \n01001 2020-12-13                   48.81                  37.5   \n      2020-12-14                   48.81                  37.5   \n      2020-12-15                   50.24                  37.5   \n      2020-12-16                   50.24                  37.5   \n      2020-12-17                   50.24                  37.5   \n...                                  ...                   ...   \n56045 2022-05-17                   35.71                   NaN   \n      2022-05-18                     NaN                   NaN   \n      2022-05-19                     NaN                   NaN   \n      2022-05-20                     NaN                   NaN   \n      2022-05-21                     NaN                   NaN   \n\n                  Completeness_pct  Administered_Dose1_Pop_Pct  \\\nFIPS  Date                                                       \n01001 2020-12-13               0.0                         0.0   \n      2020-12-14               0.0                         0.0   \n      2020-12-15               0.0                         0.0   \n      2020-12-16               0.0                         0.0   \n      2020-12-17               0.0                         0.0   \n...                            ...                         ...   \n56045 2022-05-17         97.099998                   41.299999   \n      2022-05-18         97.099998                   41.299999   \n      2022-05-19         97.099998                   41.299999   \n      2022-05-20         97.099998                   41.299999   \n      2022-05-21         97.099998                   41.299999   \n\n                  Administered_Dose1_Recip_18PlusPop_Pct  \\\nFIPS  Date                                                 \n01001 2020-12-13                                     0.0   \n      2020-12-14                                     0.0   \n      2020-12-15                                     0.0   \n      2020-12-16                                     0.0   \n      2020-12-17                                     0.0   \n...                                                  ...   \n56045 2022-05-17                               49.599998   \n      2022-05-18                               49.599998   \n      2022-05-19                               49.599998   \n      2022-05-20                               49.599998   \n      2022-05-21                               49.599998   \n\n                  Administered_Dose1_Recip_65PlusPop_Pct  \\\nFIPS  Date                                                 \n01001 2020-12-13                                     0.0   \n      2020-12-14                                     0.0   \n      2020-12-15                                     0.0   \n      2020-12-16                                     0.0   \n      2020-12-17                                     0.0   \n...                                                  ...   \n56045 2022-05-17                               76.199997   \n      2022-05-18                               76.199997   \n      2022-05-19                               76.199997   \n      2022-05-20                               76.199997   \n      2022-05-21                               76.199997   \n\n                  Series_Complete_Pop_Pct  Series_Complete_18PlusPop_Pct  ...  \\\nFIPS  Date                                                                ...   \n01001 2020-12-13                      0.0                            0.0  ...   \n      2020-12-14                      0.0                            0.0  ...   \n      2020-12-15                      0.0                            0.0  ...   \n      2020-12-16                      0.0                            0.0  ...   \n      2020-12-17                      0.0                            0.0  ...   \n...                                   ...                            ...  ...   \n56045 2022-05-17                38.099998                      45.900002  ...   \n      2022-05-18                38.099998                      45.900002  ...   \n      2022-05-19                38.099998                      45.900002  ...   \n      2022-05-20                38.099998                      45.900002  ...   \n      2022-05-21                38.099998                      45.900002  ...   \n\n                  Booster_Doses_65Plus_Vax_Pct  Under5_Pop_Pct  \\\nFIPS  Date                                                       \n01001 2020-12-13                          <NA>            <NA>   \n      2020-12-14                          <NA>            <NA>   \n      2020-12-15                          <NA>            <NA>   \n      2020-12-16                          <NA>            <NA>   \n      2020-12-17                          <NA>            <NA>   \n...                                        ...             ...   \n56045 2022-05-17                     67.599998        0.050527   \n      2022-05-18                     67.599998        0.050527   \n      2022-05-19                     67.599998        0.050527   \n      2022-05-20                     67.599998        0.050527   \n      2022-05-21                     67.800003        0.050527   \n\n                  Between5to17_Pop_Pct  Between18to65_Pop_Pct  Plus65_Pop_Pct  \\\nFIPS  Date                                                                      \n01001 2020-12-13                  <NA>                   <NA>            <NA>   \n      2020-12-14                  <NA>                   <NA>            <NA>   \n      2020-12-15                  <NA>                   <NA>            <NA>   \n      2020-12-16                  <NA>                   <NA>            <NA>   \n      2020-12-17                  <NA>                   <NA>            <NA>   \n...                                ...                    ...             ...   \n56045 2022-05-17              0.153746               0.582359        0.213368   \n      2022-05-18              0.153746               0.582359        0.213368   \n      2022-05-19              0.153746               0.582359        0.213368   \n      2022-05-20              0.153746               0.582359        0.213368   \n      2022-05-21              0.153746               0.582359        0.213368   \n\n                  Is_Metro  SVI_A  SVI_B  SVI_C  SVI_D  \nFIPS  Date                                              \n01001 2020-12-13       1.0    0.0    1.0    0.0    0.0  \n      2020-12-14       1.0    0.0    1.0    0.0    0.0  \n      2020-12-15       1.0    0.0    1.0    0.0    0.0  \n      2020-12-16       1.0    0.0    1.0    0.0    0.0  \n      2020-12-17       1.0    0.0    1.0    0.0    0.0  \n...                    ...    ...    ...    ...    ...  \n56045 2022-05-17       0.0    0.0    1.0    0.0    0.0  \n      2022-05-18       0.0    0.0    1.0    0.0    0.0  \n      2022-05-19       0.0    0.0    1.0    0.0    0.0  \n      2022-05-20       0.0    0.0    1.0    0.0    0.0  \n      2022-05-21       0.0    0.0    1.0    0.0    0.0  \n\n[1649550 rows x 24 columns]",
      "text/html": "<div>\n<style scoped>\n    .dataframe tbody tr th:only-of-type {\n        vertical-align: middle;\n    }\n\n    .dataframe tbody tr th {\n        vertical-align: top;\n    }\n\n    .dataframe thead th {\n        text-align: right;\n    }\n</style>\n<table border=\"1\" class=\"dataframe\">\n  <thead>\n    <tr style=\"text-align: right;\">\n      <th></th>\n      <th></th>\n      <th>StringencyIndex</th>\n      <th>GovernmentResponseIndex</th>\n      <th>ContainmentHealthIndex</th>\n      <th>EconomicSupportIndex</th>\n      <th>Completeness_pct</th>\n      <th>Administered_Dose1_Pop_Pct</th>\n      <th>Administered_Dose1_Recip_18PlusPop_Pct</th>\n      <th>Administered_Dose1_Recip_65PlusPop_Pct</th>\n      <th>Series_Complete_Pop_Pct</th>\n      <th>Series_Complete_18PlusPop_Pct</th>\n      <th>...</th>\n      <th>Booster_Doses_65Plus_Vax_Pct</th>\n      <th>Under5_Pop_Pct</th>\n      <th>Between5to17_Pop_Pct</th>\n      <th>Between18to65_Pop_Pct</th>\n      <th>Plus65_Pop_Pct</th>\n      <th>Is_Metro</th>\n      <th>SVI_A</th>\n      <th>SVI_B</th>\n      <th>SVI_C</th>\n      <th>SVI_D</th>\n    </tr>\n    <tr>\n      <th>FIPS</th>\n      <th>Date</th>\n      <th></th>\n      <th></th>\n      <th></th>\n      <th></th>\n      <th></th>\n      <th></th>\n      <th></th>\n      <th></th>\n      <th></th>\n      <th></th>\n      <th></th>\n      <th></th>\n      <th></th>\n      <th></th>\n      <th></th>\n      <th></th>\n      <th></th>\n      <th></th>\n      <th></th>\n      <th></th>\n      <th></th>\n    </tr>\n  </thead>\n  <tbody>\n    <tr>\n      <th rowspan=\"5\" valign=\"top\">01001</th>\n      <th>2020-12-13</th>\n      <td>43.52</td>\n      <td>47.40</td>\n      <td>48.81</td>\n      <td>37.5</td>\n      <td>0.0</td>\n      <td>0.0</td>\n      <td>0.0</td>\n      <td>0.0</td>\n      <td>0.0</td>\n      <td>0.0</td>\n      <td>...</td>\n      <td>&lt;NA&gt;</td>\n      <td>&lt;NA&gt;</td>\n      <td>&lt;NA&gt;</td>\n      <td>&lt;NA&gt;</td>\n      <td>&lt;NA&gt;</td>\n      <td>1.0</td>\n      <td>0.0</td>\n      <td>1.0</td>\n      <td>0.0</td>\n      <td>0.0</td>\n    </tr>\n    <tr>\n      <th>2020-12-14</th>\n      <td>43.52</td>\n      <td>47.40</td>\n      <td>48.81</td>\n      <td>37.5</td>\n      <td>0.0</td>\n      <td>0.0</td>\n      <td>0.0</td>\n      <td>0.0</td>\n      <td>0.0</td>\n      <td>0.0</td>\n      <td>...</td>\n      <td>&lt;NA&gt;</td>\n      <td>&lt;NA&gt;</td>\n      <td>&lt;NA&gt;</td>\n      <td>&lt;NA&gt;</td>\n      <td>&lt;NA&gt;</td>\n      <td>1.0</td>\n      <td>0.0</td>\n      <td>1.0</td>\n      <td>0.0</td>\n      <td>0.0</td>\n    </tr>\n    <tr>\n      <th>2020-12-15</th>\n      <td>43.52</td>\n      <td>48.65</td>\n      <td>50.24</td>\n      <td>37.5</td>\n      <td>0.0</td>\n      <td>0.0</td>\n      <td>0.0</td>\n      <td>0.0</td>\n      <td>0.0</td>\n      <td>0.0</td>\n      <td>...</td>\n      <td>&lt;NA&gt;</td>\n      <td>&lt;NA&gt;</td>\n      <td>&lt;NA&gt;</td>\n      <td>&lt;NA&gt;</td>\n      <td>&lt;NA&gt;</td>\n      <td>1.0</td>\n      <td>0.0</td>\n      <td>1.0</td>\n      <td>0.0</td>\n      <td>0.0</td>\n    </tr>\n    <tr>\n      <th>2020-12-16</th>\n      <td>43.52</td>\n      <td>48.65</td>\n      <td>50.24</td>\n      <td>37.5</td>\n      <td>0.0</td>\n      <td>0.0</td>\n      <td>0.0</td>\n      <td>0.0</td>\n      <td>0.0</td>\n      <td>0.0</td>\n      <td>...</td>\n      <td>&lt;NA&gt;</td>\n      <td>&lt;NA&gt;</td>\n      <td>&lt;NA&gt;</td>\n      <td>&lt;NA&gt;</td>\n      <td>&lt;NA&gt;</td>\n      <td>1.0</td>\n      <td>0.0</td>\n      <td>1.0</td>\n      <td>0.0</td>\n      <td>0.0</td>\n    </tr>\n    <tr>\n      <th>2020-12-17</th>\n      <td>43.52</td>\n      <td>48.65</td>\n      <td>50.24</td>\n      <td>37.5</td>\n      <td>0.0</td>\n      <td>0.0</td>\n      <td>0.0</td>\n      <td>0.0</td>\n      <td>0.0</td>\n      <td>0.0</td>\n      <td>...</td>\n      <td>&lt;NA&gt;</td>\n      <td>&lt;NA&gt;</td>\n      <td>&lt;NA&gt;</td>\n      <td>&lt;NA&gt;</td>\n      <td>&lt;NA&gt;</td>\n      <td>1.0</td>\n      <td>0.0</td>\n      <td>1.0</td>\n      <td>0.0</td>\n      <td>0.0</td>\n    </tr>\n    <tr>\n      <th>...</th>\n      <th>...</th>\n      <td>...</td>\n      <td>...</td>\n      <td>...</td>\n      <td>...</td>\n      <td>...</td>\n      <td>...</td>\n      <td>...</td>\n      <td>...</td>\n      <td>...</td>\n      <td>...</td>\n      <td>...</td>\n      <td>...</td>\n      <td>...</td>\n      <td>...</td>\n      <td>...</td>\n      <td>...</td>\n      <td>...</td>\n      <td>...</td>\n      <td>...</td>\n      <td>...</td>\n      <td>...</td>\n    </tr>\n    <tr>\n      <th rowspan=\"5\" valign=\"top\">56045</th>\n      <th>2022-05-17</th>\n      <td>27.78</td>\n      <td>NaN</td>\n      <td>35.71</td>\n      <td>NaN</td>\n      <td>97.099998</td>\n      <td>41.299999</td>\n      <td>49.599998</td>\n      <td>76.199997</td>\n      <td>38.099998</td>\n      <td>45.900002</td>\n      <td>...</td>\n      <td>67.599998</td>\n      <td>0.050527</td>\n      <td>0.153746</td>\n      <td>0.582359</td>\n      <td>0.213368</td>\n      <td>0.0</td>\n      <td>0.0</td>\n      <td>1.0</td>\n      <td>0.0</td>\n      <td>0.0</td>\n    </tr>\n    <tr>\n      <th>2022-05-18</th>\n      <td>NaN</td>\n      <td>NaN</td>\n      <td>NaN</td>\n      <td>NaN</td>\n      <td>97.099998</td>\n      <td>41.299999</td>\n      <td>49.599998</td>\n      <td>76.199997</td>\n      <td>38.099998</td>\n      <td>45.900002</td>\n      <td>...</td>\n      <td>67.599998</td>\n      <td>0.050527</td>\n      <td>0.153746</td>\n      <td>0.582359</td>\n      <td>0.213368</td>\n      <td>0.0</td>\n      <td>0.0</td>\n      <td>1.0</td>\n      <td>0.0</td>\n      <td>0.0</td>\n    </tr>\n    <tr>\n      <th>2022-05-19</th>\n      <td>NaN</td>\n      <td>NaN</td>\n      <td>NaN</td>\n      <td>NaN</td>\n      <td>97.099998</td>\n      <td>41.299999</td>\n      <td>49.599998</td>\n      <td>76.199997</td>\n      <td>38.099998</td>\n      <td>45.900002</td>\n      <td>...</td>\n      <td>67.599998</td>\n      <td>0.050527</td>\n      <td>0.153746</td>\n      <td>0.582359</td>\n      <td>0.213368</td>\n      <td>0.0</td>\n      <td>0.0</td>\n      <td>1.0</td>\n      <td>0.0</td>\n      <td>0.0</td>\n    </tr>\n    <tr>\n      <th>2022-05-20</th>\n      <td>NaN</td>\n      <td>NaN</td>\n      <td>NaN</td>\n      <td>NaN</td>\n      <td>97.099998</td>\n      <td>41.299999</td>\n      <td>49.599998</td>\n      <td>76.199997</td>\n      <td>38.099998</td>\n      <td>45.900002</td>\n      <td>...</td>\n      <td>67.599998</td>\n      <td>0.050527</td>\n      <td>0.153746</td>\n      <td>0.582359</td>\n      <td>0.213368</td>\n      <td>0.0</td>\n      <td>0.0</td>\n      <td>1.0</td>\n      <td>0.0</td>\n      <td>0.0</td>\n    </tr>\n    <tr>\n      <th>2022-05-21</th>\n      <td>NaN</td>\n      <td>NaN</td>\n      <td>NaN</td>\n      <td>NaN</td>\n      <td>97.099998</td>\n      <td>41.299999</td>\n      <td>49.599998</td>\n      <td>76.199997</td>\n      <td>38.099998</td>\n      <td>45.900002</td>\n      <td>...</td>\n      <td>67.800003</td>\n      <td>0.050527</td>\n      <td>0.153746</td>\n      <td>0.582359</td>\n      <td>0.213368</td>\n      <td>0.0</td>\n      <td>0.0</td>\n      <td>1.0</td>\n      <td>0.0</td>\n      <td>0.0</td>\n    </tr>\n  </tbody>\n</table>\n<p>1649550 rows × 24 columns</p>\n</div>"
     },
     "execution_count": 62,
     "metadata": {},
     "output_type": "execute_result"
    }
   ],
   "source": [
    "df_joined[df_joined[\"FIPS\"].notna()].reset_index().drop(columns=\"RegionCode\").set_index(\n",
    "    [\"FIPS\", \"Date\"]\n",
    ").sort_index()"
   ],
   "metadata": {
    "collapsed": false,
    "pycharm": {
     "name": "#%%\n"
    }
   }
  },
  {
   "cell_type": "code",
   "execution_count": null,
   "outputs": [],
   "source": [],
   "metadata": {
    "collapsed": false,
    "pycharm": {
     "name": "#%%\n"
    }
   }
  }
 ],
 "metadata": {
  "kernelspec": {
   "display_name": "Python 3",
   "language": "python",
   "name": "python3"
  },
  "language_info": {
   "codemirror_mode": {
    "name": "ipython",
    "version": 2
   },
   "file_extension": ".py",
   "mimetype": "text/x-python",
   "name": "python",
   "nbconvert_exporter": "python",
   "pygments_lexer": "ipython2",
   "version": "2.7.6"
  }
 },
 "nbformat": 4,
 "nbformat_minor": 0
}
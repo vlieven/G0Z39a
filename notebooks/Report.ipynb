{
 "cells": [
  {
   "cell_type": "markdown",
   "metadata": {},
   "source": [
    "# Introduction\n",
    "In this report, the relationship between Covid-19 infections and death, vaccination, and government measures to contain the virus is explored. The goal is to aid governments in finetuning their policy to suppress the spread of the virus. Given the current number of covid cases, vaccination, and the planned government policies, a model will predict the expected number of cases (and deaths) in the future. Users can explore several scenario's of interest in an app.\n",
    "\n",
    "## raw data overview\n",
    "The data is retrieved from different sources and focuses on the United States' situation.\n",
    "\n",
    "- data_nyt: The New York Times dataset contains, for each day in 2020, 2021, and 2022, and for each county, the number of confirmed Covid-19 cases and the number of deaths due to Covid-19 on that day. The raw data files were obtained from [this GitHub repository](https://github.com/nytimes/covid-19-data) that also includes a full, detailed description of the data.\n",
    "- data_distance: Contains the distance in ???miles??? between two counties. This dataset is included since the virus spreads mainly through human-human interactions. Local hotbeds might spread first to neighboring counties. As such, the number of infections (deaths) at time  in one county will likely influence the number of infections (death) at time  in counties that are closeby. The closer the counties are, the more correlated the number of infections (deaths) are.\n",
    "- data_vax: This dataset from the [Centers for Disease Control and Prevention](https://data.cdc.gov/Vaccinations/COVID-19-Vaccinations-in-the-United-States-County/8xkx-amqh/data) contains, for all counties over time:\n",
    "    - Census data, by age\n",
    "    - Number of distributed and administered vaccinations\n",
    "        - by age group\n",
    "        - by vaccine brand (Moderna, Janssens, Pfizer, and others)\n",
    "        - by type of vaccine (first shot, second shot (if applicable), booster shot, additional booster shot) and by age group\n",
    "- data_gov: The [Oxford government response tracker](https://www.bsg.ox.ac.uk/research/research-projects/covid-19-government-response-tracker) aims to record government responses in a rigorous, consistent way across countries and across time. Government policies are grouped several categories. Each of these categories are summarized to an index which is a number between 0 and 1; the higher the index, the more government policies are in place for this category. The following government policy categories can be distinguished:\n",
    "    - Containment and closure policies, eg: closing schools, closing workplaces, restricting public events and gatherings\n",
    "    - Economic policies, eg: Income support for people who loose their job or fiscal measures\n",
    "    - Health system policies, eg: testing policies, public information campaigns,  contact tracing, or vaccination policies\n",
    "    - Vaccination policies eg: vaccine prioritisation, vaccine availability, vaccine requirement\n",
    "    - Miscellaneous policies record policy announcements that do not fit anywhere else\n",
    "    \n",
    "\n"
   ]
  },
  {
   "cell_type": "code",
   "execution_count": null,
   "metadata": {
    "vscode": {
     "languageId": "plaintext"
    }
   },
   "outputs": [],
   "source": [
    "#load the data"
   ]
  }
 ],
 "metadata": {
  "language_info": {
   "name": "python"
  },
  "orig_nbformat": 4
 },
 "nbformat": 4,
 "nbformat_minor": 2
}

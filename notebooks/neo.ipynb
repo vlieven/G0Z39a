{
 "cells": [
  {
   "cell_type": "code",
   "execution_count": 1,
   "metadata": {
    "collapsed": true
   },
   "outputs": [],
   "source": [
    "from nepal.graph import Connection, LocalConnection, GraphDB\n",
    "\n",
    "conn: Connection = LocalConnection(\n",
    "    database=\"neo4j\",\n",
    "    password=\"corona\",\n",
    ")\n",
    "\n",
    "assert conn.is_up()"
   ]
  },
  {
   "cell_type": "code",
   "execution_count": 2,
   "outputs": [
    {
     "data": {
      "text/plain": "State nodes:   0%|          | 0/5 [00:00<?, ?it/s]",
      "application/vnd.jupyter.widget-view+json": {
       "version_major": 2,
       "version_minor": 0,
       "model_id": "ce95d6e0b3dc43de811a7f3f4aff55a4"
      }
     },
     "metadata": {},
     "output_type": "display_data"
    },
    {
     "data": {
      "text/plain": "County nodes:   0%|          | 0/3 [00:00<?, ?it/s]",
      "application/vnd.jupyter.widget-view+json": {
       "version_major": 2,
       "version_minor": 0,
       "model_id": "f657684385a74015906aeebcf866580a"
      }
     },
     "metadata": {},
     "output_type": "display_data"
    },
    {
     "data": {
      "text/plain": "County distances:   0%|          | 0/15 [00:00<?, ?it/s]",
      "application/vnd.jupyter.widget-view+json": {
       "version_major": 2,
       "version_minor": 0,
       "model_id": "f4c200d5202a40d0a6a5de0600a3b547"
      }
     },
     "metadata": {},
     "output_type": "display_data"
    }
   ],
   "source": [
    "db = GraphDB(conn)\n",
    "\n",
    "db.populate_database()"
   ],
   "metadata": {
    "collapsed": false,
    "pycharm": {
     "name": "#%%\n"
    }
   }
  },
  {
   "cell_type": "code",
   "execution_count": 2,
   "outputs": [
    {
     "data": {
      "text/plain": "         fips                                          embedding\nnodeId                                                          \n51      02090  [0.0, 0.0, 0.0, 0.0, 0.0, 0.0, 0.0, 0.0, 0.0, ...\n52        UNK  [0.0, 0.0, 0.0, 0.0, 0.0, 0.0, 0.0, 0.0, 0.0, ...\n53      01015  [0.021909769624471664, -0.0040546259842813015,...\n54      05087  [0.13042087852954865, -0.323997437953949, 0.10...\n55      06087  [0.10386868566274643, 0.04253627732396126, 0.1...\n...       ...                                                ...\n3271    51185  [0.009873345494270325, -0.24962523579597473, -...\n3272    51640  [0.0012362943962216377, -0.3704114556312561, 0...\n3273    55007  [-0.11846350133419037, 0.09601591527462006, 0....\n3274    55049  [-0.24057188630104065, -0.029868781566619873, ...\n3275    55061  [-0.2552659809589386, 0.13683590292930603, 0.0...\n\n[3225 rows x 2 columns]",
      "text/html": "<div>\n<style scoped>\n    .dataframe tbody tr th:only-of-type {\n        vertical-align: middle;\n    }\n\n    .dataframe tbody tr th {\n        vertical-align: top;\n    }\n\n    .dataframe thead th {\n        text-align: right;\n    }\n</style>\n<table border=\"1\" class=\"dataframe\">\n  <thead>\n    <tr style=\"text-align: right;\">\n      <th></th>\n      <th>fips</th>\n      <th>embedding</th>\n    </tr>\n    <tr>\n      <th>nodeId</th>\n      <th></th>\n      <th></th>\n    </tr>\n  </thead>\n  <tbody>\n    <tr>\n      <th>51</th>\n      <td>02090</td>\n      <td>[0.0, 0.0, 0.0, 0.0, 0.0, 0.0, 0.0, 0.0, 0.0, ...</td>\n    </tr>\n    <tr>\n      <th>52</th>\n      <td>UNK</td>\n      <td>[0.0, 0.0, 0.0, 0.0, 0.0, 0.0, 0.0, 0.0, 0.0, ...</td>\n    </tr>\n    <tr>\n      <th>53</th>\n      <td>01015</td>\n      <td>[0.021909769624471664, -0.0040546259842813015,...</td>\n    </tr>\n    <tr>\n      <th>54</th>\n      <td>05087</td>\n      <td>[0.13042087852954865, -0.323997437953949, 0.10...</td>\n    </tr>\n    <tr>\n      <th>55</th>\n      <td>06087</td>\n      <td>[0.10386868566274643, 0.04253627732396126, 0.1...</td>\n    </tr>\n    <tr>\n      <th>...</th>\n      <td>...</td>\n      <td>...</td>\n    </tr>\n    <tr>\n      <th>3271</th>\n      <td>51185</td>\n      <td>[0.009873345494270325, -0.24962523579597473, -...</td>\n    </tr>\n    <tr>\n      <th>3272</th>\n      <td>51640</td>\n      <td>[0.0012362943962216377, -0.3704114556312561, 0...</td>\n    </tr>\n    <tr>\n      <th>3273</th>\n      <td>55007</td>\n      <td>[-0.11846350133419037, 0.09601591527462006, 0....</td>\n    </tr>\n    <tr>\n      <th>3274</th>\n      <td>55049</td>\n      <td>[-0.24057188630104065, -0.029868781566619873, ...</td>\n    </tr>\n    <tr>\n      <th>3275</th>\n      <td>55061</td>\n      <td>[-0.2552659809589386, 0.13683590292930603, 0.0...</td>\n    </tr>\n  </tbody>\n</table>\n<p>3225 rows × 2 columns</p>\n</div>"
     },
     "execution_count": 2,
     "metadata": {},
     "output_type": "execute_result"
    }
   ],
   "source": [
    "from nepal.graph.gds import CountyEmbedding\n",
    "\n",
    "embedding = CountyEmbedding()\n",
    "\n",
    "# embedding.create_projection(conn, force=True)\n",
    "response = embedding.generate_embedding(conn)\n",
    "\n",
    "emb_df = embedding.load_dataframe(conn)\n",
    "emb_df"
   ],
   "metadata": {
    "collapsed": false,
    "pycharm": {
     "name": "#%%\n"
    }
   }
  },
  {
   "cell_type": "code",
   "execution_count": 3,
   "outputs": [],
   "source": [
    "import optuna"
   ],
   "metadata": {
    "collapsed": false,
    "pycharm": {
     "name": "#%%\n"
    }
   }
  },
  {
   "cell_type": "code",
   "execution_count": null,
   "outputs": [],
   "source": [],
   "metadata": {
    "collapsed": false,
    "pycharm": {
     "name": "#%%\n"
    }
   }
  }
 ],
 "metadata": {
  "kernelspec": {
   "display_name": "Python 3",
   "language": "python",
   "name": "python3"
  },
  "language_info": {
   "codemirror_mode": {
    "name": "ipython",
    "version": 2
   },
   "file_extension": ".py",
   "mimetype": "text/x-python",
   "name": "python",
   "nbconvert_exporter": "python",
   "pygments_lexer": "ipython2",
   "version": "2.7.6"
  }
 },
 "nbformat": 4,
 "nbformat_minor": 0
}
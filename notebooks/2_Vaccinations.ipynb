{
 "cells": [
  {
   "cell_type": "markdown",
   "metadata": {},
   "source": [
    "## Vaccinations data in the US"
   ]
  },
  {
   "cell_type": "code",
   "execution_count": 1,
   "metadata": {},
   "outputs": [
    {
     "ename": "NameError",
     "evalue": "name 'GovernmentResponse' is not defined",
     "output_type": "error",
     "traceback": [
      "\u001b[1;31m---------------------------------------------------------------------------\u001b[0m",
      "\u001b[1;31mNameError\u001b[0m                                 Traceback (most recent call last)",
      "\u001b[1;32mg:\\My Drive\\KUL_statistiek\\2021_2\\Modern Data Analytics\\Group project\\G0Z39a\\notebooks\\2_Vaccinations.ipynb Cell 2'\u001b[0m in \u001b[0;36m<cell line: 1>\u001b[1;34m()\u001b[0m\n\u001b[1;32m----> <a href='vscode-notebook-cell:/g%3A/My%20Drive/KUL_statistiek/2021_2/Modern%20Data%20Analytics/Group%20project/G0Z39a/notebooks/2_Vaccinations.ipynb#ch0000000?line=0'>1</a>\u001b[0m response_tracker \u001b[39m=\u001b[39m GovernmentResponse()\u001b[39m.\u001b[39mload()\n",
      "\u001b[1;31mNameError\u001b[0m: name 'GovernmentResponse' is not defined"
     ]
    }
   ],
   "source": [
    "from nepal.datasets import Vaccinations\n",
    "vaccinations = Vaccinations().load()"
   ]
  }
 ],
 "metadata": {
  "interpreter": {
   "hash": "6af0d6b00811a70392c671009b551fae89b11426b33403fc6f01e09aa1b80d7f"
  },
  "kernelspec": {
   "display_name": "Python 3.10.4 ('nepal')",
   "language": "python",
   "name": "python3"
  },
  "language_info": {
   "codemirror_mode": {
    "name": "ipython",
    "version": 3
   },
   "file_extension": ".py",
   "mimetype": "text/x-python",
   "name": "python",
   "nbconvert_exporter": "python",
   "pygments_lexer": "ipython3",
   "version": "3.10.4"
  },
  "orig_nbformat": 4
 },
 "nbformat": 4,
 "nbformat_minor": 2
}
